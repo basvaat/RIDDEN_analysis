{
 "cells": [
  {
   "attachments": {},
   "cell_type": "markdown",
   "metadata": {},
   "source": [
    "# Selecting high quality receptors\n",
    "- using matrix multiplications for filtering out receptors\n",
    "- filtered consensus signature and design matrix are saved to lincs_consensus/hq_newfilter/lm_all_pert_cell_liana_transp.csv and design_matrices/hq_newfilter/all_pert_binary_liana.csv\n",
    "- filtering out shRNA and CRISPR\n",
    "- filtering out also inhibitory drugs - all interaction will be positive"
   ]
  },
  {
   "cell_type": "code",
   "execution_count": 1,
   "metadata": {},
   "outputs": [],
   "source": [
    "%load_ext autoreload\n",
    "%autoreload 2"
   ]
  },
  {
   "cell_type": "code",
   "execution_count": 2,
   "metadata": {},
   "outputs": [],
   "source": [
    "import pandas as pd\n",
    "import numpy as np\n",
    "import json\n",
    "import matplotlib.pyplot as plt\n",
    "import seaborn as sns\n",
    "from src.config import *\n",
    "from src.prediction_functions import *\n",
    "from src.model_creation import *"
   ]
  },
  {
   "cell_type": "code",
   "execution_count": 3,
   "metadata": {},
   "outputs": [],
   "source": [
    "with open(\"results/benchmark_LINCS/results_liana_zscore2.json\",\"r\") as f:\n",
    "    all_results = json.load(f)"
   ]
  },
  {
   "attachments": {},
   "cell_type": "markdown",
   "metadata": {},
   "source": [
    "# Looking for HQ receptors"
   ]
  },
  {
   "cell_type": "code",
   "execution_count": 4,
   "metadata": {},
   "outputs": [],
   "source": [
    "perturbations = ['cp', 'lig', 'oe', 'xpr', 'sh']"
   ]
  },
  {
   "cell_type": "code",
   "execution_count": 5,
   "metadata": {},
   "outputs": [],
   "source": [
    "# get all receptors\n",
    "all_receptor = []\n",
    "for model in perturbations:\n",
    "    for data in all_results[model].keys():\n",
    "        for results in all_results[model][data].keys():\n",
    "            rocaucs = all_results[model][data][results]['rocauc']\n",
    "            all_receptor.extend(list(rocaucs.keys()))\n",
    "all_receptor = set(all_receptor)"
   ]
  },
  {
   "cell_type": "code",
   "execution_count": 6,
   "metadata": {},
   "outputs": [],
   "source": [
    "rocauc_count_df = pd.DataFrame(columns = ['model', 'data', 'results'] + list(all_receptor))"
   ]
  },
  {
   "cell_type": "code",
   "execution_count": 7,
   "metadata": {},
   "outputs": [],
   "source": [
    "model_dict = {}\n",
    "for model in perturbations:\n",
    "    data_dict = {}\n",
    "    for data in all_results[model].keys():\n",
    "        res_dict = {}\n",
    "        for results in all_results[model][data].keys():\n",
    "            \n",
    "            rocaucs = all_results[model][data][results]['rocauc']\n",
    "            if results == 'negative_results':\n",
    "            \n",
    "                rocaucs = {k:(1 if v < 0.4 else 0) for k,v in rocaucs.items()}\n",
    "                res_dict['negative_results'] = rocaucs\n",
    "            if results == 'positive_results':\n",
    "                rocaucs = {k:(1 if v > 0.6 else 0) for k,v in rocaucs.items()}\n",
    "                res_dict['positive_results'] = rocaucs\n",
    "\n",
    "                \n",
    "        data_dict[data] = res_dict\n",
    "    model_dict[model] = data_dict"
   ]
  },
  {
   "cell_type": "code",
   "execution_count": 8,
   "metadata": {},
   "outputs": [],
   "source": [
    "flatten_results = pd.DataFrame.from_records(\n",
    "    [\n",
    "        (level1, level2, level3, level4, leaf)\n",
    "        for level1, level2_dict in model_dict.items()\n",
    "        for level2, level3_dict in level2_dict.items()\n",
    "        for level3, level4_dict in level3_dict.items()\n",
    "        for level4, leaf in level4_dict.items()\n",
    "    ],\n",
    "    columns=['model', 'data', 'results', 'receptors', 'value']\n",
    ")"
   ]
  },
  {
   "cell_type": "code",
   "execution_count": 28,
   "metadata": {},
   "outputs": [],
   "source": [
    "# # exclude sh-xpr xpr-sh validating receptors\n",
    "# flatten_results_mod = flatten_results.copy()\n",
    "# def change_value(row):\n",
    "#     if (row.data == 'sh') & (row.model == 'xpr'):\n",
    "#         row.value = 0\n",
    "#     if (row.data == 'xpr') & (row.model == 'sh'):\n",
    "#         row.value = 0\n",
    "#     return row\n",
    "# flatten_results = flatten_results_mod.apply(change_value, axis = 1)\n"
   ]
  },
  {
   "cell_type": "code",
   "execution_count": 9,
   "metadata": {},
   "outputs": [],
   "source": [
    "def fill_dataframe(result_row):\n",
    "    model = result_row.model\n",
    "    data = result_row.data\n",
    "    receptor = result_row.receptors\n",
    "    value = result_row.value\n",
    "    if value == 1:\n",
    "        receptor_df_model.loc[receptor, model] += 1\n",
    "        receptor_df_data.loc[receptor, data] += 1\n",
    "    return"
   ]
  },
  {
   "cell_type": "code",
   "execution_count": 10,
   "metadata": {},
   "outputs": [],
   "source": [
    "receptor_df_model = pd.DataFrame(0, index = flatten_results.receptors.unique(), columns = list(set(flatten_results.model) | set(flatten_results.data)))\n",
    "receptor_df_data = pd.DataFrame(0, index = flatten_results.receptors.unique(), columns = list(set(flatten_results.model) | set(flatten_results.data)))\n",
    "_x = flatten_results.apply(fill_dataframe, axis = 1)\n",
    "receptor_df = receptor_df_model + receptor_df_data"
   ]
  },
  {
   "cell_type": "code",
   "execution_count": 11,
   "metadata": {},
   "outputs": [
    {
     "data": {
      "text/html": [
       "<div>\n",
       "<style scoped>\n",
       "    .dataframe tbody tr th:only-of-type {\n",
       "        vertical-align: middle;\n",
       "    }\n",
       "\n",
       "    .dataframe tbody tr th {\n",
       "        vertical-align: top;\n",
       "    }\n",
       "\n",
       "    .dataframe thead th {\n",
       "        text-align: right;\n",
       "    }\n",
       "</style>\n",
       "<table border=\"1\" class=\"dataframe\">\n",
       "  <thead>\n",
       "    <tr style=\"text-align: right;\">\n",
       "      <th></th>\n",
       "      <th>lig</th>\n",
       "      <th>sh</th>\n",
       "      <th>cp</th>\n",
       "      <th>xpr</th>\n",
       "      <th>oe</th>\n",
       "    </tr>\n",
       "  </thead>\n",
       "  <tbody>\n",
       "    <tr>\n",
       "      <th>CALCRL</th>\n",
       "      <td>1</td>\n",
       "      <td>0</td>\n",
       "      <td>2</td>\n",
       "      <td>1</td>\n",
       "      <td>0</td>\n",
       "    </tr>\n",
       "    <tr>\n",
       "      <th>IGF1R</th>\n",
       "      <td>1</td>\n",
       "      <td>2</td>\n",
       "      <td>3</td>\n",
       "      <td>0</td>\n",
       "      <td>2</td>\n",
       "    </tr>\n",
       "    <tr>\n",
       "      <th>TEK</th>\n",
       "      <td>0</td>\n",
       "      <td>1</td>\n",
       "      <td>1</td>\n",
       "      <td>0</td>\n",
       "      <td>0</td>\n",
       "    </tr>\n",
       "    <tr>\n",
       "      <th>GCGR</th>\n",
       "      <td>0</td>\n",
       "      <td>0</td>\n",
       "      <td>2</td>\n",
       "      <td>2</td>\n",
       "      <td>0</td>\n",
       "    </tr>\n",
       "    <tr>\n",
       "      <th>AXL</th>\n",
       "      <td>1</td>\n",
       "      <td>0</td>\n",
       "      <td>1</td>\n",
       "      <td>0</td>\n",
       "      <td>0</td>\n",
       "    </tr>\n",
       "  </tbody>\n",
       "</table>\n",
       "</div>"
      ],
      "text/plain": [
       "        lig  sh  cp  xpr  oe\n",
       "CALCRL    1   0   2    1   0\n",
       "IGF1R     1   2   3    0   2\n",
       "TEK       0   1   1    0   0\n",
       "GCGR      0   0   2    2   0\n",
       "AXL       1   0   1    0   0"
      ]
     },
     "execution_count": 11,
     "metadata": {},
     "output_type": "execute_result"
    }
   ],
   "source": [
    "receptor_df.head()"
   ]
  },
  {
   "attachments": {},
   "cell_type": "markdown",
   "metadata": {},
   "source": [
    "# Create merged signature"
   ]
  },
  {
   "cell_type": "code",
   "execution_count": 13,
   "metadata": {},
   "outputs": [],
   "source": [
    "def read_in_data_for_model_creation(pert_type, genes_filename = 'lm'):\n",
    "    print('Read in signature')\n",
    "    signature = pd.read_csv(f'data/lincs_consensus/{genes_filename}_{pert_type}_pert_cell_liana.csv', index_col = 0)\n",
    "    return signature"
   ]
  },
  {
   "cell_type": "code",
   "execution_count": 14,
   "metadata": {},
   "outputs": [
    {
     "name": "stdout",
     "output_type": "stream",
     "text": [
      "cp: Read in signature\n",
      "lig: Read in signature\n",
      "oe: Read in signature\n",
      "xpr: Read in signature\n",
      "sh: Read in signature\n"
     ]
    }
   ],
   "source": [
    "data = {}\n",
    "for pert_type in perturbations:\n",
    "    print(pert_type, end = ': ')\n",
    "    data[pert_type] = read_in_data_for_model_creation(pert_type, genes_filename = 'lm')\n",
    "    data[pert_type].index = data[pert_type].index + '_' + pert_type"
   ]
  },
  {
   "cell_type": "code",
   "execution_count": 15,
   "metadata": {},
   "outputs": [
    {
     "name": "stdout",
     "output_type": "stream",
     "text": [
      "cp: Read in signature\n",
      "lig: Read in signature\n",
      "oe: Read in signature\n",
      "xpr: Read in signature\n",
      "sh: Read in signature\n"
     ]
    }
   ],
   "source": [
    "design_matrices = {}\n",
    "for pert_type in perturbations:\n",
    "    print(pert_type, end =': ')\n",
    "    print('Read in signature')\n",
    "    design_matrices[pert_type] = pd.read_csv(f'data/design_matrices/{pert_type}_pert_binary_liana.csv', index_col =0 )\n",
    "    design_matrices[pert_type].index = design_matrices[pert_type].index + '_' + pert_type\n"
   ]
  },
  {
   "cell_type": "code",
   "execution_count": 16,
   "metadata": {},
   "outputs": [],
   "source": [
    "def merge_signatures(data, design_matrices):\n",
    "    data_all = pd.DataFrame(columns = data[list(data.keys())[0]].columns)\n",
    "    for i in data:\n",
    "        data_all = pd.concat([data_all, data[i].loc[design_matrices[i].index]])\n",
    "    data_all = data_all.astype('float')\n",
    "    return data_all"
   ]
  },
  {
   "cell_type": "code",
   "execution_count": 17,
   "metadata": {},
   "outputs": [],
   "source": [
    "def merge_design_matrces(gene_list, pert_list, design_matrices):\n",
    "    df = pd.DataFrame(columns = gene_list, index = pert_list)\n",
    "    for i in design_matrices:\n",
    "        df.loc[design_matrices[i].index, design_matrices[i].columns] = design_matrices[i]\n",
    "    df = df.fillna(0)\n",
    "    df = df.astype('int')\n",
    "    return df"
   ]
  },
  {
   "cell_type": "code",
   "execution_count": 18,
   "metadata": {},
   "outputs": [],
   "source": [
    "def merge_data(design_matrices, data):\n",
    "    # receptor list\n",
    "    gene_list = []\n",
    "    f = list(map(lambda y: gene_list.extend(y.columns), design_matrices.values()))\n",
    "    gene_list = list(set(gene_list))\n",
    "    # perturbations (cell_pert_list)\n",
    "    pert_list = []\n",
    "    f = list(map(lambda y: pert_list.extend(y.index), design_matrices.values()))\n",
    "    print('Merge design matrices')\n",
    "    dms = merge_design_matrces(gene_list, pert_list, design_matrices)\n",
    "    print('Merge signatures')\n",
    "    data_all = merge_signatures(data, design_matrices)\n",
    "    return dms, data_all\n"
   ]
  },
  {
   "cell_type": "code",
   "execution_count": 19,
   "metadata": {},
   "outputs": [
    {
     "name": "stdout",
     "output_type": "stream",
     "text": [
      "Merge design matrices\n",
      "Merge signatures\n"
     ]
    }
   ],
   "source": [
    "designmatrix, gexdata = merge_data(design_matrices, data)"
   ]
  },
  {
   "cell_type": "code",
   "execution_count": 20,
   "metadata": {},
   "outputs": [],
   "source": [
    "designmatrix.to_csv(f'data/design_matrices/all_pert_binary_liana.csv')\n",
    "gexdata.to_csv(f'data/lincs_consensus/lm_all_pert_cell_liana.csv')"
   ]
  },
  {
   "attachments": {},
   "cell_type": "markdown",
   "metadata": {},
   "source": [
    "### Multiply (dot) good receptor matrix and design matrix (which receptor is perturbed in samples)\n",
    " - sample_perturbation_df_dummy: pd.DataFrame: samples x perturbation_type (which sample which type of perturbation (cp, lig, xpr...))\n",
    " - receptor_df: pd.DataFrame: which is the good receptor and in which perturbation type (eg. cp model can predict SMAD3 in sh data -> sh and cp at SMAD3 = 1)\n",
    " - sample_receptor_matrix: pd.DataFrame: dot product of sample_perturbation_df_dummy and receptor_df, samples x receptors dimension\n",
    "### Multiply (scalar)"
   ]
  },
  {
   "cell_type": "code",
   "execution_count": 20,
   "metadata": {},
   "outputs": [],
   "source": [
    "sample_perturbation_df = pd.DataFrame(gexdata.index.str.split('_', expand = True).get_level_values(2), index = gexdata.index, columns = ['pert_type'])"
   ]
  },
  {
   "cell_type": "code",
   "execution_count": 21,
   "metadata": {},
   "outputs": [],
   "source": [
    "sample_perturbation_df_dummy = pd.get_dummies(sample_perturbation_df, prefix = '', prefix_sep = '')\n",
    "# take care of same column order\n",
    "sample_perturbation_df_dummy = sample_perturbation_df_dummy.loc[:, receptor_df.columns]\n"
   ]
  },
  {
   "cell_type": "code",
   "execution_count": 22,
   "metadata": {},
   "outputs": [],
   "source": [
    "sample_receptor_matrix = pd.DataFrame(np.dot(sample_perturbation_df_dummy, receptor_df.T), \n",
    "                                index = sample_perturbation_df_dummy.index, columns = receptor_df.index)"
   ]
  },
  {
   "cell_type": "code",
   "execution_count": 23,
   "metadata": {},
   "outputs": [
    {
     "data": {
      "text/html": [
       "<div>\n",
       "<style scoped>\n",
       "    .dataframe tbody tr th:only-of-type {\n",
       "        vertical-align: middle;\n",
       "    }\n",
       "\n",
       "    .dataframe tbody tr th {\n",
       "        vertical-align: top;\n",
       "    }\n",
       "\n",
       "    .dataframe thead th {\n",
       "        text-align: right;\n",
       "    }\n",
       "</style>\n",
       "<table border=\"1\" class=\"dataframe\">\n",
       "  <thead>\n",
       "    <tr style=\"text-align: right;\">\n",
       "      <th></th>\n",
       "      <th>CALCRL</th>\n",
       "      <th>IGF1R</th>\n",
       "      <th>TEK</th>\n",
       "      <th>GCGR</th>\n",
       "      <th>AXL</th>\n",
       "      <th>HCRTR2</th>\n",
       "      <th>SMAD3</th>\n",
       "      <th>FGFR4</th>\n",
       "      <th>IL5RA</th>\n",
       "      <th>HTR2A</th>\n",
       "    </tr>\n",
       "  </thead>\n",
       "  <tbody>\n",
       "    <tr>\n",
       "      <th>2-PMDQ_U2OS_cp</th>\n",
       "      <td>2</td>\n",
       "      <td>3</td>\n",
       "      <td>1</td>\n",
       "      <td>2</td>\n",
       "      <td>1</td>\n",
       "      <td>1</td>\n",
       "      <td>2</td>\n",
       "      <td>1</td>\n",
       "      <td>2</td>\n",
       "      <td>0</td>\n",
       "    </tr>\n",
       "    <tr>\n",
       "      <th>2-iodomelatonin_U2OS_cp</th>\n",
       "      <td>2</td>\n",
       "      <td>3</td>\n",
       "      <td>1</td>\n",
       "      <td>2</td>\n",
       "      <td>1</td>\n",
       "      <td>1</td>\n",
       "      <td>2</td>\n",
       "      <td>1</td>\n",
       "      <td>2</td>\n",
       "      <td>0</td>\n",
       "    </tr>\n",
       "    <tr>\n",
       "      <th>2-phenylmelatonin_U2OS_cp</th>\n",
       "      <td>2</td>\n",
       "      <td>3</td>\n",
       "      <td>1</td>\n",
       "      <td>2</td>\n",
       "      <td>1</td>\n",
       "      <td>1</td>\n",
       "      <td>2</td>\n",
       "      <td>1</td>\n",
       "      <td>2</td>\n",
       "      <td>0</td>\n",
       "    </tr>\n",
       "    <tr>\n",
       "      <th>3-matida_A375_cp</th>\n",
       "      <td>2</td>\n",
       "      <td>3</td>\n",
       "      <td>1</td>\n",
       "      <td>2</td>\n",
       "      <td>1</td>\n",
       "      <td>1</td>\n",
       "      <td>2</td>\n",
       "      <td>1</td>\n",
       "      <td>2</td>\n",
       "      <td>0</td>\n",
       "    </tr>\n",
       "  </tbody>\n",
       "</table>\n",
       "</div>"
      ],
      "text/plain": [
       "                           CALCRL  IGF1R  TEK  GCGR  AXL  HCRTR2  SMAD3  \\\n",
       "2-PMDQ_U2OS_cp                  2      3    1     2    1       1      2   \n",
       "2-iodomelatonin_U2OS_cp         2      3    1     2    1       1      2   \n",
       "2-phenylmelatonin_U2OS_cp       2      3    1     2    1       1      2   \n",
       "3-matida_A375_cp                2      3    1     2    1       1      2   \n",
       "\n",
       "                           FGFR4  IL5RA  HTR2A  \n",
       "2-PMDQ_U2OS_cp                 1      2      0  \n",
       "2-iodomelatonin_U2OS_cp        1      2      0  \n",
       "2-phenylmelatonin_U2OS_cp      1      2      0  \n",
       "3-matida_A375_cp               1      2      0  "
      ]
     },
     "execution_count": 23,
     "metadata": {},
     "output_type": "execute_result"
    }
   ],
   "source": [
    "sample_receptor_matrix.iloc[0:4, 0:10]"
   ]
  },
  {
   "cell_type": "code",
   "execution_count": 24,
   "metadata": {},
   "outputs": [],
   "source": [
    "sample_order = list(sample_receptor_matrix.index)\n",
    "receptor_order = list(sample_receptor_matrix.columns)"
   ]
  },
  {
   "cell_type": "code",
   "execution_count": 25,
   "metadata": {},
   "outputs": [],
   "source": [
    "designmatrix = designmatrix.loc[sample_order, receptor_order]"
   ]
  },
  {
   "cell_type": "code",
   "execution_count": 26,
   "metadata": {},
   "outputs": [],
   "source": [
    "# create absolute values of design matrix (if inhibition) \n",
    "# because we need only good receptors \n",
    "# that are perturbed and have a high ROCAUC in model and data \n",
    "# a receptor is good if a model can predict in data type\n",
    "designmatrix_abs = designmatrix.abs()\n",
    "# check if only 0 and 1 values exist\n",
    "# np.unique(designmatrix_abs.values)"
   ]
  },
  {
   "cell_type": "code",
   "execution_count": 27,
   "metadata": {},
   "outputs": [],
   "source": [
    "results = designmatrix_abs * sample_receptor_matrix"
   ]
  },
  {
   "cell_type": "code",
   "execution_count": 28,
   "metadata": {},
   "outputs": [
    {
     "data": {
      "text/plain": [
       "15744"
      ]
     },
     "execution_count": 28,
     "metadata": {},
     "output_type": "execute_result"
    }
   ],
   "source": [
    "# filter out sampels that do not have good receptors\n",
    "res2 = results[results.sum(1) > 0]\n",
    "len(res2)"
   ]
  },
  {
   "cell_type": "code",
   "execution_count": 29,
   "metadata": {},
   "outputs": [
    {
     "data": {
      "text/plain": [
       "<AxesSubplot:>"
      ]
     },
     "execution_count": 29,
     "metadata": {},
     "output_type": "execute_result"
    },
    {
     "data": {
      "image/png": "[encoded data removed]",
      "text/plain": [
       "<Figure size 432x288 with 1 Axes>"
      ]
     },
     "metadata": {
      "needs_background": "light"
     },
     "output_type": "display_data"
    }
   ],
   "source": [
    "# histogram of nonzero receptors\n",
    "res2.T[res2.sum() > 0].sum(1).hist(bins = 20)"
   ]
  },
  {
   "cell_type": "code",
   "execution_count": 30,
   "metadata": {},
   "outputs": [
    {
     "data": {
      "text/plain": [
       "255"
      ]
     },
     "execution_count": 30,
     "metadata": {},
     "output_type": "execute_result"
    }
   ],
   "source": [
    "len(res2.T[res2.sum() > 0])"
   ]
  },
  {
   "cell_type": "code",
   "execution_count": 31,
   "metadata": {},
   "outputs": [],
   "source": [
    "hq_samples = res2.loc[:, res2.sum() > 0].index\n",
    "hq_receptos = res2.loc[:, res2.sum() > 0].columns"
   ]
  },
  {
   "cell_type": "code",
   "execution_count": 32,
   "metadata": {},
   "outputs": [],
   "source": [
    "designmatrix.loc[hq_samples, hq_receptos].to_csv(f'data/design_matrices/high_quality/all_pert_binary_liana.csv')"
   ]
  },
  {
   "cell_type": "code",
   "execution_count": 33,
   "metadata": {},
   "outputs": [],
   "source": [
    "gexdata.loc[hq_samples, :].to_csv(f'data/lincs_consensus/high_quality/lm_all_pert_cell_liana.csv')"
   ]
  },
  {
   "cell_type": "code",
   "execution_count": 34,
   "metadata": {},
   "outputs": [],
   "source": [
    "gexdata.loc[hq_samples, :].T.to_csv(f'data/lincs_consensus/high_quality/lm_pert_cell_liana_transp.csv')"
   ]
  },
  {
   "attachments": {},
   "cell_type": "markdown",
   "metadata": {},
   "source": [
    "# Fit model on high quality receptors"
   ]
  },
  {
   "cell_type": "code",
   "execution_count": 35,
   "metadata": {},
   "outputs": [],
   "source": [
    "dms = pd.read_csv(f'data/design_matrices/high_quality/all_pert_binary_liana.csv', index_col = 0)\n",
    "data = pd.read_csv(f'data/lincs_consensus/high_quality/lm_all_pert_cell_liana.csv', index_col = 0)"
   ]
  },
  {
   "cell_type": "code",
   "execution_count": 36,
   "metadata": {},
   "outputs": [
    {
     "data": {
      "text/plain": [
       "((15744, 978), (15744, 255))"
      ]
     },
     "execution_count": 36,
     "metadata": {},
     "output_type": "execute_result"
    }
   ],
   "source": [
    "data.shape, dms.shape"
   ]
  },
  {
   "cell_type": "code",
   "execution_count": 37,
   "metadata": {},
   "outputs": [],
   "source": [
    "coeff_m = fit_linear_model_and_get_coefficients_by_receptor(y = data, X = dms)"
   ]
  },
  {
   "cell_type": "code",
   "execution_count": 38,
   "metadata": {},
   "outputs": [],
   "source": [
    "def save_coeffitient_matrix(coeff_matrix, model_name):\n",
    "    path = f'data/coefficient_matrix/high_quality/{model_name}_pert_coef_liana.csv'\n",
    "    print('Save coefficient matrix to '+  path)\n",
    "    coeff_matrix.to_csv(path)\n",
    "    print('Done')"
   ]
  },
  {
   "cell_type": "code",
   "execution_count": 39,
   "metadata": {},
   "outputs": [
    {
     "name": "stdout",
     "output_type": "stream",
     "text": [
      "Save coefficient matrix to data/coefficient_matrix/high_quality/all_pert_coef_liana.csv\n",
      "Done\n"
     ]
    }
   ],
   "source": [
    "save_coeffitient_matrix(coeff_m, 'all')"
   ]
  },
  {
   "cell_type": "code",
   "execution_count": null,
   "metadata": {},
   "outputs": [],
   "source": []
  }
 ],
 "metadata": {
  "kernelspec": {
   "display_name": "Python 3.9.13 ('ccc_py39')",
   "language": "python",
   "name": "python3"
  },
  "language_info": {
   "codemirror_mode": {
    "name": "ipython",
    "version": 3
   },
   "file_extension": ".py",
   "mimetype": "text/x-python",
   "name": "python",
   "nbconvert_exporter": "python",
   "pygments_lexer": "ipython3",
   "version": "3.9.-1"
  },
  "orig_nbformat": 4,
  "vscode": {
   "interpreter": {
    "hash": "c257721c1f8c71281254a83cdcaf33d9db8f8032bd6f67e38b3bfb14bf0b7634"
   }
  }
 },
 "nbformat": 4,
 "nbformat_minor": 2
}
