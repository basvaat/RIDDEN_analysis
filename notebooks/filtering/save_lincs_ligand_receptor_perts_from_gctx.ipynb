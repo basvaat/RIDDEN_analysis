{
 "cells": [
  {
   "cell_type": "code",
   "execution_count": 2,
   "metadata": {},
   "outputs": [],
   "source": [
    "%load_ext autoreload\n",
    "%autoreload 2"
   ]
  },
  {
   "cell_type": "code",
   "execution_count": 1,
   "metadata": {},
   "outputs": [],
   "source": [
    "import pandas as pd\n",
    "import numpy as np\n",
    "import warnings\n",
    "warnings.filterwarnings(\"ignore\")\n",
    "from src.config import *\n",
    "from tqdm import tqdm"
   ]
  },
  {
   "cell_type": "markdown",
   "metadata": {},
   "source": [
    "# Filter LINCS rawdata for receptors and ligands\n",
    "- Read in receptor and ligand interactions (queried from Omnipath)\n",
    "- Filter and save subset of gctx files that contain only receptors and ligands (for all perturbation type)"
   ]
  },
  {
   "cell_type": "markdown",
   "metadata": {},
   "source": [
    "## Read in data"
   ]
  },
  {
   "cell_type": "code",
   "execution_count": 2,
   "metadata": {},
   "outputs": [],
   "source": [
    "lr_matrix = pd.read_csv(LIG_REC_MATRIX, index_col =0)"
   ]
  },
  {
   "cell_type": "code",
   "execution_count": 3,
   "metadata": {},
   "outputs": [],
   "source": [
    "ligands = set(lr_matrix.index)\n",
    "receptors = set(lr_matrix.columns)"
   ]
  },
  {
   "cell_type": "code",
   "execution_count": 4,
   "metadata": {},
   "outputs": [],
   "source": [
    "sig_info = pd.read_table(LINCS_DATA_DIR+'siginfo_beta.txt', low_memory=False)"
   ]
  },
  {
   "cell_type": "code",
   "execution_count": 5,
   "metadata": {},
   "outputs": [],
   "source": [
    "cols = ['sig_id', 'pert_type', 'pert_id', 'cmap_name', 'pert_idose', 'pert_itime', 'cell_iname']\n",
    "sig_info = sig_info[cols]"
   ]
  },
  {
   "cell_type": "markdown",
   "metadata": {},
   "source": [
    "# Functions"
   ]
  },
  {
   "cell_type": "code",
   "execution_count": 8,
   "metadata": {},
   "outputs": [],
   "source": [
    "def create_siginfo_for_all_type_ligand_receptor_perturbations(pert_type, save = False, name = 'notprovided'):\n",
    "    sig_info_pert = sig_info[sig_info['pert_type'] == pert_type]\n",
    "    sig_info_pert = sig_info_pert[sig_info_pert['cmap_name'].isin(receptors|ligands)]\n",
    "    sig_info_pert['ligand'] = sig_info_pert['cmap_name'].apply(lambda x: 1 if x in ligands else 0)\n",
    "    sig_info_pert['receptor'] = sig_info_pert['cmap_name'].apply(lambda x: 1 if x in receptors else 0)\n",
    "    if save: sig_info_pert.to_csv(f'{DATA_DIR}filtered_lincs_meta/filtered_{name}_info_of_receptor_ligand_pert.csv')\n",
    "    else: return sig_info_pert\n"
   ]
  },
  {
   "cell_type": "markdown",
   "metadata": {},
   "source": [
    "# Filtering"
   ]
  },
  {
   "cell_type": "markdown",
   "metadata": {},
   "source": [
    "### XPR"
   ]
  },
  {
   "cell_type": "code",
   "execution_count": 9,
   "metadata": {},
   "outputs": [],
   "source": [
    "create_siginfo_for_all_type_ligand_receptor_perturbations('trt_xpr', save = True, name = 'xpr')\n"
   ]
  },
  {
   "cell_type": "markdown",
   "metadata": {},
   "source": [
    "### SH"
   ]
  },
  {
   "cell_type": "code",
   "execution_count": 10,
   "metadata": {},
   "outputs": [],
   "source": [
    "create_siginfo_for_all_type_ligand_receptor_perturbations('trt_sh.cgs', save = True, name = 'sh')\n"
   ]
  },
  {
   "cell_type": "markdown",
   "metadata": {},
   "source": [
    "### OE"
   ]
  },
  {
   "cell_type": "code",
   "execution_count": 11,
   "metadata": {},
   "outputs": [],
   "source": [
    "create_siginfo_for_all_type_ligand_receptor_perturbations('trt_oe', save = True, name = 'oe')\n"
   ]
  },
  {
   "cell_type": "markdown",
   "metadata": {},
   "source": [
    "### Ligs"
   ]
  },
  {
   "cell_type": "code",
   "execution_count": 12,
   "metadata": {},
   "outputs": [],
   "source": [
    "lig_siginfo = create_siginfo_for_all_type_ligand_receptor_perturbations('trt_lig', save = False, name = 'lig')"
   ]
  },
  {
   "cell_type": "code",
   "execution_count": 13,
   "metadata": {},
   "outputs": [],
   "source": [
    "# Remove receptors (eg. EGFR) from ligand perturbation signatutes\n",
    "lig_siginfo = lig_siginfo[~lig_siginfo.cmap_name.isin(receptors)]\n",
    "lig_siginfo.to_csv('data/filtered_lincs_meta/filtered_lig_info_of_receptor_ligand_pert.csv')"
   ]
  },
  {
   "cell_type": "markdown",
   "metadata": {},
   "source": [
    "### Compound"
   ]
  },
  {
   "cell_type": "code",
   "execution_count": 14,
   "metadata": {},
   "outputs": [],
   "source": [
    "# before this run notebooks/create_compound_target_signed_metadata.ipynb"
   ]
  },
  {
   "cell_type": "code",
   "execution_count": 15,
   "metadata": {},
   "outputs": [],
   "source": [
    "cmp_perturbations = pd.read_csv('data/filtered_lincs_meta/filtered_coumpound_info_to_receptor_perturbation_signatures_signed.csv', index_col =0)"
   ]
  },
  {
   "cell_type": "code",
   "execution_count": 16,
   "metadata": {},
   "outputs": [],
   "source": [
    "pert_type = 'trt_cp'\n",
    "sig_info_CP = sig_info[sig_info['pert_type'] == pert_type]\n",
    "sig_info_CP = sig_info_CP[sig_info_CP['pert_id'].isin(set(cmp_perturbations.pert_id))]\n",
    "sig_info_CP['ligand'] = 0\n",
    "sig_info_CP['receptor'] = 1\n",
    "sig_info_CP.to_csv(f'data/filtered_lincs_meta/filtered_cp_info_of_receptor_ligand_pert.csv')\n"
   ]
  },
  {
   "cell_type": "markdown",
   "metadata": {},
   "source": [
    "# Save signatures based on filtered siginfo"
   ]
  },
  {
   "cell_type": "code",
   "execution_count": 4,
   "metadata": {},
   "outputs": [],
   "source": [
    "from cmapPy.pandasGEXpress.parse import parse\n",
    "from cmapPy.pandasGEXpress.write_gctx import write\n",
    "from glob import glob\n"
   ]
  },
  {
   "cell_type": "code",
   "execution_count": 5,
   "metadata": {},
   "outputs": [],
   "source": [
    "geneinfo = pd.read_table(LINCS_DATA_DIR+'geneinfo_beta.txt')\n",
    "landmark_genes = geneinfo[geneinfo['feature_space']=='landmark']\n",
    "landmark_genes = landmark_genes.set_index('gene_id', drop = True)['gene_symbol']\n",
    "landmark_genes.index = landmark_genes.index.astype(str)\n"
   ]
  },
  {
   "cell_type": "code",
   "execution_count": 23,
   "metadata": {},
   "outputs": [],
   "source": [
    "geneinfo = pd.read_table(LINCS_DATA_DIR+'geneinfo_beta.txt')\n",
    "inf_genes = geneinfo[(geneinfo['feature_space']=='landmark') | (geneinfo['feature_space']=='best inferred')]\n",
    "inf_genes = inf_genes.set_index('gene_id', drop = True)['gene_symbol']\n",
    "inf_genes.index = inf_genes.index.astype(str)\n",
    "inf_map = inf_genes.copy()\n",
    "inf_map.index = inf_genes.index.astype(float)\n",
    "inf_map = inf_map.to_dict()"
   ]
  },
  {
   "cell_type": "code",
   "execution_count": 8,
   "metadata": {},
   "outputs": [],
   "source": [
    "pert_types = {'lig':'trt_misc', 'oe':'trt_oe', 'sh':'trt_sh', 'xpr':'trt_xpr', 'cp':'trt_cp'}"
   ]
  },
  {
   "cell_type": "code",
   "execution_count": 81,
   "metadata": {},
   "outputs": [
    {
     "name": "stderr",
     "output_type": "stream",
     "text": [
      "  0%|          | 0/1184 [00:00<?, ?it/s]"
     ]
    },
    {
     "name": "stderr",
     "output_type": "stream",
     "text": [
      "100%|██████████| 1184/1184 [16:29<00:00,  1.20it/s]\n"
     ]
    },
    {
     "name": "stdout",
     "output_type": "stream",
     "text": [
      "Concatenated DataFrame saved to inf_cp_pert_cell_liana.csv\n"
     ]
    }
   ],
   "source": [
    "# before saving for cp run calculate_consensus_for_cp_inferred.py\n",
    "\n",
    "import glob\n",
    "from tqdm import tqdm\n",
    "\n",
    "folder_path = 'data/lincs_consensus/inferred_genes_signatures/'\n",
    "all_consensus_inf_cp = pd.DataFrame()\n",
    "csv_files = glob.glob(os.path.join(folder_path, '*.csv'))\n",
    "\n",
    "for file_path in tqdm(csv_files):\n",
    "    df = pd.read_csv(file_path, index_col = 0)\n",
    "    df = df.T\n",
    "    filename = os.path.basename(file_path)\n",
    "    drugname = filename.split('_')[3]\n",
    "    new_index = f\"{drugname}_{df.index}_cp\"\n",
    "    all_consensus_inf_cp = pd.concat([all_consensus_inf_cp, df.rename(index=lambda x: f\"{drugname}_{x}_cp\")])\n",
    "\n",
    "output_filename = 'inf_cp_pert_cell_liana.csv'\n",
    "all_consensus_inf_cp.to_csv(folder_path + '../' + output_filename)\n",
    "print(f\"Concatenated DataFrame saved to {output_filename}\")\n"
   ]
  },
  {
   "cell_type": "code",
   "execution_count": null,
   "metadata": {},
   "outputs": [],
   "source": []
  }
 ],
 "metadata": {
  "kernelspec": {
   "display_name": "Python 3.9.13 ('ccc_py39')",
   "language": "python",
   "name": "python3"
  },
  "language_info": {
   "codemirror_mode": {
    "name": "ipython",
    "version": 3
   },
   "file_extension": ".py",
   "mimetype": "text/x-python",
   "name": "python",
   "nbconvert_exporter": "python",
   "pygments_lexer": "ipython3",
   "version": "3.9.13"
  },
  "orig_nbformat": 4,
  "vscode": {
   "interpreter": {
    "hash": "c257721c1f8c71281254a83cdcaf33d9db8f8032bd6f67e38b3bfb14bf0b7634"
   }
  }
 },
 "nbformat": 4,
 "nbformat_minor": 2
}
