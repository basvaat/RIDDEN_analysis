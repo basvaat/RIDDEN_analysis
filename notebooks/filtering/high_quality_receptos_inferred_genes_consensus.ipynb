{
 "cells": [
  {
   "attachments": {},
   "cell_type": "markdown",
   "metadata": {},
   "source": [
    "# Selecting high quality receptors\n",
    "- using matrix multiplications for filtering out receptors\n",
    "- filtered consensus signature and design matrix are saved to lincs_consensus/hq_newfilter/inf_all_pert_cell_liana_transp.csv and design_matrices/hq_newfilter/all_pert_binary_liana.csv\n",
    "- filtering out shRNA and CRISPR"
   ]
  },
  {
   "cell_type": "code",
   "execution_count": 1,
   "metadata": {},
   "outputs": [],
   "source": [
    "%load_ext autoreload\n",
    "%autoreload 2"
   ]
  },
  {
   "cell_type": "code",
   "execution_count": 2,
   "metadata": {},
   "outputs": [],
   "source": [
    "import pandas as pd\n",
    "import numpy as np\n",
    "import json\n",
    "import matplotlib.pyplot as plt\n",
    "import seaborn as sns\n",
    "from src.config import *\n",
    "from src.prediction_functions import *\n",
    "from src.model_creation import *"
   ]
  },
  {
   "cell_type": "code",
   "execution_count": 3,
   "metadata": {},
   "outputs": [],
   "source": [
    "with open(\"results/benchmark_LINCS/results_liana_zscore2.json\",\"r\") as f:\n",
    "    all_results = json.load(f)"
   ]
  },
  {
   "attachments": {},
   "cell_type": "markdown",
   "metadata": {},
   "source": [
    "# Looking for HQ receptors"
   ]
  },
  {
   "cell_type": "code",
   "execution_count": 4,
   "metadata": {},
   "outputs": [],
   "source": [
    "perturbations = ['cp', 'lig', 'oe', 'xpr', 'sh']"
   ]
  },
  {
   "cell_type": "code",
   "execution_count": 5,
   "metadata": {},
   "outputs": [],
   "source": [
    "# get all receptors\n",
    "all_receptor = []\n",
    "for model in perturbations:\n",
    "    for data in all_results[model].keys():\n",
    "        for results in all_results[model][data].keys():\n",
    "            rocaucs = all_results[model][data][results]['rocauc']\n",
    "            all_receptor.extend(list(rocaucs.keys()))\n",
    "all_receptor = set(all_receptor)"
   ]
  },
  {
   "cell_type": "code",
   "execution_count": 6,
   "metadata": {},
   "outputs": [],
   "source": [
    "rocauc_count_df = pd.DataFrame(columns = ['model', 'data', 'results'] + list(all_receptor))"
   ]
  },
  {
   "cell_type": "code",
   "execution_count": 7,
   "metadata": {},
   "outputs": [],
   "source": [
    "model_dict = {}\n",
    "for model in perturbations:\n",
    "    data_dict = {}\n",
    "    for data in all_results[model].keys():\n",
    "        res_dict = {}\n",
    "        for results in all_results[model][data].keys():\n",
    "            \n",
    "            rocaucs = all_results[model][data][results]['rocauc']\n",
    "            if results == 'negative_results':\n",
    "            \n",
    "                rocaucs = {k:(1 if v < 0.4 else 0) for k,v in rocaucs.items()}\n",
    "                res_dict['negative_results'] = rocaucs\n",
    "            if results == 'positive_results':\n",
    "                rocaucs = {k:(1 if v > 0.6 else 0) for k,v in rocaucs.items()}\n",
    "                res_dict['positive_results'] = rocaucs\n",
    "\n",
    "                \n",
    "        data_dict[data] = res_dict\n",
    "    model_dict[model] = data_dict"
   ]
  },
  {
   "cell_type": "code",
   "execution_count": 8,
   "metadata": {},
   "outputs": [],
   "source": [
    "flatten_results = pd.DataFrame.from_records(\n",
    "    [\n",
    "        (level1, level2, level3, level4, leaf)\n",
    "        for level1, level2_dict in model_dict.items()\n",
    "        for level2, level3_dict in level2_dict.items()\n",
    "        for level3, level4_dict in level3_dict.items()\n",
    "        for level4, leaf in level4_dict.items()\n",
    "    ],\n",
    "    columns=['model', 'data', 'results', 'receptors', 'value']\n",
    ")"
   ]
  },
  {
   "cell_type": "code",
   "execution_count": 9,
   "metadata": {},
   "outputs": [],
   "source": [
    "# exclude sh-xpr xpr-sh validating receptors\n",
    "flatten_results_mod = flatten_results.copy()\n",
    "def change_value(row):\n",
    "    if (row.data == 'sh') & (row.model == 'xpr'):\n",
    "        row.value = 0\n",
    "    if (row.data == 'xpr') & (row.model == 'sh'):\n",
    "        row.value = 0\n",
    "    return row\n",
    "flatten_results = flatten_results_mod.apply(change_value, axis = 1)\n"
   ]
  },
  {
   "cell_type": "code",
   "execution_count": 10,
   "metadata": {},
   "outputs": [],
   "source": [
    "def fill_dataframe(result_row):\n",
    "    model = result_row.model\n",
    "    data = result_row.data\n",
    "    receptor = result_row.receptors\n",
    "    value = result_row.value\n",
    "    if value == 1:\n",
    "        receptor_df_model.loc[receptor, model] += 1\n",
    "        receptor_df_data.loc[receptor, data] += 1\n",
    "    return"
   ]
  },
  {
   "cell_type": "code",
   "execution_count": 11,
   "metadata": {},
   "outputs": [],
   "source": [
    "receptor_df_model = pd.DataFrame(0, index = flatten_results.receptors.unique(), columns = list(set(flatten_results.model) | set(flatten_results.data)))\n",
    "receptor_df_data = pd.DataFrame(0, index = flatten_results.receptors.unique(), columns = list(set(flatten_results.model) | set(flatten_results.data)))\n",
    "_x = flatten_results.apply(fill_dataframe, axis = 1)\n",
    "receptor_df = receptor_df_model + receptor_df_data"
   ]
  },
  {
   "cell_type": "code",
   "execution_count": 12,
   "metadata": {},
   "outputs": [
    {
     "data": {
      "text/html": [
       "<div>\n",
       "<style scoped>\n",
       "    .dataframe tbody tr th:only-of-type {\n",
       "        vertical-align: middle;\n",
       "    }\n",
       "\n",
       "    .dataframe tbody tr th {\n",
       "        vertical-align: top;\n",
       "    }\n",
       "\n",
       "    .dataframe thead th {\n",
       "        text-align: right;\n",
       "    }\n",
       "</style>\n",
       "<table border=\"1\" class=\"dataframe\">\n",
       "  <thead>\n",
       "    <tr style=\"text-align: right;\">\n",
       "      <th></th>\n",
       "      <th>cp</th>\n",
       "      <th>sh</th>\n",
       "      <th>xpr</th>\n",
       "      <th>oe</th>\n",
       "      <th>lig</th>\n",
       "    </tr>\n",
       "  </thead>\n",
       "  <tbody>\n",
       "    <tr>\n",
       "      <th>CALCRL</th>\n",
       "      <td>2</td>\n",
       "      <td>0</td>\n",
       "      <td>1</td>\n",
       "      <td>0</td>\n",
       "      <td>1</td>\n",
       "    </tr>\n",
       "    <tr>\n",
       "      <th>IGF1R</th>\n",
       "      <td>3</td>\n",
       "      <td>2</td>\n",
       "      <td>0</td>\n",
       "      <td>2</td>\n",
       "      <td>1</td>\n",
       "    </tr>\n",
       "    <tr>\n",
       "      <th>TEK</th>\n",
       "      <td>1</td>\n",
       "      <td>1</td>\n",
       "      <td>0</td>\n",
       "      <td>0</td>\n",
       "      <td>0</td>\n",
       "    </tr>\n",
       "    <tr>\n",
       "      <th>GCGR</th>\n",
       "      <td>2</td>\n",
       "      <td>0</td>\n",
       "      <td>2</td>\n",
       "      <td>0</td>\n",
       "      <td>0</td>\n",
       "    </tr>\n",
       "    <tr>\n",
       "      <th>AXL</th>\n",
       "      <td>1</td>\n",
       "      <td>0</td>\n",
       "      <td>0</td>\n",
       "      <td>0</td>\n",
       "      <td>1</td>\n",
       "    </tr>\n",
       "  </tbody>\n",
       "</table>\n",
       "</div>"
      ],
      "text/plain": [
       "        cp  sh  xpr  oe  lig\n",
       "CALCRL   2   0    1   0    1\n",
       "IGF1R    3   2    0   2    1\n",
       "TEK      1   1    0   0    0\n",
       "GCGR     2   0    2   0    0\n",
       "AXL      1   0    0   0    1"
      ]
     },
     "execution_count": 12,
     "metadata": {},
     "output_type": "execute_result"
    }
   ],
   "source": [
    "receptor_df.head()"
   ]
  },
  {
   "attachments": {},
   "cell_type": "markdown",
   "metadata": {},
   "source": [
    "# Create merged signature"
   ]
  },
  {
   "cell_type": "code",
   "execution_count": 13,
   "metadata": {},
   "outputs": [],
   "source": [
    "def read_in_data_for_model_creation(pert_type, genes_filename = 'lm'):\n",
    "    print('Read in signature')\n",
    "    signature = pd.read_csv(f'data/lincs_consensus/{genes_filename}_{pert_type}_pert_cell_liana.csv', index_col = 0)\n",
    "    return signature"
   ]
  },
  {
   "cell_type": "code",
   "execution_count": 14,
   "metadata": {},
   "outputs": [
    {
     "name": "stdout",
     "output_type": "stream",
     "text": [
      "cp: Read in signature\n",
      "lig: Read in signature\n",
      "oe: Read in signature\n",
      "xpr: Read in signature\n",
      "sh: Read in signature\n"
     ]
    }
   ],
   "source": [
    "data = {}\n",
    "for pert_type in perturbations:\n",
    "    print(pert_type, end = ': ')\n",
    "    data[pert_type] = read_in_data_for_model_creation(pert_type, genes_filename = 'inf')\n",
    "    data[pert_type].index = data[pert_type].index + '_' + pert_type"
   ]
  },
  {
   "cell_type": "code",
   "execution_count": 15,
   "metadata": {},
   "outputs": [
    {
     "name": "stderr",
     "output_type": "stream",
     "text": [
      "/var/folders/ld/gy00m33j1pn81v2x1sj_h3pm0000gn/T/ipykernel_822/4070715848.py:1: FutureWarning: The default value of regex will change from True to False in a future version.\n",
      "  data['cp'].index = data['cp'].index.str.replace(r'^(.*)_cp(.*)_cp$', r'\\1_cp\\2')\n"
     ]
    }
   ],
   "source": [
    "data['cp'].index = data['cp'].index.str.replace(r'^(.*)_cp(.*)_cp$', r'\\1_cp\\2')\n"
   ]
  },
  {
   "cell_type": "code",
   "execution_count": 21,
   "metadata": {},
   "outputs": [],
   "source": [
    "design_matrix = pd.read_csv('data/design_matrices/high_quality/all_pert_binary_liana.csv', index_col = 0)"
   ]
  },
  {
   "cell_type": "code",
   "execution_count": 29,
   "metadata": {},
   "outputs": [],
   "source": [
    "filtered_data = {}\n",
    "for pert_type in perturbations:\n",
    "    filtered_data[pert_type] = data[pert_type][data[pert_type].index.isin(design_matrix.index)]\n"
   ]
  },
  {
   "cell_type": "code",
   "execution_count": 38,
   "metadata": {},
   "outputs": [
    {
     "name": "stdout",
     "output_type": "stream",
     "text": [
      "cp: Read in signature\n",
      "lig: Read in signature\n",
      "oe: Read in signature\n",
      "xpr: Read in signature\n",
      "sh: Read in signature\n"
     ]
    }
   ],
   "source": [
    "design_matrices = {}\n",
    "for pert_type in perturbations:\n",
    "    print(pert_type, end =': ')\n",
    "    print('Read in signature')\n",
    "    design_matrices[pert_type] = pd.read_csv(f'{DATA_DIR}/design_matrices/{pert_type}_pert_binary_liana.csv', index_col =0 )\n",
    "    design_matrices[pert_type].index = design_matrices[pert_type].index + '_' + pert_type\n"
   ]
  },
  {
   "cell_type": "code",
   "execution_count": 39,
   "metadata": {},
   "outputs": [],
   "source": [
    "def merge_signatures(data, design_matrices):\n",
    "    data_all = pd.DataFrame(columns = data[list(data.keys())[0]].columns)\n",
    "    for i in data:\n",
    "        data_all = pd.concat([data_all, data[i].loc[design_matrices[i].index]])\n",
    "    data_all = data_all.astype('float')\n",
    "    return data_all"
   ]
  },
  {
   "cell_type": "code",
   "execution_count": 40,
   "metadata": {},
   "outputs": [],
   "source": [
    "def merge_design_matrces(gene_list, pert_list, design_matrices):\n",
    "    df = pd.DataFrame(columns = gene_list, index = pert_list)\n",
    "    for i in design_matrices:\n",
    "        df.loc[design_matrices[i].index, design_matrices[i].columns] = design_matrices[i]\n",
    "    df = df.fillna(0)\n",
    "    df = df.astype('int')\n",
    "    return df"
   ]
  },
  {
   "cell_type": "code",
   "execution_count": 41,
   "metadata": {},
   "outputs": [],
   "source": [
    "def merge_data(design_matrices, data):\n",
    "    # receptor list\n",
    "    gene_list = []\n",
    "    f = list(map(lambda y: gene_list.extend(y.columns), design_matrices.values()))\n",
    "    gene_list = list(set(gene_list))\n",
    "    # perturbations (cell_pert_list)\n",
    "    pert_list = []\n",
    "    f = list(map(lambda y: pert_list.extend(y.index), design_matrices.values()))\n",
    "    print('Merge design matrices')\n",
    "    dms = merge_design_matrces(gene_list, pert_list, design_matrices)\n",
    "    print('Merge signatures')\n",
    "    data_all = merge_signatures(data, design_matrices)\n",
    "    return dms, data_all\n"
   ]
  },
  {
   "cell_type": "code",
   "execution_count": 42,
   "metadata": {},
   "outputs": [
    {
     "name": "stdout",
     "output_type": "stream",
     "text": [
      "Merge design matrices\n",
      "Merge signatures\n"
     ]
    }
   ],
   "source": [
    "designmatrix, gexdata = merge_data(design_matrices, data)"
   ]
  },
  {
   "cell_type": "code",
   "execution_count": 46,
   "metadata": {},
   "outputs": [],
   "source": [
    "gexdata.T.to_csv(f'data/lincs_consensus/high_quality/inf_pert_cell_liana_transp.csv')"
   ]
  },
  {
   "cell_type": "code",
   "execution_count": null,
   "metadata": {},
   "outputs": [],
   "source": []
  }
 ],
 "metadata": {
  "kernelspec": {
   "display_name": "Python 3.9.13 ('ccc_py39')",
   "language": "python",
   "name": "python3"
  },
  "language_info": {
   "codemirror_mode": {
    "name": "ipython",
    "version": 3
   },
   "file_extension": ".py",
   "mimetype": "text/x-python",
   "name": "python",
   "nbconvert_exporter": "python",
   "pygments_lexer": "ipython3",
   "version": "3.9.13"
  },
  "orig_nbformat": 4,
  "vscode": {
   "interpreter": {
    "hash": "c257721c1f8c71281254a83cdcaf33d9db8f8032bd6f67e38b3bfb14bf0b7634"
   }
  }
 },
 "nbformat": 4,
 "nbformat_minor": 2
}
