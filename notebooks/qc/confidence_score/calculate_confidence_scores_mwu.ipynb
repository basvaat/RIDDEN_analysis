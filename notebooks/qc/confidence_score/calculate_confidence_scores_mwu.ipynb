{
 "cells": [
  {
   "cell_type": "code",
   "execution_count": 2,
   "metadata": {},
   "outputs": [],
   "source": [
    "%load_ext autoreload\n",
    "%autoreload 2"
   ]
  },
  {
   "cell_type": "code",
   "execution_count": 3,
   "metadata": {},
   "outputs": [],
   "source": [
    "import pandas as pd\n",
    "import numpy as np\n",
    "from src.config import *\n",
    "import matplotlib.pyplot as plt\n",
    "import seaborn as sns\n",
    "from tqdm import tqdm\n",
    "from sklearn.metrics import roc_curve, auc\n",
    "import json\n",
    "from scipy.stats import mannwhitneyu\n",
    "from scipy.stats import ttest_ind\n"
   ]
  },
  {
   "cell_type": "code",
   "execution_count": 4,
   "metadata": {},
   "outputs": [],
   "source": [
    "from src.model_creation.CreateModelFunctions import fit_linear_model_and_get_coefficients_by_receptor as fit_model\n",
    "from src.prediction_functions.MatrixMultiplicationMemoryEffectiveChunks import estimate_receptor_activity\n",
    "\n"
   ]
  },
  {
   "cell_type": "markdown",
   "metadata": {},
   "source": [
    "### Calculate receptor confidence levels using MWU test"
   ]
  },
  {
   "cell_type": "markdown",
   "metadata": {},
   "source": [
    "#### Read in data"
   ]
  },
  {
   "cell_type": "code",
   "execution_count": 5,
   "metadata": {},
   "outputs": [],
   "source": [
    "lincs_consensus = pd.read_csv('data/lincs_consensus/high_quality/lm_all_pert_cell_liana.csv', index_col = 0) \n",
    "prior_knowledge = pd.read_csv('data/design_matrices/high_quality/all_pert_binary_liana.csv', index_col = 0)"
   ]
  },
  {
   "cell_type": "code",
   "execution_count": 6,
   "metadata": {},
   "outputs": [],
   "source": [
    "receptor_activities = {}\n",
    "# receptor activities were calculated before\n",
    "for i in range(0, 5):\n",
    "    receptor_activities[i] = pd.read_csv(f'results/confidence/receptor_activities_split_229_s0_{i}.csv', index_col =0)"
   ]
  },
  {
   "cell_type": "markdown",
   "metadata": {},
   "source": [
    "### Calculate p-value"
   ]
  },
  {
   "cell_type": "code",
   "execution_count": 7,
   "metadata": {},
   "outputs": [],
   "source": [
    "def create_negativ_and_positive_binary(binary):\n",
    "    # print(\"Create positive value matrices for ROC curve calculation\")\n",
    "\n",
    "    if (binary == -1).any().any() == False:\n",
    "        print('There are only positive perturbations, no negative matrix')\n",
    "        negative_binary = pd.DataFrame()\n",
    "    else:\n",
    "        negative_binary = binary.replace({1:0})\n",
    "        assert set(np.unique(negative_binary.values)) == {-1, 0}\n",
    "        # delete only 0 rows\n",
    "        s = negative_binary.sum() != 0\n",
    "        negative_binary = negative_binary.loc[:, s.values]\n",
    "        # change sign\n",
    "        negative_binary = negative_binary.replace({-1:1})\n",
    "        assert set(np.unique(negative_binary.values)) == {0, 1}\n",
    "\n",
    "    if (binary == 1).any().any() == False:\n",
    "        print('There are only negative perturbations, no positive matrix')\n",
    "        positive_binary = pd.DataFrame()\n",
    "    else: \n",
    "        positive_binary = binary.replace({-1:0})\n",
    "        assert set(np.unique(positive_binary.values)) == {0, 1}\n",
    "        # delete only 0 rows\n",
    "        s = positive_binary.sum() != 0\n",
    "        positive_binary = positive_binary.loc[:, s.values]\n",
    "\n",
    "    return negative_binary, positive_binary"
   ]
  },
  {
   "cell_type": "code",
   "execution_count": 8,
   "metadata": {},
   "outputs": [],
   "source": [
    "def mwu_test(receptor_binary, receptor_activity, side):\n",
    "    if side == 'negative': alt = 'less'\n",
    "    elif side == 'positive': alt = 'greater'\n",
    "    pos = receptor_binary[receptor_binary == 1].index\n",
    "    neg = receptor_binary[receptor_binary == 0].index\n",
    "    pos = receptor_activity.loc[pos]\n",
    "    neg = receptor_activity.loc[neg]\n",
    "    if len(pos) >8: # under 8 it will be a recursion error, MWU test cannot be calculated\n",
    "        u_stat, p_value = mannwhitneyu(pos.values, neg.values, alternative=alt, axis=0)\n",
    "    else:\n",
    "        u_stat, p_value = np.nan, 1\n",
    "    return u_stat, p_value\n"
   ]
  },
  {
   "cell_type": "code",
   "execution_count": 9,
   "metadata": {},
   "outputs": [],
   "source": [
    "def calculate_mwu_pvalues(binary, activities, side):\n",
    "    receptors = list(set(activities.columns) & set(binary.columns))\n",
    "    filtered_activities  = activities.loc[binary.index, receptors]\n",
    "    filtered_binary = binary.loc[filtered_activities.index,receptors]\n",
    "\n",
    "    mwu_stat = dict()\n",
    "    mwu_pval = dict()\n",
    "    for receptor in filtered_binary.columns:\n",
    "        mwu_stat[receptor], mwu_pval[receptor] = mwu_test(filtered_binary.loc[:, receptor], filtered_activities.loc[:, receptor], side)\n",
    "    return mwu_stat, mwu_pval\n"
   ]
  },
  {
   "cell_type": "code",
   "execution_count": 10,
   "metadata": {},
   "outputs": [],
   "source": [
    "with open('results/confidence/test_indices_229_s0.json') as f:\n",
    "    test_indices_dict = json.load(f)"
   ]
  },
  {
   "cell_type": "code",
   "execution_count": 11,
   "metadata": {},
   "outputs": [],
   "source": [
    "\n",
    "def calculate_mwustatistics(activities, prior_knowledge):\n",
    "\n",
    "    assert activities.shape[1] != 978\n",
    "    negative_binary, positive_binary = create_negativ_and_positive_binary(prior_knowledge)\n",
    "    results = {}\n",
    "    if len(negative_binary) != 0:\n",
    "        negative_results = {}\n",
    "        negative_results['mwu_stat'], negative_results['mwu_pvalue'] = calculate_mwu_pvalues(negative_binary, activities, side = 'negative')\n",
    "        results['negative_results'] = negative_results\n",
    "    if len(positive_binary) != 0:\n",
    "        positive_results = {}\n",
    "        positive_results['mwu_stat'], positive_results['mwu_pvalue'] = calculate_mwu_pvalues(positive_binary, activities, side = 'positive')\n",
    "        results['positive_results'] = positive_results\n",
    "    # print('---- Done ----')\n",
    "    return results"
   ]
  },
  {
   "cell_type": "code",
   "execution_count": 12,
   "metadata": {},
   "outputs": [],
   "source": [
    "activities = receptor_activities[0]\n",
    "prior_knowledge_temp = prior_knowledge.loc[test_indices_dict['0']]"
   ]
  },
  {
   "cell_type": "code",
   "execution_count": 13,
   "metadata": {},
   "outputs": [],
   "source": [
    "# import sys\n",
    "# sys.setrecursionlimit(4000)"
   ]
  },
  {
   "cell_type": "code",
   "execution_count": 14,
   "metadata": {},
   "outputs": [
    {
     "name": "stderr",
     "output_type": "stream",
     "text": [
      "100%|██████████| 5/5 [00:15<00:00,  3.14s/it]\n"
     ]
    }
   ],
   "source": [
    "\n",
    "all_results = {}\n",
    "for i in tqdm(range(5)):\n",
    "    results = calculate_mwustatistics(activities = receptor_activities[i], prior_knowledge = prior_knowledge.loc[test_indices_dict[str(i)]])\n",
    "    all_results[i] = results"
   ]
  },
  {
   "cell_type": "code",
   "execution_count": 15,
   "metadata": {},
   "outputs": [],
   "source": [
    "# get all receptors\n",
    "all_receptor = []\n",
    "for i in all_results.keys():\n",
    "    for results in all_results[i].keys():\n",
    "        mwustat = all_results[i][results]['mwu_stat']\n",
    "        all_receptor.extend(list(mwustat.keys()))\n",
    "all_receptor = set(all_receptor)"
   ]
  },
  {
   "cell_type": "code",
   "execution_count": 16,
   "metadata": {},
   "outputs": [],
   "source": [
    "split_list = []\n",
    "direction_list = []\n",
    "receptor_list = []\n",
    "metric_list = []\n",
    "stat_list = []\n",
    "for split, results in all_results.items():\n",
    "    for direction, metrics in results.items():\n",
    "        if direction in ['negative_results', 'positive_results']:\n",
    "            for metric, values in metrics.items():\n",
    "                    for receptor, stat in values.items():\n",
    "                        split_list.append(split)\n",
    "                        direction_list.append(direction)\n",
    "                        metric_list.append(metric)\n",
    "                        receptor_list.append(receptor)\n",
    "                        stat_list.append(stat)\n",
    "\n",
    "\n",
    "all_results_df = pd.DataFrame({\n",
    "    'Split': split_list,\n",
    "    'Direction': direction_list,\n",
    "    'Receptor': receptor_list,\n",
    "    'Metric': metric_list, \n",
    "    'MWU_stat':stat_list\n",
    "})\n"
   ]
  },
  {
   "cell_type": "code",
   "execution_count": 17,
   "metadata": {},
   "outputs": [],
   "source": [
    "all_results_df = all_results_df.pivot(index = ['Split', 'Direction', 'Receptor'], columns = 'Metric', values = 'MWU_stat').reset_index()"
   ]
  },
  {
   "cell_type": "code",
   "execution_count": 18,
   "metadata": {},
   "outputs": [],
   "source": [
    "means_df = all_results_df.groupby(['Split', 'Receptor']).agg({'mwu_pvalue':'mean', 'mwu_stat':'mean'}).reset_index()"
   ]
  },
  {
   "cell_type": "code",
   "execution_count": 19,
   "metadata": {},
   "outputs": [],
   "source": [
    "\n",
    "overall_means_df = means_df.groupby(['Receptor']).agg({'mwu_pvalue':'mean', 'mwu_stat':'mean'}).reset_index()\n"
   ]
  },
  {
   "cell_type": "code",
   "execution_count": 20,
   "metadata": {},
   "outputs": [],
   "source": [
    "overall_means_df = overall_means_df.sort_values(by = 'mwu_pvalue')"
   ]
  },
  {
   "cell_type": "code",
   "execution_count": 21,
   "metadata": {},
   "outputs": [
    {
     "data": {
      "text/plain": [
       "(0.00956492856035344, 0.1347336592730101, 0.4156280810582674)"
      ]
     },
     "execution_count": 21,
     "metadata": {},
     "output_type": "execute_result"
    }
   ],
   "source": [
    "overall_means_df_notna= overall_means_df.dropna()\n",
    "q1 = np.percentile(overall_means_df_notna.mwu_pvalue, 20)\n",
    "q2 = np.percentile(overall_means_df_notna.mwu_pvalue, 40)  # Median\n",
    "q3 = np.percentile(overall_means_df_notna.mwu_pvalue, 60)\n",
    "q4 = np.percentile(overall_means_df_notna.mwu_pvalue, 80)\n",
    "q1, q2, q3"
   ]
  },
  {
   "cell_type": "code",
   "execution_count": 22,
   "metadata": {},
   "outputs": [],
   "source": [
    "def assign_confidence(value):\n",
    "    if value < q1:\n",
    "        return 'A'\n",
    "    elif value < q2:\n",
    "        return 'B'\n",
    "    elif value < q3:\n",
    "        return 'C'\n",
    "    elif value < q4:\n",
    "        return 'D'\n",
    "    else:\n",
    "        return 'E'\n",
    "overall_means_df['Confidence'] = overall_means_df['mwu_pvalue'].apply(assign_confidence)"
   ]
  },
  {
   "cell_type": "code",
   "execution_count": 24,
   "metadata": {},
   "outputs": [
    {
     "data": {
      "text/html": [
       "<div>\n",
       "<style scoped>\n",
       "    .dataframe tbody tr th:only-of-type {\n",
       "        vertical-align: middle;\n",
       "    }\n",
       "\n",
       "    .dataframe tbody tr th {\n",
       "        vertical-align: top;\n",
       "    }\n",
       "\n",
       "    .dataframe thead th {\n",
       "        text-align: right;\n",
       "    }\n",
       "</style>\n",
       "<table border=\"1\" class=\"dataframe\">\n",
       "  <thead>\n",
       "    <tr style=\"text-align: right;\">\n",
       "      <th>Metric</th>\n",
       "      <th>Receptor</th>\n",
       "      <th>mwu_pvalue</th>\n",
       "      <th>mwu_stat</th>\n",
       "      <th>Confidence</th>\n",
       "    </tr>\n",
       "  </thead>\n",
       "  <tbody>\n",
       "    <tr>\n",
       "      <th>102</th>\n",
       "      <td>IFNGR2</td>\n",
       "      <td>1.415611e-09</td>\n",
       "      <td>96658.0</td>\n",
       "      <td>A</td>\n",
       "    </tr>\n",
       "    <tr>\n",
       "      <th>101</th>\n",
       "      <td>IFNGR1</td>\n",
       "      <td>4.422772e-08</td>\n",
       "      <td>119339.8</td>\n",
       "      <td>A</td>\n",
       "    </tr>\n",
       "    <tr>\n",
       "      <th>99</th>\n",
       "      <td>IFNAR1</td>\n",
       "      <td>1.024822e-01</td>\n",
       "      <td>93662.2</td>\n",
       "      <td>B</td>\n",
       "    </tr>\n",
       "    <tr>\n",
       "      <th>100</th>\n",
       "      <td>IFNAR2</td>\n",
       "      <td>1.025300e-01</td>\n",
       "      <td>103721.9</td>\n",
       "      <td>B</td>\n",
       "    </tr>\n",
       "    <tr>\n",
       "      <th>175</th>\n",
       "      <td>PDCD1</td>\n",
       "      <td>4.007491e-01</td>\n",
       "      <td>27282.4</td>\n",
       "      <td>C</td>\n",
       "    </tr>\n",
       "  </tbody>\n",
       "</table>\n",
       "</div>"
      ],
      "text/plain": [
       "Metric Receptor    mwu_pvalue  mwu_stat Confidence\n",
       "102      IFNGR2  1.415611e-09   96658.0          A\n",
       "101      IFNGR1  4.422772e-08  119339.8          A\n",
       "99       IFNAR1  1.024822e-01   93662.2          B\n",
       "100      IFNAR2  1.025300e-01  103721.9          B\n",
       "175       PDCD1  4.007491e-01   27282.4          C"
      ]
     },
     "execution_count": 24,
     "metadata": {},
     "output_type": "execute_result"
    }
   ],
   "source": [
    "overall_means_df[(overall_means_df['Receptor'].str.contains('IFN')) | (overall_means_df['Receptor'].str.contains('PDCD1'))]"
   ]
  },
  {
   "cell_type": "code",
   "execution_count": 26,
   "metadata": {},
   "outputs": [
    {
     "data": {
      "text/plain": [
       "Confidence\n",
       "A    42\n",
       "B    42\n",
       "C    42\n",
       "D    42\n",
       "E    61\n",
       "Name: Receptor, dtype: int64"
      ]
     },
     "execution_count": 26,
     "metadata": {},
     "output_type": "execute_result"
    }
   ],
   "source": [
    "overall_means_df.groupby('Confidence')['Receptor'].count()"
   ]
  },
  {
   "cell_type": "code",
   "execution_count": 29,
   "metadata": {},
   "outputs": [],
   "source": [
    "overall_means_df.to_csv(f'results/confidence/receptor_rocauc_mean_confidence_scores_229_mwup_withna.csv')"
   ]
  },
  {
   "cell_type": "code",
   "execution_count": 30,
   "metadata": {},
   "outputs": [
    {
     "data": {
      "text/plain": [
       "array(['A', 'B', 'C', 'D', 'E'], dtype=object)"
      ]
     },
     "execution_count": 30,
     "metadata": {},
     "output_type": "execute_result"
    }
   ],
   "source": [
    "overall_means_df.Confidence.unique()"
   ]
  },
  {
   "cell_type": "code",
   "execution_count": 26,
   "metadata": {},
   "outputs": [
    {
     "data": {
      "text/html": [
       "<div>\n",
       "<style scoped>\n",
       "    .dataframe tbody tr th:only-of-type {\n",
       "        vertical-align: middle;\n",
       "    }\n",
       "\n",
       "    .dataframe tbody tr th {\n",
       "        vertical-align: top;\n",
       "    }\n",
       "\n",
       "    .dataframe thead th {\n",
       "        text-align: right;\n",
       "    }\n",
       "</style>\n",
       "<table border=\"1\" class=\"dataframe\">\n",
       "  <thead>\n",
       "    <tr style=\"text-align: right;\">\n",
       "      <th>Metric</th>\n",
       "      <th>Receptor</th>\n",
       "      <th>mwu_pvalue</th>\n",
       "      <th>mwu_stat</th>\n",
       "      <th>Confidence</th>\n",
       "    </tr>\n",
       "  </thead>\n",
       "  <tbody>\n",
       "    <tr>\n",
       "      <th>179</th>\n",
       "      <td>PLD2</td>\n",
       "      <td>3.153872e-13</td>\n",
       "      <td>72249.6</td>\n",
       "      <td>A</td>\n",
       "    </tr>\n",
       "    <tr>\n",
       "      <th>102</th>\n",
       "      <td>IFNGR2</td>\n",
       "      <td>1.415611e-09</td>\n",
       "      <td>96658.0</td>\n",
       "      <td>A</td>\n",
       "    </tr>\n",
       "    <tr>\n",
       "      <th>101</th>\n",
       "      <td>IFNGR1</td>\n",
       "      <td>4.422772e-08</td>\n",
       "      <td>119339.8</td>\n",
       "      <td>A</td>\n",
       "    </tr>\n",
       "    <tr>\n",
       "      <th>220</th>\n",
       "      <td>TNFRSF1A</td>\n",
       "      <td>8.165990e-07</td>\n",
       "      <td>84407.0</td>\n",
       "      <td>A</td>\n",
       "    </tr>\n",
       "    <tr>\n",
       "      <th>59</th>\n",
       "      <td>ERBB2</td>\n",
       "      <td>4.845679e-06</td>\n",
       "      <td>360399.9</td>\n",
       "      <td>A</td>\n",
       "    </tr>\n",
       "    <tr>\n",
       "      <th>...</th>\n",
       "      <td>...</td>\n",
       "      <td>...</td>\n",
       "      <td>...</td>\n",
       "      <td>...</td>\n",
       "    </tr>\n",
       "    <tr>\n",
       "      <th>34</th>\n",
       "      <td>CD2</td>\n",
       "      <td>1.000000e+00</td>\n",
       "      <td>NaN</td>\n",
       "      <td>D</td>\n",
       "    </tr>\n",
       "    <tr>\n",
       "      <th>36</th>\n",
       "      <td>CD27</td>\n",
       "      <td>1.000000e+00</td>\n",
       "      <td>NaN</td>\n",
       "      <td>D</td>\n",
       "    </tr>\n",
       "    <tr>\n",
       "      <th>74</th>\n",
       "      <td>FSHR</td>\n",
       "      <td>1.000000e+00</td>\n",
       "      <td>NaN</td>\n",
       "      <td>D</td>\n",
       "    </tr>\n",
       "    <tr>\n",
       "      <th>170</th>\n",
       "      <td>NTSR1</td>\n",
       "      <td>1.000000e+00</td>\n",
       "      <td>NaN</td>\n",
       "      <td>D</td>\n",
       "    </tr>\n",
       "    <tr>\n",
       "      <th>147</th>\n",
       "      <td>LPAR4</td>\n",
       "      <td>1.000000e+00</td>\n",
       "      <td>NaN</td>\n",
       "      <td>D</td>\n",
       "    </tr>\n",
       "  </tbody>\n",
       "</table>\n",
       "<p>229 rows × 4 columns</p>\n",
       "</div>"
      ],
      "text/plain": [
       "Metric  Receptor    mwu_pvalue  mwu_stat Confidence\n",
       "179         PLD2  3.153872e-13   72249.6          A\n",
       "102       IFNGR2  1.415611e-09   96658.0          A\n",
       "101       IFNGR1  4.422772e-08  119339.8          A\n",
       "220     TNFRSF1A  8.165990e-07   84407.0          A\n",
       "59         ERBB2  4.845679e-06  360399.9          A\n",
       "..           ...           ...       ...        ...\n",
       "34           CD2  1.000000e+00       NaN          D\n",
       "36          CD27  1.000000e+00       NaN          D\n",
       "74          FSHR  1.000000e+00       NaN          D\n",
       "170        NTSR1  1.000000e+00       NaN          D\n",
       "147        LPAR4  1.000000e+00       NaN          D\n",
       "\n",
       "[229 rows x 4 columns]"
      ]
     },
     "execution_count": 26,
     "metadata": {},
     "output_type": "execute_result"
    }
   ],
   "source": [
    "overall_means_df"
   ]
  },
  {
   "cell_type": "code",
   "execution_count": null,
   "metadata": {},
   "outputs": [],
   "source": []
  }
 ],
 "metadata": {
  "kernelspec": {
   "display_name": "ccc_py39",
   "language": "python",
   "name": "python3"
  },
  "language_info": {
   "codemirror_mode": {
    "name": "ipython",
    "version": 3
   },
   "file_extension": ".py",
   "mimetype": "text/x-python",
   "name": "python",
   "nbconvert_exporter": "python",
   "pygments_lexer": "ipython3",
   "version": "3.9.undefined"
  }
 },
 "nbformat": 4,
 "nbformat_minor": 2
}
