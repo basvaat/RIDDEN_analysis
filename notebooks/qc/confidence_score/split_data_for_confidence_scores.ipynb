{
 "cells": [
  {
   "cell_type": "code",
   "execution_count": 2,
   "metadata": {},
   "outputs": [],
   "source": [
    "%load_ext autoreload\n",
    "%autoreload 2"
   ]
  },
  {
   "cell_type": "code",
   "execution_count": 3,
   "metadata": {},
   "outputs": [],
   "source": [
    "import pandas as pd\n",
    "import numpy as np\n",
    "from src.config import *\n",
    "from tqdm import tqdm\n",
    "import json\n"
   ]
  },
  {
   "cell_type": "code",
   "execution_count": 4,
   "metadata": {},
   "outputs": [],
   "source": [
    "from src.model_creation.CreateModelFunctions import fit_linear_model_and_get_coefficients_by_receptor as fit_model\n",
    "from src.prediction_functions.MatrixMultiplicationMemoryEffectiveChunks import estimation_with_zscore_calculation_in_chunks as estimate_receptor_activity\n"
   ]
  },
  {
   "cell_type": "code",
   "execution_count": 6,
   "metadata": {},
   "outputs": [],
   "source": [
    "lincs_consensus = pd.read_csv('data/lincs_consensus/high_quality/lm_all_pert_cell_liana.csv', index_col = 0)\n",
    "prior_knowledge = pd.read_csv('data/design_matrices/high_quality/all_pert_binary_liana.csv', index_col = 0)"
   ]
  },
  {
   "cell_type": "markdown",
   "metadata": {},
   "source": [
    "# Split receptor activities"
   ]
  },
  {
   "cell_type": "code",
   "execution_count": 7,
   "metadata": {},
   "outputs": [],
   "source": [
    "#  split dataframe into halves 5x and fit model on them.\n",
    "train_sets = {}\n",
    "test_sets = {}\n",
    "np.random.seed(0) #42\n",
    "\n",
    "for i in range(5):\n",
    "    shuffled_indices = np.random.permutation(prior_knowledge.index)\n",
    "    \n",
    "    split_idx = len(shuffled_indices) // 2\n",
    "    train_indices = shuffled_indices[:split_idx]\n",
    "    test_indices = shuffled_indices[split_idx:]\n",
    "    \n",
    "    train_set_dm = prior_knowledge.loc[train_indices].copy()\n",
    "    train_set_sig = lincs_consensus.loc[train_indices].copy()\n",
    "    test_set_dm = prior_knowledge.loc[test_indices].copy()\n",
    "    test_set_sig = lincs_consensus.loc[test_indices].copy()\n",
    "    \n",
    "    train_sets[i] = (train_set_dm, train_set_sig)\n",
    "    test_sets[i] = (test_set_dm, test_set_sig)"
   ]
  },
  {
   "cell_type": "code",
   "execution_count": 22,
   "metadata": {},
   "outputs": [],
   "source": [
    "train_indices_dict = {}\n",
    "test_indices_dict = {}\n",
    "for i in range(5):\n",
    "    train_indices_dict[i] = train_sets[i][0].index.tolist()\n",
    "    test_indices_dict[i] = test_sets[i][0].index.tolist()\n",
    "with open('results/confidence/train_indices_229_s0.json', 'w') as f:\n",
    "    json.dump(train_indices_dict, f, indent=4)\n",
    "with open('results/confidence/test_indices_229_s0.json', 'w') as f:\n",
    "    json.dump(test_indices_dict, f, indent=4)\n"
   ]
  },
  {
   "cell_type": "code",
   "execution_count": 23,
   "metadata": {},
   "outputs": [
    {
     "name": "stderr",
     "output_type": "stream",
     "text": [
      "100%|██████████| 5/5 [1:40:36<00:00, 1207.22s/it]\n"
     ]
    }
   ],
   "source": [
    "#  fit model for random splits\n",
    "# 109 min\n",
    "coeff_matrices = {}\n",
    "for i in tqdm(train_sets):\n",
    "    coeff_matrices[i] = fit_model(train_sets[i][1], train_sets[i][0])"
   ]
  },
  {
   "cell_type": "code",
   "execution_count": 24,
   "metadata": {},
   "outputs": [],
   "source": [
    "for i in coeff_matrices:\n",
    "    coeff_matrices[i].to_csv(f'results/confidence/coeff_matrix_split_229_s0_{i}.csv')"
   ]
  },
  {
   "cell_type": "code",
   "execution_count": 25,
   "metadata": {},
   "outputs": [
    {
     "name": "stderr",
     "output_type": "stream",
     "text": [
      "  0%|          | 0/5 [00:00<?, ?it/s]"
     ]
    },
    {
     "name": "stdout",
     "output_type": "stream",
     "text": [
      "Number of samples: 7232\n",
      "Number of chunks: 25\n",
      "Number of permutations: 1000\n"
     ]
    },
    {
     "name": "stderr",
     "output_type": "stream",
     "text": [
      "100%|██████████| 25/25 [01:43<00:00,  4.15s/it]\n",
      " 20%|██        | 1/5 [01:44<06:57, 104.27s/it]"
     ]
    },
    {
     "name": "stdout",
     "output_type": "stream",
     "text": [
      "Number of samples: 7232\n",
      "Number of chunks: 25\n",
      "Number of permutations: 1000\n"
     ]
    },
    {
     "name": "stderr",
     "output_type": "stream",
     "text": [
      "100%|██████████| 25/25 [01:38<00:00,  3.92s/it]\n",
      " 40%|████      | 2/5 [03:22<05:02, 100.81s/it]"
     ]
    },
    {
     "name": "stdout",
     "output_type": "stream",
     "text": [
      "Number of samples: 7232\n",
      "Number of chunks: 25\n",
      "Number of permutations: 1000\n"
     ]
    },
    {
     "name": "stderr",
     "output_type": "stream",
     "text": [
      "100%|██████████| 25/25 [01:42<00:00,  4.11s/it]\n",
      " 60%|██████    | 3/5 [05:05<03:23, 101.90s/it]"
     ]
    },
    {
     "name": "stdout",
     "output_type": "stream",
     "text": [
      "Number of samples: 7232\n",
      "Number of chunks: 25\n",
      "Number of permutations: 1000\n"
     ]
    },
    {
     "name": "stderr",
     "output_type": "stream",
     "text": [
      "100%|██████████| 25/25 [01:38<00:00,  3.93s/it]\n",
      " 80%|████████  | 4/5 [06:44<01:40, 100.63s/it]"
     ]
    },
    {
     "name": "stdout",
     "output_type": "stream",
     "text": [
      "Number of samples: 7232\n",
      "Number of chunks: 25\n",
      "Number of permutations: 1000\n"
     ]
    },
    {
     "name": "stderr",
     "output_type": "stream",
     "text": [
      "100%|██████████| 25/25 [01:37<00:00,  3.92s/it]\n",
      "100%|██████████| 5/5 [08:22<00:00, 100.58s/it]\n"
     ]
    }
   ],
   "source": [
    "# predict values with train coeff_m\n",
    "# 10 min\n",
    "receptor_activities = {}\n",
    "for i in tqdm(coeff_matrices):\n",
    "    receptor_activities[i] = estimate_receptor_activity(test_sets[i][1], coeff_matrices[i].T.astype(float), number_of_permutation=1000, chunk_size=300)"
   ]
  },
  {
   "cell_type": "code",
   "execution_count": 26,
   "metadata": {},
   "outputs": [],
   "source": [
    "for i in receptor_activities:\n",
    "    receptor_activities[i].to_csv(f'results/confidence/receptor_activities_split_229_s0_{i}.csv')"
   ]
  },
  {
   "cell_type": "code",
   "execution_count": null,
   "metadata": {},
   "outputs": [],
   "source": []
  }
 ],
 "metadata": {
  "kernelspec": {
   "display_name": "ccc_py39",
   "language": "python",
   "name": "python3"
  },
  "language_info": {
   "codemirror_mode": {
    "name": "ipython",
    "version": 3
   },
   "file_extension": ".py",
   "mimetype": "text/x-python",
   "name": "python",
   "nbconvert_exporter": "python",
   "pygments_lexer": "ipython3",
   "version": "3.9.13"
  }
 },
 "nbformat": 4,
 "nbformat_minor": 2
}
