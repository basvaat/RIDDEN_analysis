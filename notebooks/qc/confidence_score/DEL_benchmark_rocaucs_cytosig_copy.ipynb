{
 "cells": [
  {
   "cell_type": "code",
   "execution_count": 1,
   "metadata": {},
   "outputs": [],
   "source": [
    "%load_ext autoreload\n",
    "%autoreload 2\n"
   ]
  },
  {
   "cell_type": "code",
   "execution_count": 2,
   "metadata": {},
   "outputs": [],
   "source": [
    "import pandas as pd\n",
    "import numpy as np\n",
    "import matplotlib.pyplot as plt\n",
    "import matplotlib.patheffects as path_effects\n",
    "import seaborn as sns\n",
    "from sklearn.metrics import roc_curve, roc_auc_score, auc, precision_recall_curve\n",
    "from sklearn.model_selection import train_test_split\n",
    "import statsmodels.api as sm\n",
    "from tqdm import tqdm\n",
    "from functools import reduce\n",
    "\n",
    "from src.config import *\n",
    "from src.prediction_functions import *\n",
    "from src.model_creation import *\n"
   ]
  },
  {
   "attachments": {},
   "cell_type": "markdown",
   "metadata": {},
   "source": [
    "# Functions"
   ]
  },
  {
   "cell_type": "code",
   "execution_count": 3,
   "metadata": {},
   "outputs": [],
   "source": [
    "def set_perturabtion_type_values(perturbation, pert_type_lists):\n",
    "    if perturbation in pert_type_lists['compound_list']: perturbation_type = 'cp'\n",
    "    elif perturbation in pert_type_lists['ligand_list']: perturbation_type = 'lig'\n",
    "    elif perturbation in pert_type_lists['receptor_list']: perturbation_type = 'rec'\n",
    "    else: perturbation_type = np.nan\n",
    "    return perturbation_type"
   ]
  },
  {
   "cell_type": "code",
   "execution_count": 4,
   "metadata": {},
   "outputs": [],
   "source": [
    "def determine_type_of_perturbation_of_samples(data_index, data_index_perturbation, pert_type_lists):\n",
    "    pert_types = pd.DataFrame(columns = ['perturbation', 'perturbation_type'], dtype='str')\n",
    "    pert_types['perturbation'] = data_index_perturbation\n",
    "    pert_types['perturbation_type'] = pert_types['perturbation'].apply(lambda x: set_perturabtion_type_values(x, pert_type_lists)) \n",
    "    pert_types.index = data_index\n",
    "    return pert_types"
   ]
  },
  {
   "cell_type": "code",
   "execution_count": 5,
   "metadata": {},
   "outputs": [],
   "source": [
    "def calculate_roc_auc(estimated_activities, true_matrix):\n",
    "    # for every ligand calculate rocauc\n",
    "    rocaucs = {}\n",
    "    for ligand in estimated_activities.columns:\n",
    "        if true_matrix.loc[:, ligand].sum() < 1:\n",
    "            print(ligand, ' not considered')\n",
    "            continue\n",
    "        rocaucs[ligand] = roc_auc_score(y_true = true_matrix.loc[:, ligand], y_score = estimated_activities.loc[:, ligand])\n",
    "    return rocaucs"
   ]
  },
  {
   "cell_type": "code",
   "execution_count": 6,
   "metadata": {},
   "outputs": [],
   "source": [
    "def calculate_roc_auc_sample(estimated_activities, true_matrix):\n",
    "    # for every ligand calculate rocauc\n",
    "    rocaucs = {}\n",
    "    for sample in estimated_activities.index:\n",
    "        if true_matrix.loc[sample, :].sum() < 1:\n",
    "            print(sample, ' not considered')\n",
    "            continue\n",
    "        rocaucs[sample] = roc_auc_score(y_true = true_matrix.loc[sample, :], y_score = estimated_activities.loc[sample, :])\n",
    "    return rocaucs"
   ]
  },
  {
   "cell_type": "code",
   "execution_count": 7,
   "metadata": {},
   "outputs": [],
   "source": [
    "def plot_rocauc_violin(data):\n",
    "    fig, ax = plt.subplots(figsize = (2,5))\n",
    "    sns.violinplot(data = list(data.values()), orient = 'v', palette = 'Pastel1')\n",
    "    plt.xlabel('ROCAUC')\n",
    "    plt.axhline(0.5, color = 'k')\n",
    "    plt.show()"
   ]
  },
  {
   "cell_type": "code",
   "execution_count": 8,
   "metadata": {},
   "outputs": [],
   "source": [
    "def plot_rocauc_boxplot(data):\n",
    "    fig, ax = plt.subplots(figsize = (2,5))\n",
    "    sns.boxplot(data = list(data.values()), orient = 'v', palette = 'Pastel1')\n",
    "    sns.swarmplot(data = list(data.values()), color=\"gray\", alpha = 0.7)\n",
    "\n",
    "    plt.xlabel('ROCAUC')\n",
    "    plt.axhline(0.5, color = 'k')\n",
    "    plt.ylim(-0.05,1.05)\n",
    "    plt.show()"
   ]
  },
  {
   "attachments": {},
   "cell_type": "markdown",
   "metadata": {},
   "source": [
    "# START analysis"
   ]
  },
  {
   "cell_type": "code",
   "execution_count": 9,
   "metadata": {},
   "outputs": [],
   "source": [
    "model_name = 'all'\n",
    "model_type = 'multipl'"
   ]
  },
  {
   "attachments": {},
   "cell_type": "markdown",
   "metadata": {},
   "source": [
    "# Read in data"
   ]
  },
  {
   "cell_type": "code",
   "execution_count": 52,
   "metadata": {},
   "outputs": [],
   "source": [
    "confidence_scores = pd.read_csv(f'results/confidence/receptor_rocauc_mean_confidence_scores.csv', index_col = 0)\n",
    "a_scored_receptors = list(confidence_scores[confidence_scores['Confidence'] == 'A']['Receptor'])\n",
    "b_scored_receptors = list(confidence_scores[confidence_scores['Confidence'] == 'B']['Receptor'])\n",
    "c_scored_receptors = list(confidence_scores[confidence_scores['Confidence'] == 'C']['Receptor'])\n",
    "d_scored_receptors = list(confidence_scores[confidence_scores['Confidence'] == 'D']['Receptor'])\n"
   ]
  },
  {
   "cell_type": "code",
   "execution_count": 10,
   "metadata": {},
   "outputs": [],
   "source": [
    "# read in lincs data - design matrix and signatures"
   ]
  },
  {
   "cell_type": "code",
   "execution_count": 11,
   "metadata": {},
   "outputs": [],
   "source": [
    "lincs_consensus = pd.read_csv(f'data/lincs_consensus/high_quality/lm_all_pert_cell_liana.csv', index_col=0)\n",
    "lincs_design_matrix = pd.read_csv(f'data/design_matrices/high_quality/all_pert_binary_liana.csv', index_col = 0)"
   ]
  },
  {
   "attachments": {},
   "cell_type": "markdown",
   "metadata": {},
   "source": [
    "##### CytoSig"
   ]
  },
  {
   "cell_type": "code",
   "execution_count": 12,
   "metadata": {},
   "outputs": [],
   "source": [
    "# data\n",
    "cytosig_data = pd.read_csv(f'data/cytosig/diff.merge.gz', compression='gzip', sep = '\\t')\n",
    "cytosig_data = cytosig_data.T\n",
    "cytosig_data = cytosig_data.fillna(0)"
   ]
  },
  {
   "cell_type": "code",
   "execution_count": 13,
   "metadata": {},
   "outputs": [],
   "source": [
    "# LINCS data\n",
    "lincs_data = pd.read_csv(f'data/lincs_consensus/high_quality/lm_{model_name}_pert_cell_liana.csv', index_col = 0)\n"
   ]
  },
  {
   "cell_type": "code",
   "execution_count": 14,
   "metadata": {},
   "outputs": [],
   "source": [
    "# LINCS model\n",
    "lincs_model = pd.read_csv(f'data/coefficient_matrix/high_quality/{model_name}_pert_coef_liana.csv', index_col =0)\n",
    "# coeff_train = pd.read_csv(f'data//coefficient_matrix/high_quality/train_totalrandomsplit_pert_coef_liana.csv', index_col = 0)\n",
    "lincs_model = lincs_model.T"
   ]
  },
  {
   "cell_type": "code",
   "execution_count": 62,
   "metadata": {},
   "outputs": [],
   "source": [
    "lincs_model_A = lincs_model.loc[:, a_scored_receptors]\n",
    "lincs_model_B = lincs_model.loc[:, b_scored_receptors]\n",
    "lincs_model_C = lincs_model.loc[:, c_scored_receptors]\n",
    "lincs_model_D = lincs_model.loc[:, d_scored_receptors]"
   ]
  },
  {
   "cell_type": "code",
   "execution_count": 15,
   "metadata": {},
   "outputs": [],
   "source": [
    "lr_associations = pd.read_csv(LIG_REC_DF, index_col = 0)\n",
    "lr_associations = lr_associations[['source_genesymbol', 'target_genesymbol']]"
   ]
  },
  {
   "cell_type": "code",
   "execution_count": 16,
   "metadata": {},
   "outputs": [],
   "source": [
    "compound_info = pd.read_csv('data/filtered_lincs_meta/filtered_coumpound_info_to_receptor_perturbation_signatures_signed.csv', index_col =0)\n",
    "compound_info = compound_info[['cmap_name', 'target', 'sign']].reset_index(drop=True)"
   ]
  },
  {
   "attachments": {},
   "cell_type": "markdown",
   "metadata": {},
   "source": [
    "## Data preparation"
   ]
  },
  {
   "cell_type": "code",
   "execution_count": 17,
   "metadata": {},
   "outputs": [],
   "source": [
    "# Create perturbation metadata series\n",
    "lincs_compounds_list = list(compound_info.cmap_name.unique())\n",
    "lincs_ligand_list = list(lincs_data.index[(lincs_data.reset_index()['index'].str.split('_', expand = True)[2] == 'lig')].str.split('_', expand = True).get_level_values(0).unique())"
   ]
  },
  {
   "cell_type": "code",
   "execution_count": 18,
   "metadata": {},
   "outputs": [],
   "source": [
    "pert_type_lists = {}\n",
    "pert_type_lists['compound_list'] = lincs_compounds_list\n",
    "pert_type_lists['ligand_list'] = list(lr_associations.source_genesymbol) + lincs_ligand_list\n",
    "pert_type_lists['receptor_list'] = list(lr_associations.target_genesymbol)\n"
   ]
  },
  {
   "attachments": {},
   "cell_type": "markdown",
   "metadata": {},
   "source": [
    "# Matching data\n",
    "- translating from ligand to receptor and vica versa"
   ]
  },
  {
   "cell_type": "code",
   "execution_count": 55,
   "metadata": {},
   "outputs": [],
   "source": [
    "additional_mapping = {\n",
    "       'IFNA':'IFNA1', \n",
    "       'IFNB':'IFNB1',\n",
    "       'IFNL':'IFNL1', \n",
    "       'TNFA':'TNF', \n",
    "       'IL12':'IL12B', \n",
    "       'CD40L':'CD40LG', \n",
    "       'GMCSF':'CSF2', \n",
    "       'MCSF':'CSF1',\n",
    "       'IL1':'IL1A', \n",
    "       'TWEAK':'TNFRSF12A',\n",
    "       'TRAIL':'TNFSF10',\n",
    "       'GCSF':'CSF3',\n",
    "       'IL32':'IL32',\n",
    "       'OPGL':'TNFSF11',\n",
    "       'BAFF':'TNFSF13B',\n",
    "       '41BBL':'TNFSF9',\n",
    "       'IL23':'IL23A', \n",
    "       'CXCL4':'PF4',\n",
    "       'Activin A':'INHBA',\n",
    "       'ANGPTL4':'ANGPTL4',\n",
    "       'ANGPTL2':'ANGPTL2',\n",
    "       'PGE2':'PTGES2',\n",
    "       'NO':'NO',\n",
    "       'PDL1':'CD274'\n",
    "}\n",
    "inverse_additional_mapping = {v: k for k, v in additional_mapping.items()}"
   ]
  },
  {
   "cell_type": "code",
   "execution_count": 56,
   "metadata": {},
   "outputs": [],
   "source": [
    "# lincs\n",
    "# tmp = lincs_data.index.str.split('_',expand = True).get_level_values(0)\n",
    "# lincs_pert_types = determine_type_of_perturbation_of_samples(lincs_data.index, tmp, pert_type_lists)\n",
    "# cytosig\n",
    "cytosig_pert_types = pd.DataFrame(columns = ['perturbation', 'perturbation_type'], index = cytosig_data.index)\n",
    "cytosig_pert_types['perturbation_type'] = 'lig'\n",
    "cytosig_pert_types['perturbation'] = cytosig_pert_types.index.str.split('@', expand = True).get_level_values(0).str.split('&', expand = True).get_level_values(0)\n",
    "cytosig_pert_types['signed_interactions_lig'] = cytosig_pert_types.apply(lambda x: {x['perturbation']:1}, axis =1)\n",
    "cytosig_pert_types['perturbation_gs'] = cytosig_pert_types.perturbation.map(lambda x: additional_mapping[x] if x in additional_mapping else x)\n",
    "cytosig_pert_types['signed_interactions_lig_gs'] = cytosig_pert_types.apply(lambda x: {x['perturbation_gs']:1}, axis =1)"
   ]
  },
  {
   "cell_type": "code",
   "execution_count": 57,
   "metadata": {},
   "outputs": [],
   "source": [
    "def get_target_list_cp(sample: pd.Series):\n",
    "    drug = sample.perturbation\n",
    "    target_dict = compound_info[compound_info['cmap_name'] == drug][['target', 'sign']].set_index('target')['sign'].to_dict()\n",
    "    return target_dict\n",
    "\n",
    "def get_target_list_lig(sample: pd.Series):\n",
    "\n",
    "    receptors = list(lr_associations[lr_associations.source_genesymbol == sample.perturbation]['target_genesymbol'])\n",
    "    if len(receptors) == 0:\n",
    "        return np.nan\n",
    "    \n",
    "    # sample name PERT_CELL_PERTTYPE (eg. ACVR1_MCF7_oe)\n",
    "    if (sample.name.split('_')[2] == 'oe'):\n",
    "        target_dict = dict(zip(receptors, [1]*len(receptors)))\n",
    "        return target_dict\n",
    "\n",
    "    # sample name PERT_CELL_PERTTYPE (eg. ACVR1_MCF7_xpr)\n",
    "    if (sample.name.split('_')[2] == 'xpr'):\n",
    "        target_dict = dict(zip(receptors, [-1]*len(receptors)))\n",
    "        return target_dict\n",
    "    \n",
    "    # sample name PERT_CELL_PERTTYPE (eg. ACVR1_MCF7_sh)\n",
    "    if (sample.name.split('_')[2] == 'sh'):\n",
    "        target_dict = dict(zip(receptors, [-1]*len(receptors)))\n",
    "        return target_dict\n",
    "\n",
    "    return np.nan\n",
    "\n",
    "def get_target_list_rec(sample: pd.Series):\n",
    "    # if receptor perturbation and overexpression add receptor to target dictionary with sign 1 \n",
    "    # sample name PERT_CELL_PERTTYPE (eg. RPS19_MCF7_oe)\n",
    "    if (sample.name.split('_')[2] == 'oe'):\n",
    "        target_dict = {sample.perturbation:1}\n",
    "        return target_dict\n",
    "\n",
    "    # sample name PERT_CELL_PERTTYPE (eg. RPS19_MCF7_xpr)\n",
    "    if (sample.name.split('_')[2] == 'xpr'):\n",
    "        target_dict = {sample.perturbation:-1}\n",
    "        return target_dict\n",
    "    \n",
    "    # sample name PERT_CELL_PERTTYPE (eg. RPS19_MCF7_sh)\n",
    "    if (sample.name.split('_')[2] == 'sh'):\n",
    "        target_dict = {sample.perturbation:-1}\n",
    "        return target_dict\n",
    "\n",
    "    return np.nan\n",
    "    \n",
    "def add_target_to_compound_lincs(sample):\n",
    "    # if compoound perturbation add targets to target dictionary\n",
    "    if sample.perturbation_type == 'cp':\n",
    "       return get_target_list_cp(sample)\n",
    "\n",
    "     # if ligand perturbation - fill return with receptor targets of ligands with sign (use lr_associations (LIANA))\n",
    "    if sample.perturbation_type == 'lig':\n",
    "        return get_target_list_lig(sample)\n",
    "            \n",
    "    if sample.perturbation_type == 'rec':\n",
    "        return get_target_list_rec(sample)\n",
    "\n",
    "    return np.nan\n",
    "   "
   ]
  },
  {
   "cell_type": "code",
   "execution_count": 21,
   "metadata": {},
   "outputs": [],
   "source": [
    "# lincs_pert_types['signed_interactions_rec'] = lincs_pert_types.apply(lambda x: add_target_to_compound_lincs(x), axis = 1)\n"
   ]
  },
  {
   "cell_type": "code",
   "execution_count": 58,
   "metadata": {},
   "outputs": [],
   "source": [
    "def filter_nan(dict):\n",
    "  return {key: value for key, value in dict.items() if pd.notna(key) and pd.notna(value)}"
   ]
  },
  {
   "cell_type": "code",
   "execution_count": 59,
   "metadata": {},
   "outputs": [],
   "source": [
    "def fill_signed_interactions_receptor(lig, sign):\n",
    "    receptors = list(lr_associations[lr_associations['source_genesymbol'] == lig].target_genesymbol)\n",
    "    if len(receptors) > 0:\n",
    "        receptors = dict(zip(receptors, [sign]*len(receptors)))\n",
    "        return receptors\n",
    "    else:\n",
    "        return {np.nan: np.nan}"
   ]
  },
  {
   "cell_type": "code",
   "execution_count": 60,
   "metadata": {},
   "outputs": [],
   "source": [
    "def translate_ligand_to_receptor(sample_row):\n",
    "    receptor_dict = dict(map(lambda sample: (sample[0], fill_signed_interactions_receptor(sample[0], sample[1])), sample_row.items()))\n",
    "    flat_receptor_dict = reduce(lambda all, current: {**all, **filter_nan(current)}, receptor_dict.values(), {})\n",
    "    if flat_receptor_dict == {}:\n",
    "        return np.nan\n",
    "    return flat_receptor_dict"
   ]
  },
  {
   "cell_type": "code",
   "execution_count": 61,
   "metadata": {},
   "outputs": [],
   "source": [
    "# def fill_signed_interactions_ligand(rec, sign):\n",
    "#     ligands = list(lr_associations[lr_associations['target_genesymbol'] == rec].source_genesymbol)\n",
    "#     if len(ligands) > 0:\n",
    "#         ligands = dict(zip(ligands, [sign]*len(ligands)))\n",
    "#         return ligands\n",
    "#     else:\n",
    "#         return {np.nan: np.nan}"
   ]
  },
  {
   "cell_type": "code",
   "execution_count": 26,
   "metadata": {},
   "outputs": [],
   "source": [
    "# def translate_receptor_to_ligand(sample_row):\n",
    "#     ligand_dict = dict(map(lambda sample: (sample[0], fill_signed_interactions_ligand(sample[0], sample[1])), sample_row.items()))\n",
    "#     flat_ligand_dict = reduce(lambda all, current: {**all, **filter_nan(current)}, ligand_dict.values(), {})\n",
    "#     if flat_ligand_dict == {}:\n",
    "#         return np.nan\n",
    "#     return flat_ligand_dict"
   ]
  },
  {
   "cell_type": "code",
   "execution_count": 89,
   "metadata": {},
   "outputs": [],
   "source": [
    "cytosig_pert_types['signed_interactions_rec'] = cytosig_pert_types.apply(\\\n",
    "    lambda sample:translate_ligand_to_receptor(sample.signed_interactions_lig_gs), axis = 1)"
   ]
  },
  {
   "cell_type": "code",
   "execution_count": 28,
   "metadata": {},
   "outputs": [],
   "source": [
    "# lincs_pert_types['signed_interactions_lig'] = lincs_pert_types.apply(\\\n",
    "#     lambda sample: translate_receptor_to_ligand(sample.signed_interactions_rec)\\\n",
    "#         if sample.perturbation_type!='lig' else {sample.perturbation:1}, axis = 1)"
   ]
  },
  {
   "cell_type": "code",
   "execution_count": 90,
   "metadata": {},
   "outputs": [],
   "source": [
    "metadata = {}\n",
    "# metadata['lincs'] = lincs_pert_types\n",
    "metadata['cytosig'] = cytosig_pert_types"
   ]
  },
  {
   "attachments": {},
   "cell_type": "markdown",
   "metadata": {},
   "source": [
    "# Prediction"
   ]
  },
  {
   "attachments": {},
   "cell_type": "markdown",
   "metadata": {},
   "source": [
    "# LINCS"
   ]
  },
  {
   "cell_type": "code",
   "execution_count": 63,
   "metadata": {},
   "outputs": [],
   "source": [
    "# results = {}\n",
    "# lincs_A = {}\n",
    "# lincs_B = {}\n",
    "# lincs_C = {}\n",
    "# lincs_D = {}\n",
    "# lincs_all = {}"
   ]
  },
  {
   "cell_type": "code",
   "execution_count": 92,
   "metadata": {},
   "outputs": [],
   "source": [
    "# lincs_A_gs = {}\n",
    "# lincs_B_gs = {}\n",
    "# lincs_C_gs = {}\n",
    "# lincs_D_gs = {}\n",
    "# lincs_all_gs = {}"
   ]
  },
  {
   "cell_type": "code",
   "execution_count": 64,
   "metadata": {},
   "outputs": [],
   "source": [
    "cytokines_A = lr_associations[lr_associations['target_genesymbol'].isin(a_scored_receptors)]['source_genesymbol'].unique()\n",
    "cytokines_B = lr_associations[lr_associations['target_genesymbol'].isin(b_scored_receptors)]['source_genesymbol'].unique()\n",
    "cytokines_C = lr_associations[lr_associations['target_genesymbol'].isin(c_scored_receptors)]['source_genesymbol'].unique()\n",
    "cytokines_D = lr_associations[lr_associations['target_genesymbol'].isin(d_scored_receptors)]['source_genesymbol'].unique()"
   ]
  },
  {
   "cell_type": "code",
   "execution_count": 110,
   "metadata": {},
   "outputs": [],
   "source": [
    "cytokine_signatures_A = metadata['cytosig'][metadata['cytosig']['perturbation_gs'].isin(cytokines_A)].index\n",
    "cytokine_signatures_B = metadata['cytosig'][metadata['cytosig']['perturbation_gs'].isin(cytokines_B)].index\n",
    "cytokine_signatures_C = metadata['cytosig'][metadata['cytosig']['perturbation_gs'].isin(cytokines_C)].index\n",
    "cytokine_signatures_D = metadata['cytosig'][metadata['cytosig']['perturbation_gs'].isin(cytokines_D)].index\n"
   ]
  },
  {
   "cell_type": "code",
   "execution_count": 93,
   "metadata": {},
   "outputs": [
    {
     "name": "stdout",
     "output_type": "stream",
     "text": [
      "Number of samples: 894\n",
      "Number of chunks: 3\n",
      "Number of permutations: 1000\n"
     ]
    },
    {
     "name": "stderr",
     "output_type": "stream",
     "text": [
      "100%|██████████| 3/3 [01:11<00:00, 23.83s/it]\n"
     ]
    },
    {
     "name": "stdout",
     "output_type": "stream",
     "text": [
      "Number of samples: 935\n",
      "Number of chunks: 4\n",
      "Number of permutations: 1000\n"
     ]
    },
    {
     "name": "stderr",
     "output_type": "stream",
     "text": [
      "100%|██████████| 4/4 [01:11<00:00, 17.84s/it]\n"
     ]
    },
    {
     "name": "stdout",
     "output_type": "stream",
     "text": [
      "Number of samples: 817\n",
      "Number of chunks: 3\n",
      "Number of permutations: 1000\n"
     ]
    },
    {
     "name": "stderr",
     "output_type": "stream",
     "text": [
      "100%|██████████| 3/3 [00:57<00:00, 19.05s/it]\n"
     ]
    },
    {
     "name": "stdout",
     "output_type": "stream",
     "text": [
      "Number of samples: 831\n",
      "Number of chunks: 3\n",
      "Number of permutations: 1000\n"
     ]
    },
    {
     "name": "stderr",
     "output_type": "stream",
     "text": [
      "100%|██████████| 3/3 [00:52<00:00, 17.51s/it]\n"
     ]
    },
    {
     "name": "stdout",
     "output_type": "stream",
     "text": [
      "Number of samples: 2056\n",
      "Number of chunks: 7\n",
      "Number of permutations: 1000\n"
     ]
    },
    {
     "name": "stderr",
     "output_type": "stream",
     "text": [
      "100%|██████████| 7/7 [02:19<00:00, 20.00s/it]\n"
     ]
    }
   ],
   "source": [
    "lincs_A_gs['cytosig'] = estimation_with_zscore_calculation_in_chunks(cytosig_data.loc[cytokine_signatures_A], lincs_model_A, number_of_permutation=1000, chunk_size=300)\n",
    "lincs_B_gs['cytosig'] = estimation_with_zscore_calculation_in_chunks(cytosig_data.loc[cytokine_signatures_B], lincs_model_B, number_of_permutation=1000, chunk_size=300)\n",
    "lincs_C_gs['cytosig'] = estimation_with_zscore_calculation_in_chunks(cytosig_data.loc[cytokine_signatures_C], lincs_model_C, number_of_permutation=1000, chunk_size=300)\n",
    "lincs_D_gs['cytosig'] = estimation_with_zscore_calculation_in_chunks(cytosig_data.loc[cytokine_signatures_D], lincs_model_D, number_of_permutation=1000, chunk_size=300)\n",
    "lincs_all_gs['cytosig'] = estimation_with_zscore_calculation_in_chunks(cytosig_data, lincs_model, number_of_permutation=1000, chunk_size=300)\n"
   ]
  },
  {
   "cell_type": "code",
   "execution_count": 67,
   "metadata": {},
   "outputs": [
    {
     "name": "stdout",
     "output_type": "stream",
     "text": [
      "Number of samples: 377\n",
      "Number of chunks: 2\n",
      "Number of permutations: 1000\n"
     ]
    },
    {
     "name": "stderr",
     "output_type": "stream",
     "text": [
      "100%|██████████| 2/2 [00:26<00:00, 13.34s/it]\n"
     ]
    },
    {
     "name": "stdout",
     "output_type": "stream",
     "text": [
      "Number of samples: 649\n",
      "Number of chunks: 3\n",
      "Number of permutations: 1000\n"
     ]
    },
    {
     "name": "stderr",
     "output_type": "stream",
     "text": [
      "100%|██████████| 3/3 [00:41<00:00, 13.75s/it]\n"
     ]
    },
    {
     "name": "stdout",
     "output_type": "stream",
     "text": [
      "Number of samples: 789\n",
      "Number of chunks: 3\n",
      "Number of permutations: 1000\n"
     ]
    },
    {
     "name": "stderr",
     "output_type": "stream",
     "text": [
      "100%|██████████| 3/3 [00:45<00:00, 15.30s/it]\n"
     ]
    },
    {
     "name": "stdout",
     "output_type": "stream",
     "text": [
      "Number of samples: 795\n",
      "Number of chunks: 3\n",
      "Number of permutations: 1000\n"
     ]
    },
    {
     "name": "stderr",
     "output_type": "stream",
     "text": [
      "100%|██████████| 3/3 [00:46<00:00, 15.36s/it]\n"
     ]
    },
    {
     "name": "stdout",
     "output_type": "stream",
     "text": [
      "Number of samples: 2056\n",
      "Number of chunks: 7\n",
      "Number of permutations: 1000\n"
     ]
    },
    {
     "name": "stderr",
     "output_type": "stream",
     "text": [
      "100%|██████████| 7/7 [02:04<00:00, 17.75s/it]\n"
     ]
    }
   ],
   "source": [
    "lincs_A['cytosig'] = estimation_with_zscore_calculation_in_chunks(cytosig_data.loc[cytokine_signatures_A], lincs_model_A, number_of_permutation=1000, chunk_size=300)\n",
    "lincs_B['cytosig'] = estimation_with_zscore_calculation_in_chunks(cytosig_data.loc[cytokine_signatures_B], lincs_model_B, number_of_permutation=1000, chunk_size=300)\n",
    "lincs_C['cytosig'] = estimation_with_zscore_calculation_in_chunks(cytosig_data.loc[cytokine_signatures_C], lincs_model_C, number_of_permutation=1000, chunk_size=300)\n",
    "lincs_D['cytosig'] = estimation_with_zscore_calculation_in_chunks(cytosig_data.loc[cytokine_signatures_D], lincs_model_D, number_of_permutation=1000, chunk_size=300)\n",
    "lincs_all['cytosig'] = estimation_with_zscore_calculation_in_chunks(cytosig_data, lincs_model, number_of_permutation=1000, chunk_size=300)\n"
   ]
  },
  {
   "cell_type": "code",
   "execution_count": 32,
   "metadata": {},
   "outputs": [
    {
     "name": "stdout",
     "output_type": "stream",
     "text": [
      "Number of samples: 2056\n",
      "Number of chunks: 7\n",
      "Number of permutations: 1000\n"
     ]
    },
    {
     "name": "stderr",
     "output_type": "stream",
     "text": [
      "100%|██████████| 7/7 [02:08<00:00, 18.35s/it]\n"
     ]
    }
   ],
   "source": [
    "# if model_type == 'multipl':\n",
    "    # lincs['cytosig'] = estimation_with_zscore_calculation_in_chunks(cytosig_data, lincs_model, number_of_permutation=1000, chunk_size=300)\n",
    "    # lincs['lincs'] = estimation_with_zscore_calculation_in_chunks(test_consensus, coeff_train, number_of_permutation=1000, chunk_size=300)"
   ]
  },
  {
   "cell_type": "code",
   "execution_count": 33,
   "metadata": {},
   "outputs": [],
   "source": [
    "# lincs['cytosig'] = pd.read_csv('data/cytosig/lincs_predict_cytosig.csv', index_col = 0)"
   ]
  },
  {
   "cell_type": "code",
   "execution_count": 68,
   "metadata": {},
   "outputs": [],
   "source": [
    "results['lincs_A'] = lincs_A\n",
    "results['lincs_B'] = lincs_B\n",
    "results['lincs_C'] = lincs_C\n",
    "results['lincs_D'] = lincs_D\n",
    "results['lincs_all'] = lincs_all"
   ]
  },
  {
   "cell_type": "code",
   "execution_count": 94,
   "metadata": {},
   "outputs": [],
   "source": [
    "results['lincs_A_gs'] = lincs_A_gs\n",
    "results['lincs_B_gs'] = lincs_B_gs\n",
    "results['lincs_C_gs'] = lincs_C_gs\n",
    "results['lincs_D_gs'] = lincs_D_gs\n",
    "results['lincs_all_gs'] = lincs_all_gs"
   ]
  },
  {
   "attachments": {},
   "cell_type": "markdown",
   "metadata": {},
   "source": [
    "# CytoSig"
   ]
  },
  {
   "cell_type": "code",
   "execution_count": null,
   "metadata": {},
   "outputs": [],
   "source": [
    "# results['cytosig'] = cytosig"
   ]
  },
  {
   "attachments": {},
   "cell_type": "markdown",
   "metadata": {},
   "source": [
    "# Create true matrices for ROCAUC analysis"
   ]
  },
  {
   "cell_type": "code",
   "execution_count": 35,
   "metadata": {},
   "outputs": [],
   "source": [
    "def fill_tm(sample_row, perturbation_info, feature_pert_type):\n",
    "    sample_row  = pd.Series(index = sample_row.index, name = sample_row.name, dtype = 'int')\n",
    "    sample_id = sample_row.name\n",
    "\n",
    "    perturbation_dict = perturbation_info.loc[sample_id, str('signed_interactions_'+feature_pert_type)]\n",
    "    if pd.notna(perturbation_dict):\n",
    "        for pert in perturbation_dict.keys():\n",
    "            if pert in sample_row.index:\n",
    "                sample_row.loc[pert] = perturbation_dict[pert]\n",
    "    sample_row = sample_row.fillna(0)\n",
    "    return sample_row"
   ]
  },
  {
   "cell_type": "code",
   "execution_count": 70,
   "metadata": {},
   "outputs": [],
   "source": [
    "def create_true_matrices(prediction_results:dict, model:str, feature_pert_type:str, metadata:dict, signature_filter:list):\n",
    "    print('Create true matrix for predictions of model: ', model)\n",
    "    truem = {}\n",
    "    for prediction in prediction_results[model]:\n",
    "        print(prediction, end = ', ')\n",
    "        perturbation_info = metadata[prediction].loc[signature_filter]\n",
    "        data = prediction_results[model][prediction].copy()\n",
    "        truem[prediction] = data.apply(lambda sample: fill_tm(sample, perturbation_info, feature_pert_type), axis = 1)\n",
    "    print('done')\n",
    "    return truem\n",
    "    "
   ]
  },
  {
   "cell_type": "code",
   "execution_count": 71,
   "metadata": {},
   "outputs": [],
   "source": [
    "# true_matrices = {}\n",
    "# true_matrices['lincs'] = create_true_matrices(prediction_results = results, model = 'lincs',feature_pert_type = 'rec', metadata = metadata)"
   ]
  },
  {
   "cell_type": "code",
   "execution_count": 108,
   "metadata": {},
   "outputs": [
    {
     "name": "stdout",
     "output_type": "stream",
     "text": [
      "Create true matrix for predictions of model:  lincs_A\n",
      "cytosig, done\n",
      "Create true matrix for predictions of model:  lincs_B\n",
      "cytosig, done\n",
      "Create true matrix for predictions of model:  lincs_C\n",
      "cytosig, done\n",
      "Create true matrix for predictions of model:  lincs_D\n",
      "cytosig, done\n",
      "Create true matrix for predictions of model:  lincs_all\n",
      "cytosig, done\n"
     ]
    }
   ],
   "source": [
    "true_matrices = {}\n",
    "true_matrices['lincs_A'] = create_true_matrices(prediction_results = results, model = 'lincs_A',feature_pert_type = 'rec', metadata = metadata, signature_filter = list(cytokine_signatures_A))\n",
    "true_matrices['lincs_B'] = create_true_matrices(prediction_results = results, model = 'lincs_B',feature_pert_type = 'rec', metadata = metadata, signature_filter = list(cytokine_signatures_B))\n",
    "true_matrices['lincs_C'] = create_true_matrices(prediction_results = results, model = 'lincs_C',feature_pert_type = 'rec', metadata = metadata, signature_filter = list(cytokine_signatures_C))\n",
    "true_matrices['lincs_D'] = create_true_matrices(prediction_results = results, model = 'lincs_D',feature_pert_type = 'rec', metadata = metadata, signature_filter = list(cytokine_signatures_D))\n",
    "true_matrices['lincs_all'] = create_true_matrices(prediction_results = results, model = 'lincs_all',feature_pert_type = 'rec', metadata = metadata, signature_filter = list(cytosig_data.index))\n"
   ]
  },
  {
   "cell_type": "code",
   "execution_count": 111,
   "metadata": {},
   "outputs": [
    {
     "name": "stdout",
     "output_type": "stream",
     "text": [
      "Create true matrix for predictions of model:  lincs_A_gs\n",
      "cytosig, done\n",
      "Create true matrix for predictions of model:  lincs_B_gs\n",
      "cytosig, done\n",
      "Create true matrix for predictions of model:  lincs_C_gs\n",
      "cytosig, done\n",
      "Create true matrix for predictions of model:  lincs_D_gs\n",
      "cytosig, done\n",
      "Create true matrix for predictions of model:  lincs_all_gs\n",
      "cytosig, done\n"
     ]
    }
   ],
   "source": [
    "true_matrices['lincs_A_gs'] = create_true_matrices(prediction_results = results, model = 'lincs_A_gs',feature_pert_type = 'rec', metadata = metadata, signature_filter = list(cytokine_signatures_A))\n",
    "true_matrices['lincs_B_gs'] = create_true_matrices(prediction_results = results, model = 'lincs_B_gs',feature_pert_type = 'rec', metadata = metadata, signature_filter = list(cytokine_signatures_B))\n",
    "true_matrices['lincs_C_gs'] = create_true_matrices(prediction_results = results, model = 'lincs_C_gs',feature_pert_type = 'rec', metadata = metadata, signature_filter = list(cytokine_signatures_C))\n",
    "true_matrices['lincs_D_gs'] = create_true_matrices(prediction_results = results, model = 'lincs_D_gs',feature_pert_type = 'rec', metadata = metadata, signature_filter = list(cytokine_signatures_D))\n",
    "true_matrices['lincs_all_gs'] = create_true_matrices(prediction_results = results, model = 'lincs_all_gs',feature_pert_type = 'rec', metadata = metadata, signature_filter = list(cytosig_data.index))\n"
   ]
  },
  {
   "cell_type": "code",
   "execution_count": 73,
   "metadata": {},
   "outputs": [],
   "source": [
    "# results['cytosig']['lincs'] = results['cytosig']['lincs'].loc[metadata['lincs'].index]"
   ]
  },
  {
   "cell_type": "code",
   "execution_count": 74,
   "metadata": {},
   "outputs": [],
   "source": [
    "# true_matrices['cytosig'] = create_true_matrices(prediction_results = results, model = 'cytosig',feature_pert_type = 'lig', metadata = metadata)"
   ]
  },
  {
   "attachments": {},
   "cell_type": "markdown",
   "metadata": {},
   "source": [
    "# Evaluation"
   ]
  },
  {
   "cell_type": "code",
   "execution_count": 75,
   "metadata": {},
   "outputs": [],
   "source": [
    "def dropna_and_match(base, match):\n",
    "    base2 = base.dropna(how = 'all')\n",
    "    match2 = match.loc[base2.index]\n",
    "    return base2, match2\n"
   ]
  },
  {
   "cell_type": "code",
   "execution_count": 76,
   "metadata": {},
   "outputs": [],
   "source": [
    "def calculate_roc_auc(estimated_activities, true_matrix, printoutput= False):\n",
    "\n",
    "    estimated_activities_matched, true_matrix_matched = dropna_and_match(estimated_activities, true_matrix)\n",
    "    \n",
    "    rocaucs = {}\n",
    "    for ligand in estimated_activities_matched.columns:\n",
    "        if true_matrix_matched.loc[:, ligand].sum() < 1:\n",
    "            if printoutput: print(ligand, ' not considered')\n",
    "            continue\n",
    "        rocaucs[ligand] = roc_auc_score(y_true = true_matrix_matched.loc[:, ligand], y_score = estimated_activities_matched.loc[:, ligand])\n",
    "    return rocaucs"
   ]
  },
  {
   "cell_type": "code",
   "execution_count": 77,
   "metadata": {},
   "outputs": [],
   "source": [
    "def evaluate_with_signature_sign_change_if_inhibitory(activities, binary, printoutput = False, metric = 'ROC'):\n",
    "\n",
    "    estimated_activities_matched, true_matrix_matched = dropna_and_match(activities, binary)\n",
    "\n",
    "    print('Evaluation - calculate', metric, 'curves')\n",
    "    receptors = list(set(activities.columns) & set(binary.columns))\n",
    "    binary.index  = binary.index.astype('str')\n",
    "    filtered_activities  = activities.loc[binary.index, receptors]\n",
    "    filtered_binary = binary.loc[filtered_activities.index,receptors]\n",
    "    \n",
    "\n",
    "    metric_results = dict()\n",
    "    for receptor in filtered_binary.columns:\n",
    "        sign_changed_activities = filtered_activities.copy()\n",
    "        sign_changed_binary = filtered_binary.copy()\n",
    "    \n",
    "        inhibitory_samples = filtered_binary.loc[(filtered_binary.loc[:, receptor] == -1).values].index\n",
    "        sign_changed_activities.loc[inhibitory_samples] = sign_changed_activities.loc[inhibitory_samples] * (-1)\n",
    "        sign_changed_binary.loc[inhibitory_samples, receptor] = 1\n",
    "        # filter out receptors that are not perturbed in any of the experiments\n",
    "        if sign_changed_binary.loc[:, receptor].sum() == 0:\n",
    "            continue\n",
    "        if metric == 'ROC':\n",
    "            # rate1: fpr, rate2: tpr\n",
    "            fpr, tpr, _ = roc_curve(y_true = sign_changed_binary.loc[:, receptor], y_score = sign_changed_activities.loc[:, receptor])\n",
    "            metric_results[receptor] = auc(fpr, tpr)\n",
    "\n",
    "        elif metric == 'PR':\n",
    "            # rate1: precision, rate2: recall\n",
    "            prec, recall, _ = precision_recall_curve(y_true = sign_changed_binary.loc[:, receptor], probas_pred = sign_changed_activities.loc[:, receptor])\n",
    "            metric_results[receptor] = auc(prec, recall)\n",
    "\n",
    "        else:\n",
    "            raise \"No such metric.\"\n",
    "\n",
    "    return metric_results"
   ]
  },
  {
   "cell_type": "code",
   "execution_count": 112,
   "metadata": {},
   "outputs": [
    {
     "name": "stdout",
     "output_type": "stream",
     "text": [
      "--> Model: lincs_A\n",
      "Dataset: cytosig\tEvaluation - calculate ROC curves\n",
      "--> Model: lincs_B\n",
      "Dataset: cytosig\tEvaluation - calculate ROC curves\n",
      "--> Model: lincs_C\n",
      "Dataset: cytosig\tEvaluation - calculate ROC curves\n",
      "--> Model: lincs_D\n",
      "Dataset: cytosig\tEvaluation - calculate ROC curves\n",
      "--> Model: lincs_all\n",
      "Dataset: cytosig\tEvaluation - calculate ROC curves\n",
      "--> Model: lincs_A_gs\n",
      "Dataset: cytosig\tEvaluation - calculate ROC curves\n",
      "--> Model: lincs_B_gs\n",
      "Dataset: cytosig\tEvaluation - calculate ROC curves\n",
      "--> Model: lincs_C_gs\n",
      "Dataset: cytosig\tEvaluation - calculate ROC curves\n",
      "--> Model: lincs_D_gs\n",
      "Dataset: cytosig\tEvaluation - calculate ROC curves\n",
      "--> Model: lincs_all_gs\n",
      "Dataset: cytosig\tEvaluation - calculate ROC curves\n",
      "Done\n"
     ]
    }
   ],
   "source": [
    "rocaucs = {}\n",
    "for model in results:\n",
    "    print('--> Model:', model)\n",
    "    dataset_rocaucs = {}\n",
    "    for dataset in results[model]:\n",
    "        print('Dataset:', dataset, end = '\\t')\n",
    "        dataset_rocaucs[dataset] = evaluate_with_signature_sign_change_if_inhibitory(results[model][dataset], true_matrices[model][dataset], metric = 'ROC', printoutput = False)\n",
    "\n",
    "    rocaucs[model] = dataset_rocaucs\n",
    "print('Done')"
   ]
  },
  {
   "attachments": {},
   "cell_type": "markdown",
   "metadata": {},
   "source": [
    "# Plot"
   ]
  },
  {
   "cell_type": "code",
   "execution_count": 113,
   "metadata": {},
   "outputs": [],
   "source": [
    "def create_table_to_plot(rocaucs):\n",
    "    res_df = pd.DataFrame(columns= ['model', 'dataset', 'auc'])\n",
    "    for model in rocaucs:\n",
    "        for dataset in rocaucs[model]:\n",
    "            dataset_rocaucs = pd.DataFrame(columns= res_df.columns)\n",
    "            dataset_rocaucs.auc = list(rocaucs[model][dataset].values())\n",
    "            dataset_rocaucs.model = model\n",
    "            dataset_rocaucs.dataset = dataset\n",
    "            res_df = pd.concat([res_df, dataset_rocaucs])\n",
    "    return res_df"
   ]
  },
  {
   "cell_type": "code",
   "execution_count": 114,
   "metadata": {},
   "outputs": [],
   "source": [
    "def add_median_labels(ax, fmt='.2f'):\n",
    "    lines = ax.get_lines()\n",
    "    boxes = [c for c in ax.get_children() if type(c).__name__ == 'PathPatch']\n",
    "    lines_per_box = int(len(lines) / len(boxes))\n",
    "    for median in lines[4:len(lines):lines_per_box]:\n",
    "        x, y = (data.mean() for data in median.get_data())\n",
    "        # choose value depending on horizontal or vertical plot orientation\n",
    "        value = x if (median.get_xdata()[1] - median.get_xdata()[0]) == 0 else y\n",
    "        text = ax.text(x, y, f'{value:{fmt}}', ha='center', va='center',\n",
    "                       fontweight='bold', color='white')\n",
    "        # create median-colored border around white text for contrast\n",
    "        text.set_path_effects([\n",
    "            path_effects.Stroke(linewidth=3, foreground=median.get_color()),\n",
    "            path_effects.Normal(),\n",
    "        ])"
   ]
  },
  {
   "cell_type": "code",
   "execution_count": 119,
   "metadata": {},
   "outputs": [],
   "source": [
    "def plot_results(results:pd.DataFrame, evaluation_metric = 'ROCAUC', save = False, filename = ''):\n",
    "    fig, ax = plt.subplots(figsize = (5, 5), facecolor='white')\n",
    "    boxp = sns.boxplot(data = results, x = 'model', y = 'auc', hue = 'dataset', palette = 'Blues_r') # hue = 'dataset'\n",
    "    scp = sns.stripplot(data = results, x = 'model', y = 'auc', hue = 'dataset', color = 'k', alpha = 0.3, dodge = True) # hue = 'dataset\n",
    "    add_median_labels(boxp)\n",
    "    plt.axhline(0.5, color= 'k')\n",
    "    # plt.legend(loc='center left', bbox_to_anchor=(1, 0.5))\n",
    "    plt.ylabel(evaluation_metric, fontsize = 16)\n",
    "    plt.xlabel('Model', fontsize = 16)\n",
    "    plt.xticks(rotation = 90)\n",
    "    ax.tick_params(axis='both', which='major', labelsize=14)\n",
    "    # show only bixplot legend\n",
    "    handles, labels = ax.get_legend_handles_labels()\n",
    "    length = len(results.dataset.unique())\n",
    "    l = plt.legend(handles[0:length], labels[0:length], loc = 'upper left', title = 'dataset')\n",
    "    if save:\n",
    "        if filename=='': raise \"No filename was given.\"\n",
    "        # plt.savefig(f'{FIGURES_DIR}model_summary/cytosig/{filename}.png', dpi = 200, bbox_inches = 'tight', transparent = False)\n",
    "        plt.savefig(f'{FIGURES_DIR}/model_summary/cytosig/{filename}.pdf', bbox_inches = 'tight', transparent = True)\n"
   ]
  },
  {
   "cell_type": "code",
   "execution_count": 116,
   "metadata": {},
   "outputs": [],
   "source": [
    "rocaucs_dataframe = create_table_to_plot(rocaucs)"
   ]
  },
  {
   "cell_type": "code",
   "execution_count": 83,
   "metadata": {},
   "outputs": [],
   "source": [
    "# rocaucs_dataframe.to_csv(f'results/benchmark/cytosig_lincs_rocauc.csv')"
   ]
  },
  {
   "cell_type": "code",
   "execution_count": 117,
   "metadata": {},
   "outputs": [
    {
     "data": {
      "text/html": [
       "<div>\n",
       "<style scoped>\n",
       "    .dataframe tbody tr th:only-of-type {\n",
       "        vertical-align: middle;\n",
       "    }\n",
       "\n",
       "    .dataframe tbody tr th {\n",
       "        vertical-align: top;\n",
       "    }\n",
       "\n",
       "    .dataframe thead th {\n",
       "        text-align: right;\n",
       "    }\n",
       "</style>\n",
       "<table border=\"1\" class=\"dataframe\">\n",
       "  <thead>\n",
       "    <tr style=\"text-align: right;\">\n",
       "      <th></th>\n",
       "      <th></th>\n",
       "      <th>auc</th>\n",
       "    </tr>\n",
       "    <tr>\n",
       "      <th>model</th>\n",
       "      <th>dataset</th>\n",
       "      <th></th>\n",
       "    </tr>\n",
       "  </thead>\n",
       "  <tbody>\n",
       "    <tr>\n",
       "      <th>lincs_B</th>\n",
       "      <th>cytosig</th>\n",
       "      <td>0.664207</td>\n",
       "    </tr>\n",
       "    <tr>\n",
       "      <th>lincs_C</th>\n",
       "      <th>cytosig</th>\n",
       "      <td>0.638325</td>\n",
       "    </tr>\n",
       "    <tr>\n",
       "      <th>lincs_C_gs</th>\n",
       "      <th>cytosig</th>\n",
       "      <td>0.605521</td>\n",
       "    </tr>\n",
       "    <tr>\n",
       "      <th>lincs_all</th>\n",
       "      <th>cytosig</th>\n",
       "      <td>0.600187</td>\n",
       "    </tr>\n",
       "    <tr>\n",
       "      <th>lincs_all_gs</th>\n",
       "      <th>cytosig</th>\n",
       "      <td>0.600187</td>\n",
       "    </tr>\n",
       "    <tr>\n",
       "      <th>lincs_B_gs</th>\n",
       "      <th>cytosig</th>\n",
       "      <td>0.596264</td>\n",
       "    </tr>\n",
       "    <tr>\n",
       "      <th>lincs_D_gs</th>\n",
       "      <th>cytosig</th>\n",
       "      <td>0.591111</td>\n",
       "    </tr>\n",
       "    <tr>\n",
       "      <th>lincs_D</th>\n",
       "      <th>cytosig</th>\n",
       "      <td>0.590199</td>\n",
       "    </tr>\n",
       "    <tr>\n",
       "      <th>lincs_A_gs</th>\n",
       "      <th>cytosig</th>\n",
       "      <td>0.471006</td>\n",
       "    </tr>\n",
       "    <tr>\n",
       "      <th>lincs_A</th>\n",
       "      <th>cytosig</th>\n",
       "      <td>0.442273</td>\n",
       "    </tr>\n",
       "  </tbody>\n",
       "</table>\n",
       "</div>"
      ],
      "text/plain": [
       "                           auc\n",
       "model        dataset          \n",
       "lincs_B      cytosig  0.664207\n",
       "lincs_C      cytosig  0.638325\n",
       "lincs_C_gs   cytosig  0.605521\n",
       "lincs_all    cytosig  0.600187\n",
       "lincs_all_gs cytosig  0.600187\n",
       "lincs_B_gs   cytosig  0.596264\n",
       "lincs_D_gs   cytosig  0.591111\n",
       "lincs_D      cytosig  0.590199\n",
       "lincs_A_gs   cytosig  0.471006\n",
       "lincs_A      cytosig  0.442273"
      ]
     },
     "execution_count": 117,
     "metadata": {},
     "output_type": "execute_result"
    }
   ],
   "source": [
    "table = rocaucs_dataframe.groupby(by=['model', 'dataset']).median().sort_values(by='auc', ascending = False)\n",
    "table"
   ]
  },
  {
   "cell_type": "code",
   "execution_count": 84,
   "metadata": {},
   "outputs": [
    {
     "data": {
      "text/html": [
       "<div>\n",
       "<style scoped>\n",
       "    .dataframe tbody tr th:only-of-type {\n",
       "        vertical-align: middle;\n",
       "    }\n",
       "\n",
       "    .dataframe tbody tr th {\n",
       "        vertical-align: top;\n",
       "    }\n",
       "\n",
       "    .dataframe thead th {\n",
       "        text-align: right;\n",
       "    }\n",
       "</style>\n",
       "<table border=\"1\" class=\"dataframe\">\n",
       "  <thead>\n",
       "    <tr style=\"text-align: right;\">\n",
       "      <th></th>\n",
       "      <th></th>\n",
       "      <th>auc</th>\n",
       "    </tr>\n",
       "    <tr>\n",
       "      <th>model</th>\n",
       "      <th>dataset</th>\n",
       "      <th></th>\n",
       "    </tr>\n",
       "  </thead>\n",
       "  <tbody>\n",
       "    <tr>\n",
       "      <th>lincs_B</th>\n",
       "      <th>cytosig</th>\n",
       "      <td>0.664207</td>\n",
       "    </tr>\n",
       "    <tr>\n",
       "      <th>lincs_C</th>\n",
       "      <th>cytosig</th>\n",
       "      <td>0.638325</td>\n",
       "    </tr>\n",
       "    <tr>\n",
       "      <th>lincs_all</th>\n",
       "      <th>cytosig</th>\n",
       "      <td>0.603171</td>\n",
       "    </tr>\n",
       "    <tr>\n",
       "      <th>lincs_D</th>\n",
       "      <th>cytosig</th>\n",
       "      <td>0.590199</td>\n",
       "    </tr>\n",
       "    <tr>\n",
       "      <th>lincs_A</th>\n",
       "      <th>cytosig</th>\n",
       "      <td>0.442273</td>\n",
       "    </tr>\n",
       "  </tbody>\n",
       "</table>\n",
       "</div>"
      ],
      "text/plain": [
       "                        auc\n",
       "model     dataset          \n",
       "lincs_B   cytosig  0.664207\n",
       "lincs_C   cytosig  0.638325\n",
       "lincs_all cytosig  0.603171\n",
       "lincs_D   cytosig  0.590199\n",
       "lincs_A   cytosig  0.442273"
      ]
     },
     "execution_count": 84,
     "metadata": {},
     "output_type": "execute_result"
    }
   ],
   "source": [
    "table = rocaucs_dataframe.groupby(by=['model', 'dataset']).median().sort_values(by='auc', ascending = False)\n",
    "table"
   ]
  },
  {
   "cell_type": "code",
   "execution_count": 1,
   "metadata": {},
   "outputs": [
    {
     "ename": "NameError",
     "evalue": "name 'plot_results' is not defined",
     "output_type": "error",
     "traceback": [
      "\u001b[0;31m---------------------------------------------------------------------------\u001b[0m",
      "\u001b[0;31mNameError\u001b[0m                                 Traceback (most recent call last)",
      "\u001b[1;32m/Users/basvaat/projects/receptor_activity_inference/notebooks/qc/confidence_score/benchmark_rocaucs_cytosig_copy.ipynb Cell 74\u001b[0m line \u001b[0;36m<cell line: 1>\u001b[0;34m()\u001b[0m\n\u001b[0;32m----> <a href='vscode-notebook-cell:/Users/basvaat/projects/receptor_activity_inference/notebooks/qc/confidence_score/benchmark_rocaucs_cytosig_copy.ipynb#Y133sZmlsZQ%3D%3D?line=0'>1</a>\u001b[0m plot_results(rocaucs_dataframe, evaluation_metric \u001b[39m=\u001b[39m \u001b[39m'\u001b[39m\u001b[39mROCAUC\u001b[39m\u001b[39m'\u001b[39m, save \u001b[39m=\u001b[39m \u001b[39mFalse\u001b[39;00m, filename \u001b[39m=\u001b[39m \u001b[39mf\u001b[39m\u001b[39m'\u001b[39m\u001b[39mcytosig_ROCAUC_comparison_blue\u001b[39m\u001b[39m'\u001b[39m)\n",
      "\u001b[0;31mNameError\u001b[0m: name 'plot_results' is not defined"
     ]
    }
   ],
   "source": [
    "plot_results(rocaucs_dataframe, evaluation_metric = 'ROCAUC', save = False, filename = f'cytosig_ROCAUC_comparison_blue')"
   ]
  },
  {
   "cell_type": "code",
   "execution_count": null,
   "metadata": {},
   "outputs": [],
   "source": []
  }
 ],
 "metadata": {
  "kernelspec": {
   "display_name": "ccc_py39",
   "language": "python",
   "name": "python3"
  },
  "language_info": {
   "codemirror_mode": {
    "name": "ipython",
    "version": 3
   },
   "file_extension": ".py",
   "mimetype": "text/x-python",
   "name": "python",
   "nbconvert_exporter": "python",
   "pygments_lexer": "ipython3",
   "version": "3.9.13"
  },
  "orig_nbformat": 4
 },
 "nbformat": 4,
 "nbformat_minor": 2
}
