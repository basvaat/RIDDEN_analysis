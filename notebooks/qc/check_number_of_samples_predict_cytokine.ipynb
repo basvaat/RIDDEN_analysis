{
 "cells": [
  {
   "cell_type": "code",
   "execution_count": 21,
   "metadata": {},
   "outputs": [],
   "source": [
    "import pandas as pd\n",
    "import numpy as np"
   ]
  },
  {
   "cell_type": "code",
   "execution_count": 22,
   "metadata": {},
   "outputs": [],
   "source": [
    "from src.config import *\n",
    "import matplotlib.pyplot as plt\n",
    "import seaborn as sns\n"
   ]
  },
  {
   "cell_type": "code",
   "execution_count": 23,
   "metadata": {},
   "outputs": [],
   "source": [
    "lincs_consensus = pd.read_csv(f'data/lincs_consensus/high_quality/lm_all_pert_cell_liana.csv', index_col=0)\n",
    "lincs_design_matrix = pd.read_csv(f'data/design_matrices/high_quality/all_pert_binary_liana.csv', index_col = 0)\n"
   ]
  },
  {
   "cell_type": "code",
   "execution_count": 25,
   "metadata": {},
   "outputs": [],
   "source": [
    "confidence_scores = pd.read_csv(f'results/confidence/receptor_rocauc_mean_confidence_scores_s0_229.csv', index_col = 0)"
   ]
  },
  {
   "cell_type": "code",
   "execution_count": null,
   "metadata": {},
   "outputs": [],
   "source": [
    "lr_associations = pd.read_csv(LIG_REC_DF, index_col = 0)\n",
    "lr_associations = lr_associations[['source_genesymbol', 'target_genesymbol']]"
   ]
  },
  {
   "cell_type": "code",
   "execution_count": 59,
   "metadata": {},
   "outputs": [],
   "source": [
    "conf_rocauc_cytosig = pd.read_csv('results/benchmark/cytosig_lincs_rocauc_confidence.csv', index_col =0)"
   ]
  },
  {
   "cell_type": "code",
   "execution_count": 52,
   "metadata": {},
   "outputs": [],
   "source": [
    "temp = pd.concat([lincs_design_matrix.abs().sum().sort_values(), confidence_scores.set_index('Receptor')['ROCAUC']], axis = 1)\n",
    "temp.columns = ['Number_of_sigs', 'ROCAUC']"
   ]
  },
  {
   "cell_type": "code",
   "execution_count": 53,
   "metadata": {},
   "outputs": [
    {
     "data": {
      "text/html": [
       "<div>\n",
       "<style scoped>\n",
       "    .dataframe tbody tr th:only-of-type {\n",
       "        vertical-align: middle;\n",
       "    }\n",
       "\n",
       "    .dataframe tbody tr th {\n",
       "        vertical-align: top;\n",
       "    }\n",
       "\n",
       "    .dataframe thead th {\n",
       "        text-align: right;\n",
       "    }\n",
       "</style>\n",
       "<table border=\"1\" class=\"dataframe\">\n",
       "  <thead>\n",
       "    <tr style=\"text-align: right;\">\n",
       "      <th></th>\n",
       "      <th>Number_of_sigs</th>\n",
       "      <th>ROCAUC</th>\n",
       "      <th>number_of_associated_ligands</th>\n",
       "    </tr>\n",
       "  </thead>\n",
       "  <tbody>\n",
       "    <tr>\n",
       "      <th>CD27</th>\n",
       "      <td>7</td>\n",
       "      <td>0.850172</td>\n",
       "      <td>1</td>\n",
       "    </tr>\n",
       "    <tr>\n",
       "      <th>FSHR</th>\n",
       "      <td>12</td>\n",
       "      <td>0.774299</td>\n",
       "      <td>2</td>\n",
       "    </tr>\n",
       "    <tr>\n",
       "      <th>APLNR</th>\n",
       "      <td>17</td>\n",
       "      <td>0.858800</td>\n",
       "      <td>2</td>\n",
       "    </tr>\n",
       "    <tr>\n",
       "      <th>UTS2R</th>\n",
       "      <td>17</td>\n",
       "      <td>0.843013</td>\n",
       "      <td>2</td>\n",
       "    </tr>\n",
       "    <tr>\n",
       "      <th>LPAR4</th>\n",
       "      <td>18</td>\n",
       "      <td>0.701761</td>\n",
       "      <td>1</td>\n",
       "    </tr>\n",
       "  </tbody>\n",
       "</table>\n",
       "</div>"
      ],
      "text/plain": [
       "       Number_of_sigs    ROCAUC  number_of_associated_ligands\n",
       "CD27                7  0.850172                             1\n",
       "FSHR               12  0.774299                             2\n",
       "APLNR              17  0.858800                             2\n",
       "UTS2R              17  0.843013                             2\n",
       "LPAR4              18  0.701761                             1"
      ]
     },
     "execution_count": 53,
     "metadata": {},
     "output_type": "execute_result"
    }
   ],
   "source": [
    "temp = temp.merge(lr_associations.groupby('target_genesymbol').count().sort_values(by = 'source_genesymbol')\n",
    ", left_index = True, right_index = True, how = 'left')\n",
    "temp = temp.rename(columns = {'source_genesymbol':'number_of_associated_ligands'})\n",
    "temp.head()"
   ]
  },
  {
   "cell_type": "code",
   "execution_count": 138,
   "metadata": {},
   "outputs": [
    {
     "data": {
      "text/html": [
       "<div>\n",
       "<style scoped>\n",
       "    .dataframe tbody tr th:only-of-type {\n",
       "        vertical-align: middle;\n",
       "    }\n",
       "\n",
       "    .dataframe tbody tr th {\n",
       "        vertical-align: top;\n",
       "    }\n",
       "\n",
       "    .dataframe thead th {\n",
       "        text-align: right;\n",
       "    }\n",
       "</style>\n",
       "<table border=\"1\" class=\"dataframe\">\n",
       "  <thead>\n",
       "    <tr style=\"text-align: right;\">\n",
       "      <th></th>\n",
       "      <th>Number_of_sigs</th>\n",
       "      <th>ROCAUC</th>\n",
       "      <th>number_of_associated_ligands</th>\n",
       "    </tr>\n",
       "  </thead>\n",
       "  <tbody>\n",
       "    <tr>\n",
       "      <th>EGFR</th>\n",
       "      <td>1648</td>\n",
       "      <td>0.641483</td>\n",
       "      <td>16</td>\n",
       "    </tr>\n",
       "    <tr>\n",
       "      <th>KIT</th>\n",
       "      <td>1475</td>\n",
       "      <td>0.619873</td>\n",
       "      <td>1</td>\n",
       "    </tr>\n",
       "    <tr>\n",
       "      <th>PDGFRB</th>\n",
       "      <td>1206</td>\n",
       "      <td>0.639428</td>\n",
       "      <td>4</td>\n",
       "    </tr>\n",
       "    <tr>\n",
       "      <th>KDR</th>\n",
       "      <td>1101</td>\n",
       "      <td>0.534518</td>\n",
       "      <td>6</td>\n",
       "    </tr>\n",
       "    <tr>\n",
       "      <th>FLT1</th>\n",
       "      <td>852</td>\n",
       "      <td>0.655659</td>\n",
       "      <td>6</td>\n",
       "    </tr>\n",
       "    <tr>\n",
       "      <th>FLT3</th>\n",
       "      <td>851</td>\n",
       "      <td>0.463797</td>\n",
       "      <td>1</td>\n",
       "    </tr>\n",
       "    <tr>\n",
       "      <th>HTR2C</th>\n",
       "      <td>820</td>\n",
       "      <td>0.601188</td>\n",
       "      <td>1</td>\n",
       "    </tr>\n",
       "    <tr>\n",
       "      <th>PDGFRA</th>\n",
       "      <td>804</td>\n",
       "      <td>0.581644</td>\n",
       "      <td>4</td>\n",
       "    </tr>\n",
       "    <tr>\n",
       "      <th>AR</th>\n",
       "      <td>738</td>\n",
       "      <td>0.591460</td>\n",
       "      <td>1</td>\n",
       "    </tr>\n",
       "    <tr>\n",
       "      <th>ERBB2</th>\n",
       "      <td>737</td>\n",
       "      <td>0.742131</td>\n",
       "      <td>4</td>\n",
       "    </tr>\n",
       "  </tbody>\n",
       "</table>\n",
       "</div>"
      ],
      "text/plain": [
       "        Number_of_sigs    ROCAUC  number_of_associated_ligands\n",
       "EGFR              1648  0.641483                            16\n",
       "KIT               1475  0.619873                             1\n",
       "PDGFRB            1206  0.639428                             4\n",
       "KDR               1101  0.534518                             6\n",
       "FLT1               852  0.655659                             6\n",
       "FLT3               851  0.463797                             1\n",
       "HTR2C              820  0.601188                             1\n",
       "PDGFRA             804  0.581644                             4\n",
       "AR                 738  0.591460                             1\n",
       "ERBB2              737  0.742131                             4"
      ]
     },
     "execution_count": 138,
     "metadata": {},
     "output_type": "execute_result"
    }
   ],
   "source": [
    "temp.sort_values(by = 'Number_of_sigs', ascending = False).head(10)"
   ]
  },
  {
   "cell_type": "code",
   "execution_count": 132,
   "metadata": {},
   "outputs": [
    {
     "data": {
      "text/plain": [
       "<AxesSubplot:xlabel='ROCAUC', ylabel='Number_of_sigs'>"
      ]
     },
     "execution_count": 132,
     "metadata": {},
     "output_type": "execute_result"
    },
    {
     "data": {
      "image/png": "[encoded data removed]",
      "text/plain": [
       "<Figure size 432x288 with 1 Axes>"
      ]
     },
     "metadata": {
      "needs_background": "light"
     },
     "output_type": "display_data"
    }
   ],
   "source": [
    "sns.regplot(data = temp, x = 'ROCAUC', y = 'Number_of_sigs')"
   ]
  },
  {
   "cell_type": "code",
   "execution_count": 56,
   "metadata": {},
   "outputs": [],
   "source": [
    "cytosig_data = pd.read_csv(f'data/cytosig/diff.merge.gz', compression='gzip', sep = '\\t')\n",
    "cytosig_data = cytosig_data.T"
   ]
  },
  {
   "cell_type": "code",
   "execution_count": 64,
   "metadata": {},
   "outputs": [],
   "source": [
    "additional_mapping = {\n",
    "       'IFNA':'IFNA1', \n",
    "       'IFNB':'IFNB1',\n",
    "       'IFNL':'IFNL1', \n",
    "       'TNFA':'TNF', \n",
    "       'IL12':'IL12B', \n",
    "       'CD40L':'CD40LG', \n",
    "       'GMCSF':'CSF2', \n",
    "       'MCSF':'CSF1',\n",
    "       'IL1':'IL1A', \n",
    "       'TWEAK':'TNFRSF12A',\n",
    "       'TRAIL':'TNFSF10',\n",
    "       'GCSF':'CSF3',\n",
    "       'IL32':'IL32',\n",
    "       'OPGL':'TNFSF11',\n",
    "       'BAFF':'TNFSF13B',\n",
    "       '41BBL':'TNFSF9',\n",
    "       'IL23':'IL23A', \n",
    "       'CXCL4':'PF4',\n",
    "       'Activin A':'INHBA',\n",
    "       'ANGPTL4':'ANGPTL4',\n",
    "       'ANGPTL2':'ANGPTL2',\n",
    "       'PGE2':'PTGES2',\n",
    "       'NO':'NO',\n",
    "       'PDL1':'CD274'\n",
    "}\n",
    "inverse_additional_mapping = {v: k for k, v in additional_mapping.items()}"
   ]
  },
  {
   "cell_type": "code",
   "execution_count": 67,
   "metadata": {},
   "outputs": [],
   "source": [
    "# get the gene symbol of cytosig cytokines\n",
    "cytosig_cytokines = pd.DataFrame(index = cytosig_data.index, columns = ['cytokines'])\n",
    "cytosig_cytokines['cytokines'] = cytosig_data.index.str.split('@', expand = True).get_level_values(0).str.split('&', expand = True).get_level_values(0)\n",
    "cytosig_cytokines['cytokine_genesymbol'] = cytosig_cytokines['cytokines'].map(additional_mapping).fillna(cytosig_cytokines['cytokines'])"
   ]
  },
  {
   "cell_type": "code",
   "execution_count": 98,
   "metadata": {},
   "outputs": [],
   "source": [
    "number_of_signatures_receptor_cytosig = {}\n",
    "i = 0\n",
    "a_receptors = conf_rocauc_cytosig[conf_rocauc_cytosig['ConfidenceLevel'] != 'all'].sort_values(by = 'ROC AUC')\n",
    "for rec in a_receptors.index:\n",
    "    ligandsofrec = lr_associations[lr_associations['target_genesymbol'] == rec]\n",
    "    for lig in ligandsofrec.source_genesymbol:\n",
    "        cytosig_cytokines_lig = cytosig_cytokines[cytosig_cytokines['cytokine_genesymbol'] ==lig]\n",
    "        cytosig_cytokines_lig = {'receptor':rec, 'ligand':lig, 'number_of_sigs':len(cytosig_cytokines_lig)}\n",
    "        number_of_signatures_receptor_cytosig[i] = cytosig_cytokines_lig\n",
    "        i = i+1\n",
    "number_of_signatures_receptor_cytosig = pd.DataFrame(number_of_signatures_receptor_cytosig).T"
   ]
  },
  {
   "cell_type": "code",
   "execution_count": 99,
   "metadata": {},
   "outputs": [],
   "source": [
    "number_of_signatures_receptor_cytosig_sum = number_of_signatures_receptor_cytosig.groupby('receptor')[['number_of_sigs']].sum()"
   ]
  },
  {
   "cell_type": "code",
   "execution_count": 100,
   "metadata": {},
   "outputs": [],
   "source": [
    "a_receptors2 = a_receptors.merge(number_of_signatures_receptor_cytosig_sum, left_index = True, right_index=True, how = 'left')"
   ]
  },
  {
   "cell_type": "code",
   "execution_count": 115,
   "metadata": {},
   "outputs": [],
   "source": [
    "a_receptors2['ROC AUC'] = a_receptors2['ROC AUC'].astype(float)"
   ]
  },
  {
   "cell_type": "code",
   "execution_count": 126,
   "metadata": {},
   "outputs": [
    {
     "data": {
      "text/plain": [
       "<AxesSubplot:xlabel='ConfidenceLevel', ylabel='number_of_sigs'>"
      ]
     },
     "execution_count": 126,
     "metadata": {},
     "output_type": "execute_result"
    },
    {
     "data": {
      "image/png": "[encoded data removed]",
      "text/plain": [
       "<Figure size 432x288 with 1 Axes>"
      ]
     },
     "metadata": {
      "needs_background": "light"
     },
     "output_type": "display_data"
    }
   ],
   "source": [
    "sns.boxplot(data = a_receptors2.sort_values(by = 'ConfidenceLevel'), y= 'number_of_sigs', x = 'ConfidenceLevel',color = 'white')\n",
    "sns.stripplot(data = a_receptors2.sort_values(by = 'ConfidenceLevel'), y= 'number_of_sigs', x = 'ConfidenceLevel')"
   ]
  },
  {
   "cell_type": "code",
   "execution_count": 113,
   "metadata": {},
   "outputs": [
    {
     "data": {
      "text/plain": [
       "<matplotlib.lines.Line2D at 0x132190190>"
      ]
     },
     "execution_count": 113,
     "metadata": {},
     "output_type": "execute_result"
    },
    {
     "data": {
      "image/png": "[encoded data removed]",
      "text/plain": [
       "<Figure size 432x288 with 1 Axes>"
      ]
     },
     "metadata": {
      "needs_background": "light"
     },
     "output_type": "display_data"
    }
   ],
   "source": [
    "sns.regplot(data = a_receptors2, x = 'ROC AUC', y = 'number_of_sigs', scatter = False)\n",
    "sns.scatterplot(data = a_receptors2, x = 'ROC AUC', y = 'number_of_sigs', hue = 'ConfidenceLevel', palette = 'Set1')\n",
    "\n",
    "plt.ylim(-10, 280)\n",
    "plt.axhline(0)"
   ]
  },
  {
   "cell_type": "code",
   "execution_count": 70,
   "metadata": {},
   "outputs": [
    {
     "data": {
      "text/html": [
       "<div>\n",
       "<style scoped>\n",
       "    .dataframe tbody tr th:only-of-type {\n",
       "        vertical-align: middle;\n",
       "    }\n",
       "\n",
       "    .dataframe tbody tr th {\n",
       "        vertical-align: top;\n",
       "    }\n",
       "\n",
       "    .dataframe thead th {\n",
       "        text-align: right;\n",
       "    }\n",
       "</style>\n",
       "<table border=\"1\" class=\"dataframe\">\n",
       "  <thead>\n",
       "    <tr style=\"text-align: right;\">\n",
       "      <th></th>\n",
       "      <th>source_genesymbol</th>\n",
       "      <th>target_genesymbol</th>\n",
       "    </tr>\n",
       "  </thead>\n",
       "  <tbody>\n",
       "    <tr>\n",
       "      <th>606</th>\n",
       "      <td>CD40LG</td>\n",
       "      <td>CD40</td>\n",
       "    </tr>\n",
       "    <tr>\n",
       "      <th>1413</th>\n",
       "      <td>LTB</td>\n",
       "      <td>CD40</td>\n",
       "    </tr>\n",
       "  </tbody>\n",
       "</table>\n",
       "</div>"
      ],
      "text/plain": [
       "     source_genesymbol target_genesymbol\n",
       "606             CD40LG              CD40\n",
       "1413               LTB              CD40"
      ]
     },
     "execution_count": 70,
     "metadata": {},
     "output_type": "execute_result"
    }
   ],
   "source": [
    "lr_associations[lr_associations['target_genesymbol'] == 'CD40']"
   ]
  },
  {
   "cell_type": "code",
   "execution_count": null,
   "metadata": {},
   "outputs": [],
   "source": []
  }
 ],
 "metadata": {
  "kernelspec": {
   "display_name": "ccc_py39",
   "language": "python",
   "name": "python3"
  },
  "language_info": {
   "codemirror_mode": {
    "name": "ipython",
    "version": 3
   },
   "file_extension": ".py",
   "mimetype": "text/x-python",
   "name": "python",
   "nbconvert_exporter": "python",
   "pygments_lexer": "ipython3",
   "version": "3.9.13"
  }
 },
 "nbformat": 4,
 "nbformat_minor": 2
}
