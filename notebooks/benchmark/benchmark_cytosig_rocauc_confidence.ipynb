{
 "cells": [
  {
   "cell_type": "code",
   "execution_count": 48,
   "metadata": {},
   "outputs": [
    {
     "name": "stdout",
     "output_type": "stream",
     "text": [
      "The autoreload extension is already loaded. To reload it, use:\n",
      "  %reload_ext autoreload\n"
     ]
    }
   ],
   "source": [
    "%load_ext autoreload\n",
    "%autoreload 2"
   ]
  },
  {
   "cell_type": "code",
   "execution_count": 49,
   "metadata": {},
   "outputs": [],
   "source": [
    "import pandas as pd\n",
    "import numpy as np\n",
    "from glob import glob\n",
    "from tqdm import tqdm\n",
    "from src.config import *\n",
    "from src.prediction_functions import *\n",
    "from sklearn.metrics import roc_auc_score, roc_curve, auc\n",
    "import seaborn as sns\n",
    "import matplotlib.pyplot as plt\n",
    "import matplotlib.patheffects as path_effects\n",
    "from src.prediction_functions.MatrixMultiplicationMemoryEffectiveChunks import estimate_receptor_activity\n"
   ]
  },
  {
   "cell_type": "markdown",
   "metadata": {},
   "source": [
    "# Read in data"
   ]
  },
  {
   "cell_type": "code",
   "execution_count": 50,
   "metadata": {},
   "outputs": [],
   "source": [
    "confidence_scores = pd.read_csv(f'results/confidence/receptor_rocauc_mean_confidence_scores_229_mwup_withna.csv', index_col = 0)"
   ]
  },
  {
   "cell_type": "code",
   "execution_count": 51,
   "metadata": {},
   "outputs": [],
   "source": [
    "confidence_metric = 'mwu_pvalue'# 'ROCAUC'"
   ]
  },
  {
   "cell_type": "code",
   "execution_count": 52,
   "metadata": {},
   "outputs": [],
   "source": [
    "lincs_model = pd.read_csv(f'data/coefficient_matrix/high_quality/all_pert_coef_liana.csv', index_col =0)\n",
    "lincs_model = lincs_model.T"
   ]
  },
  {
   "cell_type": "code",
   "execution_count": 53,
   "metadata": {},
   "outputs": [
    {
     "data": {
      "text/plain": [
       "(978, 229)"
      ]
     },
     "execution_count": 53,
     "metadata": {},
     "output_type": "execute_result"
    }
   ],
   "source": [
    "lincs_model.shape"
   ]
  },
  {
   "cell_type": "code",
   "execution_count": 54,
   "metadata": {},
   "outputs": [],
   "source": [
    "lr_associations = pd.read_csv(LIG_REC_DF, index_col = 0)\n",
    "lr_associations = lr_associations[['source_genesymbol', 'target_genesymbol']]\n",
    "lr_associations_receptor = lr_associations[lr_associations['target_genesymbol'].isin(lincs_model.columns)]"
   ]
  },
  {
   "cell_type": "code",
   "execution_count": 55,
   "metadata": {},
   "outputs": [],
   "source": [
    "cytosig_data = pd.read_csv(f'data/cytosig/diff.merge.gz', compression='gzip', sep = '\\t')\n",
    "cytosig_data = cytosig_data.T"
   ]
  },
  {
   "cell_type": "code",
   "execution_count": 56,
   "metadata": {},
   "outputs": [
    {
     "name": "stderr",
     "output_type": "stream",
     "text": [
      "/var/folders/ld/gy00m33j1pn81v2x1sj_h3pm0000gn/T/ipykernel_46684/3224514197.py:1: FutureWarning: Passing a set as an indexer is deprecated and will raise in a future version. Use a list instead.\n",
      "  cytosig_data = cytosig_data[set(lincs_model.index) & set(cytosig_data.columns)]\n"
     ]
    }
   ],
   "source": [
    "cytosig_data = cytosig_data[set(lincs_model.index) & set(cytosig_data.columns)]"
   ]
  },
  {
   "cell_type": "code",
   "execution_count": 57,
   "metadata": {},
   "outputs": [],
   "source": [
    "additional_mapping = {\n",
    "       'IFNA':'IFNA1', \n",
    "       'IFNB':'IFNB1',\n",
    "       'IFNL':'IFNL1', \n",
    "       'TNFA':'TNF', \n",
    "       'IL12':'IL12B', \n",
    "       'CD40L':'CD40LG', \n",
    "       'GMCSF':'CSF2', \n",
    "       'MCSF':'CSF1',\n",
    "       'IL1':'IL1A', \n",
    "       'TWEAK':'TNFRSF12A',\n",
    "       'TRAIL':'TNFSF10',\n",
    "       'GCSF':'CSF3',\n",
    "       'IL32':'IL32',\n",
    "       'OPGL':'TNFSF11',\n",
    "       'BAFF':'TNFSF13B',\n",
    "       '41BBL':'TNFSF9',\n",
    "       'IL23':'IL23A', \n",
    "       'CXCL4':'PF4',\n",
    "       'Activin A':'INHBA',\n",
    "       'ANGPTL4':'ANGPTL4',\n",
    "       'ANGPTL2':'ANGPTL2',\n",
    "       'PGE2':'PTGES2',\n",
    "       'NO':'NO',\n",
    "       'PDL1':'CD274'\n",
    "}\n",
    "inverse_additional_mapping = {v: k for k, v in additional_mapping.items()}"
   ]
  },
  {
   "cell_type": "code",
   "execution_count": 58,
   "metadata": {},
   "outputs": [],
   "source": [
    "a_scored_receptors = list(confidence_scores[confidence_scores['Confidence'] == 'A']['Receptor'])\n",
    "b_scored_receptors = list(confidence_scores[confidence_scores['Confidence'] == 'B']['Receptor'])\n",
    "c_scored_receptors = list(confidence_scores[confidence_scores['Confidence'] == 'C']['Receptor'])\n",
    "d_scored_receptors = list(confidence_scores[confidence_scores['Confidence'] == 'D']['Receptor'])\n",
    "e_scored_receptors = list(confidence_scores[confidence_scores['Confidence'] == 'E']['Receptor'])"
   ]
  },
  {
   "cell_type": "code",
   "execution_count": 59,
   "metadata": {},
   "outputs": [],
   "source": [
    "lincs = {}"
   ]
  },
  {
   "cell_type": "code",
   "execution_count": 60,
   "metadata": {},
   "outputs": [],
   "source": [
    "# get the gene symbol of cytosig cytokines\n",
    "cytosig_cytokines = pd.DataFrame(index = cytosig_data.index, columns = ['cytokines'])\n",
    "cytosig_cytokines['cytokines'] = cytosig_data.index.str.split('@', expand = True).get_level_values(0).str.split('&', expand = True).get_level_values(0)\n",
    "cytosig_cytokines['cytokine_genesymbol'] = cytosig_cytokines['cytokines'].map(additional_mapping).fillna(cytosig_cytokines['cytokines'])"
   ]
  },
  {
   "cell_type": "code",
   "execution_count": 61,
   "metadata": {},
   "outputs": [],
   "source": [
    "number_of_signatures_receptor_cytosig = {}\n",
    "i = 0\n",
    "receptors = lincs_model.columns\n",
    "for rec in receptors:\n",
    "    ligandsofrec = lr_associations[lr_associations['target_genesymbol'] == rec]\n",
    "    for lig in ligandsofrec.source_genesymbol:\n",
    "        cytosig_cytokines_lig = cytosig_cytokines[cytosig_cytokines['cytokine_genesymbol'] ==lig]\n",
    "        cytosig_cytokines_lig = {'receptor':rec, 'ligand':lig, 'number_of_sigs':len(cytosig_cytokines_lig)}\n",
    "        number_of_signatures_receptor_cytosig[i] = cytosig_cytokines_lig\n",
    "        i = i+1\n",
    "number_of_signatures_receptor_cytosig = pd.DataFrame(number_of_signatures_receptor_cytosig).T\n",
    "number_of_signatures_receptor_cytosig_sum = number_of_signatures_receptor_cytosig.groupby('receptor')[['number_of_sigs']].sum()"
   ]
  },
  {
   "cell_type": "code",
   "execution_count": 62,
   "metadata": {},
   "outputs": [],
   "source": [
    "full_cytokine_mapping = cytosig_cytokines.drop_duplicates().set_index('cytokines')['cytokine_genesymbol'].to_dict()\n",
    "inverse_full_cytokine_mapping = {v: k for k, v in full_cytokine_mapping.items()}"
   ]
  },
  {
   "cell_type": "markdown",
   "metadata": {},
   "source": [
    "# Prediction"
   ]
  },
  {
   "cell_type": "code",
   "execution_count": 63,
   "metadata": {},
   "outputs": [
    {
     "data": {
      "text/plain": [
       "True"
      ]
     },
     "execution_count": 63,
     "metadata": {},
     "output_type": "execute_result"
    }
   ],
   "source": [
    "cytosig_data.isna().any().any()"
   ]
  },
  {
   "cell_type": "code",
   "execution_count": 64,
   "metadata": {},
   "outputs": [
    {
     "name": "stdout",
     "output_type": "stream",
     "text": [
      "Number of samples: 2056\n",
      "Number of chunks: 7\n",
      "Number of permutations: 100\n"
     ]
    },
    {
     "name": "stderr",
     "output_type": "stream",
     "text": [
      "100%|██████████| 7/7 [00:03<00:00,  1.90it/s]\n"
     ]
    }
   ],
   "source": [
    "lincs['all'] = estimate_receptor_activity(cytosig_data, lincs_model, number_of_permutations=100, chunk_size=300)"
   ]
  },
  {
   "cell_type": "code",
   "execution_count": 65,
   "metadata": {},
   "outputs": [],
   "source": [
    "# lincs['all'].to_csv('results/temp/lincs_cytosig_prediction_filteredsignatures.csv')"
   ]
  },
  {
   "cell_type": "code",
   "execution_count": 66,
   "metadata": {},
   "outputs": [],
   "source": [
    "lincs['A']  = lincs['all'].loc[:, a_scored_receptors]\n",
    "lincs['B']  = lincs['all'].loc[:, b_scored_receptors]\n",
    "lincs['C']  = lincs['all'].loc[:, c_scored_receptors]\n",
    "lincs['D']  = lincs['all'].loc[:, d_scored_receptors]\n",
    "lincs['E']  = lincs['all'].loc[:, e_scored_receptors]"
   ]
  },
  {
   "cell_type": "code",
   "execution_count": 67,
   "metadata": {},
   "outputs": [
    {
     "data": {
      "text/plain": [
       "((2056, 42), (2056, 42), (2056, 42), (2056, 42), (2056, 61))"
      ]
     },
     "execution_count": 67,
     "metadata": {},
     "output_type": "execute_result"
    }
   ],
   "source": [
    "lincs['A'].shape, lincs['B'].shape, lincs['C'].shape, lincs['D'].shape, lincs['E'].shape"
   ]
  },
  {
   "cell_type": "code",
   "execution_count": 68,
   "metadata": {},
   "outputs": [],
   "source": [
    "def calulate_ridden_rocauc(receptor_activity, lr_associations_receptor = lr_associations_receptor):\n",
    "    true_matrix = pd.DataFrame(0, index = receptor_activity.index, columns = receptor_activity.columns)\n",
    "    pair_set = set(zip(lr_associations_receptor['source_genesymbol'], lr_associations_receptor['target_genesymbol']))\n",
    "    for sample in true_matrix.index:\n",
    "        sample_cytokine = sample.split('@')[0].split('&')[0]\n",
    "        if sample_cytokine in inverse_full_cytokine_mapping.keys():\n",
    "            ligand = inverse_full_cytokine_mapping[sample_cytokine]\n",
    "        else:\n",
    "            continue\n",
    "        for receptor in true_matrix.columns:\n",
    "            if (ligand, receptor) in pair_set:\n",
    "                true_matrix.at[sample, receptor] = 1\n",
    "    # true_matrix = true_matrix[true_matrix.sum(1) != 0]\n",
    "    true_matrix = true_matrix[true_matrix.columns[true_matrix.sum() !=0]]\n",
    "    samples = true_matrix.index\n",
    "    receptors = true_matrix.columns\n",
    "    receptor_activity_fil = receptor_activity.loc[samples, receptors]\n",
    "    roc_auc_dict = {}\n",
    "    for receptor in receptor_activity_fil.columns:\n",
    "        true_vector = true_matrix.loc[:, receptor]\n",
    "        values = receptor_activity_fil.loc[:, receptor]\n",
    "        roc_auc_binary = roc_auc_score(true_vector, values)\n",
    "        roc_auc_dict[receptor] = roc_auc_binary\n",
    "    roc_auc_results_lincs = pd.DataFrame.from_dict(roc_auc_dict, orient='index', columns=['ROC AUC'])\n",
    "    return roc_auc_results_lincs"
   ]
  },
  {
   "cell_type": "code",
   "execution_count": 69,
   "metadata": {},
   "outputs": [],
   "source": [
    "rocauc_results = {}\n",
    "true_matrices = {}\n",
    "for conflevel in ['A', 'B', 'C', 'D', 'E', 'all']:\n",
    "    rocauc_results[conflevel] = calulate_ridden_rocauc(lincs[conflevel])"
   ]
  },
  {
   "cell_type": "code",
   "execution_count": 70,
   "metadata": {},
   "outputs": [],
   "source": [
    "def add_median_labels(ax, fmt='.2f'):\n",
    "    lines = ax.get_lines()\n",
    "    boxes = [c for c in ax.get_children() if type(c).__name__ == 'PathPatch']\n",
    "    lines_per_box = int(len(lines) / len(boxes))\n",
    "    for median in lines[4:len(lines):lines_per_box]:\n",
    "        x, y = (data.mean() for data in median.get_data())\n",
    "        # choose value depending on horizontal or vertical plot orientation\n",
    "        value = x if (median.get_xdata()[1] - median.get_xdata()[0]) == 0 else y\n",
    "        text = ax.text(x-0.2, y+0.03, f'{value:{fmt}}', ha='center', va='center',\n",
    "                       fontweight='bold', color='black')"
   ]
  },
  {
   "cell_type": "code",
   "execution_count": 71,
   "metadata": {},
   "outputs": [],
   "source": [
    "rocauc_results_all = pd.concat(rocauc_results).reset_index(level=0).rename(columns={'level_0': 'ConfidenceLevel'})\n"
   ]
  },
  {
   "cell_type": "code",
   "execution_count": 72,
   "metadata": {},
   "outputs": [],
   "source": [
    "rocauc_results_all['ConfidenceLevel'] = rocauc_results_all['ConfidenceLevel'].map({'A':'RIDDEN A', 'B':'RIDDEN B', 'C':'RIDDEN C', 'D':'RIDDEN D','E':'RIDDEN E', 'all':'RIDDEN ALL'})"
   ]
  },
  {
   "cell_type": "code",
   "execution_count": 73,
   "metadata": {},
   "outputs": [],
   "source": [
    "# rocauc_results_all.to_csv('results/benchmark/cytosig_lincs_rocauc_confidence.csv')"
   ]
  },
  {
   "cell_type": "markdown",
   "metadata": {},
   "source": [
    "### CytoSig predict RIDDEN"
   ]
  },
  {
   "cell_type": "code",
   "execution_count": 74,
   "metadata": {},
   "outputs": [],
   "source": [
    "# !python CytoSig_run.py -i data/lincs_consensus/high_quality/inf_pert_cell_liana_transp.csv -o ./results/benchmark/cytosig_prediction_inferred_signature2.Coef"
   ]
  },
  {
   "cell_type": "code",
   "execution_count": 75,
   "metadata": {},
   "outputs": [],
   "source": [
    "cytokine_signalling_activity = pd.read_csv('results/benchmark/cytosig_prediction_inferred_signature2.Coef.Coef', index_col = 0, sep = '\\t' )\n",
    "cytokine_signalling_activity = cytokine_signalling_activity.T"
   ]
  },
  {
   "cell_type": "code",
   "execution_count": 76,
   "metadata": {},
   "outputs": [],
   "source": [
    "lincs_metadata = pd.read_csv('results/benchmark/lincs_translate_to_ligands.csv', index_col = 0)"
   ]
  },
  {
   "cell_type": "code",
   "execution_count": 77,
   "metadata": {},
   "outputs": [],
   "source": [
    "cytokine_signalling_activity = cytokine_signalling_activity.loc[lincs_metadata.index]"
   ]
  },
  {
   "cell_type": "code",
   "execution_count": 78,
   "metadata": {},
   "outputs": [],
   "source": [
    "mapped_columns = cytokine_signalling_activity.columns.map(lambda x: additional_mapping.get(x, x))\n",
    "cytokine_signalling_activity.columns = mapped_columns"
   ]
  },
  {
   "cell_type": "code",
   "execution_count": 79,
   "metadata": {},
   "outputs": [],
   "source": [
    "signed_interactions = lincs_metadata['signed_interactions_lig'].apply(eval).apply(pd.Series)\n",
    "\n",
    "metadata = pd.DataFrame(index=lincs_metadata.index)\n",
    "metadata = metadata.merge(signed_interactions, left_index=True, right_index=True, how='left').fillna(0)"
   ]
  },
  {
   "cell_type": "code",
   "execution_count": 80,
   "metadata": {},
   "outputs": [],
   "source": [
    "common_cytokines = sorted(list(set(cytokine_signalling_activity) & set(metadata.columns)))"
   ]
  },
  {
   "cell_type": "code",
   "execution_count": 81,
   "metadata": {},
   "outputs": [],
   "source": [
    "metadata = metadata[common_cytokines]\n",
    "metadata = metadata[metadata.abs().sum(1)!=0]\n",
    "cytokine_signalling_activity = cytokine_signalling_activity.loc[metadata.index, common_cytokines]"
   ]
  },
  {
   "cell_type": "markdown",
   "metadata": {},
   "source": [
    "### Negative and positive binary"
   ]
  },
  {
   "cell_type": "code",
   "execution_count": 82,
   "metadata": {},
   "outputs": [],
   "source": [
    "def create_negativ_and_positive_binary(metadata):\n",
    "    binary = metadata.copy()\n",
    "    if (binary == -1).any().any() == False:\n",
    "        print('There are only positive perturbations, no negative matrix')\n",
    "        negative_binary = pd.DataFrame()\n",
    "    else:\n",
    "        negative_binary = binary.replace({1:0})\n",
    "        assert set(np.unique(negative_binary.values)) == {-1, 0}\n",
    "        # delete only 0 rows\n",
    "        s = negative_binary.sum() != 0\n",
    "        negative_binary = negative_binary.loc[:, s.values]\n",
    "        # change sign\n",
    "        negative_binary = negative_binary.replace({-1:1})\n",
    "        assert set(np.unique(negative_binary.values)) == {0, 1}\n",
    "\n",
    "    if (binary == 1).any().any() == False:\n",
    "        print('There are only negative perturbations, no positive matrix')\n",
    "        positive_binary = pd.DataFrame()\n",
    "    else: \n",
    "        positive_binary = binary.replace({-1:0})\n",
    "        assert set(np.unique(positive_binary.values)) == {0, 1}\n",
    "        # delete only 0 rows\n",
    "        s = positive_binary.sum() != 0\n",
    "        positive_binary = positive_binary.loc[:, s.values]\n",
    "\n",
    "    return negative_binary, positive_binary"
   ]
  },
  {
   "cell_type": "code",
   "execution_count": 83,
   "metadata": {},
   "outputs": [],
   "source": [
    "def calculate_rocaucs(binary, activities):\n",
    "    receptors = list(set(activities.columns) & set(binary.columns))\n",
    "    filtered_activities  = activities.loc[binary.index, receptors]\n",
    "    filtered_binary = binary.loc[filtered_activities.index,receptors]\n",
    "\n",
    "    fpr = dict()\n",
    "    tpr = dict()\n",
    "    roc_auc = dict()\n",
    "    for receptor in filtered_binary.columns:\n",
    "        roc_auc[receptor] = roc_auc_score(filtered_binary.loc[:, receptor], filtered_activities.loc[:, receptor])\n",
    "    return roc_auc\n"
   ]
  },
  {
   "cell_type": "code",
   "execution_count": 84,
   "metadata": {},
   "outputs": [],
   "source": [
    "negative, positive = create_negativ_and_positive_binary(metadata)"
   ]
  },
  {
   "cell_type": "code",
   "execution_count": 85,
   "metadata": {},
   "outputs": [],
   "source": [
    "rocauc_negative = calculate_rocaucs(negative, cytokine_signalling_activity)\n",
    "rocauc_positive = calculate_rocaucs(positive, cytokine_signalling_activity)"
   ]
  },
  {
   "cell_type": "code",
   "execution_count": 86,
   "metadata": {},
   "outputs": [],
   "source": [
    "rocauc_cytosig = pd.concat([1-pd.Series(rocauc_negative), pd.Series(rocauc_positive)], axis = 1).max(1)"
   ]
  },
  {
   "cell_type": "code",
   "execution_count": 87,
   "metadata": {},
   "outputs": [],
   "source": [
    "rocauc_cytosig = pd.DataFrame(rocauc_cytosig)\n",
    "rocauc_cytosig['ConfidenceLevel'] = 'CytoSig'"
   ]
  },
  {
   "cell_type": "code",
   "execution_count": 88,
   "metadata": {},
   "outputs": [],
   "source": [
    "rocauc_cytosig = rocauc_cytosig.rename(columns = {0:'ROC AUC'})"
   ]
  },
  {
   "cell_type": "code",
   "execution_count": 89,
   "metadata": {},
   "outputs": [],
   "source": [
    "rocauc_results_all2 = pd.concat([rocauc_results_all, rocauc_cytosig])"
   ]
  },
  {
   "cell_type": "code",
   "execution_count": 249,
   "metadata": {},
   "outputs": [],
   "source": [
    "# rocauc_results_all2.to_csv('results/benchmark/cytosig_lincs_rocauc_confidence_max.csv')"
   ]
  },
  {
   "cell_type": "code",
   "execution_count": 92,
   "metadata": {},
   "outputs": [
    {
     "name": "stderr",
     "output_type": "stream",
     "text": [
      "/var/folders/ld/gy00m33j1pn81v2x1sj_h3pm0000gn/T/ipykernel_46684/3679344899.py:4: FutureWarning: \n",
      "\n",
      "Passing `palette` without assigning `hue` is deprecated and will be removed in v0.14.0. Assign the `x` variable to `hue` and set `legend=False` for the same effect.\n",
      "\n",
      "  sns.stripplot(x='ConfidenceLevel', y='ROC AUC', data=rocauc_results_all2, palette = 'Paired')\n"
     ]
    },
    {
     "data": {
      "image/png": "[encoded data removed]",
      "text/plain": [
       "<Figure size 720x432 with 1 Axes>"
      ]
     },
     "metadata": {
      "needs_background": "light"
     },
     "output_type": "display_data"
    }
   ],
   "source": [
    "# Plot the boxplot\n",
    "plt.figure(figsize=(10, 6))\n",
    "boxp = sns.boxplot(x='ConfidenceLevel', y='ROC AUC', data=rocauc_results_all2, color = 'white', linewidth=2)\n",
    "sns.stripplot(x='ConfidenceLevel', y='ROC AUC', data=rocauc_results_all2, palette = 'Paired')\n",
    "add_median_labels(boxp)\n",
    "plt.ylabel('ROC AUC')\n",
    "plt.ylim(0, 1)\n",
    "plt.axhline(0.5, color = 'k', linestyle = '--')\n",
    "plt.show()"
   ]
  },
  {
   "cell_type": "code",
   "execution_count": null,
   "metadata": {},
   "outputs": [],
   "source": []
  }
 ],
 "metadata": {
  "kernelspec": {
   "display_name": "ccc_py39",
   "language": "python",
   "name": "python3"
  },
  "language_info": {
   "codemirror_mode": {
    "name": "ipython",
    "version": 3
   },
   "file_extension": ".py",
   "mimetype": "text/x-python",
   "name": "python",
   "nbconvert_exporter": "python",
   "pygments_lexer": "ipython3",
   "version": "3.9.13"
  }
 },
 "nbformat": 4,
 "nbformat_minor": 2
}
