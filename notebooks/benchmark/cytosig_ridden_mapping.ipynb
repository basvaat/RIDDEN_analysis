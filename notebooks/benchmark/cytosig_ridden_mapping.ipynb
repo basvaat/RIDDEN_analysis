{
 "cells": [
  {
   "cell_type": "code",
   "execution_count": 1,
   "metadata": {},
   "outputs": [],
   "source": [
    "%load_ext autoreload\n",
    "%autoreload 2\n"
   ]
  },
  {
   "cell_type": "code",
   "execution_count": 2,
   "metadata": {},
   "outputs": [],
   "source": [
    "import pandas as pd\n",
    "import numpy as np\n",
    "import matplotlib.pyplot as plt\n",
    "import matplotlib.patheffects as path_effects\n",
    "import seaborn as sns\n",
    "from sklearn.metrics import roc_curve, roc_auc_score, auc, precision_recall_curve\n",
    "from sklearn.model_selection import train_test_split\n",
    "import statsmodels.api as sm\n",
    "from tqdm import tqdm\n",
    "from functools import reduce\n",
    "\n",
    "from src.config import *\n",
    "from src.prediction_functions import *\n",
    "from src.model_creation import *\n"
   ]
  },
  {
   "attachments": {},
   "cell_type": "markdown",
   "metadata": {},
   "source": [
    "# Functions"
   ]
  },
  {
   "cell_type": "code",
   "execution_count": 3,
   "metadata": {},
   "outputs": [],
   "source": [
    "def set_perturabtion_type_values(perturbation, pert_type_lists):\n",
    "    if perturbation in pert_type_lists['compound_list']: perturbation_type = 'cp'\n",
    "    elif perturbation in pert_type_lists['ligand_list']: perturbation_type = 'lig'\n",
    "    elif perturbation in pert_type_lists['receptor_list']: perturbation_type = 'rec'\n",
    "    else: perturbation_type = np.nan\n",
    "    return perturbation_type"
   ]
  },
  {
   "cell_type": "code",
   "execution_count": 4,
   "metadata": {},
   "outputs": [],
   "source": [
    "def determine_type_of_perturbation_of_samples(data_index, data_index_perturbation, pert_type_lists):\n",
    "    pert_types = pd.DataFrame(columns = ['perturbation', 'perturbation_type'], dtype='str')\n",
    "    pert_types['perturbation'] = data_index_perturbation\n",
    "    pert_types['perturbation_type'] = pert_types['perturbation'].apply(lambda x: set_perturabtion_type_values(x, pert_type_lists)) \n",
    "    pert_types.index = data_index\n",
    "    return pert_types"
   ]
  },
  {
   "attachments": {},
   "cell_type": "markdown",
   "metadata": {},
   "source": [
    "# Read in data"
   ]
  },
  {
   "cell_type": "markdown",
   "metadata": {},
   "source": [
    "##### RIDDEN"
   ]
  },
  {
   "cell_type": "code",
   "execution_count": 5,
   "metadata": {},
   "outputs": [],
   "source": [
    "lincs_data = pd.read_csv(f'data/lincs_consensus/high_quality/lm_all_pert_cell_liana.csv', index_col = 0)\n",
    "lincs_design_matrix = pd.read_csv(f'data/design_matrices/high_quality/all_pert_binary_liana.csv', index_col = 0)"
   ]
  },
  {
   "attachments": {},
   "cell_type": "markdown",
   "metadata": {},
   "source": [
    "##### CytoSig"
   ]
  },
  {
   "cell_type": "code",
   "execution_count": 6,
   "metadata": {},
   "outputs": [],
   "source": [
    "# data\n",
    "cytosig_data = pd.read_csv(f'data/cytosig/diff.merge.gz', compression='gzip', sep = '\\t')\n",
    "cytosig_data = cytosig_data.T\n",
    "cytosig_data = cytosig_data.fillna(0)"
   ]
  },
  {
   "cell_type": "code",
   "execution_count": 7,
   "metadata": {},
   "outputs": [],
   "source": [
    "# predictions\n",
    "# cacluate cytosig on lincs inferred genes consensus\n",
    "# Created by running CytoSig_run.py -i input.csv -o output_filename\n",
    "cytosig = {}\n",
    "cytosig_lincs = pd.read_table(f'results/benchmark/cytosig_prediction_inferred_signature.Coef', sep = '\\t')\n",
    "cytosig['lincs'] = cytosig_lincs.T"
   ]
  },
  {
   "cell_type": "code",
   "execution_count": 8,
   "metadata": {},
   "outputs": [],
   "source": [
    "lr_associations = pd.read_csv(LIG_REC_DF, index_col = 0)\n",
    "lr_associations = lr_associations[['source_genesymbol', 'target_genesymbol']]"
   ]
  },
  {
   "cell_type": "code",
   "execution_count": 9,
   "metadata": {},
   "outputs": [],
   "source": [
    "compound_info = pd.read_csv('data/filtered_lincs_meta/filtered_coumpound_info_to_receptor_perturbation_signatures_signed.csv', index_col =0)\n",
    "compound_info = compound_info[['cmap_name', 'target', 'sign']].reset_index(drop=True)"
   ]
  },
  {
   "attachments": {},
   "cell_type": "markdown",
   "metadata": {},
   "source": [
    "## Data preparation"
   ]
  },
  {
   "cell_type": "code",
   "execution_count": 10,
   "metadata": {},
   "outputs": [],
   "source": [
    "# Create perturbation metadata series\n",
    "lincs_compounds_list = list(compound_info.cmap_name.unique())\n",
    "lincs_ligand_list = list(lincs_data.index[(lincs_data.reset_index()['index'].str.split('_', expand = True)[2] == 'lig')].str.split('_', expand = True).get_level_values(0).unique())"
   ]
  },
  {
   "cell_type": "code",
   "execution_count": 11,
   "metadata": {},
   "outputs": [],
   "source": [
    "pert_type_lists = {}\n",
    "pert_type_lists['compound_list'] = lincs_compounds_list\n",
    "pert_type_lists['ligand_list'] = list(lr_associations.source_genesymbol) + lincs_ligand_list\n",
    "pert_type_lists['receptor_list'] = list(lr_associations.target_genesymbol)\n"
   ]
  },
  {
   "attachments": {},
   "cell_type": "markdown",
   "metadata": {},
   "source": [
    "# Matching data\n",
    "- translating from ligand to receptor and vica versa"
   ]
  },
  {
   "cell_type": "code",
   "execution_count": 12,
   "metadata": {},
   "outputs": [],
   "source": [
    "# lincs\n",
    "tmp = lincs_data.index.str.split('_',expand = True).get_level_values(0)\n",
    "lincs_pert_types = determine_type_of_perturbation_of_samples(lincs_data.index, tmp, pert_type_lists)"
   ]
  },
  {
   "cell_type": "code",
   "execution_count": 13,
   "metadata": {},
   "outputs": [],
   "source": [
    "def get_target_list_cp(sample: pd.Series):\n",
    "    drug = sample.perturbation\n",
    "    target_dict = compound_info[compound_info['cmap_name'] == drug][['target', 'sign']].set_index('target')['sign'].to_dict()\n",
    "    return target_dict\n",
    "\n",
    "def get_target_list_lig(sample: pd.Series):\n",
    "\n",
    "    receptors = list(lr_associations[lr_associations.source_genesymbol == sample.perturbation]['target_genesymbol'])\n",
    "    if len(receptors) == 0:\n",
    "        return np.nan\n",
    "    \n",
    "    # sample name PERT_CELL_PERTTYPE (eg. ACVR1_MCF7_oe)\n",
    "    if (sample.name.split('_')[2] == 'oe'):\n",
    "        target_dict = dict(zip(receptors, [1]*len(receptors)))\n",
    "        return target_dict\n",
    "\n",
    "    # sample name PERT_CELL_PERTTYPE (eg. ACVR1_MCF7_xpr)\n",
    "    if (sample.name.split('_')[2] == 'xpr'):\n",
    "        target_dict = dict(zip(receptors, [-1]*len(receptors)))\n",
    "        return target_dict\n",
    "    \n",
    "    # sample name PERT_CELL_PERTTYPE (eg. ACVR1_MCF7_sh)\n",
    "    if (sample.name.split('_')[2] == 'sh'):\n",
    "        target_dict = dict(zip(receptors, [-1]*len(receptors)))\n",
    "        return target_dict\n",
    "\n",
    "    return np.nan\n",
    "\n",
    "def get_target_list_rec(sample: pd.Series):\n",
    "    # if receptor perturbation and overexpression add receptor to target dictionary with sign 1 \n",
    "    # sample name PERT_CELL_PERTTYPE (eg. RPS19_MCF7_oe)\n",
    "    if (sample.name.split('_')[2] == 'oe'):\n",
    "        target_dict = {sample.perturbation:1}\n",
    "        return target_dict\n",
    "\n",
    "    # sample name PERT_CELL_PERTTYPE (eg. RPS19_MCF7_xpr)\n",
    "    if (sample.name.split('_')[2] == 'xpr'):\n",
    "        target_dict = {sample.perturbation:-1}\n",
    "        return target_dict\n",
    "    \n",
    "    # sample name PERT_CELL_PERTTYPE (eg. RPS19_MCF7_sh)\n",
    "    if (sample.name.split('_')[2] == 'sh'):\n",
    "        target_dict = {sample.perturbation:-1}\n",
    "        return target_dict\n",
    "\n",
    "    return np.nan\n",
    "    \n",
    "def add_target_to_compound_lincs(sample):\n",
    "    # if compoound perturbation add targets to target dictionary\n",
    "    if sample.perturbation_type == 'cp':\n",
    "       return get_target_list_cp(sample)\n",
    "\n",
    "     # if ligand perturbation - fill return with receptor targets of ligands with sign (use lr_associations (LIANA))\n",
    "    if sample.perturbation_type == 'lig':\n",
    "        return get_target_list_lig(sample)\n",
    "            \n",
    "    if sample.perturbation_type == 'rec':\n",
    "        return get_target_list_rec(sample)\n",
    "\n",
    "    return np.nan\n",
    "   "
   ]
  },
  {
   "cell_type": "code",
   "execution_count": 14,
   "metadata": {},
   "outputs": [],
   "source": [
    "lincs_pert_types['signed_interactions_rec'] = lincs_pert_types.apply(lambda x: add_target_to_compound_lincs(x), axis = 1)\n"
   ]
  },
  {
   "cell_type": "code",
   "execution_count": 15,
   "metadata": {},
   "outputs": [],
   "source": [
    "def filter_nan(dict):\n",
    "  return {key: value for key, value in dict.items() if pd.notna(key) and pd.notna(value)}"
   ]
  },
  {
   "cell_type": "code",
   "execution_count": 21,
   "metadata": {},
   "outputs": [],
   "source": [
    "def fill_signed_interactions_ligand(rec, sign):\n",
    "    ligands = list(lr_associations[lr_associations['target_genesymbol'] == rec].source_genesymbol)\n",
    "    if len(ligands) > 0:\n",
    "        ligands = dict(zip(ligands, [sign]*len(ligands)))\n",
    "        return ligands\n",
    "    else:\n",
    "        return {np.nan: np.nan}"
   ]
  },
  {
   "cell_type": "code",
   "execution_count": 22,
   "metadata": {},
   "outputs": [],
   "source": [
    "def translate_receptor_to_ligand(sample_row):\n",
    "    ligand_dict = dict(map(lambda sample: (sample[0], fill_signed_interactions_ligand(sample[0], sample[1])), sample_row.items()))\n",
    "    flat_ligand_dict = reduce(lambda all, current: {**all, **filter_nan(current)}, ligand_dict.values(), {})\n",
    "    if flat_ligand_dict == {}:\n",
    "        return np.nan\n",
    "    return flat_ligand_dict"
   ]
  },
  {
   "cell_type": "code",
   "execution_count": 27,
   "metadata": {},
   "outputs": [],
   "source": [
    "lincs_pert_types['signed_interactions_lig'] = lincs_pert_types.apply(\\\n",
    "    lambda sample: translate_receptor_to_ligand(sample.signed_interactions_rec)\\\n",
    "        if sample.perturbation_type!='lig' else {sample.perturbation:1}, axis = 1)"
   ]
  },
  {
   "cell_type": "code",
   "execution_count": 39,
   "metadata": {},
   "outputs": [],
   "source": [
    "lincs_pert_types.to_csv('results/benchmark/lincs_translate_to_ligands.csv')"
   ]
  },
  {
   "cell_type": "code",
   "execution_count": null,
   "metadata": {},
   "outputs": [],
   "source": []
  }
 ],
 "metadata": {
  "kernelspec": {
   "display_name": "ccc_py39",
   "language": "python",
   "name": "python3"
  },
  "language_info": {
   "codemirror_mode": {
    "name": "ipython",
    "version": 3
   },
   "file_extension": ".py",
   "mimetype": "text/x-python",
   "name": "python",
   "nbconvert_exporter": "python",
   "pygments_lexer": "ipython3",
   "version": "3.9.13"
  },
  "orig_nbformat": 4
 },
 "nbformat": 4,
 "nbformat_minor": 2
}
