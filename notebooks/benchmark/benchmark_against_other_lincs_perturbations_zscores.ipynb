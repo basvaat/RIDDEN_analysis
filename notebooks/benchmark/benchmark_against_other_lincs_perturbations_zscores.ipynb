{
 "cells": [
  {
   "cell_type": "code",
   "execution_count": 1,
   "metadata": {},
   "outputs": [],
   "source": [
    "%load_ext autoreload\n",
    "%autoreload 2"
   ]
  },
  {
   "cell_type": "code",
   "execution_count": 2,
   "metadata": {},
   "outputs": [],
   "source": [
    "import pandas as pd\n",
    "import numpy as np\n",
    "import matplotlib.pyplot as plt\n",
    "from sklearn.metrics import roc_curve, auc\n",
    "import seaborn as sns\n",
    "import json\n",
    "# import own functions\n",
    "from src.config.common import *\n",
    "from src.prediction_functions.MatrixMultiplicationMemoryEffectiveChunks import estimation_with_zscore_calculation_in_chunks"
   ]
  },
  {
   "cell_type": "markdown",
   "metadata": {},
   "source": [
    "# Benchmarking created models against other perturbations within LINCS\n",
    "- eg. benchmark shRNA model against compound perturbation data\n",
    "- if the model can not predict the receptors properly (ROCAUC > 0.6) for a perturbation type, the receptors will be exluded"
   ]
  },
  {
   "cell_type": "markdown",
   "metadata": {},
   "source": [
    "## Functions"
   ]
  },
  {
   "cell_type": "code",
   "execution_count": 3,
   "metadata": {},
   "outputs": [],
   "source": [
    "perturbations = ['xpr', 'sh', 'oe', 'lig', 'cp']"
   ]
  },
  {
   "cell_type": "code",
   "execution_count": 4,
   "metadata": {},
   "outputs": [],
   "source": [
    "def read_in_data(data_pert_type, model_pert_type, genes_filename='lm'):\n",
    "    # model\n",
    "    path1 = f'data/lincs_consensus/{genes_filename}_{data_pert_type}_pert_cell_liana.csv'\n",
    "    print('Read in signatures ', path1)\n",
    "    signature = pd.read_csv(path1, index_col =0)\n",
    "\n",
    "    path2 = f'data/coefficient_matrix/{model_pert_type}_pert_coef_liana.csv'\n",
    "    print('Read in coefficients matrix', path2)\n",
    "    coefficient_matrix = pd.read_csv(path2, index_col =0)\n",
    "    return signature, coefficient_matrix\n"
   ]
  },
  {
   "cell_type": "code",
   "execution_count": 5,
   "metadata": {},
   "outputs": [],
   "source": [
    "def create_negativ_and_positive_binary(data_pert_type):\n",
    "    print(\"Create positive value matrices for ROC curve calculation\")\n",
    "    binary = pd.read_csv(f'data/design_matrices/{data_pert_type}_pert_binary_liana.csv', index_col =0)\n",
    "\n",
    "    if (binary == -1).any().any() == False:\n",
    "        print('There are only positive perturbations, no negative matrix')\n",
    "        negative_binary = pd.DataFrame()\n",
    "    else:\n",
    "        negative_binary = binary.replace({1:0})\n",
    "        assert set(np.unique(negative_binary.values)) == {-1, 0}\n",
    "        # delete only 0 rows\n",
    "        s = negative_binary.sum() != 0\n",
    "        negative_binary = negative_binary.loc[:, s.values]\n",
    "        # change sign\n",
    "        negative_binary = negative_binary.replace({-1:1})\n",
    "        assert set(np.unique(negative_binary.values)) == {0, 1}\n",
    "\n",
    "    if (binary == 1).any().any() == False:\n",
    "        print('There are only negative perturbations, no positive matrix')\n",
    "        positive_binary = pd.DataFrame()\n",
    "    else: \n",
    "        positive_binary = binary.replace({-1:0})\n",
    "        assert set(np.unique(positive_binary.values)) == {0, 1}\n",
    "        # delete only 0 rows\n",
    "        s = positive_binary.sum() != 0\n",
    "        positive_binary = positive_binary.loc[:, s.values]\n",
    "\n",
    "    return negative_binary, positive_binary"
   ]
  },
  {
   "cell_type": "code",
   "execution_count": 6,
   "metadata": {},
   "outputs": [],
   "source": [
    "def calculate_rocaucs(binary, signature, activities):\n",
    "    print('Calculate ROC curves')\n",
    "    receptors = list(set(activities.columns) & set(binary.columns))\n",
    "    filtered_activities  = activities.loc[binary.index, receptors]\n",
    "    filtered_binary = binary.loc[filtered_activities.index,receptors]\n",
    "\n",
    "    fpr = dict()\n",
    "    tpr = dict()\n",
    "    roc_auc = dict()\n",
    "    for receptor in filtered_binary.columns:\n",
    "        fpr[receptor], tpr[receptor], _ = roc_curve(filtered_binary.loc[:, receptor], filtered_activities.loc[:, receptor])\n",
    "        fpr[receptor] = fpr[receptor].tolist()\n",
    "        tpr[receptor] = tpr[receptor].tolist()\n",
    "        roc_auc[receptor] = auc(fpr[receptor], tpr[receptor])\n",
    "    return fpr, tpr, roc_auc\n"
   ]
  },
  {
   "cell_type": "code",
   "execution_count": 7,
   "metadata": {},
   "outputs": [],
   "source": [
    "def calculate_roccurves(data_pert_type, model_pert_type):\n",
    "    print('Calculate ROC curves for receptor activity estimation.')\n",
    "    print('Model: ', model_pert_type, ' data: ', data_pert_type)\n",
    "    signature, coefficient_matrix = read_in_data(data_pert_type, model_pert_type)\n",
    "    activities = estimation_with_zscore_calculation_in_chunks(signature, coefficient_matrix.T, number_of_permutation=1000)\n",
    "    assert activities.shape[1] != 978\n",
    "    negative_binary, positive_binary = create_negativ_and_positive_binary(data_pert_type)\n",
    "    results = {}\n",
    "    if len(negative_binary) != 0:\n",
    "        negative_results = {}\n",
    "        negative_results['fpr'], negative_results['tpr'], negative_results['rocauc'] = calculate_rocaucs(negative_binary, signature, activities)\n",
    "        results['negative_results'] = negative_results\n",
    "    if len(positive_binary) != 0:\n",
    "        positive_results = {}\n",
    "        positive_results['fpr'], positive_results['tpr'], positive_results['rocauc'] = calculate_rocaucs(positive_binary, signature, activities)\n",
    "        results['positive_results'] = positive_results\n",
    "    print('---- Done ----')\n",
    "    return results"
   ]
  },
  {
   "cell_type": "markdown",
   "metadata": {},
   "source": [
    "## Read in data, estimate receptor activities and save results to results_liana.json"
   ]
  },
  {
   "cell_type": "code",
   "execution_count": 9,
   "metadata": {},
   "outputs": [
    {
     "name": "stdout",
     "output_type": "stream",
     "text": [
      "Calculate ROC curves for receptor activity estimation.\n",
      "Model:  xpr  data:  sh\n",
      "Read in signatures  data/lincs_consensus/lm_sh_pert_cell_liana.csv\n",
      "Read in coefficients matrix data/coefficient_matrix/xpr_pert_coef_liana.csv\n",
      "Number of samples: 2592\n",
      "Number of chunks: 26\n",
      "Number of permutations: 1000\n"
     ]
    },
    {
     "name": "stderr",
     "output_type": "stream",
     "text": [
      "100%|██████████| 26/26 [01:42<00:00,  3.95s/it]\n"
     ]
    },
    {
     "name": "stdout",
     "output_type": "stream",
     "text": [
      "Create positive value matrices for ROC curve calculation\n",
      "There are only negative perturbations, no positive matrix\n",
      "Calculate ROC curves\n",
      "---- Done ----\n",
      "Calculate ROC curves for receptor activity estimation.\n",
      "Model:  xpr  data:  oe\n",
      "Read in signatures  data/lincs_consensus/lm_oe_pert_cell_liana.csv\n",
      "Read in coefficients matrix data/coefficient_matrix/xpr_pert_coef_liana.csv\n",
      "Number of samples: 1670\n",
      "Number of chunks: 17\n",
      "Number of permutations: 1000\n"
     ]
    },
    {
     "name": "stderr",
     "output_type": "stream",
     "text": [
      "100%|██████████| 17/17 [00:59<00:00,  3.49s/it]\n"
     ]
    },
    {
     "name": "stdout",
     "output_type": "stream",
     "text": [
      "Create positive value matrices for ROC curve calculation\n",
      "There are only positive perturbations, no negative matrix\n",
      "Calculate ROC curves\n",
      "---- Done ----\n",
      "Calculate ROC curves for receptor activity estimation.\n",
      "Model:  xpr  data:  lig\n",
      "Read in signatures  data/lincs_consensus/lm_lig_pert_cell_liana.csv\n",
      "Read in coefficients matrix data/coefficient_matrix/xpr_pert_coef_liana.csv\n",
      "Number of samples: 1870\n",
      "Number of chunks: 19\n",
      "Number of permutations: 1000\n"
     ]
    },
    {
     "name": "stderr",
     "output_type": "stream",
     "text": [
      "100%|██████████| 19/19 [01:04<00:00,  3.38s/it]\n"
     ]
    },
    {
     "name": "stdout",
     "output_type": "stream",
     "text": [
      "Create positive value matrices for ROC curve calculation\n",
      "There are only positive perturbations, no negative matrix\n",
      "Calculate ROC curves\n",
      "---- Done ----\n",
      "Calculate ROC curves for receptor activity estimation.\n",
      "Model:  xpr  data:  cp\n",
      "Read in signatures  data/lincs_consensus/lm_cp_pert_cell_liana.csv\n",
      "Read in coefficients matrix data/coefficient_matrix/xpr_pert_coef_liana.csv\n",
      "Number of samples: 26907\n",
      "Number of chunks: 270\n",
      "Number of permutations: 1000\n"
     ]
    },
    {
     "name": "stderr",
     "output_type": "stream",
     "text": [
      "100%|██████████| 270/270 [16:47<00:00,  3.73s/it]\n"
     ]
    },
    {
     "name": "stdout",
     "output_type": "stream",
     "text": [
      "Create positive value matrices for ROC curve calculation\n",
      "Calculate ROC curves\n",
      "Calculate ROC curves\n",
      "---- Done ----\n",
      "Calculate ROC curves for receptor activity estimation.\n",
      "Model:  sh  data:  xpr\n",
      "Read in signatures  data/lincs_consensus/lm_xpr_pert_cell_liana.csv\n",
      "Read in coefficients matrix data/coefficient_matrix/sh_pert_coef_liana.csv\n",
      "Number of samples: 5950\n",
      "Number of chunks: 60\n",
      "Number of permutations: 1000\n"
     ]
    },
    {
     "name": "stderr",
     "output_type": "stream",
     "text": [
      "100%|██████████| 60/60 [03:15<00:00,  3.26s/it]\n"
     ]
    },
    {
     "name": "stdout",
     "output_type": "stream",
     "text": [
      "Create positive value matrices for ROC curve calculation\n",
      "There are only negative perturbations, no positive matrix\n",
      "Calculate ROC curves\n",
      "---- Done ----\n",
      "Calculate ROC curves for receptor activity estimation.\n",
      "Model:  sh  data:  oe\n",
      "Read in signatures  data/lincs_consensus/lm_oe_pert_cell_liana.csv\n",
      "Read in coefficients matrix data/coefficient_matrix/sh_pert_coef_liana.csv\n",
      "Number of samples: 1670\n",
      "Number of chunks: 17\n",
      "Number of permutations: 1000\n"
     ]
    },
    {
     "name": "stderr",
     "output_type": "stream",
     "text": [
      "100%|██████████| 17/17 [00:57<00:00,  3.37s/it]\n"
     ]
    },
    {
     "name": "stdout",
     "output_type": "stream",
     "text": [
      "Create positive value matrices for ROC curve calculation\n",
      "There are only positive perturbations, no negative matrix\n",
      "Calculate ROC curves\n",
      "---- Done ----\n",
      "Calculate ROC curves for receptor activity estimation.\n",
      "Model:  sh  data:  lig\n",
      "Read in signatures  data/lincs_consensus/lm_lig_pert_cell_liana.csv\n",
      "Read in coefficients matrix data/coefficient_matrix/sh_pert_coef_liana.csv\n",
      "Number of samples: 1870\n",
      "Number of chunks: 19\n",
      "Number of permutations: 1000\n"
     ]
    },
    {
     "name": "stderr",
     "output_type": "stream",
     "text": [
      "100%|██████████| 19/19 [01:01<00:00,  3.22s/it]\n"
     ]
    },
    {
     "name": "stdout",
     "output_type": "stream",
     "text": [
      "Create positive value matrices for ROC curve calculation\n",
      "There are only positive perturbations, no negative matrix\n",
      "Calculate ROC curves\n",
      "---- Done ----\n",
      "Calculate ROC curves for receptor activity estimation.\n",
      "Model:  sh  data:  cp\n",
      "Read in signatures  data/lincs_consensus/lm_cp_pert_cell_liana.csv\n",
      "Read in coefficients matrix data/coefficient_matrix/sh_pert_coef_liana.csv\n",
      "Number of samples: 26907\n",
      "Number of chunks: 270\n",
      "Number of permutations: 1000\n"
     ]
    },
    {
     "name": "stderr",
     "output_type": "stream",
     "text": [
      "100%|██████████| 270/270 [15:17<00:00,  3.40s/it]\n"
     ]
    },
    {
     "name": "stdout",
     "output_type": "stream",
     "text": [
      "Create positive value matrices for ROC curve calculation\n",
      "Calculate ROC curves\n",
      "Calculate ROC curves\n",
      "---- Done ----\n",
      "Calculate ROC curves for receptor activity estimation.\n",
      "Model:  oe  data:  xpr\n",
      "Read in signatures  data/lincs_consensus/lm_xpr_pert_cell_liana.csv\n",
      "Read in coefficients matrix data/coefficient_matrix/oe_pert_coef_liana.csv\n",
      "Number of samples: 5950\n",
      "Number of chunks: 60\n",
      "Number of permutations: 1000\n"
     ]
    },
    {
     "name": "stderr",
     "output_type": "stream",
     "text": [
      "100%|██████████| 60/60 [02:51<00:00,  2.86s/it]\n"
     ]
    },
    {
     "name": "stdout",
     "output_type": "stream",
     "text": [
      "Create positive value matrices for ROC curve calculation\n",
      "There are only negative perturbations, no positive matrix\n",
      "Calculate ROC curves\n",
      "---- Done ----\n",
      "Calculate ROC curves for receptor activity estimation.\n",
      "Model:  oe  data:  sh\n",
      "Read in signatures  data/lincs_consensus/lm_sh_pert_cell_liana.csv\n",
      "Read in coefficients matrix data/coefficient_matrix/oe_pert_coef_liana.csv\n",
      "Number of samples: 2592\n",
      "Number of chunks: 26\n",
      "Number of permutations: 1000\n"
     ]
    },
    {
     "name": "stderr",
     "output_type": "stream",
     "text": [
      "100%|██████████| 26/26 [01:21<00:00,  3.12s/it]\n"
     ]
    },
    {
     "name": "stdout",
     "output_type": "stream",
     "text": [
      "Create positive value matrices for ROC curve calculation\n",
      "There are only negative perturbations, no positive matrix\n",
      "Calculate ROC curves\n",
      "---- Done ----\n",
      "Calculate ROC curves for receptor activity estimation.\n",
      "Model:  oe  data:  lig\n",
      "Read in signatures  data/lincs_consensus/lm_lig_pert_cell_liana.csv\n",
      "Read in coefficients matrix data/coefficient_matrix/oe_pert_coef_liana.csv\n",
      "Number of samples: 1870\n",
      "Number of chunks: 19\n",
      "Number of permutations: 1000\n"
     ]
    },
    {
     "name": "stderr",
     "output_type": "stream",
     "text": [
      "100%|██████████| 19/19 [00:59<00:00,  3.14s/it]\n"
     ]
    },
    {
     "name": "stdout",
     "output_type": "stream",
     "text": [
      "Create positive value matrices for ROC curve calculation\n",
      "There are only positive perturbations, no negative matrix\n",
      "Calculate ROC curves\n",
      "---- Done ----\n",
      "Calculate ROC curves for receptor activity estimation.\n",
      "Model:  oe  data:  cp\n",
      "Read in signatures  data/lincs_consensus/lm_cp_pert_cell_liana.csv\n",
      "Read in coefficients matrix data/coefficient_matrix/oe_pert_coef_liana.csv\n",
      "Number of samples: 26907\n",
      "Number of chunks: 270\n",
      "Number of permutations: 1000\n"
     ]
    },
    {
     "name": "stderr",
     "output_type": "stream",
     "text": [
      "100%|██████████| 270/270 [11:15<00:00,  2.50s/it]\n"
     ]
    },
    {
     "name": "stdout",
     "output_type": "stream",
     "text": [
      "Create positive value matrices for ROC curve calculation\n",
      "Calculate ROC curves\n",
      "Calculate ROC curves\n",
      "---- Done ----\n",
      "Calculate ROC curves for receptor activity estimation.\n",
      "Model:  lig  data:  xpr\n",
      "Read in signatures  data/lincs_consensus/lm_xpr_pert_cell_liana.csv\n",
      "Read in coefficients matrix data/coefficient_matrix/lig_pert_coef_liana.csv\n",
      "Number of samples: 5950\n",
      "Number of chunks: 60\n",
      "Number of permutations: 1000\n"
     ]
    },
    {
     "name": "stderr",
     "output_type": "stream",
     "text": [
      "100%|██████████| 60/60 [02:30<00:00,  2.51s/it]\n"
     ]
    },
    {
     "name": "stdout",
     "output_type": "stream",
     "text": [
      "Create positive value matrices for ROC curve calculation\n",
      "There are only negative perturbations, no positive matrix\n",
      "Calculate ROC curves\n",
      "---- Done ----\n",
      "Calculate ROC curves for receptor activity estimation.\n",
      "Model:  lig  data:  sh\n",
      "Read in signatures  data/lincs_consensus/lm_sh_pert_cell_liana.csv\n",
      "Read in coefficients matrix data/coefficient_matrix/lig_pert_coef_liana.csv\n",
      "Number of samples: 2592\n",
      "Number of chunks: 26\n",
      "Number of permutations: 1000\n"
     ]
    },
    {
     "name": "stderr",
     "output_type": "stream",
     "text": [
      "100%|██████████| 26/26 [01:06<00:00,  2.56s/it]\n"
     ]
    },
    {
     "name": "stdout",
     "output_type": "stream",
     "text": [
      "Create positive value matrices for ROC curve calculation\n",
      "There are only negative perturbations, no positive matrix\n",
      "Calculate ROC curves\n",
      "---- Done ----\n",
      "Calculate ROC curves for receptor activity estimation.\n",
      "Model:  lig  data:  oe\n",
      "Read in signatures  data/lincs_consensus/lm_oe_pert_cell_liana.csv\n",
      "Read in coefficients matrix data/coefficient_matrix/lig_pert_coef_liana.csv\n",
      "Number of samples: 1670\n",
      "Number of chunks: 17\n",
      "Number of permutations: 1000\n"
     ]
    },
    {
     "name": "stderr",
     "output_type": "stream",
     "text": [
      "100%|██████████| 17/17 [00:42<00:00,  2.48s/it]\n"
     ]
    },
    {
     "name": "stdout",
     "output_type": "stream",
     "text": [
      "Create positive value matrices for ROC curve calculation\n",
      "There are only positive perturbations, no negative matrix\n",
      "Calculate ROC curves\n",
      "---- Done ----\n",
      "Calculate ROC curves for receptor activity estimation.\n",
      "Model:  lig  data:  cp\n",
      "Read in signatures  data/lincs_consensus/lm_cp_pert_cell_liana.csv\n",
      "Read in coefficients matrix data/coefficient_matrix/lig_pert_coef_liana.csv\n",
      "Number of samples: 26907\n",
      "Number of chunks: 270\n",
      "Number of permutations: 1000\n"
     ]
    },
    {
     "name": "stderr",
     "output_type": "stream",
     "text": [
      "100%|██████████| 270/270 [13:10<00:00,  2.93s/it]\n"
     ]
    },
    {
     "name": "stdout",
     "output_type": "stream",
     "text": [
      "Create positive value matrices for ROC curve calculation\n",
      "Calculate ROC curves\n",
      "Calculate ROC curves\n",
      "---- Done ----\n",
      "Calculate ROC curves for receptor activity estimation.\n",
      "Model:  cp  data:  xpr\n",
      "Read in signatures  data/lincs_consensus/lm_xpr_pert_cell_liana.csv\n",
      "Read in coefficients matrix data/coefficient_matrix/cp_pert_coef_liana.csv\n",
      "Number of samples: 5950\n",
      "Number of chunks: 60\n",
      "Number of permutations: 1000\n"
     ]
    },
    {
     "name": "stderr",
     "output_type": "stream",
     "text": [
      "100%|██████████| 60/60 [03:14<00:00,  3.24s/it]\n"
     ]
    },
    {
     "name": "stdout",
     "output_type": "stream",
     "text": [
      "Create positive value matrices for ROC curve calculation\n",
      "There are only negative perturbations, no positive matrix\n",
      "Calculate ROC curves\n",
      "---- Done ----\n",
      "Calculate ROC curves for receptor activity estimation.\n",
      "Model:  cp  data:  sh\n",
      "Read in signatures  data/lincs_consensus/lm_sh_pert_cell_liana.csv\n",
      "Read in coefficients matrix data/coefficient_matrix/cp_pert_coef_liana.csv\n",
      "Number of samples: 2592\n",
      "Number of chunks: 26\n",
      "Number of permutations: 1000\n"
     ]
    },
    {
     "name": "stderr",
     "output_type": "stream",
     "text": [
      "100%|██████████| 26/26 [01:25<00:00,  3.28s/it]\n"
     ]
    },
    {
     "name": "stdout",
     "output_type": "stream",
     "text": [
      "Create positive value matrices for ROC curve calculation\n",
      "There are only negative perturbations, no positive matrix\n",
      "Calculate ROC curves\n",
      "---- Done ----\n",
      "Calculate ROC curves for receptor activity estimation.\n",
      "Model:  cp  data:  oe\n",
      "Read in signatures  data/lincs_consensus/lm_oe_pert_cell_liana.csv\n",
      "Read in coefficients matrix data/coefficient_matrix/cp_pert_coef_liana.csv\n",
      "Number of samples: 1670\n",
      "Number of chunks: 17\n",
      "Number of permutations: 1000\n"
     ]
    },
    {
     "name": "stderr",
     "output_type": "stream",
     "text": [
      "100%|██████████| 17/17 [00:55<00:00,  3.25s/it]\n"
     ]
    },
    {
     "name": "stdout",
     "output_type": "stream",
     "text": [
      "Create positive value matrices for ROC curve calculation\n",
      "There are only positive perturbations, no negative matrix\n",
      "Calculate ROC curves\n",
      "---- Done ----\n",
      "Calculate ROC curves for receptor activity estimation.\n",
      "Model:  cp  data:  lig\n",
      "Read in signatures  data/lincs_consensus/lm_lig_pert_cell_liana.csv\n",
      "Read in coefficients matrix data/coefficient_matrix/cp_pert_coef_liana.csv\n",
      "Number of samples: 1870\n",
      "Number of chunks: 19\n",
      "Number of permutations: 1000\n"
     ]
    },
    {
     "name": "stderr",
     "output_type": "stream",
     "text": [
      "100%|██████████| 19/19 [01:00<00:00,  3.17s/it]"
     ]
    },
    {
     "name": "stdout",
     "output_type": "stream",
     "text": [
      "Create positive value matrices for ROC curve calculation\n",
      "There are only positive perturbations, no negative matrix\n",
      "Calculate ROC curves\n",
      "---- Done ----\n"
     ]
    },
    {
     "name": "stderr",
     "output_type": "stream",
     "text": [
      "\n"
     ]
    }
   ],
   "source": [
    "all_results = {}\n",
    "for model in perturbations:\n",
    "\n",
    "    dataset_results = {}\n",
    "    for data in perturbations:\n",
    "        if data == model:\n",
    "            continue\n",
    "        results = calculate_roccurves(data_pert_type = data, model_pert_type = model)\n",
    "        dataset_results[data] = results\n",
    "    all_results[model] = dataset_results"
   ]
  },
  {
   "cell_type": "code",
   "execution_count": 17,
   "metadata": {},
   "outputs": [],
   "source": [
    "with open(f\"results/benchmark_LINCS/results_liana_zscore2.json\",\"w\") as f:\n",
    "    json.dump(all_results,f)"
   ]
  },
  {
   "cell_type": "markdown",
   "metadata": {},
   "source": [
    "# Read in results and show plots"
   ]
  },
  {
   "cell_type": "code",
   "execution_count": 18,
   "metadata": {},
   "outputs": [],
   "source": [
    "with open('results/benchmark_LINCS/results_liana_zscore2.json','r') as f:\n",
    "    all_results = json.load(f)"
   ]
  },
  {
   "cell_type": "code",
   "execution_count": 19,
   "metadata": {},
   "outputs": [],
   "source": [
    "# get all receptors\n",
    "all_receptor = []\n",
    "for model in perturbations:\n",
    "    for data in all_results[model].keys():\n",
    "        for results in all_results[model][data].keys():\n",
    "            rocaucs = all_results[model][data][results]['rocauc']\n",
    "            all_receptor.extend(list(rocaucs.keys()))\n",
    "all_receptor = set(all_receptor)"
   ]
  },
  {
   "cell_type": "code",
   "execution_count": 20,
   "metadata": {},
   "outputs": [],
   "source": [
    "rocauc_count_df = pd.DataFrame(columns = ['model', 'data', 'results'] + list(all_receptor))"
   ]
  },
  {
   "cell_type": "code",
   "execution_count": 21,
   "metadata": {},
   "outputs": [],
   "source": [
    "model_dict = {}\n",
    "for model in perturbations:\n",
    "    data_dict = {}\n",
    "    for data in all_results[model].keys():\n",
    "        res_dict = {}\n",
    "        for results in all_results[model][data].keys():\n",
    "            \n",
    "            rocaucs = all_results[model][data][results]['rocauc']\n",
    "            if results == 'negative_results':\n",
    "            \n",
    "                rocaucs = {k:(1 if v < 0.4 else 0) for k,v in rocaucs.items()}\n",
    "                res_dict['negative_results'] = rocaucs\n",
    "            if results == 'positive_results':\n",
    "                rocaucs = {k:(1 if v > 0.6 else 0) for k,v in rocaucs.items()}\n",
    "                res_dict['positive_results'] = rocaucs\n",
    "\n",
    "        data_dict[data] = res_dict\n",
    "    model_dict[model] = data_dict"
   ]
  },
  {
   "cell_type": "code",
   "execution_count": 22,
   "metadata": {},
   "outputs": [],
   "source": [
    "flatten_results = pd.DataFrame.from_records(\n",
    "    [\n",
    "        (level1, level2, level3, level4, leaf)\n",
    "        for level1, level2_dict in model_dict.items()\n",
    "        for level2, level3_dict in level2_dict.items()\n",
    "        for level3, level4_dict in level3_dict.items()\n",
    "        for level4, leaf in level4_dict.items()\n",
    "    ],\n",
    "    columns=['model', 'data', 'results', 'receptors', 'value']\n",
    ")\n"
   ]
  },
  {
   "cell_type": "code",
   "execution_count": 23,
   "metadata": {},
   "outputs": [
    {
     "data": {
      "text/plain": [
       "255"
      ]
     },
     "execution_count": 23,
     "metadata": {},
     "output_type": "execute_result"
    }
   ],
   "source": [
    "len(flatten_results[flatten_results['value'] > 0].receptors.unique())"
   ]
  },
  {
   "cell_type": "markdown",
   "metadata": {},
   "source": [
    "# Plots"
   ]
  },
  {
   "cell_type": "code",
   "execution_count": 24,
   "metadata": {},
   "outputs": [],
   "source": [
    "def calculate_table_for_plot(model):\n",
    "    values = pd.DataFrame(columns = ['receptors', 'ROCAUC', 'data_type', 'positive_or_negative_values'])\n",
    "\n",
    "    for data in all_results[model]:\n",
    "        if 'negative_results' in all_results[model][data]:\n",
    "            df = pd.Series(all_results[model][data]['negative_results']['rocauc']).reset_index()\n",
    "            df.columns = ['receptors', 'ROCAUC']\n",
    "            df['data_type'] = data\n",
    "            df['positive_or_negative_values'] = 'negative'\n",
    "            values = pd.concat([values, df])\n",
    "        if 'positive_results' in all_results[model][data]:\n",
    "            df = pd.Series(all_results[model][data]['positive_results']['rocauc']).reset_index()\n",
    "            df.columns = ['receptors', 'ROCAUC']\n",
    "            df['data_type'] = data\n",
    "            df['positive_or_negative_values'] = 'positive'\n",
    "            values = pd.concat([values, df])\n",
    "    values['ROCAUC'] = values['ROCAUC'].astype('float')\n",
    "    print(values.groupby(['data_type', 'positive_or_negative_values']).count()['receptors'])\n",
    "    return values"
   ]
  },
  {
   "cell_type": "code",
   "execution_count": 25,
   "metadata": {},
   "outputs": [],
   "source": [
    "def plot_ROCAUC_barplot(model):\n",
    "    \n",
    "    values = calculate_table_for_plot(model)\n",
    "    ax = sns.barplot(data=values, x = 'data_type', y = 'ROCAUC', hue = 'positive_or_negative_values', estimator=np.mean, ci='sd', capsize=.1, palette = 'Pastel2')\n",
    "    plt.axhline(0.5)\n",
    "    plt.title('ROCAUC values of model: '+model.upper()+' for different datasets\\nand negative or positive values')\n",
    "    plt.show()"
   ]
  },
  {
   "cell_type": "code",
   "execution_count": 27,
   "metadata": {},
   "outputs": [],
   "source": [
    "def plot_ROCAUC_violinplot(model, save = False):\n",
    "    fig, ax = plt.subplots(figsize = (8,6))\n",
    "    values = calculate_table_for_plot(model)\n",
    "    ax = sns.violinplot(data=values, x = 'data_type', y = 'ROCAUC', hue = 'positive_or_negative_values', split=True, palette = 'Pastel2', inner = 'quart')\n",
    "    plt.axhline(0.5)\n",
    "    plt.title('ROCAUC values of model: '+model.upper()+' for different datasets\\nand negative or positive values\\nlandmark genes')\n",
    "    plt.xlabel('Data types', size = 16)\n",
    "    plt.ylabel('ROCAUC', size = 16)\n",
    "    ax.tick_params(axis='both', which='major', labelsize=14)\n",
    "    if save:\n",
    "        plt.savefig(f'figures/benchmark/against_different_perturbation_types/{model}.png', bbox_inches = 'tight')\n",
    "        plt.savefig(f'figures/benchmark/against_different_perturbation_types/{model}.pdf', bbox_inches = 'tight')\n",
    "    plt.show()\n",
    "    plt.clf()"
   ]
  },
  {
   "cell_type": "code",
   "execution_count": 1,
   "metadata": {},
   "outputs": [],
   "source": [
    "# for model in perturbations:\n",
    "#     plot_ROCAUC_violinplot(model, save = False)"
   ]
  },
  {
   "cell_type": "code",
   "execution_count": null,
   "metadata": {},
   "outputs": [],
   "source": []
  }
 ],
 "metadata": {
  "kernelspec": {
   "display_name": "Python 3.9.13 ('ccc_py39')",
   "language": "python",
   "name": "python3"
  },
  "language_info": {
   "codemirror_mode": {
    "name": "ipython",
    "version": 3
   },
   "file_extension": ".py",
   "mimetype": "text/x-python",
   "name": "python",
   "nbconvert_exporter": "python",
   "pygments_lexer": "ipython3",
   "version": "3.9.13"
  },
  "orig_nbformat": 4,
  "vscode": {
   "interpreter": {
    "hash": "c257721c1f8c71281254a83cdcaf33d9db8f8032bd6f67e38b3bfb14bf0b7634"
   }
  }
 },
 "nbformat": 4,
 "nbformat_minor": 2
}
