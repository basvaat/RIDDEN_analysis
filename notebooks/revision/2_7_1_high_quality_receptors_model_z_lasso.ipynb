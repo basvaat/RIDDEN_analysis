{
 "cells": [
  {
   "attachments": {},
   "cell_type": "markdown",
   "metadata": {},
   "source": [
    "# Selecting high quality receptors\n",
    "- using matrix multiplications for filtering out receptors\n",
    "- filtered consensus signature and design matrix are saved to lincs_consensus/hq_newfilter/lm_all_pert_cell_liana_transp.csv and design_matrices/hq_newfilter/all_pert_binary_liana.csv\n",
    "- filtering out shRNA and CRISPR\n",
    "- filtering out also inhibitory drugs - all interaction will be positive"
   ]
  },
  {
   "cell_type": "code",
   "execution_count": 112,
   "metadata": {},
   "outputs": [
    {
     "name": "stdout",
     "output_type": "stream",
     "text": [
      "The autoreload extension is already loaded. To reload it, use:\n",
      "  %reload_ext autoreload\n"
     ]
    }
   ],
   "source": [
    "%load_ext autoreload\n",
    "%autoreload 2"
   ]
  },
  {
   "cell_type": "code",
   "execution_count": 113,
   "metadata": {},
   "outputs": [],
   "source": [
    "import pandas as pd\n",
    "import numpy as np\n",
    "import json\n",
    "import matplotlib.pyplot as plt\n",
    "import seaborn as sns\n",
    "from src.config import *\n",
    "from src.prediction_functions import *\n",
    "from src.model_creation import *\n",
    "from scipy.stats import mannwhitneyu\n",
    "from tqdm import tqdm\n",
    "from sklearn.metrics import roc_curve, auc\n"
   ]
  },
  {
   "cell_type": "code",
   "execution_count": 114,
   "metadata": {},
   "outputs": [],
   "source": [
    "from src.model_creation import fit_lasso_model_and_get_coefficients\n"
   ]
  },
  {
   "attachments": {},
   "cell_type": "markdown",
   "metadata": {},
   "source": [
    "# Fit model on high quality receptors"
   ]
  },
  {
   "cell_type": "code",
   "execution_count": 115,
   "metadata": {},
   "outputs": [],
   "source": [
    "dms = pd.read_csv(f'data/design_matrices/high_quality/all_pert_binary_liana.csv', index_col = 0)\n",
    "data = pd.read_csv(f'data/lincs_consensus/high_quality/lm_all_pert_cell_liana.csv', index_col = 0)"
   ]
  },
  {
   "cell_type": "code",
   "execution_count": 116,
   "metadata": {},
   "outputs": [
    {
     "data": {
      "text/plain": [
       "((14463, 978), (14463, 229))"
      ]
     },
     "execution_count": 116,
     "metadata": {},
     "output_type": "execute_result"
    }
   ],
   "source": [
    "data.shape, dms.shape"
   ]
  },
  {
   "cell_type": "code",
   "execution_count": 117,
   "metadata": {},
   "outputs": [
    {
     "name": "stderr",
     "output_type": "stream",
     "text": [
      " 14%|█▎        | 134/978 [00:03<00:24, 34.15it/s]\n"
     ]
    },
    {
     "ename": "KeyboardInterrupt",
     "evalue": "",
     "output_type": "error",
     "traceback": [
      "\u001b[0;31m---------------------------------------------------------------------------\u001b[0m",
      "\u001b[0;31mKeyboardInterrupt\u001b[0m                         Traceback (most recent call last)",
      "Cell \u001b[0;32mIn[117], line 1\u001b[0m\n\u001b[0;32m----> 1\u001b[0m coeff_m \u001b[38;5;241m=\u001b[39m \u001b[43mfit_lasso_model_and_get_coefficients\u001b[49m\u001b[43m(\u001b[49m\u001b[43my\u001b[49m\u001b[43m \u001b[49m\u001b[38;5;241;43m=\u001b[39;49m\u001b[43m \u001b[49m\u001b[43mdata\u001b[49m\u001b[43m,\u001b[49m\u001b[43m \u001b[49m\u001b[43mX\u001b[49m\u001b[43m \u001b[49m\u001b[38;5;241;43m=\u001b[39;49m\u001b[43m \u001b[49m\u001b[43mdms\u001b[49m\u001b[43m,\u001b[49m\u001b[43m \u001b[49m\u001b[43malpha\u001b[49m\u001b[43m \u001b[49m\u001b[38;5;241;43m=\u001b[39;49m\u001b[43m \u001b[49m\u001b[38;5;241;43m0.01\u001b[39;49m\u001b[43m)\u001b[49m\n",
      "File \u001b[0;32m~/projects/receptor_activity_inference/src/model_creation/CreateModelFunctions.py:40\u001b[0m, in \u001b[0;36mfit_lasso_model_and_get_coefficients\u001b[0;34m(y, X, alpha)\u001b[0m\n\u001b[1;32m     38\u001b[0m     yi \u001b[38;5;241m=\u001b[39m y[gene]\u001b[38;5;241m.\u001b[39mvalues  \u001b[38;5;66;03m# Response variable (gene expression)\u001b[39;00m\n\u001b[1;32m     39\u001b[0m     model \u001b[38;5;241m=\u001b[39m Lasso(alpha\u001b[38;5;241m=\u001b[39malpha)\n\u001b[0;32m---> 40\u001b[0m     \u001b[43mmodel\u001b[49m\u001b[38;5;241;43m.\u001b[39;49m\u001b[43mfit\u001b[49m\u001b[43m(\u001b[49m\u001b[43mX\u001b[49m\u001b[43m,\u001b[49m\u001b[43m \u001b[49m\u001b[43myi\u001b[49m\u001b[43m)\u001b[49m  \u001b[38;5;66;03m# Fit Lasso using all receptors for this gene\u001b[39;00m\n\u001b[1;32m     42\u001b[0m     coeff_m[gene] \u001b[38;5;241m=\u001b[39m model\u001b[38;5;241m.\u001b[39mcoef_  \u001b[38;5;66;03m# Store all receptor coefficients\u001b[39;00m\n\u001b[1;32m     44\u001b[0m \u001b[38;5;28;01mreturn\u001b[39;00m coeff_m\n",
      "File \u001b[0;32m~/opt/anaconda3/envs/py311_ccc_decoupler/lib/python3.11/site-packages/sklearn/base.py:1389\u001b[0m, in \u001b[0;36m_fit_context.<locals>.decorator.<locals>.wrapper\u001b[0;34m(estimator, *args, **kwargs)\u001b[0m\n\u001b[1;32m   1382\u001b[0m     estimator\u001b[38;5;241m.\u001b[39m_validate_params()\n\u001b[1;32m   1384\u001b[0m \u001b[38;5;28;01mwith\u001b[39;00m config_context(\n\u001b[1;32m   1385\u001b[0m     skip_parameter_validation\u001b[38;5;241m=\u001b[39m(\n\u001b[1;32m   1386\u001b[0m         prefer_skip_nested_validation \u001b[38;5;129;01mor\u001b[39;00m global_skip_validation\n\u001b[1;32m   1387\u001b[0m     )\n\u001b[1;32m   1388\u001b[0m ):\n\u001b[0;32m-> 1389\u001b[0m     \u001b[38;5;28;01mreturn\u001b[39;00m \u001b[43mfit_method\u001b[49m\u001b[43m(\u001b[49m\u001b[43mestimator\u001b[49m\u001b[43m,\u001b[49m\u001b[43m \u001b[49m\u001b[38;5;241;43m*\u001b[39;49m\u001b[43margs\u001b[49m\u001b[43m,\u001b[49m\u001b[43m \u001b[49m\u001b[38;5;241;43m*\u001b[39;49m\u001b[38;5;241;43m*\u001b[39;49m\u001b[43mkwargs\u001b[49m\u001b[43m)\u001b[49m\n",
      "File \u001b[0;32m~/opt/anaconda3/envs/py311_ccc_decoupler/lib/python3.11/site-packages/sklearn/linear_model/_coordinate_descent.py:1044\u001b[0m, in \u001b[0;36mElasticNet.fit\u001b[0;34m(self, X, y, sample_weight, check_input)\u001b[0m\n\u001b[1;32m   1035\u001b[0m     \u001b[38;5;66;03m# Note: Alternatively, we could also have rescaled alpha instead\u001b[39;00m\n\u001b[1;32m   1036\u001b[0m     \u001b[38;5;66;03m# of sample_weight:\u001b[39;00m\n\u001b[1;32m   1037\u001b[0m     \u001b[38;5;66;03m#\u001b[39;00m\n\u001b[0;32m   (...)\u001b[0m\n\u001b[1;32m   1041\u001b[0m \u001b[38;5;66;03m# X and y will be rescaled if sample_weight is not None, order='F'\u001b[39;00m\n\u001b[1;32m   1042\u001b[0m \u001b[38;5;66;03m# ensures that the returned X and y are still F-contiguous.\u001b[39;00m\n\u001b[1;32m   1043\u001b[0m should_copy \u001b[38;5;241m=\u001b[39m \u001b[38;5;28mself\u001b[39m\u001b[38;5;241m.\u001b[39mcopy_X \u001b[38;5;129;01mand\u001b[39;00m \u001b[38;5;129;01mnot\u001b[39;00m X_copied\n\u001b[0;32m-> 1044\u001b[0m X, y, X_offset, y_offset, X_scale, precompute, Xy \u001b[38;5;241m=\u001b[39m \u001b[43m_pre_fit\u001b[49m\u001b[43m(\u001b[49m\n\u001b[1;32m   1045\u001b[0m \u001b[43m    \u001b[49m\u001b[43mX\u001b[49m\u001b[43m,\u001b[49m\n\u001b[1;32m   1046\u001b[0m \u001b[43m    \u001b[49m\u001b[43my\u001b[49m\u001b[43m,\u001b[49m\n\u001b[1;32m   1047\u001b[0m \u001b[43m    \u001b[49m\u001b[38;5;28;43;01mNone\u001b[39;49;00m\u001b[43m,\u001b[49m\n\u001b[1;32m   1048\u001b[0m \u001b[43m    \u001b[49m\u001b[38;5;28;43mself\u001b[39;49m\u001b[38;5;241;43m.\u001b[39;49m\u001b[43mprecompute\u001b[49m\u001b[43m,\u001b[49m\n\u001b[1;32m   1049\u001b[0m \u001b[43m    \u001b[49m\u001b[43mfit_intercept\u001b[49m\u001b[38;5;241;43m=\u001b[39;49m\u001b[38;5;28;43mself\u001b[39;49m\u001b[38;5;241;43m.\u001b[39;49m\u001b[43mfit_intercept\u001b[49m\u001b[43m,\u001b[49m\n\u001b[1;32m   1050\u001b[0m \u001b[43m    \u001b[49m\u001b[43mcopy\u001b[49m\u001b[38;5;241;43m=\u001b[39;49m\u001b[43mshould_copy\u001b[49m\u001b[43m,\u001b[49m\n\u001b[1;32m   1051\u001b[0m \u001b[43m    \u001b[49m\u001b[43mcheck_input\u001b[49m\u001b[38;5;241;43m=\u001b[39;49m\u001b[43mcheck_input\u001b[49m\u001b[43m,\u001b[49m\n\u001b[1;32m   1052\u001b[0m \u001b[43m    \u001b[49m\u001b[43msample_weight\u001b[49m\u001b[38;5;241;43m=\u001b[39;49m\u001b[43msample_weight\u001b[49m\u001b[43m,\u001b[49m\n\u001b[1;32m   1053\u001b[0m \u001b[43m\u001b[49m\u001b[43m)\u001b[49m\n\u001b[1;32m   1054\u001b[0m \u001b[38;5;66;03m# coordinate descent needs F-ordered arrays and _pre_fit might have\u001b[39;00m\n\u001b[1;32m   1055\u001b[0m \u001b[38;5;66;03m# called _rescale_data\u001b[39;00m\n\u001b[1;32m   1056\u001b[0m \u001b[38;5;28;01mif\u001b[39;00m check_input \u001b[38;5;129;01mor\u001b[39;00m sample_weight \u001b[38;5;129;01mis\u001b[39;00m \u001b[38;5;129;01mnot\u001b[39;00m \u001b[38;5;28;01mNone\u001b[39;00m:\n",
      "File \u001b[0;32m~/opt/anaconda3/envs/py311_ccc_decoupler/lib/python3.11/site-packages/sklearn/linear_model/_base.py:790\u001b[0m, in \u001b[0;36m_pre_fit\u001b[0;34m(X, y, Xy, precompute, fit_intercept, copy, check_input, sample_weight)\u001b[0m\n\u001b[1;32m    780\u001b[0m     X, y, X_offset, y_offset, X_scale \u001b[38;5;241m=\u001b[39m _preprocess_data(\n\u001b[1;32m    781\u001b[0m         X,\n\u001b[1;32m    782\u001b[0m         y,\n\u001b[0;32m   (...)\u001b[0m\n\u001b[1;32m    786\u001b[0m         sample_weight\u001b[38;5;241m=\u001b[39msample_weight,\n\u001b[1;32m    787\u001b[0m     )\n\u001b[1;32m    788\u001b[0m \u001b[38;5;28;01melse\u001b[39;00m:\n\u001b[1;32m    789\u001b[0m     \u001b[38;5;66;03m# copy was done in fit if necessary\u001b[39;00m\n\u001b[0;32m--> 790\u001b[0m     X, y, X_offset, y_offset, X_scale \u001b[38;5;241m=\u001b[39m \u001b[43m_preprocess_data\u001b[49m\u001b[43m(\u001b[49m\n\u001b[1;32m    791\u001b[0m \u001b[43m        \u001b[49m\u001b[43mX\u001b[49m\u001b[43m,\u001b[49m\n\u001b[1;32m    792\u001b[0m \u001b[43m        \u001b[49m\u001b[43my\u001b[49m\u001b[43m,\u001b[49m\n\u001b[1;32m    793\u001b[0m \u001b[43m        \u001b[49m\u001b[43mfit_intercept\u001b[49m\u001b[38;5;241;43m=\u001b[39;49m\u001b[43mfit_intercept\u001b[49m\u001b[43m,\u001b[49m\n\u001b[1;32m    794\u001b[0m \u001b[43m        \u001b[49m\u001b[43mcopy\u001b[49m\u001b[38;5;241;43m=\u001b[39;49m\u001b[43mcopy\u001b[49m\u001b[43m,\u001b[49m\n\u001b[1;32m    795\u001b[0m \u001b[43m        \u001b[49m\u001b[43mcheck_input\u001b[49m\u001b[38;5;241;43m=\u001b[39;49m\u001b[43mcheck_input\u001b[49m\u001b[43m,\u001b[49m\n\u001b[1;32m    796\u001b[0m \u001b[43m        \u001b[49m\u001b[43msample_weight\u001b[49m\u001b[38;5;241;43m=\u001b[39;49m\u001b[43msample_weight\u001b[49m\u001b[43m,\u001b[49m\n\u001b[1;32m    797\u001b[0m \u001b[43m    \u001b[49m\u001b[43m)\u001b[49m\n\u001b[1;32m    798\u001b[0m     \u001b[38;5;66;03m# Rescale only in dense case. Sparse cd solver directly deals with\u001b[39;00m\n\u001b[1;32m    799\u001b[0m     \u001b[38;5;66;03m# sample_weight.\u001b[39;00m\n\u001b[1;32m    800\u001b[0m     \u001b[38;5;28;01mif\u001b[39;00m sample_weight \u001b[38;5;129;01mis\u001b[39;00m \u001b[38;5;129;01mnot\u001b[39;00m \u001b[38;5;28;01mNone\u001b[39;00m:\n\u001b[1;32m    801\u001b[0m         \u001b[38;5;66;03m# This triggers copies anyway.\u001b[39;00m\n",
      "File \u001b[0;32m~/opt/anaconda3/envs/py311_ccc_decoupler/lib/python3.11/site-packages/sklearn/linear_model/_base.py:184\u001b[0m, in \u001b[0;36m_preprocess_data\u001b[0;34m(X, y, fit_intercept, copy, copy_y, sample_weight, check_input)\u001b[0m\n\u001b[1;32m    182\u001b[0m     X_offset, X_var \u001b[38;5;241m=\u001b[39m mean_variance_axis(X, axis\u001b[38;5;241m=\u001b[39m\u001b[38;5;241m0\u001b[39m, weights\u001b[38;5;241m=\u001b[39msample_weight)\n\u001b[1;32m    183\u001b[0m \u001b[38;5;28;01melse\u001b[39;00m:\n\u001b[0;32m--> 184\u001b[0m     X_offset \u001b[38;5;241m=\u001b[39m \u001b[43m_average\u001b[49m\u001b[43m(\u001b[49m\u001b[43mX\u001b[49m\u001b[43m,\u001b[49m\u001b[43m \u001b[49m\u001b[43maxis\u001b[49m\u001b[38;5;241;43m=\u001b[39;49m\u001b[38;5;241;43m0\u001b[39;49m\u001b[43m,\u001b[49m\u001b[43m \u001b[49m\u001b[43mweights\u001b[49m\u001b[38;5;241;43m=\u001b[39;49m\u001b[43msample_weight\u001b[49m\u001b[43m,\u001b[49m\u001b[43m \u001b[49m\u001b[43mxp\u001b[49m\u001b[38;5;241;43m=\u001b[39;49m\u001b[43mxp\u001b[49m\u001b[43m)\u001b[49m\n\u001b[1;32m    186\u001b[0m     X_offset \u001b[38;5;241m=\u001b[39m xp\u001b[38;5;241m.\u001b[39mastype(X_offset, X\u001b[38;5;241m.\u001b[39mdtype, copy\u001b[38;5;241m=\u001b[39m\u001b[38;5;28;01mFalse\u001b[39;00m)\n\u001b[1;32m    187\u001b[0m     X \u001b[38;5;241m-\u001b[39m\u001b[38;5;241m=\u001b[39m X_offset\n",
      "File \u001b[0;32m~/opt/anaconda3/envs/py311_ccc_decoupler/lib/python3.11/site-packages/sklearn/utils/_array_api.py:716\u001b[0m, in \u001b[0;36m_average\u001b[0;34m(a, axis, weights, normalize, xp)\u001b[0m\n\u001b[1;32m    714\u001b[0m \u001b[38;5;28;01mif\u001b[39;00m _is_numpy_namespace(xp):\n\u001b[1;32m    715\u001b[0m     \u001b[38;5;28;01mif\u001b[39;00m normalize:\n\u001b[0;32m--> 716\u001b[0m         \u001b[38;5;28;01mreturn\u001b[39;00m xp\u001b[38;5;241m.\u001b[39masarray(\u001b[43mnumpy\u001b[49m\u001b[38;5;241;43m.\u001b[39;49m\u001b[43maverage\u001b[49m\u001b[43m(\u001b[49m\u001b[43ma\u001b[49m\u001b[43m,\u001b[49m\u001b[43m \u001b[49m\u001b[43maxis\u001b[49m\u001b[38;5;241;43m=\u001b[39;49m\u001b[43maxis\u001b[49m\u001b[43m,\u001b[49m\u001b[43m \u001b[49m\u001b[43mweights\u001b[49m\u001b[38;5;241;43m=\u001b[39;49m\u001b[43mweights\u001b[49m\u001b[43m)\u001b[49m)\n\u001b[1;32m    717\u001b[0m     \u001b[38;5;28;01melif\u001b[39;00m axis \u001b[38;5;129;01mis\u001b[39;00m \u001b[38;5;28;01mNone\u001b[39;00m \u001b[38;5;129;01mand\u001b[39;00m weights \u001b[38;5;129;01mis\u001b[39;00m \u001b[38;5;129;01mnot\u001b[39;00m \u001b[38;5;28;01mNone\u001b[39;00m:\n\u001b[1;32m    718\u001b[0m         \u001b[38;5;28;01mreturn\u001b[39;00m xp\u001b[38;5;241m.\u001b[39masarray(numpy\u001b[38;5;241m.\u001b[39mdot(a, weights))\n",
      "File \u001b[0;32m~/opt/anaconda3/envs/py311_ccc_decoupler/lib/python3.11/site-packages/numpy/lib/_function_base_impl.py:562\u001b[0m, in \u001b[0;36maverage\u001b[0;34m(a, axis, weights, returned, keepdims)\u001b[0m\n\u001b[1;32m    559\u001b[0m     keepdims_kw \u001b[38;5;241m=\u001b[39m {\u001b[38;5;124m'\u001b[39m\u001b[38;5;124mkeepdims\u001b[39m\u001b[38;5;124m'\u001b[39m: keepdims}\n\u001b[1;32m    561\u001b[0m \u001b[38;5;28;01mif\u001b[39;00m weights \u001b[38;5;129;01mis\u001b[39;00m \u001b[38;5;28;01mNone\u001b[39;00m:\n\u001b[0;32m--> 562\u001b[0m     avg \u001b[38;5;241m=\u001b[39m \u001b[43ma\u001b[49m\u001b[38;5;241;43m.\u001b[39;49m\u001b[43mmean\u001b[49m\u001b[43m(\u001b[49m\u001b[43maxis\u001b[49m\u001b[43m,\u001b[49m\u001b[43m \u001b[49m\u001b[38;5;241;43m*\u001b[39;49m\u001b[38;5;241;43m*\u001b[39;49m\u001b[43mkeepdims_kw\u001b[49m\u001b[43m)\u001b[49m\n\u001b[1;32m    563\u001b[0m     avg_as_array \u001b[38;5;241m=\u001b[39m np\u001b[38;5;241m.\u001b[39masanyarray(avg)\n\u001b[1;32m    564\u001b[0m     scl \u001b[38;5;241m=\u001b[39m avg_as_array\u001b[38;5;241m.\u001b[39mdtype\u001b[38;5;241m.\u001b[39mtype(a\u001b[38;5;241m.\u001b[39msize\u001b[38;5;241m/\u001b[39mavg_as_array\u001b[38;5;241m.\u001b[39msize)\n",
      "File \u001b[0;32m~/opt/anaconda3/envs/py311_ccc_decoupler/lib/python3.11/site-packages/numpy/_core/_methods.py:139\u001b[0m, in \u001b[0;36m_mean\u001b[0;34m(a, axis, dtype, out, keepdims, where)\u001b[0m\n\u001b[1;32m    137\u001b[0m \u001b[38;5;28;01mif\u001b[39;00m \u001b[38;5;28misinstance\u001b[39m(ret, mu\u001b[38;5;241m.\u001b[39mndarray):\n\u001b[1;32m    138\u001b[0m     \u001b[38;5;28;01mwith\u001b[39;00m _no_nep50_warning():\n\u001b[0;32m--> 139\u001b[0m         ret \u001b[38;5;241m=\u001b[39m \u001b[43mum\u001b[49m\u001b[38;5;241;43m.\u001b[39;49m\u001b[43mtrue_divide\u001b[49m\u001b[43m(\u001b[49m\n\u001b[1;32m    140\u001b[0m \u001b[43m                \u001b[49m\u001b[43mret\u001b[49m\u001b[43m,\u001b[49m\u001b[43m \u001b[49m\u001b[43mrcount\u001b[49m\u001b[43m,\u001b[49m\u001b[43m \u001b[49m\u001b[43mout\u001b[49m\u001b[38;5;241;43m=\u001b[39;49m\u001b[43mret\u001b[49m\u001b[43m,\u001b[49m\u001b[43m \u001b[49m\u001b[43mcasting\u001b[49m\u001b[38;5;241;43m=\u001b[39;49m\u001b[38;5;124;43m'\u001b[39;49m\u001b[38;5;124;43munsafe\u001b[39;49m\u001b[38;5;124;43m'\u001b[39;49m\u001b[43m,\u001b[49m\u001b[43m \u001b[49m\u001b[43msubok\u001b[49m\u001b[38;5;241;43m=\u001b[39;49m\u001b[38;5;28;43;01mFalse\u001b[39;49;00m\u001b[43m)\u001b[49m\n\u001b[1;32m    141\u001b[0m     \u001b[38;5;28;01mif\u001b[39;00m is_float16_result \u001b[38;5;129;01mand\u001b[39;00m out \u001b[38;5;129;01mis\u001b[39;00m \u001b[38;5;28;01mNone\u001b[39;00m:\n\u001b[1;32m    142\u001b[0m         ret \u001b[38;5;241m=\u001b[39m arr\u001b[38;5;241m.\u001b[39mdtype\u001b[38;5;241m.\u001b[39mtype(ret)\n",
      "\u001b[0;31mKeyboardInterrupt\u001b[0m: "
     ]
    }
   ],
   "source": [
    "coeff_m = fit_lasso_model_and_get_coefficients(y = data, X = dms, alpha = 0.01)"
   ]
  },
  {
   "cell_type": "code",
   "execution_count": 109,
   "metadata": {},
   "outputs": [],
   "source": [
    "def save_coeffitient_matrix(coeff_matrix, model_name):\n",
    "    path = f'data/coefficient_matrix/high_quality/{model_name}_pert_coef_liana.csv'\n",
    "    print('Save coefficient matrix to '+  path)\n",
    "    coeff_matrix.to_csv(path)\n",
    "    print('Done')"
   ]
  },
  {
   "cell_type": "code",
   "execution_count": 110,
   "metadata": {},
   "outputs": [
    {
     "name": "stdout",
     "output_type": "stream",
     "text": [
      "Save coefficient matrix to data/coefficient_matrix/high_quality/alllasso_pert_coef_liana.csv\n",
      "Done\n"
     ]
    }
   ],
   "source": [
    "# save_coeffitient_matrix(coeff_m, 'alllasso')"
   ]
  },
  {
   "cell_type": "markdown",
   "metadata": {},
   "source": [
    "# Read in data split"
   ]
  },
  {
   "cell_type": "code",
   "execution_count": 118,
   "metadata": {},
   "outputs": [],
   "source": [
    "# ridden_lasso = pd.read_csv(f'data/coefficient_matrix/high_quality/alllasso_pert_coef_liana.csv', index_col = 0)\n",
    "lincs_consensus = pd.read_csv('data/lincs_consensus/high_quality/lm_all_pert_cell_liana.csv', index_col = 0)\n",
    "prior_knowledge = pd.read_csv('data/design_matrices/high_quality/all_pert_binary_liana.csv', index_col = 0)"
   ]
  },
  {
   "cell_type": "code",
   "execution_count": 119,
   "metadata": {},
   "outputs": [],
   "source": [
    "# read in the same split as RIDDEN\n",
    "with open('results/confidence/train_indices_229_s0.json', 'r') as f:\n",
    "    train_indices_dict = json.load(f)\n",
    "with open('results/confidence/test_indices_229_s0.json', 'r') as f:\n",
    "    test_indices_dict = json.load(f)\n"
   ]
  },
  {
   "cell_type": "code",
   "execution_count": 120,
   "metadata": {},
   "outputs": [],
   "source": [
    "train_indices_dict = {int(k): v for k, v in train_indices_dict.items()}\n",
    "test_indices_dict = {int(k): v for k, v in test_indices_dict.items()}"
   ]
  },
  {
   "cell_type": "code",
   "execution_count": 121,
   "metadata": {},
   "outputs": [],
   "source": [
    "train_sets = {}\n",
    "test_sets = {}\n",
    "\n",
    "for key in train_indices_dict.keys():\n",
    "    train_sets[key] = {}\n",
    "    train_sets[key]['prior_knowledge'] = prior_knowledge.loc[train_indices_dict[key]]\n",
    "    train_sets[key]['lincs_consensus'] = lincs_consensus.loc[train_indices_dict[key]]\n",
    "    test_sets[key] = {}\n",
    "    test_sets[key]['prior_knowledge'] = prior_knowledge.loc[test_indices_dict[key]]\n",
    "    test_sets[key]['lincs_consensus'] = lincs_consensus.loc[test_indices_dict[key]]"
   ]
  },
  {
   "cell_type": "code",
   "execution_count": 133,
   "metadata": {},
   "outputs": [
    {
     "name": "stderr",
     "output_type": "stream",
     "text": [
      "100%|██████████| 978/978 [03:36<00:00,  4.51it/s]\n",
      "100%|██████████| 978/978 [03:08<00:00,  5.19it/s]\n",
      "100%|██████████| 978/978 [03:17<00:00,  4.95it/s]\n",
      "100%|██████████| 978/978 [03:19<00:00,  4.90it/s]\n",
      "100%|██████████| 978/978 [02:41<00:00,  6.06it/s]\n",
      "100%|██████████| 5/5 [16:04<00:00, 192.81s/it]\n"
     ]
    }
   ],
   "source": [
    "\n",
    "coeff_matrices = {}\n",
    "for i in tqdm(train_sets):\n",
    "    coeff_matrices[i] = fit_lasso_model_and_get_coefficients(X = train_sets[i]['prior_knowledge'], y = train_sets[i]['lincs_consensus'], alpha = 0.00001)"
   ]
  },
  {
   "cell_type": "code",
   "execution_count": 134,
   "metadata": {},
   "outputs": [],
   "source": [
    "for i in coeff_matrices:\n",
    "    coeff_matrices[i].to_csv(f'results/confidence/coeff_matrix_lasso000001_split_229_s0_{i}.csv')"
   ]
  },
  {
   "cell_type": "code",
   "execution_count": 135,
   "metadata": {},
   "outputs": [],
   "source": [
    "coeff_matrices = {}\n",
    "for i in train_sets:\n",
    "    coeff_matrices[i] = pd.read_csv(f'results/confidence/coeff_matrix_lasso000001_split_229_s0_{i}.csv', index_col = 0)"
   ]
  },
  {
   "cell_type": "code",
   "execution_count": 136,
   "metadata": {},
   "outputs": [
    {
     "name": "stderr",
     "output_type": "stream",
     "text": [
      "  0%|          | 0/5 [00:00<?, ?it/s]"
     ]
    },
    {
     "name": "stdout",
     "output_type": "stream",
     "text": [
      "Number of samples: 7232\n",
      "Number of chunks: 25\n",
      "Number of permutations: 1000\n"
     ]
    },
    {
     "name": "stderr",
     "output_type": "stream",
     "text": [
      "100%|██████████| 25/25 [02:19<00:00,  5.60s/it]\n",
      " 20%|██        | 1/5 [02:20<09:21, 140.41s/it]"
     ]
    },
    {
     "name": "stdout",
     "output_type": "stream",
     "text": [
      "Number of samples: 7232\n",
      "Number of chunks: 25\n",
      "Number of permutations: 1000\n"
     ]
    },
    {
     "name": "stderr",
     "output_type": "stream",
     "text": [
      "100%|██████████| 25/25 [02:03<00:00,  4.95s/it]\n",
      " 40%|████      | 2/5 [04:24<06:32, 130.91s/it]"
     ]
    },
    {
     "name": "stdout",
     "output_type": "stream",
     "text": [
      "Number of samples: 7232\n",
      "Number of chunks: 25\n",
      "Number of permutations: 1000\n"
     ]
    },
    {
     "name": "stderr",
     "output_type": "stream",
     "text": [
      "100%|██████████| 25/25 [02:08<00:00,  5.12s/it]\n",
      " 60%|██████    | 3/5 [06:33<04:19, 129.78s/it]"
     ]
    },
    {
     "name": "stdout",
     "output_type": "stream",
     "text": [
      "Number of samples: 7232\n",
      "Number of chunks: 25\n",
      "Number of permutations: 1000\n"
     ]
    },
    {
     "name": "stderr",
     "output_type": "stream",
     "text": [
      "100%|██████████| 25/25 [02:06<00:00,  5.05s/it]\n",
      " 80%|████████  | 4/5 [08:39<02:08, 128.53s/it]"
     ]
    },
    {
     "name": "stdout",
     "output_type": "stream",
     "text": [
      "Number of samples: 7232\n",
      "Number of chunks: 25\n",
      "Number of permutations: 1000\n"
     ]
    },
    {
     "name": "stderr",
     "output_type": "stream",
     "text": [
      "100%|██████████| 25/25 [02:09<00:00,  5.17s/it]\n",
      "100%|██████████| 5/5 [10:49<00:00, 129.89s/it]\n"
     ]
    }
   ],
   "source": [
    "# predict values with train coeff_m\n",
    "# 10 min\n",
    "receptor_activities = {}\n",
    "for i in tqdm(coeff_matrices):\n",
    "    receptor_activities[i] = estimate_receptor_activity(input_data = test_sets[i]['lincs_consensus'], lincs_model = coeff_matrices[i].T.astype(float), number_of_permutations=1000, chunk_size=300)"
   ]
  },
  {
   "cell_type": "code",
   "execution_count": 137,
   "metadata": {},
   "outputs": [],
   "source": [
    "for i in receptor_activities:\n",
    "    receptor_activities[i].to_csv(f'results/confidence/receptor_activities_lasso000001_split_229_s0_{i}.csv')"
   ]
  },
  {
   "cell_type": "markdown",
   "metadata": {},
   "source": [
    "# MWU and ROC AUC"
   ]
  },
  {
   "cell_type": "code",
   "execution_count": 171,
   "metadata": {},
   "outputs": [],
   "source": [
    "receptor_activities = {}\n",
    "for i in range(0, 5):\n",
    "    receptor_activities[i] = pd.read_csv(f'results/confidence/receptor_activities_lasso_split_229_s0_{i}.csv', index_col =0)"
   ]
  },
  {
   "cell_type": "code",
   "execution_count": 172,
   "metadata": {},
   "outputs": [],
   "source": [
    "def create_negativ_and_positive_binary(binary):\n",
    "    # print(\"Create positive value matrices for ROC curve calculation\")\n",
    "\n",
    "    if (binary == -1).any().any() == False:\n",
    "        print('There are only positive perturbations, no negative matrix')\n",
    "        negative_binary = pd.DataFrame()\n",
    "    else:\n",
    "        negative_binary = binary.replace({1:0})\n",
    "        assert set(np.unique(negative_binary.values)) == {-1, 0}\n",
    "        # delete only 0 rows\n",
    "        s = negative_binary.sum() != 0\n",
    "        negative_binary = negative_binary.loc[:, s.values]\n",
    "        # change sign\n",
    "        negative_binary = negative_binary.replace({-1:1})\n",
    "        assert set(np.unique(negative_binary.values)) == {0, 1}\n",
    "\n",
    "    if (binary == 1).any().any() == False:\n",
    "        print('There are only negative perturbations, no positive matrix')\n",
    "        positive_binary = pd.DataFrame()\n",
    "    else: \n",
    "        positive_binary = binary.replace({-1:0})\n",
    "        assert set(np.unique(positive_binary.values)) == {0, 1}\n",
    "        # delete only 0 rows\n",
    "        s = positive_binary.sum() != 0\n",
    "        positive_binary = positive_binary.loc[:, s.values]\n",
    "\n",
    "    return negative_binary, positive_binary"
   ]
  },
  {
   "cell_type": "code",
   "execution_count": 173,
   "metadata": {},
   "outputs": [],
   "source": [
    "def calculate_rocaucs(binary, activities):\n",
    "    print('Calculate ROC curves')\n",
    "    receptors = list(set(activities.columns) & set(binary.columns))\n",
    "    filtered_activities  = activities.loc[binary.index, receptors]\n",
    "    filtered_binary = binary.loc[filtered_activities.index,receptors]\n",
    "\n",
    "    fpr = dict()\n",
    "    tpr = dict()\n",
    "    roc_auc = dict()\n",
    "    for receptor in filtered_binary.columns:\n",
    "        fpr[receptor], tpr[receptor], _ = roc_curve(filtered_binary.loc[:, receptor], filtered_activities.loc[:, receptor])\n",
    "        fpr[receptor] = fpr[receptor].tolist()\n",
    "        tpr[receptor] = tpr[receptor].tolist()\n",
    "        roc_auc[receptor] = auc(fpr[receptor], tpr[receptor])\n",
    "    return fpr, tpr, roc_auc\n"
   ]
  },
  {
   "cell_type": "code",
   "execution_count": 174,
   "metadata": {},
   "outputs": [],
   "source": [
    "def calculate_rocauc(activities, prior_knowledge):\n",
    "\n",
    "    assert activities.shape[1] != 978\n",
    "    negative_binary, positive_binary = create_negativ_and_positive_binary(prior_knowledge)\n",
    "    results = {}\n",
    "    if len(negative_binary) != 0:\n",
    "        negative_results = {}\n",
    "        negative_results['fpr'], negative_results['tpr'], negative_results['rocauc'] = calculate_rocaucs(negative_binary, activities)\n",
    "        results['negative_results'] = negative_results\n",
    "    if len(positive_binary) != 0:\n",
    "        positive_results = {}\n",
    "        positive_results['fpr'], positive_results['tpr'], positive_results['rocauc'] = calculate_rocaucs(positive_binary, activities)\n",
    "        results['positive_results'] = positive_results\n",
    "    # print('---- Done ----')\n",
    "    return results"
   ]
  },
  {
   "cell_type": "code",
   "execution_count": 175,
   "metadata": {},
   "outputs": [
    {
     "name": "stderr",
     "output_type": "stream",
     "text": [
      "  0%|          | 0/5 [00:00<?, ?it/s]"
     ]
    },
    {
     "name": "stdout",
     "output_type": "stream",
     "text": [
      "Calculate ROC curves\n",
      "Calculate ROC curves\n"
     ]
    },
    {
     "name": "stderr",
     "output_type": "stream",
     "text": [
      " 20%|██        | 1/5 [00:00<00:03,  1.13it/s]"
     ]
    },
    {
     "name": "stdout",
     "output_type": "stream",
     "text": [
      "Calculate ROC curves\n",
      "Calculate ROC curves\n"
     ]
    },
    {
     "name": "stderr",
     "output_type": "stream",
     "text": [
      " 40%|████      | 2/5 [00:01<00:02,  1.10it/s]"
     ]
    },
    {
     "name": "stdout",
     "output_type": "stream",
     "text": [
      "Calculate ROC curves\n",
      "Calculate ROC curves\n"
     ]
    },
    {
     "name": "stderr",
     "output_type": "stream",
     "text": [
      " 60%|██████    | 3/5 [00:02<00:01,  1.07it/s]"
     ]
    },
    {
     "name": "stdout",
     "output_type": "stream",
     "text": [
      "Calculate ROC curves\n",
      "Calculate ROC curves\n"
     ]
    },
    {
     "name": "stderr",
     "output_type": "stream",
     "text": [
      " 80%|████████  | 4/5 [00:03<00:00,  1.11it/s]"
     ]
    },
    {
     "name": "stdout",
     "output_type": "stream",
     "text": [
      "Calculate ROC curves\n",
      "Calculate ROC curves\n"
     ]
    },
    {
     "name": "stderr",
     "output_type": "stream",
     "text": [
      "100%|██████████| 5/5 [00:04<00:00,  1.11it/s]\n"
     ]
    }
   ],
   "source": [
    "\n",
    "all_rocauc_results = {}\n",
    "for i in tqdm(range(5)):\n",
    "    results = calculate_rocauc(activities = receptor_activities[i], prior_knowledge = prior_knowledge.loc[test_indices_dict[i]])\n",
    "    all_rocauc_results[i] = results"
   ]
  },
  {
   "cell_type": "code",
   "execution_count": 176,
   "metadata": {},
   "outputs": [],
   "source": [
    "all_receptor = []\n",
    "for i in all_rocauc_results.keys():\n",
    "    for results in all_rocauc_results[i].keys():\n",
    "        stat = all_rocauc_results[i][results]['rocauc']\n",
    "        all_receptor.extend(list(stat.keys()))\n",
    "all_receptor = set(all_receptor)"
   ]
  },
  {
   "cell_type": "code",
   "execution_count": 177,
   "metadata": {},
   "outputs": [],
   "source": [
    "# get all receptors\n",
    "all_receptor = []\n",
    "for i in all_rocauc_results.keys():\n",
    "    for results in all_rocauc_results[i].keys():\n",
    "        stat = all_rocauc_results[i][results]['rocauc']\n",
    "        all_receptor.extend(list(stat.keys()))\n",
    "all_receptor = set(all_receptor)\n",
    "\n",
    "split_list = []\n",
    "direction_list = []\n",
    "receptor_list = []\n",
    "metric_list = []\n",
    "stat_list = []\n",
    "for split, results in all_rocauc_results.items():\n",
    "    for direction, metrics in results.items():\n",
    "        if direction in ['negative_results', 'positive_results']:\n",
    "            for metric, values in metrics.items():\n",
    "                if metric == 'rocauc':\n",
    "                    for receptor, stat in values.items():\n",
    "                        split_list.append(split)\n",
    "                        direction_list.append(direction)\n",
    "                        metric_list.append(metric)\n",
    "                        receptor_list.append(receptor)\n",
    "                        stat_list.append(stat)\n",
    "\n",
    "\n",
    "all_results_df_rocauc = pd.DataFrame({\n",
    "    'Split': split_list,\n",
    "    'Direction': direction_list,\n",
    "    'Receptor': receptor_list,\n",
    "    'Metric': metric_list, \n",
    "    'ROCAUC':stat_list\n",
    "})\n",
    "\n",
    "all_results_df_rocauc = all_results_df_rocauc.pivot(index = ['Split', 'Direction', 'Receptor'], columns = 'Metric', values = 'ROCAUC').reset_index()\n",
    "means_df = all_results_df_rocauc.groupby(['Split', 'Receptor']).agg({'rocauc':'max'}).reset_index()\n",
    "overall_means_df = means_df.groupby(['Receptor']).agg({'rocauc':'max'}).reset_index()\n",
    "overall_means_df = overall_means_df.sort_values(by = 'rocauc')\n"
   ]
  },
  {
   "cell_type": "code",
   "execution_count": 181,
   "metadata": {},
   "outputs": [
    {
     "data": {
      "text/html": [
       "<div>\n",
       "<style scoped>\n",
       "    .dataframe tbody tr th:only-of-type {\n",
       "        vertical-align: middle;\n",
       "    }\n",
       "\n",
       "    .dataframe tbody tr th {\n",
       "        vertical-align: top;\n",
       "    }\n",
       "\n",
       "    .dataframe thead th {\n",
       "        text-align: right;\n",
       "    }\n",
       "</style>\n",
       "<table border=\"1\" class=\"dataframe\">\n",
       "  <thead>\n",
       "    <tr style=\"text-align: right;\">\n",
       "      <th>Metric</th>\n",
       "      <th>Receptor</th>\n",
       "      <th>rocauc</th>\n",
       "    </tr>\n",
       "  </thead>\n",
       "  <tbody>\n",
       "    <tr>\n",
       "      <th>175</th>\n",
       "      <td>PDCD1</td>\n",
       "      <td>0.772614</td>\n",
       "    </tr>\n",
       "  </tbody>\n",
       "</table>\n",
       "</div>"
      ],
      "text/plain": [
       "Metric Receptor    rocauc\n",
       "175       PDCD1  0.772614"
      ]
     },
     "execution_count": 181,
     "metadata": {},
     "output_type": "execute_result"
    }
   ],
   "source": [
    "overall_means_df[overall_means_df['Receptor'] == 'PDCD1']"
   ]
  },
  {
   "cell_type": "code",
   "execution_count": 182,
   "metadata": {},
   "outputs": [],
   "source": [
    "def add_median_labels(ax, fmt='.2f'):\n",
    "    lines = ax.get_lines()\n",
    "    boxes = [c for c in ax.get_children() if type(c).__name__ == 'PathPatch']\n",
    "    lines_per_box = int(len(lines) / len(boxes))\n",
    "    for median in lines[4:len(lines):lines_per_box]:\n",
    "        x, y = (data.mean() for data in median.get_data())\n",
    "        # choose value depending on horizontal or vertical plot orientation\n",
    "        value = x if (median.get_xdata()[1] - median.get_xdata()[0]) == 0 else y\n",
    "        text = ax.text(x, y+0.03, f'{value:{fmt}}', ha='center', va='center',\n",
    "                       fontweight='bold', color='black')"
   ]
  },
  {
   "cell_type": "code",
   "execution_count": 183,
   "metadata": {},
   "outputs": [
    {
     "data": {
      "image/png": "[encoded data removed]",
      "text/plain": [
       "<Figure size 70x300 with 1 Axes>"
      ]
     },
     "metadata": {},
     "output_type": "display_data"
    }
   ],
   "source": [
    "fig, ax = plt.subplots(figsize=(0.7, 3))\n",
    "sns.boxplot(data=overall_means_df['rocauc'], color = 'white')\n",
    "add_median_labels(ax)\n",
    "plt.xlabel('Receptors')\n",
    "plt.ylabel('ROCAUC')\n",
    "plt.grid(axis = 'y')\n",
    "# plt.savefig('figures/revision/2_7_1_rocauc_boxplot_lasso.png', dpi = 300, bbox_inches = 'tight')\n",
    "# plt.savefig('figures/revision/2_7_1_rocauc_boxplot_lasso.pdf', dpi = 300, bbox_inches = 'tight')\n",
    "# plt.savefig('figures/revision/2_7_1_rocauc_boxplot_lasso.jpg', dpi = 300, bbox_inches = 'tight')\n",
    "plt.show()"
   ]
  },
  {
   "cell_type": "markdown",
   "metadata": {},
   "source": [
    "# MWU"
   ]
  },
  {
   "cell_type": "code",
   "execution_count": 184,
   "metadata": {},
   "outputs": [],
   "source": [
    "def mwu_test(receptor_binary, receptor_activity, side):\n",
    "    if side == 'negative': alt = 'less'\n",
    "    elif side == 'positive': alt = 'greater'\n",
    "    pos = receptor_binary[receptor_binary == 1].index\n",
    "    neg = receptor_binary[receptor_binary == 0].index\n",
    "    pos = receptor_activity.loc[pos]\n",
    "    neg = receptor_activity.loc[neg]\n",
    "    if len(pos) >8: # under 8 it will be a recursion error, MWU test cannot be calculated\n",
    "        u_stat, p_value = mannwhitneyu(pos.values, neg.values, alternative=alt, axis=0)\n",
    "    else:\n",
    "        u_stat, p_value = np.nan, 1\n",
    "    return u_stat, p_value\n"
   ]
  },
  {
   "cell_type": "code",
   "execution_count": 185,
   "metadata": {},
   "outputs": [],
   "source": [
    "def calculate_mwu_pvalues(binary, activities, side):\n",
    "    receptors = list(set(activities.columns) & set(binary.columns))\n",
    "    filtered_activities  = activities.loc[binary.index, receptors]\n",
    "    filtered_binary = binary.loc[filtered_activities.index,receptors]\n",
    "\n",
    "    mwu_stat = dict()\n",
    "    mwu_pval = dict()\n",
    "    for receptor in filtered_binary.columns:\n",
    "        mwu_stat[receptor], mwu_pval[receptor] = mwu_test(filtered_binary.loc[:, receptor], filtered_activities.loc[:, receptor], side)\n",
    "    return mwu_stat, mwu_pval\n"
   ]
  },
  {
   "cell_type": "code",
   "execution_count": 186,
   "metadata": {},
   "outputs": [],
   "source": [
    "\n",
    "def calculate_mwustatistics(activities, prior_knowledge):\n",
    "\n",
    "    assert activities.shape[1] != 978\n",
    "    negative_binary, positive_binary = create_negativ_and_positive_binary(prior_knowledge)\n",
    "    results = {}\n",
    "    if len(negative_binary) != 0:\n",
    "        negative_results = {}\n",
    "        negative_results['mwu_stat'], negative_results['mwu_pvalue'] = calculate_mwu_pvalues(negative_binary, activities, side = 'negative')\n",
    "        results['negative_results'] = negative_results\n",
    "    if len(positive_binary) != 0:\n",
    "        positive_results = {}\n",
    "        positive_results['mwu_stat'], positive_results['mwu_pvalue'] = calculate_mwu_pvalues(positive_binary, activities, side = 'positive')\n",
    "        results['positive_results'] = positive_results\n",
    "    # print('---- Done ----')\n",
    "    return results"
   ]
  },
  {
   "cell_type": "code",
   "execution_count": 187,
   "metadata": {},
   "outputs": [
    {
     "name": "stderr",
     "output_type": "stream",
     "text": [
      "100%|██████████| 5/5 [00:08<00:00,  1.66s/it]\n"
     ]
    }
   ],
   "source": [
    "\n",
    "mwu_all_results = {}\n",
    "for i in tqdm(range(5)):\n",
    "    results = calculate_mwustatistics(activities = receptor_activities[i], prior_knowledge = prior_knowledge.loc[test_indices_dict[i]])\n",
    "    mwu_all_results[i] = results"
   ]
  },
  {
   "cell_type": "code",
   "execution_count": 188,
   "metadata": {},
   "outputs": [],
   "source": [
    "# get all receptors\n",
    "all_receptor = []\n",
    "for i in mwu_all_results.keys():\n",
    "    for results in mwu_all_results[i].keys():\n",
    "        mwustat = mwu_all_results[i][results]['mwu_stat']\n",
    "        all_receptor.extend(list(mwustat.keys()))\n",
    "all_receptor = set(all_receptor)\n",
    "\n",
    "split_list = []\n",
    "direction_list = []\n",
    "receptor_list = []\n",
    "metric_list = []\n",
    "stat_list = []\n",
    "for split, results in mwu_all_results.items():\n",
    "    for direction, metrics in results.items():\n",
    "        if direction in ['negative_results', 'positive_results']:\n",
    "            for metric, values in metrics.items():\n",
    "                    for receptor, stat in values.items():\n",
    "                        split_list.append(split)\n",
    "                        direction_list.append(direction)\n",
    "                        metric_list.append(metric)\n",
    "                        receptor_list.append(receptor)\n",
    "                        stat_list.append(stat)\n",
    "\n",
    "\n",
    "all_results_df = pd.DataFrame({\n",
    "    'Split': split_list,\n",
    "    'Direction': direction_list,\n",
    "    'Receptor': receptor_list,\n",
    "    'Metric': metric_list, \n",
    "    'MWU_stat':stat_list\n",
    "})\n",
    "\n",
    "all_results_df = all_results_df.pivot(index = ['Split', 'Direction', 'Receptor'], columns = 'Metric', values = 'MWU_stat').reset_index()\n",
    "means_df = all_results_df.groupby(['Split', 'Receptor']).agg({'mwu_pvalue':'mean', 'mwu_stat':'mean'}).reset_index()\n",
    "overall_means_df = means_df.groupby(['Receptor']).agg({'mwu_pvalue':'mean', 'mwu_stat':'mean'}).reset_index()\n",
    "overall_means_df = overall_means_df.sort_values(by = 'mwu_pvalue')\n"
   ]
  },
  {
   "cell_type": "code",
   "execution_count": 189,
   "metadata": {},
   "outputs": [
    {
     "data": {
      "text/plain": [
       "(np.float64(0.10243741555067742),\n",
       " np.float64(0.303996869321714),\n",
       " np.float64(0.5))"
      ]
     },
     "execution_count": 189,
     "metadata": {},
     "output_type": "execute_result"
    }
   ],
   "source": [
    "overall_means_df_notna= overall_means_df.dropna()\n",
    "q1 = np.percentile(overall_means_df_notna.mwu_pvalue, 20)\n",
    "q2 = np.percentile(overall_means_df_notna.mwu_pvalue, 40)  # Median\n",
    "q3 = np.percentile(overall_means_df_notna.mwu_pvalue, 60)\n",
    "q4 = np.percentile(overall_means_df_notna.mwu_pvalue, 80)\n",
    "q1, q2, q3"
   ]
  },
  {
   "cell_type": "code",
   "execution_count": 190,
   "metadata": {},
   "outputs": [],
   "source": [
    "def assign_confidence(value):\n",
    "    if value < q1:\n",
    "        return 'A'\n",
    "    elif value < q2:\n",
    "        return 'B'\n",
    "    elif value < q3:\n",
    "        return 'C'\n",
    "    elif value < q4:\n",
    "        return 'D'\n",
    "    else:\n",
    "        return 'E'\n",
    "overall_means_df['Confidence'] = overall_means_df['mwu_pvalue'].apply(assign_confidence)"
   ]
  },
  {
   "cell_type": "code",
   "execution_count": 191,
   "metadata": {},
   "outputs": [
    {
     "data": {
      "text/html": [
       "<div>\n",
       "<style scoped>\n",
       "    .dataframe tbody tr th:only-of-type {\n",
       "        vertical-align: middle;\n",
       "    }\n",
       "\n",
       "    .dataframe tbody tr th {\n",
       "        vertical-align: top;\n",
       "    }\n",
       "\n",
       "    .dataframe thead th {\n",
       "        text-align: right;\n",
       "    }\n",
       "</style>\n",
       "<table border=\"1\" class=\"dataframe\">\n",
       "  <thead>\n",
       "    <tr style=\"text-align: right;\">\n",
       "      <th>Metric</th>\n",
       "      <th>Receptor</th>\n",
       "      <th>mwu_pvalue</th>\n",
       "      <th>mwu_stat</th>\n",
       "      <th>Confidence</th>\n",
       "    </tr>\n",
       "  </thead>\n",
       "  <tbody>\n",
       "    <tr>\n",
       "      <th>102</th>\n",
       "      <td>IFNGR2</td>\n",
       "      <td>2.016687e-09</td>\n",
       "      <td>96396.8</td>\n",
       "      <td>A</td>\n",
       "    </tr>\n",
       "    <tr>\n",
       "      <th>101</th>\n",
       "      <td>IFNGR1</td>\n",
       "      <td>9.577660e-03</td>\n",
       "      <td>87703.2</td>\n",
       "      <td>A</td>\n",
       "    </tr>\n",
       "    <tr>\n",
       "      <th>99</th>\n",
       "      <td>IFNAR1</td>\n",
       "      <td>1.023950e-01</td>\n",
       "      <td>91833.4</td>\n",
       "      <td>A</td>\n",
       "    </tr>\n",
       "    <tr>\n",
       "      <th>100</th>\n",
       "      <td>IFNAR2</td>\n",
       "      <td>1.024374e-01</td>\n",
       "      <td>97988.2</td>\n",
       "      <td>B</td>\n",
       "    </tr>\n",
       "    <tr>\n",
       "      <th>175</th>\n",
       "      <td>PDCD1</td>\n",
       "      <td>4.006135e-01</td>\n",
       "      <td>26915.2</td>\n",
       "      <td>C</td>\n",
       "    </tr>\n",
       "  </tbody>\n",
       "</table>\n",
       "</div>"
      ],
      "text/plain": [
       "Metric Receptor    mwu_pvalue  mwu_stat Confidence\n",
       "102      IFNGR2  2.016687e-09   96396.8          A\n",
       "101      IFNGR1  9.577660e-03   87703.2          A\n",
       "99       IFNAR1  1.023950e-01   91833.4          A\n",
       "100      IFNAR2  1.024374e-01   97988.2          B\n",
       "175       PDCD1  4.006135e-01   26915.2          C"
      ]
     },
     "execution_count": 191,
     "metadata": {},
     "output_type": "execute_result"
    }
   ],
   "source": [
    "overall_means_df[(overall_means_df['Receptor'].str.contains('IFN')) | (overall_means_df['Receptor'].str.contains('PDCD1'))]"
   ]
  },
  {
   "cell_type": "code",
   "execution_count": 192,
   "metadata": {},
   "outputs": [
    {
     "data": {
      "text/plain": [
       "Confidence\n",
       "A    42\n",
       "B    42\n",
       "C    42\n",
       "D    42\n",
       "E    61\n",
       "Name: Receptor, dtype: int64"
      ]
     },
     "execution_count": 192,
     "metadata": {},
     "output_type": "execute_result"
    }
   ],
   "source": [
    "overall_means_df.groupby('Confidence')['Receptor'].count()"
   ]
  },
  {
   "cell_type": "code",
   "execution_count": 193,
   "metadata": {},
   "outputs": [],
   "source": [
    "overall_means_df.to_csv(f'results/confidence/receptor_rocauc_mean_confidence_scores_lasso_229_mwup_withna.csv')"
   ]
  },
  {
   "cell_type": "code",
   "execution_count": null,
   "metadata": {},
   "outputs": [],
   "source": []
  }
 ],
 "metadata": {
  "kernelspec": {
   "display_name": "py311_ccc_decoupler",
   "language": "python",
   "name": "python3"
  },
  "language_info": {
   "codemirror_mode": {
    "name": "ipython",
    "version": 3
   },
   "file_extension": ".py",
   "mimetype": "text/x-python",
   "name": "python",
   "nbconvert_exporter": "python",
   "pygments_lexer": "ipython3",
   "version": "3.11.11"
  },
  "orig_nbformat": 4
 },
 "nbformat": 4,
 "nbformat_minor": 2
}
