{
 "cells": [
  {
   "cell_type": "code",
   "execution_count": 39,
   "metadata": {},
   "outputs": [],
   "source": [
    "import pandas as pd\n",
    "import numpy as np\n",
    "from glob import glob\n",
    "from tqdm  import tqdm\n",
    "from src.config import *\n",
    "from sklearn.metrics import roc_auc_score"
   ]
  },
  {
   "cell_type": "code",
   "execution_count": 40,
   "metadata": {},
   "outputs": [],
   "source": [
    "import matplotlib.pyplot as plt\n",
    "import seaborn as sns"
   ]
  },
  {
   "cell_type": "code",
   "execution_count": 41,
   "metadata": {},
   "outputs": [],
   "source": [
    "import liana as li"
   ]
  },
  {
   "cell_type": "code",
   "execution_count": 42,
   "metadata": {},
   "outputs": [],
   "source": [
    "import scanpy as sc\n",
    "import anndata"
   ]
  },
  {
   "cell_type": "code",
   "execution_count": 43,
   "metadata": {},
   "outputs": [],
   "source": [
    "def add_median_labels(ax, fmt='.2f'):\n",
    "    lines = ax.get_lines()\n",
    "    boxes = [c for c in ax.get_children() if type(c).__name__ == 'PathPatch']\n",
    "    lines_per_box = int(len(lines) / len(boxes))\n",
    "    for median in lines[4:len(lines):lines_per_box]:\n",
    "        x, y = (data.mean() for data in median.get_data())\n",
    "        # choose value depending on horizontal or vertical plot orientation\n",
    "        value = x if (median.get_xdata()[1] - median.get_xdata()[0]) == 0 else y\n",
    "        text = ax.text(x, y+0.03, f'{value:{fmt}}', ha='center', va='center',\n",
    "                       fontweight='bold', color='black')"
   ]
  },
  {
   "cell_type": "code",
   "execution_count": 44,
   "metadata": {},
   "outputs": [],
   "source": [
    "from liana.method import singlecellsignalr, connectome, cellphonedb, natmi, logfc, cellchat, geometric_mean"
   ]
  },
  {
   "cell_type": "code",
   "execution_count": 45,
   "metadata": {},
   "outputs": [],
   "source": [
    "cellphone_results = glob('data/immunedict/ImmuneDict/cpdb_res_prop0'  + '/*')\n",
    "lr_associations = pd.read_csv(LIG_REC_DF, index_col = 0)\n",
    "lr_associations = lr_associations[['source_genesymbol', 'target_genesymbol']]"
   ]
  },
  {
   "cell_type": "code",
   "execution_count": 46,
   "metadata": {},
   "outputs": [],
   "source": [
    "celltypes = pd.read_csv(cellphone_results[0], index_col=0).target.unique()"
   ]
  },
  {
   "cell_type": "code",
   "execution_count": 47,
   "metadata": {},
   "outputs": [
    {
     "name": "stderr",
     "output_type": "stream",
     "text": [
      "100%|██████████| 87/87 [00:44<00:00,  1.95it/s]\n"
     ]
    }
   ],
   "source": [
    "all_results = {}\n",
    "for filename in tqdm(cellphone_results):\n",
    "    pert_lrinteractions = pd.read_csv(filename, index_col = 0)\n",
    "    pert = filename.split('/')[-1].split('.')[0].split(' ')[0]\n",
    "    if pert == 'PBS':\n",
    "        continue\n",
    "    pert_lrinteractions['1-pval'] = 1- (pert_lrinteractions['cellphone_pvals'])\n",
    "    pert_lrinteractions = pert_lrinteractions[(pert_lrinteractions['receptor_props'] > 0.1)] # & (pert_lrinteractions['ligand_props'] > 0.1)\n",
    "    all_results[pert] = pert_lrinteractions[['ligand', 'receptor', 'source', 'target', 'cellphone_pvals', '1-pval']]"
   ]
  },
  {
   "cell_type": "code",
   "execution_count": 48,
   "metadata": {},
   "outputs": [],
   "source": [
    "cytokine_annotation = pd.read_excel('data/immunedict/41586_2023_6816_MOESM3_ESM.xlsx')\n",
    "cytokine_annotation['Cytokine'] = cytokine_annotation.Cytokine.str.replace('4-1BBL', '41BBL')\n",
    "cytokine_annotation['Cytokine'] = cytokine_annotation.Cytokine.str.replace('IGF-1', 'IGF-I')\n",
    "cytokine_annotation['Cytokine'] = cytokine_annotation.Cytokine.str.replace('LT-α1/β2', 'LTA1-B2')\n",
    "cytokine_annotation['Cytokine'] = cytokine_annotation.Cytokine.str.replace('LT-α2/β1', 'LTA2-B1')\n",
    "cytokine_annotation['Human gene symbol'] = cytokine_annotation['Human gene symbol'].str.replace('-', '')\n",
    "cytokine_map = cytokine_annotation[['Cytokine', 'Human gene symbol']].dropna().set_index('Cytokine')['Human gene symbol'].to_dict()\n",
    "cytokine_map['APRIL'] = 'TNFSF13B'"
   ]
  },
  {
   "cell_type": "code",
   "execution_count": 49,
   "metadata": {},
   "outputs": [
    {
     "name": "stderr",
     "output_type": "stream",
     "text": [
      "/var/folders/ld/gy00m33j1pn81v2x1sj_h3pm0000gn/T/ipykernel_56050/3022315007.py:2: SettingWithCopyWarning: \n",
      "A value is trying to be set on a copy of a slice from a DataFrame.\n",
      "Try using .loc[row_indexer,col_indexer] = value instead\n",
      "\n",
      "See the caveats in the documentation: https://pandas.pydata.org/pandas-docs/stable/user_guide/indexing.html#returning-a-view-versus-a-copy\n"
     ]
    }
   ],
   "source": [
    "for pert in all_results.keys():\n",
    "    all_results[pert]['true_value'] = all_results[pert]['ligand'].apply(\n",
    "    lambda x: 1 if x in cytokine_map[pert].split(', ') else 0\n",
    ")"
   ]
  },
  {
   "cell_type": "code",
   "execution_count": 50,
   "metadata": {},
   "outputs": [
    {
     "data": {
      "text/plain": [
       "dict_keys(['LTA1-B2', 'IL-36Ra', 'FGF-β', 'EGF', 'OX40L', 'IFN-κ', 'Leptin', 'APRIL', 'IL-1Ra', 'NP', 'SCF', 'OSM', 'IL-17A', 'LIF', 'IL-11', 'IL-10', 'AdipoQ', 'IL-17B', 'IL-12', 'IL-13', 'LIGHT', 'IL-17C', 'IGF-I', 'VEGF', 'IL-Y', 'IL-9', 'BAFF', 'IL-36α', 'IL-1α', 'IL-17F', 'IL-17D', 'PRL', 'TNF-α', 'PSPN', 'IL-15', 'GM-CSF', 'GDNF', 'IL-1β', 'IL-17E', 'IL-18', 'IL-24', 'IL-7', 'IL-30', 'IL-31', 'IL-6', 'TSLP', 'IL-19', 'M-CSF', 'CD40L', 'IFN-α1', 'IL-33', 'IL-4', 'IL-27', 'IL-5', 'HGF', 'ADSF', 'IL-22', 'IL-23', 'TGF-β1', 'CT-1', 'TWEAK', 'Noggin', 'IL-2', 'IL-21', 'C5a', 'IL-34', 'IL-3', 'IL-20', 'LTA2-B1', 'IFN-λ2', 'TL1A', 'RANKL', 'IFN-ε', 'FLT3L', 'G-CSF', 'TPO', 'CD27L', 'FasL', 'Decorin', 'TRAIL', 'CD30L', 'GITRL', 'IFN-γ', 'C3a', 'IFN-β', '41BBL'])"
      ]
     },
     "execution_count": 50,
     "metadata": {},
     "output_type": "execute_result"
    }
   ],
   "source": [
    "all_results.keys()"
   ]
  },
  {
   "cell_type": "code",
   "execution_count": 51,
   "metadata": {},
   "outputs": [
    {
     "name": "stdout",
     "output_type": "stream",
     "text": [
      "IL17A\n"
     ]
    }
   ],
   "source": [
    "pert = 'LTA1-B2'\n",
    "print(cytokine_map['IL-17A'])"
   ]
  },
  {
   "cell_type": "code",
   "execution_count": 52,
   "metadata": {},
   "outputs": [
    {
     "name": "stdout",
     "output_type": "stream",
     "text": [
      "86\n",
      "44\n"
     ]
    }
   ],
   "source": [
    "# not available\n",
    "print(len(all_results))\n",
    "dropkeys = []\n",
    "for pert in all_results.keys():\n",
    "    if (all_results[pert]['true_value'] == 1).any():\n",
    "        continue\n",
    "    else:\n",
    "        dropkeys.append(pert)\n",
    "\n",
    "for key in dropkeys:\n",
    "    all_results.pop(key, None)\n",
    "print(len(all_results))"
   ]
  },
  {
   "cell_type": "code",
   "execution_count": 115,
   "metadata": {},
   "outputs": [
    {
     "name": "stderr",
     "output_type": "stream",
     "text": [
      "/var/folders/ld/gy00m33j1pn81v2x1sj_h3pm0000gn/T/ipykernel_56050/1359092855.py:20: SettingWithCopyWarning: \n",
      "A value is trying to be set on a copy of a slice from a DataFrame.\n",
      "Try using .loc[row_indexer,col_indexer] = value instead\n",
      "\n",
      "See the caveats in the documentation: https://pandas.pydata.org/pandas-docs/stable/user_guide/indexing.html#returning-a-view-versus-a-copy\n",
      "/var/folders/ld/gy00m33j1pn81v2x1sj_h3pm0000gn/T/ipykernel_56050/1359092855.py:21: SettingWithCopyWarning: \n",
      "A value is trying to be set on a copy of a slice from a DataFrame.\n",
      "Try using .loc[row_indexer,col_indexer] = value instead\n",
      "\n",
      "See the caveats in the documentation: https://pandas.pydata.org/pandas-docs/stable/user_guide/indexing.html#returning-a-view-versus-a-copy\n",
      "/var/folders/ld/gy00m33j1pn81v2x1sj_h3pm0000gn/T/ipykernel_56050/1359092855.py:22: SettingWithCopyWarning: \n",
      "A value is trying to be set on a copy of a slice from a DataFrame.\n",
      "Try using .loc[row_indexer,col_indexer] = value instead\n",
      "\n",
      "See the caveats in the documentation: https://pandas.pydata.org/pandas-docs/stable/user_guide/indexing.html#returning-a-view-versus-a-copy\n",
      "/var/folders/ld/gy00m33j1pn81v2x1sj_h3pm0000gn/T/ipykernel_56050/1359092855.py:23: SettingWithCopyWarning: \n",
      "A value is trying to be set on a copy of a slice from a DataFrame.\n",
      "Try using .loc[row_indexer,col_indexer] = value instead\n",
      "\n",
      "See the caveats in the documentation: https://pandas.pydata.org/pandas-docs/stable/user_guide/indexing.html#returning-a-view-versus-a-copy\n",
      "/var/folders/ld/gy00m33j1pn81v2x1sj_h3pm0000gn/T/ipykernel_56050/1359092855.py:24: SettingWithCopyWarning: \n",
      "A value is trying to be set on a copy of a slice from a DataFrame.\n",
      "Try using .loc[row_indexer,col_indexer] = value instead\n",
      "\n",
      "See the caveats in the documentation: https://pandas.pydata.org/pandas-docs/stable/user_guide/indexing.html#returning-a-view-versus-a-copy\n"
     ]
    }
   ],
   "source": [
    "\n",
    "map_cells = {'B cell': 'B_cell',\n",
    " 'ILC': 'ILC',\n",
    " 'Mast_cell': 'Mast cell',\n",
    " 'Macrophage': 'Macrophage',\n",
    " 'MigDC': 'MigDC',\n",
    " 'Monocyte': 'Monocyte',\n",
    " 'NK cell': 'NK_cell',\n",
    " 'Neutrophil': 'Neutrophil',\n",
    " 'Langerhans': 'Langerhans',\n",
    " 'CD4+ T cell': 'T_cell_CD4',\n",
    " 'CD8+ T cell': 'T_cell_CD8',\n",
    " 'γδ T cell': 'T_cell_gd',\n",
    " 'Treg': 'Treg',\n",
    " 'cDC1': 'cDC1',\n",
    " 'cDC2': 'cDC2',\n",
    " 'eTAC': 'eTAC',\n",
    " 'pDC': 'pDC'}\n",
    "degs = pd.read_excel('data/immunedict/41586_2023_6816_MOESM13_ESM.xlsx', sheet_name = 2)\n",
    "nondegs = degs[(degs['nDEGs_display'] == '≤10')]\n",
    "nondegs['Cytokine'] = nondegs['Cytokine'].str.replace('4-1BBL', '41BBL')\n",
    "nondegs['Cytokine'] = nondegs['Cytokine'].str.replace('IGF-1', 'IGF-I')\n",
    "nondegs['Cytokine'] = nondegs['Cytokine'].str.replace('LT-α1/β2', 'LTA1-B2')\n",
    "nondegs['Cytokine'] = nondegs['Cytokine'].str.replace('LT-α2/β1', 'LTA2-B1')\n",
    "nondegs['Celltype'] = nondegs['Celltype'].map(map_cells)\n",
    "nondegs = nondegs.dropna(subset = ['Celltype'])"
   ]
  },
  {
   "cell_type": "code",
   "execution_count": 116,
   "metadata": {},
   "outputs": [
    {
     "data": {
      "text/plain": [
       "array(['T_cell_CD4', 'T_cell_CD8', 'T_cell_gd', 'Treg', 'ILC', 'pDC',\n",
       "       'cDC1', 'cDC2', 'MigDC', 'Langerhans', 'eTAC', 'Macrophage',\n",
       "       'Monocyte', 'Neutrophil'], dtype=object)"
      ]
     },
     "execution_count": 116,
     "metadata": {},
     "output_type": "execute_result"
    }
   ],
   "source": [
    "nondegs[nondegs['Cytokine'] == pert]['Celltype'].unique()"
   ]
  },
  {
   "cell_type": "code",
   "execution_count": 122,
   "metadata": {},
   "outputs": [],
   "source": [
    "from sklearn.metrics import roc_auc_score\n",
    "\n",
    "auc_scores = {}  \n",
    "\n",
    "for pert in all_results.keys():\n",
    "    if pert in nondegs.Cytokine.unique():\n",
    "        cells = nondegs[nondegs['Cytokine'] == pert]['Celltype'].unique()\n",
    "        allresults_pert_filtered = all_results[pert][~(all_results[pert]['source'].isin(cells) | all_results[pert]['target'].isin(cells))]\n",
    "    else:\n",
    "        allresults_pert_filtered = all_results[pert]\n",
    "    true_values = allresults_pert_filtered['true_value'] \n",
    "    scores = allresults_pert_filtered['1-pval']  \n",
    "    if len(set(true_values)) > 1:\n",
    "        auc_scores[pert] = roc_auc_score(true_values, scores)\n",
    "    else:\n",
    "        auc_scores[pert] = None \n",
    "auc_scores = pd.Series(auc_scores).sort_values()"
   ]
  },
  {
   "cell_type": "code",
   "execution_count": 123,
   "metadata": {},
   "outputs": [
    {
     "data": {
      "text/plain": [
       "np.float64(0.4038754736136038)"
      ]
     },
     "execution_count": 123,
     "metadata": {},
     "output_type": "execute_result"
    }
   ],
   "source": [
    "auc_scores.median()"
   ]
  },
  {
   "cell_type": "code",
   "execution_count": 127,
   "metadata": {},
   "outputs": [],
   "source": [
    "auc_scores.to_csv('results/revision/cellphonedb_immunedict_results_prop01_filtereddegs.csv')"
   ]
  },
  {
   "cell_type": "code",
   "execution_count": 126,
   "metadata": {},
   "outputs": [
    {
     "data": {
      "image/png": "[encoded data removed]",
      "text/plain": [
       "<Figure size 150x500 with 1 Axes>"
      ]
     },
     "metadata": {},
     "output_type": "display_data"
    }
   ],
   "source": [
    "fig, ax = plt.subplots(figsize=(1.5, 5))\n",
    "sns.boxplot(auc_scores, color = 'white')\n",
    "sns.stripplot(auc_scores, color = '#6baed6')\n",
    "plt.axhline(0.5, color = 'gray', linestyle = '--')\n",
    "add_median_labels(ax)\n",
    "plt.xticks([])\n",
    "plt.ylabel('ROC AUC')\n",
    "plt.ylim(0, 1)\n",
    "plt.xlabel('Cytokine\\nPerturbations')\n",
    "plt.savefig('figures/revision/cellphonedb_immunedict_results_prop01_filtereddegs.pdf', bbox_inches = 'tight', dpi = 350)\n",
    "plt.savefig('figures/revision/cellphonedb_immunedict_results_prop01_filtereddegs.png', bbox_inches = 'tight', dpi = 350)\n",
    "plt.savefig('figures/revision/cellphonedb_immunedict_results_prop01_filtereddegs.jpg', bbox_inches = 'tight', dpi = 350)\n",
    "plt.show()"
   ]
  },
  {
   "cell_type": "code",
   "execution_count": null,
   "metadata": {},
   "outputs": [],
   "source": []
  },
  {
   "cell_type": "code",
   "execution_count": null,
   "metadata": {},
   "outputs": [],
   "source": []
  }
 ],
 "metadata": {
  "kernelspec": {
   "display_name": "py311_ccc_decoupler",
   "language": "python",
   "name": "python3"
  },
  "language_info": {
   "codemirror_mode": {
    "name": "ipython",
    "version": 3
   },
   "file_extension": ".py",
   "mimetype": "text/x-python",
   "name": "python",
   "nbconvert_exporter": "python",
   "pygments_lexer": "ipython3",
   "version": "3.11.11"
  }
 },
 "nbformat": 4,
 "nbformat_minor": 2
}
