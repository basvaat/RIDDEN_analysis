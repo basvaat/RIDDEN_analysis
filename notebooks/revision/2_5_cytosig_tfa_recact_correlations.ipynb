{
 "cells": [
  {
   "cell_type": "code",
   "execution_count": 1,
   "metadata": {},
   "outputs": [],
   "source": [
    "%load_ext autoreload\n",
    "%autoreload 2"
   ]
  },
  {
   "cell_type": "code",
   "execution_count": 2,
   "metadata": {},
   "outputs": [],
   "source": [
    "import pandas as pd\n",
    "import numpy as np\n",
    "from glob import glob\n",
    "from tqdm import tqdm\n",
    "from src.prediction_functions import *\n",
    "from scipy.stats import ttest_ind\n",
    "from scipy.stats import pearsonr\n"
   ]
  },
  {
   "cell_type": "code",
   "execution_count": 3,
   "metadata": {},
   "outputs": [],
   "source": [
    "from src.config import *\n",
    "from src.prediction_functions.MatrixMultiplicationMemoryEffectiveChunks import estimate_receptor_activity\n"
   ]
  },
  {
   "cell_type": "code",
   "execution_count": 4,
   "metadata": {},
   "outputs": [],
   "source": [
    "import matplotlib.pyplot as plt\n",
    "import seaborn as sns"
   ]
  },
  {
   "cell_type": "code",
   "execution_count": 5,
   "metadata": {},
   "outputs": [
    {
     "name": "stderr",
     "output_type": "stream",
     "text": [
      "/Users/basvaat/opt/anaconda3/envs/py311_ccc_decoupler/lib/python3.11/site-packages/tqdm/auto.py:21: TqdmWarning: IProgress not found. Please update jupyter and ipywidgets. See https://ipywidgets.readthedocs.io/en/stable/user_install.html\n",
      "  from .autonotebook import tqdm as notebook_tqdm\n"
     ]
    }
   ],
   "source": [
    "import decoupler as dc\n"
   ]
  },
  {
   "cell_type": "markdown",
   "metadata": {},
   "source": [
    "# Read in data"
   ]
  },
  {
   "cell_type": "code",
   "execution_count": 6,
   "metadata": {},
   "outputs": [],
   "source": [
    "confidence_scores = pd.read_csv(f'results/confidence/receptor_rocauc_mean_confidence_scores_229_mwup_withna.csv', index_col = 0)"
   ]
  },
  {
   "cell_type": "code",
   "execution_count": 7,
   "metadata": {},
   "outputs": [],
   "source": [
    "confidence_metric = 'mwu_pvalue'# 'ROCAUC'"
   ]
  },
  {
   "cell_type": "code",
   "execution_count": 8,
   "metadata": {},
   "outputs": [],
   "source": [
    "lincs_model = pd.read_csv(f'data/coefficient_matrix/high_quality/all_pert_coef_liana.csv', index_col =0)\n",
    "lincs_model = lincs_model.T"
   ]
  },
  {
   "cell_type": "code",
   "execution_count": 9,
   "metadata": {},
   "outputs": [],
   "source": [
    "lr_associations = pd.read_csv(LIG_REC_DF, index_col = 0)\n",
    "lr_associations = lr_associations[['source_genesymbol', 'target_genesymbol']]\n",
    "lr_associations_receptor = lr_associations[lr_associations['target_genesymbol'].isin(lincs_model.columns)]"
   ]
  },
  {
   "cell_type": "code",
   "execution_count": 10,
   "metadata": {},
   "outputs": [],
   "source": [
    "cytosig_data = pd.read_csv(f'data/cytosig/diff.merge.gz', compression='gzip', sep = '\\t')\n",
    "cytosig_data = cytosig_data.T"
   ]
  },
  {
   "cell_type": "markdown",
   "metadata": {},
   "source": [
    "# Prediction"
   ]
  },
  {
   "cell_type": "code",
   "execution_count": 11,
   "metadata": {},
   "outputs": [
    {
     "data": {
      "text/plain": [
       "(2056, 8021)"
      ]
     },
     "execution_count": 11,
     "metadata": {},
     "output_type": "execute_result"
    }
   ],
   "source": [
    "# axis= 1 -> columns\n",
    "cytosig_data_notna = cytosig_data.dropna(axis = 1, thresh= 0.95*cytosig_data.shape[0]).fillna(0)\n",
    "cytosig_data_notna.shape"
   ]
  },
  {
   "cell_type": "code",
   "execution_count": 12,
   "metadata": {},
   "outputs": [
    {
     "name": "stdout",
     "output_type": "stream",
     "text": [
      "Number of samples: 2056\n",
      "Number of chunks: 7\n",
      "Number of permutations: 100\n"
     ]
    },
    {
     "name": "stderr",
     "output_type": "stream",
     "text": [
      "100%|██████████| 7/7 [00:03<00:00,  2.06it/s]\n"
     ]
    }
   ],
   "source": [
    "receptor_activity = estimate_receptor_activity(cytosig_data_notna, lincs_model, number_of_permutations=100, chunk_size=300)\n",
    "# receptor_activity = pd.read_csv('results/temp/lincs_cytosig_prediction_filteredsignatures.csv', index_col = 0)"
   ]
  },
  {
   "cell_type": "code",
   "execution_count": 13,
   "metadata": {},
   "outputs": [],
   "source": [
    "# tf_net = dc.get_collectri(organism='human', split_complexes=True)\n",
    "dorothea = dc.get_dorothea(levels = ['A', 'B', 'C'])"
   ]
  },
  {
   "cell_type": "code",
   "execution_count": 14,
   "metadata": {},
   "outputs": [],
   "source": [
    "tf_acts, tf_pvals = dc.run_consensus(mat=cytosig_data_notna, net=dorothea)\n"
   ]
  },
  {
   "cell_type": "markdown",
   "metadata": {},
   "source": [
    "# KEGG"
   ]
  },
  {
   "cell_type": "code",
   "execution_count": 15,
   "metadata": {},
   "outputs": [],
   "source": [
    "with open(f'data/genesets/c2.cp.kegg.v2023.1.Hs.symbols.gmt') as gmt:\n",
    "    file_contents = (gmt.read())"
   ]
  },
  {
   "cell_type": "code",
   "execution_count": 16,
   "metadata": {},
   "outputs": [],
   "source": [
    "file_contents = file_contents.split('\\n')\n",
    "file_contents = file_contents[:-1]\n",
    "kegg_pws = {}\n",
    "for line in file_contents:\n",
    "    elements = line.split('\\t')  # Split each line into elements using '\\t' as the separator\n",
    "    id_ = elements[0]  # First element is the ID\n",
    "    elements_list = elements[2:]  # Elements starting from the third element\n",
    "    kegg_pws[id_] = elements_list"
   ]
  },
  {
   "cell_type": "code",
   "execution_count": 17,
   "metadata": {},
   "outputs": [
    {
     "data": {
      "text/plain": [
       "229"
      ]
     },
     "execution_count": 17,
     "metadata": {},
     "output_type": "execute_result"
    }
   ],
   "source": [
    "receptors = list(receptor_activity.columns)\n",
    "len(receptors)"
   ]
  },
  {
   "cell_type": "code",
   "execution_count": 18,
   "metadata": {},
   "outputs": [
    {
     "data": {
      "text/plain": [
       "280"
      ]
     },
     "execution_count": 18,
     "metadata": {},
     "output_type": "execute_result"
    }
   ],
   "source": [
    "tfs = list(tf_acts.columns)\n",
    "len(tfs)"
   ]
  },
  {
   "cell_type": "code",
   "execution_count": 19,
   "metadata": {},
   "outputs": [],
   "source": [
    "pairs = {}\n",
    "for receptor in receptors:\n",
    "    for tf in tfs:\n",
    "        cnt = 0\n",
    "        for pw in kegg_pws:\n",
    "            proteinlist = kegg_pws[pw]\n",
    "            if tf in proteinlist and receptor in proteinlist:\n",
    "                cnt += 1\n",
    "        pairs[receptor+'_'+tf] = cnt\n",
    "        "
   ]
  },
  {
   "cell_type": "code",
   "execution_count": 20,
   "metadata": {},
   "outputs": [],
   "source": [
    "pairs_yesno = {key: (1 if value >= 1 else 0) for key, value in pairs.items()}\n"
   ]
  },
  {
   "cell_type": "code",
   "execution_count": 23,
   "metadata": {},
   "outputs": [],
   "source": [
    "correlation_matrix = pd.DataFrame(index=receptor_activity.columns, columns=tf_acts.columns)\n",
    "\n",
    "for receptor in receptor_activity.columns:\n",
    "    for tf in tf_acts.columns:\n",
    "        correlation_matrix.loc[receptor, tf] = pearsonr(receptor_activity[receptor], tf_acts[tf])[0]\n",
    "correlation_matrix = correlation_matrix.apply(pd.to_numeric)\n",
    "# if the receptor is inactive: tf should be 0\n",
    "# if the receptor is 0: tf should be 0\n",
    "# if the receptor is active: tf should be high or low. (abs)"
   ]
  },
  {
   "cell_type": "code",
   "execution_count": 24,
   "metadata": {},
   "outputs": [
    {
     "name": "stderr",
     "output_type": "stream",
     "text": [
      "/var/folders/ld/gy00m33j1pn81v2x1sj_h3pm0000gn/T/ipykernel_93917/1414747481.py:17: FutureWarning: \n",
      "\n",
      "Passing `palette` without assigning `hue` is deprecated and will be removed in v0.14.0. Assign the `x` variable to `hue` and set `legend=False` for the same effect.\n",
      "\n",
      "  sns.boxplot(y='Correlation', x='Pair', data=boxplot_data, palette = 'Blues', showfliers=False)\n"
     ]
    },
    {
     "data": {
      "image/png": "[encoded data removed]",
      "text/plain": [
       "<Figure size 300x600 with 1 Axes>"
      ]
     },
     "metadata": {},
     "output_type": "display_data"
    }
   ],
   "source": [
    "\n",
    "data = []\n",
    "for pair, value in pairs_yesno.items():\n",
    "    receptor, tf = pair.split('_', 1)\n",
    "    if value == 1:\n",
    "        data.append((receptor, tf, 1, correlation_matrix.loc[receptor, tf]))\n",
    "    else:\n",
    "        data.append((receptor, tf, 0, correlation_matrix.loc[receptor, tf]))\n",
    "\n",
    "boxplot_data = pd.DataFrame(data, columns=['Receptor', 'TF', 'Pair', 'Correlation'])\n",
    "\n",
    "group_0 = boxplot_data[boxplot_data['Pair'] == 0]['Correlation']\n",
    "group_1 = boxplot_data[boxplot_data['Pair'] == 1]['Correlation']\n",
    "inpw = group_1\n",
    "outpw = group_0\n",
    "\n",
    "fig, ax = plt.subplots(figsize=(3, 6))\n",
    "sns.boxplot(y='Correlation', x='Pair', data=boxplot_data, palette = 'Blues', showfliers=False)\n",
    "\n",
    "ax.text(0, np.median(outpw)+0.05, 'n='+str(len(outpw)), ha='center', va='center', color='k', fontsize=9)\n",
    "ax.text(1, np.median(inpw)+0.05, 'n='+str(len(inpw)), ha='center', va='center', color='k', fontsize=9)\n",
    "ttestres = ttest_ind(outpw, inpw)\n",
    "ax.text(0.01, 0.6, str(\"t-test\\nt=\"+\"{:.2f}\".format(ttestres[0])+\"\\np=\"+\"{:.1e}\".format(ttestres[1])), ha='left')\n",
    "\n",
    "plt.xlabel('TF in pathway with receptor')\n",
    "plt.grid(axis='y')\n",
    "plt.xticks([0, 1], ['No', 'Yes'])\n",
    "plt.ylabel('Pearson\\'s correlation')\n",
    "plt.ylim(-1, 1)\n",
    "plt.savefig('figures/revision/kegg_pw_abstfa_reca_correlation_boxplot.png', dpi=300, bbox_inches='tight')\n",
    "plt.savefig('figures/revision/kegg_pw_abstfa_reca_correlation_boxplot.pdf', dpi=300, bbox_inches='tight')\n",
    "plt.savefig('figures/revision/kegg_pw_abstfa_reca_correlation_boxplot.jpg', dpi=300, bbox_inches='tight')\n",
    "plt.show()"
   ]
  },
  {
   "cell_type": "code",
   "execution_count": null,
   "metadata": {},
   "outputs": [],
   "source": []
  }
 ],
 "metadata": {
  "kernelspec": {
   "display_name": "py311_ccc_decoupler",
   "language": "python",
   "name": "python3"
  },
  "language_info": {
   "codemirror_mode": {
    "name": "ipython",
    "version": 3
   },
   "file_extension": ".py",
   "mimetype": "text/x-python",
   "name": "python",
   "nbconvert_exporter": "python",
   "pygments_lexer": "ipython3",
   "version": "3.11.11"
  }
 },
 "nbformat": 4,
 "nbformat_minor": 2
}
