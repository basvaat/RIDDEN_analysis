{
 "cells": [
  {
   "cell_type": "code",
   "execution_count": 583,
   "metadata": {},
   "outputs": [],
   "source": [
    "import pandas as pd\n",
    "import numpy as np\n",
    "import os\n",
    "from sklearn.metrics import roc_auc_score\n",
    "import seaborn as sns\n",
    "import matplotlib.pyplot as plt\n",
    "from scipy.stats import ttest_ind"
   ]
  },
  {
   "cell_type": "code",
   "execution_count": 584,
   "metadata": {},
   "outputs": [],
   "source": [
    "def add_median_labels(ax, fmt='.2f'):\n",
    "    lines = ax.get_lines()\n",
    "    boxes = [c for c in ax.get_children() if type(c).__name__ == 'PathPatch']\n",
    "    lines_per_box = int(len(lines) / len(boxes))\n",
    "    for median in lines[4:len(lines):lines_per_box]:\n",
    "        x, y = (data.mean() for data in median.get_data())\n",
    "        # choose value depending on horizontal or vertical plot orientation\n",
    "        value = x if (median.get_xdata()[1] - median.get_xdata()[0]) == 0 else y\n",
    "        text = ax.text(x, y+0.03, f'{value:{fmt}}', ha='center', va='center',\n",
    "                       fontweight='bold', color='black')"
   ]
  },
  {
   "cell_type": "code",
   "execution_count": 673,
   "metadata": {},
   "outputs": [],
   "source": [
    "\n",
    "nn_files = os.listdir('results/revision/nn_results/results_deg/')\n",
    "\n",
    "nn_results = {}\n",
    "\n",
    "for file in nn_files:\n",
    "    if file == '.DS_Store': continue\n",
    "    cytokine = file.split('_')[2]\n",
    "    celltype = '_'.join(file.split('_')[3:]).split('.csv')[0]\n",
    "    df = pd.read_csv(f'results/revision/nn_results/results_deg/{file}', index_col = 0)  \n",
    "\n",
    "    if cytokine not in nn_results:\n",
    "        nn_results[cytokine] = {} \n",
    "\n",
    "    nn_results[cytokine][celltype] = df "
   ]
  },
  {
   "cell_type": "code",
   "execution_count": 674,
   "metadata": {},
   "outputs": [],
   "source": [
    "for cytokine in nn_results.keys():\n",
    "    nn_results[cytokine] = pd.concat(nn_results[cytokine]).reset_index().rename(columns = {'level_0':'celltype'})"
   ]
  },
  {
   "cell_type": "code",
   "execution_count": 675,
   "metadata": {},
   "outputs": [
    {
     "name": "stdout",
     "output_type": "stream",
     "text": [
      "88\n"
     ]
    }
   ],
   "source": [
    "all_cytokines = nn_results.keys()\n",
    "print(len(all_cytokines))"
   ]
  },
  {
   "cell_type": "code",
   "execution_count": 676,
   "metadata": {},
   "outputs": [],
   "source": [
    "nn_results = pd.concat(nn_results).reset_index().rename(columns = {'level_0':'cytokine'})"
   ]
  },
  {
   "cell_type": "code",
   "execution_count": 677,
   "metadata": {},
   "outputs": [],
   "source": [
    "nn_results['cytokine'] = nn_results.cytokine.str.split(' ').str[0]\n",
    "nn_results['cytokine'] = nn_results['cytokine'].str.replace('41BBL', '4-1BBL')\n",
    "nn_results['cytokine'] = nn_results['cytokine'].str.replace('IGF-I', 'IGF-1')"
   ]
  },
  {
   "cell_type": "code",
   "execution_count": 678,
   "metadata": {},
   "outputs": [
    {
     "name": "stderr",
     "output_type": "stream",
     "text": [
      "/var/folders/ld/gy00m33j1pn81v2x1sj_h3pm0000gn/T/ipykernel_3135/2528324003.py:3: SettingWithCopyWarning: \n",
      "A value is trying to be set on a copy of a slice from a DataFrame.\n",
      "Try using .loc[row_indexer,col_indexer] = value instead\n",
      "\n",
      "See the caveats in the documentation: https://pandas.pydata.org/pandas-docs/stable/user_guide/indexing.html#returning-a-view-versus-a-copy\n",
      "  nondegs['Cytokine'] = nondegs['Cytokine'].str.replace('41BBL', '4-1BBL')\n",
      "/var/folders/ld/gy00m33j1pn81v2x1sj_h3pm0000gn/T/ipykernel_3135/2528324003.py:4: SettingWithCopyWarning: \n",
      "A value is trying to be set on a copy of a slice from a DataFrame.\n",
      "Try using .loc[row_indexer,col_indexer] = value instead\n",
      "\n",
      "See the caveats in the documentation: https://pandas.pydata.org/pandas-docs/stable/user_guide/indexing.html#returning-a-view-versus-a-copy\n",
      "  nondegs['Cytokine'] = nondegs['Cytokine'].str.replace('IGF-I', 'IGF-1')\n",
      "/var/folders/ld/gy00m33j1pn81v2x1sj_h3pm0000gn/T/ipykernel_3135/2528324003.py:5: SettingWithCopyWarning: \n",
      "A value is trying to be set on a copy of a slice from a DataFrame.\n",
      "Try using .loc[row_indexer,col_indexer] = value instead\n",
      "\n",
      "See the caveats in the documentation: https://pandas.pydata.org/pandas-docs/stable/user_guide/indexing.html#returning-a-view-versus-a-copy\n",
      "  nondegs['Cytokine'] = nondegs['Cytokine'].str.replace('LT-α1/β2', 'LTA1-B2')\n",
      "/var/folders/ld/gy00m33j1pn81v2x1sj_h3pm0000gn/T/ipykernel_3135/2528324003.py:6: SettingWithCopyWarning: \n",
      "A value is trying to be set on a copy of a slice from a DataFrame.\n",
      "Try using .loc[row_indexer,col_indexer] = value instead\n",
      "\n",
      "See the caveats in the documentation: https://pandas.pydata.org/pandas-docs/stable/user_guide/indexing.html#returning-a-view-versus-a-copy\n",
      "  nondegs['Cytokine'] = nondegs['Cytokine'].str.replace('LT-α2/β1', 'LTA2-B1')\n"
     ]
    }
   ],
   "source": [
    "degs = pd.read_excel('data/immunedict/41586_2023_6816_MOESM13_ESM.xlsx', sheet_name = 2)\n",
    "nondegs = degs[(degs['nDEGs_display'] == '≤10')]\n",
    "nondegs['Cytokine'] = nondegs['Cytokine'].str.replace('41BBL', '4-1BBL')\n",
    "nondegs['Cytokine'] = nondegs['Cytokine'].str.replace('IGF-I', 'IGF-1')\n",
    "nondegs['Cytokine'] = nondegs['Cytokine'].str.replace('LT-α1/β2', 'LTA1-B2')\n",
    "nondegs['Cytokine'] = nondegs['Cytokine'].str.replace('LT-α2/β1', 'LTA2-B1')"
   ]
  },
  {
   "cell_type": "code",
   "execution_count": 762,
   "metadata": {},
   "outputs": [],
   "source": [
    "# filter out signatures where not <10 DEG genes\n",
    "filtered_results = nn_results.merge(nondegs[['Celltype', 'Cytokine']], left_on=['cytokine', 'celltype'], right_on = ['Cytokine', 'Celltype'], how='left', indicator=True)\n",
    "nn_results = filtered_results[filtered_results['_merge'] == 'left_only'].drop(columns=['_merge'])"
   ]
  },
  {
   "cell_type": "code",
   "execution_count": 763,
   "metadata": {},
   "outputs": [],
   "source": [
    "cytokine_annotation = pd.read_excel('data/immunedict/41586_2023_6816_MOESM3_ESM.xlsx')\n",
    "cytokine_map = cytokine_annotation[['Cytokine', 'Mouse gene symbol']].dropna().set_index('Cytokine')['Mouse gene symbol'].to_dict()\n",
    "cytokine_map['LTA1-B2'] = cytokine_map['LT-α1/β2']\n",
    "cytokine_map['LTA2-B1'] = cytokine_map['LT-α2/β1']"
   ]
  },
  {
   "cell_type": "code",
   "execution_count": 764,
   "metadata": {},
   "outputs": [],
   "source": [
    "nn_results['mouse_cytokine_pert'] = nn_results['cytokine'].map(cytokine_map)"
   ]
  },
  {
   "cell_type": "code",
   "execution_count": 765,
   "metadata": {},
   "outputs": [
    {
     "data": {
      "text/plain": [
       "1193"
      ]
     },
     "execution_count": 765,
     "metadata": {},
     "output_type": "execute_result"
    }
   ],
   "source": [
    "len(nn_results['test_ligand'].unique())"
   ]
  },
  {
   "cell_type": "code",
   "execution_count": 766,
   "metadata": {},
   "outputs": [],
   "source": [
    "# True value table for ROC analysis\n",
    "true_value_table = nn_results.copy()\n",
    "true_value_table['ligand_list'] = true_value_table['test_ligand'].str.split(', ')\n",
    "true_value_table = true_value_table.explode('ligand_list')\n",
    "true_value_table['match'] = (true_value_table['mouse_cytokine_pert'] == true_value_table['ligand_list']).astype(int)\n",
    "# we don't aggregate this by this\n",
    "# true_value_table = true_value_table.pivot_table(index=['cytokine', 'celltype'], columns='ligand_list', values='match',\n",
    "#                                       aggfunc='max', fill_value=0)\n",
    "true_value_table = true_value_table.pivot_table(index=['cytokine', 'celltype'], columns='ligand_list', values='match', fill_value=0)\n",
    "true_value_table.columns.name = None\n",
    "true_value_table = true_value_table.loc[true_value_table.any(axis=1)]\n",
    "true_value_table = true_value_table.loc[:, true_value_table.any(axis=0)]# - if I would like ot use only the cytokines for the analysis"
   ]
  },
  {
   "cell_type": "code",
   "execution_count": 767,
   "metadata": {},
   "outputs": [],
   "source": [
    "true_value_table = true_value_table.reset_index()\n",
    "true_value_table['index'] = true_value_table['cytokine'] + '_' + true_value_table['celltype']\n",
    "true_value_table = true_value_table.set_index('index', drop = True)\n",
    "true_value_table = true_value_table.drop(columns = ['cytokine', 'celltype'])"
   ]
  },
  {
   "cell_type": "code",
   "execution_count": 800,
   "metadata": {},
   "outputs": [],
   "source": [
    "nn_results_mod = nn_results.copy() #nn_results.groupby(['mouse_cytokine_pert', 'cytokine', 'test_ligand'])[['aupr_corrected', 'pearson']].mean().reset_index()#\n",
    "nn_results_mod['ligand_list'] = nn_results_mod['test_ligand'].str.split(', ')\n",
    "nn_results_mod = nn_results_mod.explode('ligand_list')\n",
    "nn_results_mod = nn_results_mod.drop_duplicates(subset=['cytokine', 'celltype', 'ligand_list'])\n",
    "nn_results_mod = nn_results_mod.pivot(index=['cytokine', 'celltype'], columns='ligand_list', values='aupr')\n",
    "nn_results_mod = nn_results_mod[list(set(nn_results_mod.columns)  & set(true_value_table.columns))]"
   ]
  },
  {
   "cell_type": "code",
   "execution_count": 801,
   "metadata": {},
   "outputs": [],
   "source": [
    "nn_results_mod = nn_results_mod.reset_index()\n",
    "nn_results_mod['index'] = nn_results_mod['cytokine'] + '_' + nn_results_mod['celltype']\n",
    "nn_results_mod = nn_results_mod.set_index('index', drop = True)\n",
    "nn_results_mod = nn_results_mod.drop(columns = ['cytokine', 'celltype'])"
   ]
  },
  {
   "cell_type": "code",
   "execution_count": 802,
   "metadata": {},
   "outputs": [
    {
     "name": "stdout",
     "output_type": "stream",
     "text": [
      "(698, 64) (698, 64)\n"
     ]
    }
   ],
   "source": [
    "true_value_table, nn_results_mod = true_value_table.align(nn_results_mod)\n",
    "print(nn_results_mod.shape, true_value_table.shape)"
   ]
  },
  {
   "cell_type": "code",
   "execution_count": 803,
   "metadata": {},
   "outputs": [],
   "source": [
    "roc_auc_results = {}\n",
    "for cytokine in true_value_table.columns:\n",
    "    valid_idx = nn_results_mod[cytokine].notna() & true_value_table[cytokine].notna()\n",
    "    y_true = true_value_table[cytokine][valid_idx]\n",
    "    y_calc = nn_results_mod[cytokine][valid_idx]\n",
    "\n",
    "    # Compute ROC AUC only if we have both 0s and 1s after filtering\n",
    "    if len(set(y_true)) > 1:\n",
    "        roc_auc = roc_auc_score(y_true, y_calc)\n",
    "        roc_auc_results[cytokine] = roc_auc\n",
    "    else:\n",
    "        roc_auc_results[cytokine] = None\n",
    "nn_roc_auc_results = pd.DataFrame.from_dict(roc_auc_results, orient='index', columns=['ROC_AUC'])\n"
   ]
  },
  {
   "cell_type": "code",
   "execution_count": 804,
   "metadata": {},
   "outputs": [],
   "source": [
    "# nn_roc_auc_results['ROC_AUC'] = 1- nn_roc_auc_results['ROC_AUC'] # if we check rank"
   ]
  },
  {
   "cell_type": "code",
   "execution_count": 805,
   "metadata": {},
   "outputs": [
    {
     "data": {
      "text/html": [
       "<div>\n",
       "<style scoped>\n",
       "    .dataframe tbody tr th:only-of-type {\n",
       "        vertical-align: middle;\n",
       "    }\n",
       "\n",
       "    .dataframe tbody tr th {\n",
       "        vertical-align: top;\n",
       "    }\n",
       "\n",
       "    .dataframe thead th {\n",
       "        text-align: right;\n",
       "    }\n",
       "</style>\n",
       "<table border=\"1\" class=\"dataframe\">\n",
       "  <thead>\n",
       "    <tr style=\"text-align: right;\">\n",
       "      <th></th>\n",
       "      <th>ROC_AUC</th>\n",
       "    </tr>\n",
       "  </thead>\n",
       "  <tbody>\n",
       "    <tr>\n",
       "      <th>Adipoq</th>\n",
       "      <td>0.546032</td>\n",
       "    </tr>\n",
       "    <tr>\n",
       "      <th>C3</th>\n",
       "      <td>0.814803</td>\n",
       "    </tr>\n",
       "    <tr>\n",
       "      <th>Cd40lg</th>\n",
       "      <td>0.349440</td>\n",
       "    </tr>\n",
       "    <tr>\n",
       "      <th>Cd70</th>\n",
       "      <td>0.568755</td>\n",
       "    </tr>\n",
       "    <tr>\n",
       "      <th>Csf1</th>\n",
       "      <td>0.296296</td>\n",
       "    </tr>\n",
       "    <tr>\n",
       "      <th>...</th>\n",
       "      <td>...</td>\n",
       "    </tr>\n",
       "    <tr>\n",
       "      <th>Tnfsf18</th>\n",
       "      <td>0.596657</td>\n",
       "    </tr>\n",
       "    <tr>\n",
       "      <th>Tnfsf4</th>\n",
       "      <td>0.701657</td>\n",
       "    </tr>\n",
       "    <tr>\n",
       "      <th>Tnfsf9</th>\n",
       "      <td>0.466535</td>\n",
       "    </tr>\n",
       "    <tr>\n",
       "      <th>Tslp</th>\n",
       "      <td>0.376144</td>\n",
       "    </tr>\n",
       "    <tr>\n",
       "      <th>Vegfa</th>\n",
       "      <td>0.566532</td>\n",
       "    </tr>\n",
       "  </tbody>\n",
       "</table>\n",
       "<p>64 rows × 1 columns</p>\n",
       "</div>"
      ],
      "text/plain": [
       "          ROC_AUC\n",
       "Adipoq   0.546032\n",
       "C3       0.814803\n",
       "Cd40lg   0.349440\n",
       "Cd70     0.568755\n",
       "Csf1     0.296296\n",
       "...           ...\n",
       "Tnfsf18  0.596657\n",
       "Tnfsf4   0.701657\n",
       "Tnfsf9   0.466535\n",
       "Tslp     0.376144\n",
       "Vegfa    0.566532\n",
       "\n",
       "[64 rows x 1 columns]"
      ]
     },
     "execution_count": 805,
     "metadata": {},
     "output_type": "execute_result"
    }
   ],
   "source": [
    "nn_roc_auc_results"
   ]
  },
  {
   "cell_type": "code",
   "execution_count": 806,
   "metadata": {},
   "outputs": [],
   "source": [
    "# nn_roc_auc_results.to_csv('results/revision/nn_immunedict_rocauc_noaggregation.csv')"
   ]
  },
  {
   "cell_type": "code",
   "execution_count": 807,
   "metadata": {},
   "outputs": [],
   "source": [
    "cytokines = nn_results_mod.index.str.split('_').str[0].unique()\n",
    "results ={}\n",
    "for cyt in cytokines:\n",
    "    if cyt == 'PBS':\n",
    "        continue\n",
    "    if cytokine_map[cyt] not in nn_results_mod.columns:\n",
    "        continue\n",
    "    pert = nn_results_mod[nn_results_mod.index.str.contains(cyt)][cytokine_map[cyt]].dropna()\n",
    "    notpert = nn_results_mod[~nn_results_mod.index.str.contains(cyt)][cytokine_map[cyt]].dropna()\n",
    "    res = ttest_ind(pert, notpert)\n",
    "    results[cyt] = {'mousegenesymbol':cytokine_map[cyt], 'tstat':res[0], 'pval':res[1]}\n",
    "results = pd.DataFrame(results).T"
   ]
  },
  {
   "cell_type": "code",
   "execution_count": 808,
   "metadata": {},
   "outputs": [
    {
     "data": {
      "text/html": [
       "<div>\n",
       "<style scoped>\n",
       "    .dataframe tbody tr th:only-of-type {\n",
       "        vertical-align: middle;\n",
       "    }\n",
       "\n",
       "    .dataframe tbody tr th {\n",
       "        vertical-align: top;\n",
       "    }\n",
       "\n",
       "    .dataframe thead th {\n",
       "        text-align: right;\n",
       "    }\n",
       "</style>\n",
       "<table border=\"1\" class=\"dataframe\">\n",
       "  <thead>\n",
       "    <tr style=\"text-align: right;\">\n",
       "      <th></th>\n",
       "      <th>mousegenesymbol</th>\n",
       "      <th>tstat</th>\n",
       "      <th>pval</th>\n",
       "    </tr>\n",
       "  </thead>\n",
       "  <tbody>\n",
       "    <tr>\n",
       "      <th>M-CSF</th>\n",
       "      <td>Csf1</td>\n",
       "      <td>-1.94199</td>\n",
       "      <td>0.053148</td>\n",
       "    </tr>\n",
       "    <tr>\n",
       "      <th>GM-CSF</th>\n",
       "      <td>Csf2</td>\n",
       "      <td>-1.927707</td>\n",
       "      <td>0.054569</td>\n",
       "    </tr>\n",
       "    <tr>\n",
       "      <th>IL-4</th>\n",
       "      <td>Il4</td>\n",
       "      <td>-1.903677</td>\n",
       "      <td>0.057364</td>\n",
       "    </tr>\n",
       "    <tr>\n",
       "      <th>IL-13</th>\n",
       "      <td>Il13</td>\n",
       "      <td>-1.896655</td>\n",
       "      <td>0.058287</td>\n",
       "    </tr>\n",
       "    <tr>\n",
       "      <th>IFN-λ2</th>\n",
       "      <td>Ifnl2</td>\n",
       "      <td>-1.661417</td>\n",
       "      <td>0.097093</td>\n",
       "    </tr>\n",
       "    <tr>\n",
       "      <th>...</th>\n",
       "      <td>...</td>\n",
       "      <td>...</td>\n",
       "      <td>...</td>\n",
       "    </tr>\n",
       "    <tr>\n",
       "      <th>PSPN</th>\n",
       "      <td>Pspn</td>\n",
       "      <td>2.073588</td>\n",
       "      <td>0.039154</td>\n",
       "    </tr>\n",
       "    <tr>\n",
       "      <th>C3a</th>\n",
       "      <td>C3</td>\n",
       "      <td>3.659548</td>\n",
       "      <td>0.000272</td>\n",
       "    </tr>\n",
       "    <tr>\n",
       "      <th>LIGHT</th>\n",
       "      <td>Tnfsf14</td>\n",
       "      <td>5.179211</td>\n",
       "      <td>0.000001</td>\n",
       "    </tr>\n",
       "    <tr>\n",
       "      <th>IFN-α1</th>\n",
       "      <td>Ifna1</td>\n",
       "      <td>8.206693</td>\n",
       "      <td>0.0</td>\n",
       "    </tr>\n",
       "    <tr>\n",
       "      <th>IFN-β</th>\n",
       "      <td>Ifnb1</td>\n",
       "      <td>9.272753</td>\n",
       "      <td>0.0</td>\n",
       "    </tr>\n",
       "  </tbody>\n",
       "</table>\n",
       "<p>64 rows × 3 columns</p>\n",
       "</div>"
      ],
      "text/plain": [
       "       mousegenesymbol     tstat      pval\n",
       "M-CSF             Csf1  -1.94199  0.053148\n",
       "GM-CSF            Csf2 -1.927707  0.054569\n",
       "IL-4               Il4 -1.903677  0.057364\n",
       "IL-13             Il13 -1.896655  0.058287\n",
       "IFN-λ2           Ifnl2 -1.661417  0.097093\n",
       "...                ...       ...       ...\n",
       "PSPN              Pspn  2.073588  0.039154\n",
       "C3a                 C3  3.659548  0.000272\n",
       "LIGHT          Tnfsf14  5.179211  0.000001\n",
       "IFN-α1           Ifna1  8.206693       0.0\n",
       "IFN-β            Ifnb1  9.272753       0.0\n",
       "\n",
       "[64 rows x 3 columns]"
      ]
     },
     "execution_count": 808,
     "metadata": {},
     "output_type": "execute_result"
    }
   ],
   "source": [
    "results.sort_values(by = 'tstat')"
   ]
  },
  {
   "cell_type": "code",
   "execution_count": 809,
   "metadata": {},
   "outputs": [
    {
     "name": "stderr",
     "output_type": "stream",
     "text": [
      "/var/folders/ld/gy00m33j1pn81v2x1sj_h3pm0000gn/T/ipykernel_3135/4212025952.py:7: UserWarning: set_ticklabels() should only be used with a fixed number of ticks, i.e. after set_ticks() or using a FixedLocator.\n",
      "  ax.set_xticklabels(['Cytokines'])\n"
     ]
    },
    {
     "data": {
      "image/png": "[encoded data removed]",
      "text/plain": [
       "<Figure size 100x400 with 1 Axes>"
      ]
     },
     "metadata": {},
     "output_type": "display_data"
    }
   ],
   "source": [
    "fig, ax = plt.subplots(figsize = (1, 4))\n",
    "sns.boxplot(nn_roc_auc_results, ax =ax, color = 'white')\n",
    "sns.stripplot(nn_roc_auc_results, ax =ax, color = 'gray')\n",
    "plt.ylim(-0.05, 1.05)\n",
    "add_median_labels(ax)\n",
    "plt.axhline(0.5, linestyle = '--', color = 'gray')\n",
    "ax.set_xticklabels(['Cytokines'])\n",
    "plt.ylabel('ROC AUC')\n",
    "# plt.savefig('figures/revision/nichnet_rocauc_noaggr.pdf', bbox_inches = 'tight', dpi = 300)\n",
    "# plt.savefig('figures/revision/nichnet_rocauc_noaggr.png', bbox_inches = 'tight', dpi = 300)\n",
    "# plt.savefig('figures/revision/nichnet_rocauc_noaggr.jpg', bbox_inches = 'tight', dpi = 300)\n",
    "plt.show()"
   ]
  },
  {
   "cell_type": "code",
   "execution_count": 474,
   "metadata": {},
   "outputs": [],
   "source": [
    "# CD30L, IL-12, IL-17B"
   ]
  },
  {
   "cell_type": "code",
   "execution_count": 38,
   "metadata": {},
   "outputs": [],
   "source": [
    "# 2 options:\n",
    "# I calculate the ROCAUC between all the celltypes and than aveage the rocauc\n",
    "# I calcualte the RICAUC between merged max ligand activity"
   ]
  },
  {
   "cell_type": "code",
   "execution_count": 94,
   "metadata": {},
   "outputs": [
    {
     "data": {
      "text/plain": [
       "86"
      ]
     },
     "execution_count": 94,
     "metadata": {},
     "output_type": "execute_result"
    }
   ],
   "source": [
    "len(cytokine_map.keys())"
   ]
  },
  {
   "cell_type": "code",
   "execution_count": 103,
   "metadata": {},
   "outputs": [],
   "source": [
    "final_immunedict = pd.read_csv('data/immunedict/mean_zscore_normed_per_cytokine_per_celltype.csv', index_col = 0)\n"
   ]
  },
  {
   "cell_type": "code",
   "execution_count": 181,
   "metadata": {},
   "outputs": [],
   "source": [
    "rocauc_results_all_immunedict = pd.read_csv(f'figures/validation/immunedict/immunedict_lincs_rocauc_filtered.csv')"
   ]
  },
  {
   "cell_type": "code",
   "execution_count": 185,
   "metadata": {},
   "outputs": [
    {
     "data": {
      "text/html": [
       "<div>\n",
       "<style scoped>\n",
       "    .dataframe tbody tr th:only-of-type {\n",
       "        vertical-align: middle;\n",
       "    }\n",
       "\n",
       "    .dataframe tbody tr th {\n",
       "        vertical-align: top;\n",
       "    }\n",
       "\n",
       "    .dataframe thead th {\n",
       "        text-align: right;\n",
       "    }\n",
       "</style>\n",
       "<table border=\"1\" class=\"dataframe\">\n",
       "  <thead>\n",
       "    <tr style=\"text-align: right;\">\n",
       "      <th></th>\n",
       "      <th>Unnamed: 0</th>\n",
       "      <th>ConfidenceLevel</th>\n",
       "      <th>ROC AUC</th>\n",
       "    </tr>\n",
       "  </thead>\n",
       "  <tbody>\n",
       "    <tr>\n",
       "      <th>0</th>\n",
       "      <td>SMAD3</td>\n",
       "      <td>RIDDEN ALL overlap</td>\n",
       "      <td>0.960563</td>\n",
       "    </tr>\n",
       "    <tr>\n",
       "      <th>1</th>\n",
       "      <td>EGFR</td>\n",
       "      <td>RIDDEN ALL overlap</td>\n",
       "      <td>0.240266</td>\n",
       "    </tr>\n",
       "    <tr>\n",
       "      <th>2</th>\n",
       "      <td>TGFBR1</td>\n",
       "      <td>RIDDEN ALL overlap</td>\n",
       "      <td>0.969014</td>\n",
       "    </tr>\n",
       "    <tr>\n",
       "      <th>3</th>\n",
       "      <td>CSF1R</td>\n",
       "      <td>RIDDEN ALL overlap</td>\n",
       "      <td>0.225921</td>\n",
       "    </tr>\n",
       "    <tr>\n",
       "      <th>4</th>\n",
       "      <td>ERBB2</td>\n",
       "      <td>RIDDEN ALL overlap</td>\n",
       "      <td>0.224504</td>\n",
       "    </tr>\n",
       "    <tr>\n",
       "      <th>5</th>\n",
       "      <td>IL10RB</td>\n",
       "      <td>RIDDEN ALL overlap</td>\n",
       "      <td>0.442512</td>\n",
       "    </tr>\n",
       "    <tr>\n",
       "      <th>6</th>\n",
       "      <td>TGFBR3</td>\n",
       "      <td>RIDDEN ALL overlap</td>\n",
       "      <td>0.843662</td>\n",
       "    </tr>\n",
       "    <tr>\n",
       "      <th>7</th>\n",
       "      <td>IL1RAP</td>\n",
       "      <td>RIDDEN ALL overlap</td>\n",
       "      <td>0.678680</td>\n",
       "    </tr>\n",
       "    <tr>\n",
       "      <th>8</th>\n",
       "      <td>IL6ST</td>\n",
       "      <td>RIDDEN ALL overlap</td>\n",
       "      <td>0.364837</td>\n",
       "    </tr>\n",
       "    <tr>\n",
       "      <th>9</th>\n",
       "      <td>TGFBR2</td>\n",
       "      <td>RIDDEN ALL overlap</td>\n",
       "      <td>0.757746</td>\n",
       "    </tr>\n",
       "    <tr>\n",
       "      <th>10</th>\n",
       "      <td>IL1R1</td>\n",
       "      <td>RIDDEN ALL overlap</td>\n",
       "      <td>0.719713</td>\n",
       "    </tr>\n",
       "    <tr>\n",
       "      <th>11</th>\n",
       "      <td>IL13RA1</td>\n",
       "      <td>RIDDEN ALL overlap</td>\n",
       "      <td>0.551384</td>\n",
       "    </tr>\n",
       "    <tr>\n",
       "      <th>12</th>\n",
       "      <td>IL2RA</td>\n",
       "      <td>RIDDEN ALL overlap</td>\n",
       "      <td>0.672182</td>\n",
       "    </tr>\n",
       "    <tr>\n",
       "      <th>13</th>\n",
       "      <td>TNFRSF11B</td>\n",
       "      <td>RIDDEN ALL overlap</td>\n",
       "      <td>0.713068</td>\n",
       "    </tr>\n",
       "    <tr>\n",
       "      <th>14</th>\n",
       "      <td>IFNGR1</td>\n",
       "      <td>RIDDEN ALL overlap</td>\n",
       "      <td>0.892982</td>\n",
       "    </tr>\n",
       "    <tr>\n",
       "      <th>15</th>\n",
       "      <td>IL21R</td>\n",
       "      <td>RIDDEN ALL overlap</td>\n",
       "      <td>0.293201</td>\n",
       "    </tr>\n",
       "    <tr>\n",
       "      <th>16</th>\n",
       "      <td>IFNGR2</td>\n",
       "      <td>RIDDEN ALL overlap</td>\n",
       "      <td>0.896686</td>\n",
       "    </tr>\n",
       "    <tr>\n",
       "      <th>17</th>\n",
       "      <td>IL13RA2</td>\n",
       "      <td>RIDDEN ALL overlap</td>\n",
       "      <td>0.693061</td>\n",
       "    </tr>\n",
       "    <tr>\n",
       "      <th>18</th>\n",
       "      <td>TNFRSF21</td>\n",
       "      <td>RIDDEN ALL overlap</td>\n",
       "      <td>0.918605</td>\n",
       "    </tr>\n",
       "    <tr>\n",
       "      <th>19</th>\n",
       "      <td>IL4R</td>\n",
       "      <td>RIDDEN ALL overlap</td>\n",
       "      <td>0.274567</td>\n",
       "    </tr>\n",
       "    <tr>\n",
       "      <th>20</th>\n",
       "      <td>LIFR</td>\n",
       "      <td>RIDDEN ALL overlap</td>\n",
       "      <td>0.364187</td>\n",
       "    </tr>\n",
       "    <tr>\n",
       "      <th>21</th>\n",
       "      <td>TNFRSF1A</td>\n",
       "      <td>RIDDEN ALL overlap</td>\n",
       "      <td>0.899821</td>\n",
       "    </tr>\n",
       "    <tr>\n",
       "      <th>22</th>\n",
       "      <td>TNFRSF1B</td>\n",
       "      <td>RIDDEN ALL overlap</td>\n",
       "      <td>0.908989</td>\n",
       "    </tr>\n",
       "    <tr>\n",
       "      <th>23</th>\n",
       "      <td>IL1R2</td>\n",
       "      <td>RIDDEN ALL overlap</td>\n",
       "      <td>0.614620</td>\n",
       "    </tr>\n",
       "    <tr>\n",
       "      <th>24</th>\n",
       "      <td>IL15RA</td>\n",
       "      <td>RIDDEN ALL overlap</td>\n",
       "      <td>0.239571</td>\n",
       "    </tr>\n",
       "    <tr>\n",
       "      <th>25</th>\n",
       "      <td>TNFRSF10C</td>\n",
       "      <td>RIDDEN ALL overlap</td>\n",
       "      <td>0.518310</td>\n",
       "    </tr>\n",
       "    <tr>\n",
       "      <th>26</th>\n",
       "      <td>TNFRSF10D</td>\n",
       "      <td>RIDDEN ALL overlap</td>\n",
       "      <td>0.436620</td>\n",
       "    </tr>\n",
       "    <tr>\n",
       "      <th>27</th>\n",
       "      <td>CD40</td>\n",
       "      <td>RIDDEN ALL overlap</td>\n",
       "      <td>0.291076</td>\n",
       "    </tr>\n",
       "  </tbody>\n",
       "</table>\n",
       "</div>"
      ],
      "text/plain": [
       "   Unnamed: 0     ConfidenceLevel   ROC AUC\n",
       "0       SMAD3  RIDDEN ALL overlap  0.960563\n",
       "1        EGFR  RIDDEN ALL overlap  0.240266\n",
       "2      TGFBR1  RIDDEN ALL overlap  0.969014\n",
       "3       CSF1R  RIDDEN ALL overlap  0.225921\n",
       "4       ERBB2  RIDDEN ALL overlap  0.224504\n",
       "5      IL10RB  RIDDEN ALL overlap  0.442512\n",
       "6      TGFBR3  RIDDEN ALL overlap  0.843662\n",
       "7      IL1RAP  RIDDEN ALL overlap  0.678680\n",
       "8       IL6ST  RIDDEN ALL overlap  0.364837\n",
       "9      TGFBR2  RIDDEN ALL overlap  0.757746\n",
       "10      IL1R1  RIDDEN ALL overlap  0.719713\n",
       "11    IL13RA1  RIDDEN ALL overlap  0.551384\n",
       "12      IL2RA  RIDDEN ALL overlap  0.672182\n",
       "13  TNFRSF11B  RIDDEN ALL overlap  0.713068\n",
       "14     IFNGR1  RIDDEN ALL overlap  0.892982\n",
       "15      IL21R  RIDDEN ALL overlap  0.293201\n",
       "16     IFNGR2  RIDDEN ALL overlap  0.896686\n",
       "17    IL13RA2  RIDDEN ALL overlap  0.693061\n",
       "18   TNFRSF21  RIDDEN ALL overlap  0.918605\n",
       "19       IL4R  RIDDEN ALL overlap  0.274567\n",
       "20       LIFR  RIDDEN ALL overlap  0.364187\n",
       "21   TNFRSF1A  RIDDEN ALL overlap  0.899821\n",
       "22   TNFRSF1B  RIDDEN ALL overlap  0.908989\n",
       "23      IL1R2  RIDDEN ALL overlap  0.614620\n",
       "24     IL15RA  RIDDEN ALL overlap  0.239571\n",
       "25  TNFRSF10C  RIDDEN ALL overlap  0.518310\n",
       "26  TNFRSF10D  RIDDEN ALL overlap  0.436620\n",
       "27       CD40  RIDDEN ALL overlap  0.291076"
      ]
     },
     "execution_count": 185,
     "metadata": {},
     "output_type": "execute_result"
    }
   ],
   "source": [
    "rocauc_results_all_immunedict[rocauc_results_all_immunedict['ConfidenceLevel'] =='RIDDEN ALL overlap']"
   ]
  },
  {
   "cell_type": "code",
   "execution_count": null,
   "metadata": {},
   "outputs": [],
   "source": []
  }
 ],
 "metadata": {
  "kernelspec": {
   "display_name": "py311_ccc_decoupler",
   "language": "python",
   "name": "python3"
  },
  "language_info": {
   "codemirror_mode": {
    "name": "ipython",
    "version": 3
   },
   "file_extension": ".py",
   "mimetype": "text/x-python",
   "name": "python",
   "nbconvert_exporter": "python",
   "pygments_lexer": "ipython3",
   "version": "3.11.11"
  }
 },
 "nbformat": 4,
 "nbformat_minor": 2
}
