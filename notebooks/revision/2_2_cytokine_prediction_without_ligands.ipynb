{
 "cells": [
  {
   "cell_type": "code",
   "execution_count": 5,
   "metadata": {},
   "outputs": [
    {
     "name": "stdout",
     "output_type": "stream",
     "text": [
      "The autoreload extension is already loaded. To reload it, use:\n",
      "  %reload_ext autoreload\n"
     ]
    }
   ],
   "source": [
    "%load_ext autoreload\n",
    "%autoreload 2"
   ]
  },
  {
   "cell_type": "code",
   "execution_count": 6,
   "metadata": {},
   "outputs": [],
   "source": [
    "import pandas as pd\n",
    "import numpy as np\n",
    "from glob import glob\n",
    "from tqdm import tqdm\n",
    "from src.config import *\n",
    "from src.prediction_functions import *\n",
    "from sklearn.metrics import roc_auc_score\n",
    "import seaborn as sns\n",
    "import matplotlib.pyplot as plt\n",
    "import matplotlib.patheffects as path_effects\n",
    "from src.prediction_functions.MatrixMultiplicationMemoryEffectiveChunks import estimation_with_zscore_calculation_in_chunks as estimate_receptor_activity\n"
   ]
  },
  {
   "cell_type": "markdown",
   "metadata": {},
   "source": [
    "### Cytokine mapping"
   ]
  },
  {
   "cell_type": "code",
   "execution_count": 7,
   "metadata": {},
   "outputs": [],
   "source": [
    "genenames = pd.read_excel('data/immunedict/41586_2023_6816_MOESM3_ESM.xlsx')\n",
    "genenames = genenames[['Cytokine', 'Human gene symbol']].dropna()\n",
    "genenames_mapping = genenames.set_index('Human gene symbol')['Cytokine'].to_dict()\n",
    "inv_genenames_mapping = {v: k for k, v in genenames_mapping.items()}"
   ]
  },
  {
   "cell_type": "code",
   "execution_count": 8,
   "metadata": {},
   "outputs": [],
   "source": [
    "inv_genenames_mapping['41BBL'] = 'TNFSF9'\n",
    "inv_genenames_mapping['IGF-I'] = 'IGF1' # IGF-I instead of IGF-1 \n",
    "inv_genenames_mapping['ADSF (Resistin)'] = 'RETN'\n",
    "inv_genenames_mapping['PRL (Prolactin)'] = 'PRL'\n",
    "inv_genenames_mapping['LT-α1/β2'] = 'LTA'\n",
    "inv_genenames_mapping['LT-α2/β1\t'] = 'LTA'\n"
   ]
  },
  {
   "cell_type": "markdown",
   "metadata": {},
   "source": [
    "# RIDDEN"
   ]
  },
  {
   "cell_type": "code",
   "execution_count": 9,
   "metadata": {},
   "outputs": [],
   "source": [
    "final_immunedict = pd.read_csv('data/immunedict/mean_zscore_normed_per_cytokine_per_celltype.csv', index_col = 0)\n"
   ]
  },
  {
   "cell_type": "code",
   "execution_count": 10,
   "metadata": {},
   "outputs": [],
   "source": [
    "confidence_scores = pd.read_csv(f'results/confidence/receptor_rocauc_mean_confidence_scores_229_mwup_withna.csv', index_col = 0)"
   ]
  },
  {
   "cell_type": "code",
   "execution_count": 11,
   "metadata": {},
   "outputs": [],
   "source": [
    "final_immunedict = final_immunedict.astype(float)\n",
    "final_immunedict.columns =final_immunedict.columns.str.upper()"
   ]
  },
  {
   "cell_type": "code",
   "execution_count": 122,
   "metadata": {},
   "outputs": [],
   "source": [
    "lincs_model = pd.read_csv('data/coefficient_matrix/high_quality/all_pert_coef_liana_without_ligands.csv', index_col = 0)\n",
    "lincs_model = lincs_model.T\n"
   ]
  },
  {
   "cell_type": "code",
   "execution_count": 123,
   "metadata": {},
   "outputs": [],
   "source": [
    "final_immunedict = final_immunedict[list(set(final_immunedict.columns) & set(lincs_model.index))]"
   ]
  },
  {
   "cell_type": "code",
   "execution_count": 124,
   "metadata": {},
   "outputs": [],
   "source": [
    "a_scored_receptors = list(confidence_scores[confidence_scores['Confidence'] == 'A']['Receptor'])\n",
    "b_scored_receptors = list(confidence_scores[confidence_scores['Confidence'] == 'B']['Receptor'])\n",
    "c_scored_receptors = list(confidence_scores[confidence_scores['Confidence'] == 'C']['Receptor'])\n",
    "d_scored_receptors = list(confidence_scores[confidence_scores['Confidence'] == 'D']['Receptor'])\n",
    "e_scored_receptors = list(confidence_scores[confidence_scores['Confidence'] == 'E']['Receptor'])"
   ]
  },
  {
   "cell_type": "code",
   "execution_count": 125,
   "metadata": {},
   "outputs": [],
   "source": [
    "lincs_model_A = lincs_model.loc[:, a_scored_receptors]\n",
    "lincs_model_B = lincs_model.loc[:, b_scored_receptors]\n",
    "lincs_model_C = lincs_model.loc[:, c_scored_receptors]\n",
    "lincs_model_D = lincs_model.loc[:, d_scored_receptors]\n",
    "lincs_model_E = lincs_model.loc[:, e_scored_receptors]"
   ]
  },
  {
   "cell_type": "code",
   "execution_count": 126,
   "metadata": {},
   "outputs": [],
   "source": [
    "lincs = {}"
   ]
  },
  {
   "cell_type": "code",
   "execution_count": 127,
   "metadata": {},
   "outputs": [],
   "source": [
    "lr_associations = pd.read_csv(LIG_REC_DF, index_col = 0)\n",
    "lr_associations = lr_associations[['source_genesymbol', 'target_genesymbol']]\n",
    "lr_associations_receptor = lr_associations[lr_associations['target_genesymbol'].isin(lincs_model.columns)]\n",
    "# next line: only if we need cytosig cytokines for eval\n",
    "# lr_associations_receptor_cytosig_overlap = lr_associations_receptor[lr_associations_receptor['source_genesymbol'].isin(all_cytokines_cytosig_gs)]"
   ]
  },
  {
   "cell_type": "code",
   "execution_count": 128,
   "metadata": {},
   "outputs": [
    {
     "name": "stderr",
     "output_type": "stream",
     "text": [
      "/var/folders/ld/gy00m33j1pn81v2x1sj_h3pm0000gn/T/ipykernel_23188/684755591.py:1: FutureWarning: DataFrame.fillna with 'method' is deprecated and will raise in a future version. Use obj.ffill() or obj.bfill() instead.\n",
      "  cytokines_immundict = final_immunedict.reset_index()['index'].str.split('_',expand = True).fillna(method='ffill', axis = 1)[3]\n"
     ]
    }
   ],
   "source": [
    "cytokines_immundict = final_immunedict.reset_index()['index'].str.split('_',expand = True).fillna(method='ffill', axis = 1)[3]\n",
    "cytokines_immundict.index = final_immunedict.index\n",
    "cytokines_immundict.name = 'cytokines'"
   ]
  },
  {
   "cell_type": "code",
   "execution_count": 129,
   "metadata": {},
   "outputs": [
    {
     "name": "stdout",
     "output_type": "stream",
     "text": [
      "Number of samples: 1305\n",
      "Number of chunks: 5\n",
      "Number of permutations: 1000\n"
     ]
    },
    {
     "name": "stderr",
     "output_type": "stream",
     "text": [
      "100%|██████████| 5/5 [00:25<00:00,  5.10s/it]\n"
     ]
    }
   ],
   "source": [
    "lincs_filtered = {}\n",
    "lincs_filtered['all'] = estimate_receptor_activity(final_immunedict, lincs_model, number_of_permutations=1000, chunk_size=300)"
   ]
  },
  {
   "cell_type": "code",
   "execution_count": 130,
   "metadata": {},
   "outputs": [],
   "source": [
    "lincs_filtered['A']  = lincs_filtered['all'].loc[:, lincs_model_A.columns]\n",
    "lincs_filtered['B']  = lincs_filtered['all'].loc[:, lincs_model_B.columns]\n",
    "lincs_filtered['C']  = lincs_filtered['all'].loc[:, lincs_model_C.columns]\n",
    "lincs_filtered['D']  = lincs_filtered['all'].loc[:, lincs_model_D.columns]\n",
    "lincs_filtered['E']  = lincs_filtered['all'].loc[:, lincs_model_E.columns]"
   ]
  },
  {
   "cell_type": "markdown",
   "metadata": {},
   "source": [
    "# Filter out cytokines have no diffexp genes\n"
   ]
  },
  {
   "cell_type": "code",
   "execution_count": 131,
   "metadata": {},
   "outputs": [],
   "source": [
    "degs = pd.read_excel('data/immunedict/41586_2023_6816_MOESM13_ESM.xlsx', sheet_name = 2)\n",
    "degs = degs[(degs['nDEGs_display'] != '≤10')]"
   ]
  },
  {
   "cell_type": "code",
   "execution_count": 132,
   "metadata": {},
   "outputs": [
    {
     "data": {
      "text/plain": [
       "array(['B cell', 'CD4+ T cell', 'CD8+ T cell', 'γδ T cell', 'Treg',\n",
       "       'NK cell', 'ILC', 'pDC', 'cDC1', 'cDC2', 'MigDC', 'Langerhans',\n",
       "       'eTAC', 'Macrophage', 'Monocyte', 'Neutrophil', 'Mast cell'],\n",
       "      dtype=object)"
      ]
     },
     "execution_count": 132,
     "metadata": {},
     "output_type": "execute_result"
    }
   ],
   "source": [
    "degs.Celltype.unique()\n"
   ]
  },
  {
   "cell_type": "code",
   "execution_count": 133,
   "metadata": {},
   "outputs": [],
   "source": [
    "map_to_index = {\n",
    "    'B cell':'B_cell',\n",
    "    'CD4+ T cell':'T_cell_CD4', \n",
    "    'CD8+ T cell':'T_cell_CD8', \n",
    "    'NK cell':'NK_cell', \n",
    "    'γδ T cell':'T_cell_gd'\n",
    "}"
   ]
  },
  {
   "cell_type": "code",
   "execution_count": 134,
   "metadata": {},
   "outputs": [],
   "source": [
    "degs['Celltype_mod'] = degs.Celltype.map({k: map_to_index.get(k, k) for k in degs.Celltype})\n"
   ]
  },
  {
   "cell_type": "code",
   "execution_count": 135,
   "metadata": {},
   "outputs": [],
   "source": [
    "degs['name'] = degs['Celltype_mod'] + '_' + degs['Cytokine']"
   ]
  },
  {
   "cell_type": "markdown",
   "metadata": {},
   "source": [
    "# LINCS ROCAUC"
   ]
  },
  {
   "cell_type": "code",
   "execution_count": 136,
   "metadata": {},
   "outputs": [
    {
     "data": {
      "text/plain": [
       "((1305, 42), (1305, 42), (1305, 42), (1305, 42), (1305, 61))"
      ]
     },
     "execution_count": 136,
     "metadata": {},
     "output_type": "execute_result"
    }
   ],
   "source": [
    "lincs_filtered['A'].shape, lincs_filtered['B'].shape, lincs_filtered['C'].shape, lincs_filtered['D'].shape, lincs_filtered['E'].shape"
   ]
  },
  {
   "cell_type": "code",
   "execution_count": 137,
   "metadata": {},
   "outputs": [],
   "source": [
    "def calulate_ridden_rocauc(receptor_activity, lr_associations_receptor = lr_associations_receptor):\n",
    "    true_matrix = pd.DataFrame(0, index = receptor_activity.index, columns = receptor_activity.columns)\n",
    "    pair_set = set(zip(lr_associations_receptor['source_genesymbol'], lr_associations_receptor['target_genesymbol']))\n",
    "    for sample in true_matrix.index:\n",
    "        if sample.split('_')[-1] in inv_genenames_mapping.keys():\n",
    "            ligand = inv_genenames_mapping[sample.split('_')[-1]]\n",
    "        else:\n",
    "            continue\n",
    "        for receptor in true_matrix.columns:\n",
    "            if (ligand, receptor) in pair_set:\n",
    "                true_matrix.at[sample, receptor] = 1\n",
    "    # true_matrix = true_matrix[true_matrix.sum(1) != 0]\n",
    "    true_matrix = true_matrix[true_matrix.columns[true_matrix.sum() !=0]]\n",
    "    samples = true_matrix.index\n",
    "    receptors = true_matrix.columns\n",
    "    receptor_activity_fil = receptor_activity.loc[samples, receptors]\n",
    "    roc_auc_dict = {}\n",
    "    for receptor in receptor_activity_fil.columns:\n",
    "        true_vector = true_matrix.loc[:, receptor]\n",
    "        values = receptor_activity_fil.loc[:, receptor]\n",
    "        roc_auc_binary = roc_auc_score(true_vector, values)\n",
    "        roc_auc_dict[receptor] = roc_auc_binary\n",
    "    roc_auc_results_lincs = pd.DataFrame.from_dict(roc_auc_dict, orient='index', columns=['ROC AUC'])\n",
    "    return roc_auc_results_lincs"
   ]
  },
  {
   "cell_type": "code",
   "execution_count": 138,
   "metadata": {},
   "outputs": [],
   "source": [
    "rocauc_results = {}\n",
    "true_matrices = {}\n",
    "for conflevel in ['A', 'B', 'C', 'D', 'E', 'all']:\n",
    "    rocauc_results[conflevel] = calulate_ridden_rocauc(lincs_filtered[conflevel][lincs_filtered[conflevel].index.isin(degs.name)])"
   ]
  },
  {
   "cell_type": "code",
   "execution_count": 139,
   "metadata": {},
   "outputs": [],
   "source": [
    "def add_median_labels(ax, fmt='.2f'):\n",
    "    lines = ax.get_lines()\n",
    "    boxes = [c for c in ax.get_children() if type(c).__name__ == 'PathPatch']\n",
    "    lines_per_box = int(len(lines) / len(boxes))\n",
    "    for median in lines[4:len(lines):lines_per_box]:\n",
    "        x, y = (data.mean() for data in median.get_data())\n",
    "        # choose value depending on horizontal or vertical plot orientation\n",
    "        value = x if (median.get_xdata()[1] - median.get_xdata()[0]) == 0 else y\n",
    "        text = ax.text(x-0.2, y+0.03, f'{value:{fmt}}', ha='center', va='center',\n",
    "                       fontweight='bold', color='black')"
   ]
  },
  {
   "cell_type": "code",
   "execution_count": 140,
   "metadata": {},
   "outputs": [],
   "source": [
    "rocauc_results_all = pd.concat(rocauc_results).reset_index(level=0).rename(columns={'level_0': 'ConfidenceLevel'})\n"
   ]
  },
  {
   "cell_type": "code",
   "execution_count": 141,
   "metadata": {},
   "outputs": [
    {
     "data": {
      "text/html": [
       "<div>\n",
       "<style scoped>\n",
       "    .dataframe tbody tr th:only-of-type {\n",
       "        vertical-align: middle;\n",
       "    }\n",
       "\n",
       "    .dataframe tbody tr th {\n",
       "        vertical-align: top;\n",
       "    }\n",
       "\n",
       "    .dataframe thead th {\n",
       "        text-align: right;\n",
       "    }\n",
       "</style>\n",
       "<table border=\"1\" class=\"dataframe\">\n",
       "  <thead>\n",
       "    <tr style=\"text-align: right;\">\n",
       "      <th></th>\n",
       "      <th>ROC AUC</th>\n",
       "    </tr>\n",
       "    <tr>\n",
       "      <th>ConfidenceLevel</th>\n",
       "      <th></th>\n",
       "    </tr>\n",
       "  </thead>\n",
       "  <tbody>\n",
       "    <tr>\n",
       "      <th>A</th>\n",
       "      <td>13</td>\n",
       "    </tr>\n",
       "    <tr>\n",
       "      <th>B</th>\n",
       "      <td>5</td>\n",
       "    </tr>\n",
       "    <tr>\n",
       "      <th>C</th>\n",
       "      <td>7</td>\n",
       "    </tr>\n",
       "    <tr>\n",
       "      <th>D</th>\n",
       "      <td>9</td>\n",
       "    </tr>\n",
       "    <tr>\n",
       "      <th>E</th>\n",
       "      <td>11</td>\n",
       "    </tr>\n",
       "    <tr>\n",
       "      <th>all</th>\n",
       "      <td>45</td>\n",
       "    </tr>\n",
       "  </tbody>\n",
       "</table>\n",
       "</div>"
      ],
      "text/plain": [
       "                 ROC AUC\n",
       "ConfidenceLevel         \n",
       "A                     13\n",
       "B                      5\n",
       "C                      7\n",
       "D                      9\n",
       "E                     11\n",
       "all                   45"
      ]
     },
     "execution_count": 141,
     "metadata": {},
     "output_type": "execute_result"
    }
   ],
   "source": [
    "rocauc_results_all.groupby('ConfidenceLevel').count()"
   ]
  },
  {
   "cell_type": "markdown",
   "metadata": {},
   "source": [
    "# CytoSig immmundict prediction"
   ]
  },
  {
   "cell_type": "code",
   "execution_count": 142,
   "metadata": {},
   "outputs": [],
   "source": [
    "# !python CytoSig_run.py -i ./data/immunedict/mean_zscore_normed_per_cytokine_per_celltype_transposed.csv -o ./data/immunedict/prediction_result"
   ]
  },
  {
   "cell_type": "code",
   "execution_count": 143,
   "metadata": {},
   "outputs": [],
   "source": [
    "cytokine_signalling_activity = pd.read_csv('data/immunedict/prediction_result.Coef', index_col = 0, sep = '\\t' )\n",
    "cytokine_signalling_activity = cytokine_signalling_activity.T"
   ]
  },
  {
   "cell_type": "code",
   "execution_count": 144,
   "metadata": {},
   "outputs": [],
   "source": [
    "additional_mapping = {\n",
    "       'IFNA':'IFNA1', \n",
    "       'IFNB':'IFNB1',\n",
    "       'IFNL':'IFNL1', \n",
    "       'TNFA':'TNF', \n",
    "       'IL12':'IL12B', \n",
    "       'CD40L':'CD40LG', \n",
    "       'GMCSF':'CSF2', \n",
    "       'MCSF':'CSF1',\n",
    "       'IL1':'IL1A', \n",
    "       'TWEAK':'TNFRSF12A',\n",
    "       'TRAIL':'TNFSF10',\n",
    "       'GCSF':'CSF3',\n",
    "       'IL32':'IL32',\n",
    "       'OPGL':'TNFSF11',\n",
    "       'BAFF':'TNFSF13B',\n",
    "       '41BBL':'TNFSF9',\n",
    "       'IL23':'IL23A', \n",
    "       'CXCL4':'PF4',\n",
    "       'Activin A':'INHBA',\n",
    "       'ANGPTL4':'ANGPTL4',\n",
    "       'ANGPTL2':'ANGPTL2',\n",
    "       'PGE2':'PTGES2',\n",
    "       'NO':'NO',# control\n",
    "       'PDL1':'CD274'\n",
    "}\n",
    "inverse_additional_mapping = {v: k for k, v in additional_mapping.items()}"
   ]
  },
  {
   "cell_type": "code",
   "execution_count": 145,
   "metadata": {},
   "outputs": [],
   "source": [
    "cytokines = cytokine_signalling_activity.index.str.split('_').str[-1].unique()"
   ]
  },
  {
   "cell_type": "code",
   "execution_count": 146,
   "metadata": {},
   "outputs": [],
   "source": [
    "all_cytokines_cytosig_gs = cytokine_signalling_activity.T.reset_index()['index'].apply(lambda x: additional_mapping[x] if x in additional_mapping else x).unique()\n",
    "cytokine_signalling_activity_samesytokine = cytokine_signalling_activity[cytokine_signalling_activity.index.str.split('_').str[-1].map(inv_genenames_mapping).isin(all_cytokines_cytosig_gs)]"
   ]
  },
  {
   "cell_type": "code",
   "execution_count": 147,
   "metadata": {},
   "outputs": [],
   "source": [
    "# all_cytokines_cytosigimmunedict_gs = list(set(all_cytokines_cytosig_gs) & set(cytokines_immundict.map(inv_genenames_mapping).unique()))\n",
    "# cytokine_signalling_activity_samesytokine = cytokine_signalling_activity_samesytokine[cytokine_signalling_activity_samesytokine.columns[cytokine_signalling_activity_samesytokine.T.reset_index()['index'].apply(lambda x: additional_mapping[x] if x in additional_mapping else x).isin(all_cytokines_cytosigimmunedict_gs)]]"
   ]
  },
  {
   "cell_type": "code",
   "execution_count": 148,
   "metadata": {},
   "outputs": [],
   "source": [
    "def calculate_cytosig_rocauc(cytokine_signalling_activity):\n",
    "    true_matrix = pd.DataFrame(0, index = cytokine_signalling_activity.index, columns = cytokine_signalling_activity.columns)\n",
    "    # true_matrix.columns = true_matrix.columns.map(lambda x: additional_mapping[x] if x in additional_mapping else x)\n",
    "\n",
    "    for sample in true_matrix.index:\n",
    "        if sample.split('_')[-1] in inv_genenames_mapping.keys():\n",
    "            immunedict_cytokine = inv_genenames_mapping[sample.split('_')[-1]]\n",
    "        else:\n",
    "            continue\n",
    "        for cytosig_cytokine in true_matrix.columns:\n",
    "            cytosig_cytokine_mapped = additional_mapping[cytosig_cytokine] if cytosig_cytokine in additional_mapping else cytosig_cytokine\n",
    "            if cytosig_cytokine_mapped  == immunedict_cytokine:\n",
    "                true_matrix.at[sample, cytosig_cytokine] = 1  \n",
    "\n",
    "    true_matrix = true_matrix[true_matrix.columns[true_matrix.sum() !=0]]\n",
    "    samples = true_matrix.index\n",
    "    cytokines = true_matrix.columns\n",
    "    cytokine_activity_fil = cytokine_signalling_activity.loc[samples, cytokines]\n",
    "    roc_auc_dict = {}\n",
    "    for cytokine in cytokine_activity_fil.columns:\n",
    "        true_vector = true_matrix.loc[:, cytokine]\n",
    "        values = cytokine_activity_fil.loc[:, cytokine]\n",
    "        roc_auc_binary = roc_auc_score(true_vector, values)\n",
    "        roc_auc_dict[cytokine] = roc_auc_binary\n",
    "    roc_auc_results_cytosig = pd.DataFrame.from_dict(roc_auc_dict, orient='index', columns=['ROC AUC'])\n",
    "\n",
    "    return roc_auc_results_cytosig"
   ]
  },
  {
   "cell_type": "code",
   "execution_count": 149,
   "metadata": {},
   "outputs": [],
   "source": [
    "rocauc_cytosig_immunedict = calculate_cytosig_rocauc(cytokine_signalling_activity[cytokine_signalling_activity.index.isin(degs.name.unique())])"
   ]
  },
  {
   "cell_type": "code",
   "execution_count": 150,
   "metadata": {},
   "outputs": [],
   "source": [
    "rocauc_cytosig_immunedict['ConfidenceLevel'] = 'CytoSig'"
   ]
  },
  {
   "cell_type": "code",
   "execution_count": 151,
   "metadata": {},
   "outputs": [],
   "source": [
    "# Filter for overlapping cytokines and receptors between LINCS and CytoSig"
   ]
  },
  {
   "cell_type": "code",
   "execution_count": 152,
   "metadata": {},
   "outputs": [],
   "source": [
    "# Cytokines that has receptor in RIDDEN\n",
    "ridden_cytosig_overlap = list(set(lr_associations[lr_associations.target_genesymbol.isin(list(lincs_model.columns))].source_genesymbol.unique()) & set(all_cytokines_cytosig_gs))\n",
    "# Receptors that have cytokine in CytoSig\n",
    "cytosig_ridden_overlap = list(lr_associations[lr_associations['source_genesymbol'].isin(all_cytokines_cytosig_gs)].target_genesymbol.unique())"
   ]
  },
  {
   "cell_type": "code",
   "execution_count": 153,
   "metadata": {},
   "outputs": [],
   "source": [
    "rocauc_cytosig_immunedict_filtered = rocauc_cytosig_immunedict[rocauc_cytosig_immunedict.index.isin(ridden_cytosig_overlap)]"
   ]
  },
  {
   "cell_type": "code",
   "execution_count": 154,
   "metadata": {},
   "outputs": [],
   "source": [
    "condition = rocauc_results_all['ConfidenceLevel'] == 'all'\n",
    "\n",
    "filtered_ridden_all = rocauc_results_all[condition & rocauc_results_all.index.isin(cytosig_ridden_overlap)]\n",
    "non_ridden_all = rocauc_results_all[~condition]\n",
    "rocauc_results_all_filtered = pd.concat([filtered_ridden_all, non_ridden_all])"
   ]
  },
  {
   "cell_type": "code",
   "execution_count": 155,
   "metadata": {},
   "outputs": [
    {
     "data": {
      "text/plain": [
       "np.float64(0.5693044935887221)"
      ]
     },
     "execution_count": 155,
     "metadata": {},
     "output_type": "execute_result"
    }
   ],
   "source": [
    "mean_roc_auc = filtered_ridden_all['ROC AUC'].mean()\n",
    "mean_roc_auc"
   ]
  },
  {
   "cell_type": "code",
   "execution_count": 156,
   "metadata": {},
   "outputs": [],
   "source": [
    "rocauc_results_all_immunedict = pd.concat([rocauc_results_all_filtered, rocauc_cytosig_immunedict_filtered])\n",
    "# rocauc_results_all, rocauc_results_all"
   ]
  },
  {
   "cell_type": "code",
   "execution_count": 157,
   "metadata": {},
   "outputs": [],
   "source": [
    "rocauc_results_all_immunedict['ConfidenceLevel'] = rocauc_results_all_immunedict['ConfidenceLevel'].map({'A':'RIDDEN A', 'B':'RIDDEN B', 'C':'RIDDEN C', 'D':'RIDDEN D', 'E':'RIDDEN E', 'all':'RIDDEN ALL overlap','CytoSig':'CytoSig overlap'})"
   ]
  },
  {
   "cell_type": "code",
   "execution_count": 158,
   "metadata": {},
   "outputs": [
    {
     "name": "stderr",
     "output_type": "stream",
     "text": [
      "/var/folders/ld/gy00m33j1pn81v2x1sj_h3pm0000gn/T/ipykernel_23188/1944624795.py:3: FutureWarning: \n",
      "\n",
      "Passing `palette` without assigning `hue` is deprecated and will be removed in v0.14.0. Assign the `x` variable to `hue` and set `legend=False` for the same effect.\n",
      "\n",
      "  sns.stripplot(x='ConfidenceLevel', y='ROC AUC', data=rocauc_results_all_immunedict, palette = 'Paired', size = 8, order = ['CytoSig overlap', 'RIDDEN ALL overlap', 'RIDDEN A', 'RIDDEN B', 'RIDDEN C', 'RIDDEN D', 'RIDDEN E'])\n"
     ]
    },
    {
     "data": {
      "image/png": "[encoded data removed]",
      "text/plain": [
       "<Figure size 1000x600 with 1 Axes>"
      ]
     },
     "metadata": {},
     "output_type": "display_data"
    }
   ],
   "source": [
    "plt.figure(figsize=(10, 6))\n",
    "boxp = sns.boxplot(x='ConfidenceLevel', y='ROC AUC', data=rocauc_results_all_immunedict, color = 'white', linewidth=2, order = ['CytoSig overlap', 'RIDDEN ALL overlap', 'RIDDEN A', 'RIDDEN B', 'RIDDEN C', 'RIDDEN D', 'RIDDEN E'])\n",
    "sns.stripplot(x='ConfidenceLevel', y='ROC AUC', data=rocauc_results_all_immunedict, palette = 'Paired', size = 8, order = ['CytoSig overlap', 'RIDDEN ALL overlap', 'RIDDEN A', 'RIDDEN B', 'RIDDEN C', 'RIDDEN D', 'RIDDEN E'])\n",
    "add_median_labels(boxp)\n",
    "plt.ylabel('ROC AUC')\n",
    "plt.xticks(rotation = 90)\n",
    "plt.axhline(0.5, color = 'k', linestyle = '--')\n",
    "plt.show()"
   ]
  },
  {
   "cell_type": "code",
   "execution_count": 159,
   "metadata": {},
   "outputs": [],
   "source": [
    "# rocauc_results_all_immunedict.to_csv(f'results/revision/immunedict_lincs_rocauc_filtered_without_ligandperturbations.csv')"
   ]
  },
  {
   "cell_type": "markdown",
   "metadata": {},
   "source": [
    "# Figure"
   ]
  },
  {
   "cell_type": "code",
   "execution_count": 160,
   "metadata": {},
   "outputs": [],
   "source": [
    "import matplotlib.colors as mcolors\n"
   ]
  },
  {
   "cell_type": "code",
   "execution_count": 161,
   "metadata": {},
   "outputs": [],
   "source": [
    "sns.set_style(\"whitegrid\")\n",
    "hex_colors = [mcolors.rgb2hex(color) for color in sns.color_palette('Blues', 5)]\n",
    "\n",
    "colors = [hex_colors[3], '#808080', hex_colors[1] , hex_colors[1], hex_colors[1], hex_colors[1], hex_colors[1]]\n",
    "custom_palette2 = sns.color_palette(colors)"
   ]
  },
  {
   "cell_type": "code",
   "execution_count": 162,
   "metadata": {},
   "outputs": [],
   "source": [
    "def add_median_labels(ax, fmt='.2f'):\n",
    "    lines = ax.get_lines()\n",
    "    boxes = [c for c in ax.get_children() if type(c).__name__ == 'PathPatch']\n",
    "    lines_per_box = int(len(lines) / len(boxes))\n",
    "    for median in lines[4:len(lines):lines_per_box]:\n",
    "        x, y = (data.mean() for data in median.get_data())\n",
    "        # choose value depending on horizontal or vertical plot orientation\n",
    "        value = x if (median.get_xdata()[1] - median.get_xdata()[0]) == 0 else y\n",
    "        text = ax.text(x, y+0.03, f'{value:{fmt}}', ha='center', va='center',\n",
    "                       fontweight='bold', color='black')"
   ]
  },
  {
   "cell_type": "code",
   "execution_count": 163,
   "metadata": {},
   "outputs": [],
   "source": [
    "def benchmark_result_boxplot(results:pd.DataFrame, save = False, filepath = '', filename = '', order = [ 'RIDDEN ALL', 'RIDDEN A', 'RIDDEN B', 'RIDDEN C', 'RIDDEN D','RIDDEN E', 'CytoSig'], figsize_x = 4, palette = custom_palette):\n",
    "    fig, ax = plt.subplots(figsize = (figsize_x,3.5), facecolor='white')\n",
    "    boxp = sns.boxplot(x='ConfidenceLevel', y='ROC AUC', data=results, color = 'white', linewidth=2, order = order)\n",
    "    scp = sns.stripplot(x='ConfidenceLevel', y='ROC AUC', data=results, palette = palette, size = 5, order= order)\n",
    "    add_median_labels(boxp)\n",
    "    plt.xlabel('Model', fontsize = 14)\n",
    "    plt.ylabel('ROC AUC', fontsize = 14)\n",
    "    plt.axhline(0.5, color = 'grey', linestyle = '--', alpha = 0.8)\n",
    "    plt.xticks(fontsize =12, rotation = 90)\n",
    "    plt.yticks(fontsize =12)\n",
    "    plt.ylim(0,1)\n",
    "\n",
    "    if save:\n",
    "        if filename=='': raise \"No filename was given.\"\n",
    "        plt.savefig(f'{filepath}/{filename}.png', dpi = 350, bbox_inches = 'tight', transparent = False)\n",
    "        plt.savefig(f'{filepath}/{filename}.jpg', dpi = 350, bbox_inches = 'tight', transparent = False)\n",
    "        plt.savefig(f'{filepath}/{filename}.pdf', bbox_inches = 'tight', transparent = True)"
   ]
  },
  {
   "cell_type": "code",
   "execution_count": 164,
   "metadata": {},
   "outputs": [
    {
     "data": {
      "text/html": [
       "<div>\n",
       "<style scoped>\n",
       "    .dataframe tbody tr th:only-of-type {\n",
       "        vertical-align: middle;\n",
       "    }\n",
       "\n",
       "    .dataframe tbody tr th {\n",
       "        vertical-align: top;\n",
       "    }\n",
       "\n",
       "    .dataframe thead th {\n",
       "        text-align: right;\n",
       "    }\n",
       "</style>\n",
       "<table border=\"1\" class=\"dataframe\">\n",
       "  <thead>\n",
       "    <tr style=\"text-align: right;\">\n",
       "      <th></th>\n",
       "      <th>ROC AUC</th>\n",
       "    </tr>\n",
       "    <tr>\n",
       "      <th>ConfidenceLevel</th>\n",
       "      <th></th>\n",
       "    </tr>\n",
       "  </thead>\n",
       "  <tbody>\n",
       "    <tr>\n",
       "      <th>RIDDEN A</th>\n",
       "      <td>0.824463</td>\n",
       "    </tr>\n",
       "    <tr>\n",
       "      <th>CytoSig overlap</th>\n",
       "      <td>0.670893</td>\n",
       "    </tr>\n",
       "    <tr>\n",
       "      <th>RIDDEN C</th>\n",
       "      <td>0.656977</td>\n",
       "    </tr>\n",
       "    <tr>\n",
       "      <th>RIDDEN ALL overlap</th>\n",
       "      <td>0.530480</td>\n",
       "    </tr>\n",
       "    <tr>\n",
       "      <th>RIDDEN D</th>\n",
       "      <td>0.464069</td>\n",
       "    </tr>\n",
       "    <tr>\n",
       "      <th>RIDDEN E</th>\n",
       "      <td>0.449153</td>\n",
       "    </tr>\n",
       "    <tr>\n",
       "      <th>RIDDEN B</th>\n",
       "      <td>0.348616</td>\n",
       "    </tr>\n",
       "  </tbody>\n",
       "</table>\n",
       "</div>"
      ],
      "text/plain": [
       "                     ROC AUC\n",
       "ConfidenceLevel             \n",
       "RIDDEN A            0.824463\n",
       "CytoSig overlap     0.670893\n",
       "RIDDEN C            0.656977\n",
       "RIDDEN ALL overlap  0.530480\n",
       "RIDDEN D            0.464069\n",
       "RIDDEN E            0.449153\n",
       "RIDDEN B            0.348616"
      ]
     },
     "execution_count": 164,
     "metadata": {},
     "output_type": "execute_result"
    }
   ],
   "source": [
    "rocauc_results_all_immunedict.groupby('ConfidenceLevel').median().sort_values(by = 'ROC AUC', ascending = False)"
   ]
  },
  {
   "cell_type": "code",
   "execution_count": 165,
   "metadata": {},
   "outputs": [
    {
     "name": "stderr",
     "output_type": "stream",
     "text": [
      "/var/folders/ld/gy00m33j1pn81v2x1sj_h3pm0000gn/T/ipykernel_23188/3767089349.py:4: FutureWarning: \n",
      "\n",
      "Passing `palette` without assigning `hue` is deprecated and will be removed in v0.14.0. Assign the `x` variable to `hue` and set `legend=False` for the same effect.\n",
      "\n",
      "  scp = sns.stripplot(x='ConfidenceLevel', y='ROC AUC', data=results, palette = palette, size = 5, order= order)\n"
     ]
    },
    {
     "data": {
      "image/png": "[encoded data removed]",
      "text/plain": [
       "<Figure size 400x350 with 1 Axes>"
      ]
     },
     "metadata": {},
     "output_type": "display_data"
    }
   ],
   "source": [
    "benchmark_result_boxplot(rocauc_results_all_immunedict, save = True, filepath = f'figures/revision', filename = f'RIDDEN_without_ligand_on_immunedict', \n",
    "                         order = [ 'RIDDEN ALL overlap', 'CytoSig overlap', 'RIDDEN A', 'RIDDEN B', 'RIDDEN C', 'RIDDEN D','RIDDEN E'], \n",
    "                         palette = custom_palette2)"
   ]
  },
  {
   "cell_type": "code",
   "execution_count": null,
   "metadata": {},
   "outputs": [],
   "source": []
  }
 ],
 "metadata": {
  "kernelspec": {
   "display_name": "py311_ccc_decoupler",
   "language": "python",
   "name": "python3"
  },
  "language_info": {
   "codemirror_mode": {
    "name": "ipython",
    "version": 3
   },
   "file_extension": ".py",
   "mimetype": "text/x-python",
   "name": "python",
   "nbconvert_exporter": "python",
   "pygments_lexer": "ipython3",
   "version": "3.11.11"
  }
 },
 "nbformat": 4,
 "nbformat_minor": 2
}
