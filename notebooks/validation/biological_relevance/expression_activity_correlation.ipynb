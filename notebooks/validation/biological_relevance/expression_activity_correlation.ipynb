{
 "cells": [
  {
   "cell_type": "code",
   "execution_count": 23,
   "metadata": {},
   "outputs": [
    {
     "name": "stdout",
     "output_type": "stream",
     "text": [
      "The autoreload extension is already loaded. To reload it, use:\n",
      "  %reload_ext autoreload\n"
     ]
    }
   ],
   "source": [
    "%load_ext autoreload\n",
    "%autoreload 2"
   ]
  },
  {
   "cell_type": "code",
   "execution_count": 24,
   "metadata": {},
   "outputs": [],
   "source": [
    "import pandas as pd\n",
    "import numpy as np\n",
    "import matplotlib.pyplot as plt\n",
    "import seaborn as sns\n",
    "import os\n",
    "import scipy"
   ]
  },
  {
   "cell_type": "code",
   "execution_count": 25,
   "metadata": {},
   "outputs": [],
   "source": [
    "from src.prediction_functions import *\n",
    "from src.config import *\n",
    "from src.benchmark_functions import *"
   ]
  },
  {
   "attachments": {},
   "cell_type": "markdown",
   "metadata": {},
   "source": [
    "# Read in data"
   ]
  },
  {
   "attachments": {},
   "cell_type": "markdown",
   "metadata": {},
   "source": [
    "### Prior knowledge - ligand-receptor interactions from OmniPath"
   ]
  },
  {
   "cell_type": "code",
   "execution_count": 26,
   "metadata": {},
   "outputs": [],
   "source": [
    "lig_rec = pd.read_csv(LIG_REC_DF, index_col = 0)"
   ]
  },
  {
   "attachments": {},
   "cell_type": "markdown",
   "metadata": {},
   "source": [
    "### TCGA - input data"
   ]
  },
  {
   "cell_type": "code",
   "execution_count": 27,
   "metadata": {},
   "outputs": [
    {
     "ename": "FileNotFoundError",
     "evalue": "[Errno 2] No such file or directory: '/Volumes/SZILVIUSBC/TCGA/'",
     "output_type": "error",
     "traceback": [
      "\u001b[0;31m---------------------------------------------------------------------------\u001b[0m",
      "\u001b[0;31mFileNotFoundError\u001b[0m                         Traceback (most recent call last)",
      "Input \u001b[0;32mIn [27]\u001b[0m, in \u001b[0;36m<cell line: 1>\u001b[0;34m()\u001b[0m\n\u001b[0;32m----> 1\u001b[0m tumors \u001b[38;5;241m=\u001b[39m [ f\u001b[38;5;241m.\u001b[39mpath\u001b[38;5;241m.\u001b[39msplit(\u001b[38;5;124m'\u001b[39m\u001b[38;5;124m/\u001b[39m\u001b[38;5;124m'\u001b[39m)[\u001b[38;5;241m4\u001b[39m] \u001b[38;5;28;01mfor\u001b[39;00m f \u001b[38;5;129;01min\u001b[39;00m \u001b[43mos\u001b[49m\u001b[38;5;241;43m.\u001b[39;49m\u001b[43mscandir\u001b[49m\u001b[43m(\u001b[49m\u001b[43mTCGA_DATA_DIR\u001b[49m\u001b[43m)\u001b[49m \u001b[38;5;28;01mif\u001b[39;00m f\u001b[38;5;241m.\u001b[39mis_dir() ]\n",
      "\u001b[0;31mFileNotFoundError\u001b[0m: [Errno 2] No such file or directory: '/Volumes/SZILVIUSBC/TCGA/'"
     ]
    }
   ],
   "source": [
    "tumors = [ f.path.split('/')[4] for f in os.scandir(TCGA_DATA_DIR) if f.is_dir() ]"
   ]
  },
  {
   "cell_type": "code",
   "execution_count": 44,
   "metadata": {},
   "outputs": [
    {
     "data": {
      "text/plain": [
       "33"
      ]
     },
     "execution_count": 44,
     "metadata": {},
     "output_type": "execute_result"
    }
   ],
   "source": [
    "len(tumors)"
   ]
  },
  {
   "cell_type": "code",
   "execution_count": 45,
   "metadata": {},
   "outputs": [],
   "source": [
    "tcga_rdata = pd.read_csv(f'{TCGA_DATA_DIR}/{tumors[0]}/rdata.csv', index_col = 0)\n",
    "gene_name_map = tcga_rdata[['gene_id', 'gene_name']].set_index('gene_id')\n",
    "gene_name_map = dict(gene_name_map.drop_duplicates()['gene_name'])\n",
    "\n",
    "def map_gene_names(gex):\n",
    "    gex_mapped = gex.copy()\n",
    "    gex_mapped.index  = gex_mapped.index.map(gene_name_map)   \n",
    "    return gex_mapped\n",
    "\n",
    "def get_mean_of_same_gene_symbol(gex):\n",
    "    return gex.reset_index().groupby('index').mean()\n",
    "    "
   ]
  },
  {
   "cell_type": "code",
   "execution_count": 46,
   "metadata": {},
   "outputs": [
    {
     "name": "stdout",
     "output_type": "stream",
     "text": [
      "total length: 33\n",
      "0 1 2 3 4 5 6 7 8 9 10 11 12 13 14 15 16 17 18 19 20 21 22 23 24 25 26 27 28 29 30 31 32 "
     ]
    }
   ],
   "source": [
    "\n",
    "tcga_gex = {}\n",
    "i = 0\n",
    "print('total length:', len(tumors))\n",
    "for tumor in tumors:\n",
    "    print(i, end = ' ')\n",
    "    tcga_gex[tumor] = pd.read_csv(f'{TCGA_DATA_DIR}/{tumor}/adata.csv', index_col = 0)\n",
    "    tcga_gex[tumor] = map_gene_names(tcga_gex[tumor])\n",
    "    tcga_gex[tumor] = get_mean_of_same_gene_symbol(tcga_gex[tumor])\n",
    "    tcga_gex[tumor] = tcga_gex[tumor].T\n",
    "    tcga_gex[tumor].index = [f\"{sampleID}_{tumor}\" for sampleID in tcga_gex[tumor].index]  # Append tissue type\n",
    "    i += 1\n",
    "all_genes = tcga_rdata.gene_name.unique()\n",
    "all_samples = []\n",
    "for tumor in tumors:\n",
    "    all_samples.extend(tcga_gex[tumor].index)\n",
    "merged = pd.DataFrame(columns = all_genes, index = all_samples, dtype=float)\n",
    "for tumor in tumors:\n",
    "    gex = tcga_gex[tumor]\n",
    "    merged.loc[gex.index, gex.columns] = gex"
   ]
  },
  {
   "cell_type": "code",
   "execution_count": 47,
   "metadata": {},
   "outputs": [],
   "source": [
    "merged_log = np.log2(merged+1)"
   ]
  },
  {
   "attachments": {},
   "cell_type": "markdown",
   "metadata": {},
   "source": [
    "### CCLE - input data"
   ]
  },
  {
   "cell_type": "code",
   "execution_count": 63,
   "metadata": {},
   "outputs": [],
   "source": [
    "ccle = pd.read_csv('data/ccle/OmicsExpressionProteinCodingGenesTPMLogp1.csv', index_col = 0)"
   ]
  },
  {
   "cell_type": "code",
   "execution_count": 64,
   "metadata": {},
   "outputs": [],
   "source": [
    "ccle.columns = ccle.columns.str.split(' ', expand = True).get_level_values(0)"
   ]
  },
  {
   "attachments": {},
   "cell_type": "markdown",
   "metadata": {},
   "source": [
    "# Calculations"
   ]
  },
  {
   "cell_type": "code",
   "execution_count": 48,
   "metadata": {},
   "outputs": [],
   "source": [
    "def get_cytokine_receptors(cytokine_activities, input_data, lincs_model):\n",
    "    lig_rec_filtered = lig_rec[['source_genesymbol', 'target_genesymbol']].drop_duplicates().reset_index(drop = True).copy()\n",
    "    ligs = cytokine_activities.columns[cytokine_activities.columns.isin(lig_rec_filtered.source_genesymbol)]\n",
    "    receptors_of_cytokines = lig_rec_filtered[lig_rec_filtered.source_genesymbol.isin(ligs)]\n",
    "    receptors_of_cytokines = receptors_of_cytokines[receptors_of_cytokines.target_genesymbol.isin(input_data.columns)].reset_index(drop = True)\n",
    "    cytokine_list = list(set(receptors_of_cytokines.target_genesymbol) & set(input_data.columns) & set(lincs_model.columns))\n",
    "    return cytokine_list"
   ]
  },
  {
   "cell_type": "code",
   "execution_count": 49,
   "metadata": {},
   "outputs": [],
   "source": [
    "def calculate_correlations_receptorxligand(lig_rec, input_data_tpm, receptor_activities, zscore = False, rep = 10):\n",
    "    print('Calculate correlations')\n",
    "    gene_receptor_corr_tg = CorrelationsNotMean.receptor_activity_and_receptorxligand_correlation(lig_rec, input_data_tpm, receptor_activities, zscore)\n",
    "\n",
    "    print('Calculate background correlation', end = ': ')\n",
    "    correlation_perm = CorrelationsNotMean.background_correlation_receptor_ligandxreceptor_repeated(lig_rec, input_data_tpm, receptor_activities, repetition = rep)\n",
    "    print('Preparing the data.')\n",
    "    receptor_violin = pd.DataFrame.from_dict(gene_receptor_corr_tg ,orient ='index', columns = ['value'])\n",
    "    receptor_violin['type'] = 'receptor'\n",
    "    receptor_violin['source'] = 'original'\n",
    "\n",
    "    correlation_perm_df = pd.DataFrame.from_dict(correlation_perm, orient ='index', columns = ['value'])\n",
    "    correlation_perm_df['type'] = 'receptor'\n",
    "    correlation_perm_df['source'] = 'random'\n",
    "\n",
    "    return receptor_violin, correlation_perm_df"
   ]
  },
  {
   "cell_type": "code",
   "execution_count": 50,
   "metadata": {},
   "outputs": [],
   "source": [
    "def calculate_correlations_receptor(lig_rec, input_data_tpm, receptor_activities, zscore = False, rep = 10):\n",
    "    print('Calculate correlations')\n",
    "    gene_receptor_corr_tg = CorrelationsNotMean.activity_and_gene_correlation(input_data_tpm, receptor_activities)\n",
    "\n",
    "    print('Calculate background correlation', end = ': ')\n",
    "    correlation_perm = CorrelationsNotMean.background_correlation_receptor_repeated(lig_rec, input_data_tpm, receptor_activities, repetition = rep)\n",
    "    print('Preparing the data.')\n",
    "    receptor_violin = pd.DataFrame.from_dict(gene_receptor_corr_tg ,orient ='index', columns = ['value'])\n",
    "    receptor_violin['type'] = 'receptor'\n",
    "    receptor_violin['source'] = 'original'\n",
    "\n",
    "    correlation_perm_df = pd.DataFrame.from_dict(correlation_perm, orient ='index', columns = ['value'])\n",
    "    correlation_perm_df['type'] = 'receptor'\n",
    "    correlation_perm_df['source'] = 'random'\n",
    "\n",
    "    return receptor_violin, correlation_perm_df"
   ]
  },
  {
   "cell_type": "code",
   "execution_count": 51,
   "metadata": {},
   "outputs": [],
   "source": [
    "def calculate_correlations_ligand(lig_rec, input_data_tpm, receptor_activities, zscore = False, rep = 10):\n",
    "    print('Calculate correlations')\n",
    "    gene_receptor_corr_tg = CorrelationsNotMean.receptor_activity_ligand_correlation(lig_rec, input_data_tpm, receptor_activities)\n",
    "\n",
    "    print('Calculate background correlation', end = ': ')\n",
    "    correlation_perm = CorrelationsNotMean.background_correlation_receptor_ligand_repeated(lig_rec, input_data_tpm, receptor_activities, repetition = rep)\n",
    "    print('Preparing the data.')\n",
    "    receptor_violin = pd.DataFrame.from_dict(gene_receptor_corr_tg ,orient ='index', columns = ['value'])\n",
    "    receptor_violin['type'] = 'receptor'\n",
    "    receptor_violin['source'] = 'original'\n",
    "\n",
    "    correlation_perm_df = pd.DataFrame.from_dict(correlation_perm, orient ='index', columns = ['value'])\n",
    "    correlation_perm_df['type'] = 'receptor'\n",
    "    correlation_perm_df['source'] = 'random'\n",
    "\n",
    "    return receptor_violin, correlation_perm_df"
   ]
  },
  {
   "cell_type": "markdown",
   "metadata": {},
   "source": [
    "### Receptor activities of CCLE"
   ]
  },
  {
   "cell_type": "code",
   "execution_count": 74,
   "metadata": {},
   "outputs": [
    {
     "name": "stdout",
     "output_type": "stream",
     "text": [
      "Estimate receptor activities\n",
      "Number of samples: 1408\n",
      "Number of chunks: 5\n",
      "Number of permutations: 1000\n"
     ]
    },
    {
     "name": "stderr",
     "output_type": "stream",
     "text": [
      "100%|██████████| 5/5 [00:25<00:00,  5.13s/it]"
     ]
    },
    {
     "name": "stdout",
     "output_type": "stream",
     "text": [
      "(1408, 229)\n"
     ]
    },
    {
     "name": "stderr",
     "output_type": "stream",
     "text": [
      "\n"
     ]
    }
   ],
   "source": [
    "model_type = 'multipl'\n",
    "model_name= 'all'\n",
    "input_db = 'ccle'\n",
    "input_data = ccle\n",
    "print(\"Estimate receptor activities\")\n",
    "if model_type == 'multipl':\n",
    "    lincs_model = pd.read_csv(f'data/coefficient_matrix/high_quality/{model_name}_pert_coef_liana.csv', index_col =0)\n",
    "    receptor_activities = estimate_receptor_activity(input_data, lincs_model.T, number_of_permutations = 1000, chunk_size=300)\n",
    "    print(receptor_activities.shape)\n"
   ]
  },
  {
   "cell_type": "code",
   "execution_count": 75,
   "metadata": {},
   "outputs": [],
   "source": [
    "receptor_activities.to_csv(f'results/validation/biological_relevance/all_ccle_receptor_activities.csv')"
   ]
  },
  {
   "cell_type": "markdown",
   "metadata": {},
   "source": [
    "### CCLE expression correlations and random"
   ]
  },
  {
   "cell_type": "code",
   "execution_count": 76,
   "metadata": {},
   "outputs": [
    {
     "name": "stdout",
     "output_type": "stream",
     "text": [
      "receptorxligand\n",
      "Calculate correlations\n",
      "Calculate background correlation: 0 1 2 3 4 5 6 7 8 9 10 11 12 13 14 15 16 17 18 19 20 21 22 23 24 25 26 27 28 29 30 31 32 33 34 35 36 37 38 39 40 41 42 43 44 45 46 47 48 49 50 51 52 53 54 55 56 57 58 59 60 61 62 63 64 65 66 67 68 69 70 71 72 73 74 75 76 77 78 79 80 81 82 83 84 85 86 87 88 89 90 91 92 93 94 95 96 97 98 99 ... done\n",
      "Preparing the data.\n",
      "receptor\n",
      "Calculate correlations\n",
      "Calculate background correlation: 0 1 2 3 4 5 6 7 8 9 10 11 12 13 14 15 16 17 18 19 20 21 22 23 24 25 26 27 28 29 30 31 32 33 34 35 36 37 38 39 40 41 42 43 44 45 46 47 48 49 50 51 52 53 54 55 56 57 58 59 60 61 62 63 64 65 66 67 68 69 70 71 72 73 74 75 76 77 78 79 80 81 82 83 84 85 86 87 88 89 90 91 92 93 94 95 96 97 98 99 ... done\n",
      "Preparing the data.\n",
      "ligand\n",
      "Calculate correlations\n",
      "Calculate background correlation: 0 1 2 3 4 5 6 7 8 9 10 11 12 13 14 15 16 17 18 19 20 21 22 23 24 25 26 27 28 29 30 31 32 33 34 35 36 37 38 39 40 41 42 43 44 45 46 47 48 49 50 51 52 53 54 55 56 57 58 59 60 61 62 63 64 65 66 67 68 69 70 71 72 73 74 75 76 77 78 79 80 81 82 83 84 85 86 87 88 89 90 91 92 93 94 95 96 97 98 99 ... done\n",
      "Preparing the data.\n"
     ]
    }
   ],
   "source": [
    "input_data_tpm = ccle.copy()\n",
    "print('receptorxligand')\n",
    "receptor_violin_lxr_ccle, correlation_perm_df_lxr_ccle = calculate_correlations_receptorxligand(lig_rec, input_data_tpm, receptor_activities, zscore = False, rep = 100)\n",
    "correlation_perm_df_lxr_ccle.to_csv(f'results/validation/biological_relevance/correlation_perm_df_lxr_ccle.csv')\n",
    "receptor_violin_lxr_ccle.to_csv(f'results/validation/biological_relevance/receptor_violin_lxr_ccle.csv')\n",
    "\n",
    "print('receptor')\n",
    "input_data_tpm = ccle.copy()\n",
    "receptor_violin_rec_ccle, correlation_perm_df_rec_ccle = calculate_correlations_receptor(lig_rec, input_data_tpm, receptor_activities, zscore = False, rep = 100)\n",
    "receptor_violin_rec_ccle.to_csv(f'results/validation/biological_relevance/receptor_violin_rec_ccle.csv')\n",
    "correlation_perm_df_rec_ccle.to_csv(f'results/validation/biological_relevance/correlation_perm_df_rec_ccle.csv')\n",
    "\n",
    "input_data_tpm = ccle.copy()\n",
    "print('ligand')\n",
    "receptor_violin_lig_ccle, correlation_perm_df_lig_ccle = calculate_correlations_ligand(lig_rec, input_data_tpm, receptor_activities, zscore = False, rep = 100)\n",
    "correlation_perm_df_lig_ccle.to_csv(f'results/validation/biological_relevance/correlation_perm_df_lig_ccle.csv')\n",
    "receptor_violin_lig_ccle.to_csv(f'results/validation/biological_relevance/receptor_violin_lig_ccle.csv')\n"
   ]
  },
  {
   "cell_type": "code",
   "execution_count": 6,
   "metadata": {},
   "outputs": [],
   "source": [
    "ccle_lxr_path = f'results/validation/biological_relevance/receptor_violin_lxr_ccle.csv'\n",
    "ccle_lxr_rand_path = f'results/validation/biological_relevance/correlation_perm_df_lxr_ccle.csv'\n",
    "ccle_rec_path = f'results/validation/biological_relevance/receptor_violin_rec_ccle.csv'\n",
    "ccle_rec_rand_path = f'results/validation/biological_relevance/correlation_perm_df_rec_ccle.csv'\n",
    "ccle_lig_path = f'results/validation/biological_relevance/receptor_violin_lig_ccle.csv'\n",
    "ccle_lig_rand_path = f'results/validation/biological_relevance/correlation_perm_df_lig_ccle.csv'\n",
    "# Ligand x Receptor TPM correlations with Receptor activity\n",
    "ccle_lxr = pd.read_csv(ccle_lxr_path, index_col = 0)\n",
    "ccle_lxr_rand = pd.read_csv(ccle_lxr_rand_path, index_col = 0)\n",
    "# Receptor TPM correlations with Receptor activity\n",
    "ccle_rec = pd.read_csv(ccle_rec_path, index_col = 0)\n",
    "ccle_rec_rand = pd.read_csv(ccle_rec_rand_path, index_col = 0)\n",
    "# Ligand TPM correlations with Receptor activity\n",
    "ccle_lig = pd.read_csv(ccle_lig_path, index_col = 0)\n",
    "ccle_lig_rand = pd.read_csv(ccle_lig_rand_path, index_col = 0)"
   ]
  },
  {
   "cell_type": "code",
   "execution_count": 13,
   "metadata": {},
   "outputs": [],
   "source": [
    "def violinplot(receptor_violin:pd.DataFrame, background_correlation:pd.DataFrame, title = '', save_plot_pdf = False, filepath = '',  filename = ''):\n",
    "    \"\"\"Plot Violin and calculate Wilcoxon\n",
    "    \n",
    "    Parameters\n",
    "    ----------\n",
    "    receptor_violin : DataFrame\n",
    "    background_correlation : DataFrame\n",
    "    title : str\n",
    "    save_plot_pdf : bool\n",
    "    filepath : str\n",
    "    filename : str\n",
    "    \"\"\"\n",
    "    background_correlation_overlap = background_correlation.loc[background_correlation.index.isin(receptor_violin.index)].copy()\n",
    "    violin = pd.concat([receptor_violin, background_correlation_overlap])\n",
    "    # plot\n",
    "    fig, ax = plt.subplots(figsize = (4,5))\n",
    "    sns.violinplot(data = violin, y = 'value', x = 'type', hue = 'source', inner = 'quartile', palette= 'Blues')\n",
    "    plt.axhline(0, color = 'k')\n",
    "    plt.ylabel('Correlation')\n",
    "    # wilcoxon receptor\n",
    "    wilc = scipy.stats.wilcoxon(receptor_violin.value, background_correlation_overlap.value)\n",
    "    r = round(wilc[0], 3)\n",
    "    p = '{:.1e}'.format(wilc[1])\n",
    "    text1 = 'Wilcoxon\\ns='+str(r)+'\\np='+str(p)\n",
    "    # plot text\n",
    "    plt.text(x = 0, y = receptor_violin.value.max()* 0.45, s = text1)\n",
    "    plt.xlabel('')\n",
    "    plt.ylabel('Correlation', fontsize = 12)\n",
    "    plt.xticks(fontsize = 12)\n",
    "    if title != '':\n",
    "        plt.title(title)\n",
    "    if save_plot_pdf == True:\n",
    "        if filepath == '' or filename == '':\n",
    "            raise ValueError('filepath or filename is missing')\n",
    "        plt.savefig(f'{filepath}/{filename}.pdf', bbox_inches = 'tight', transparent = True)\n",
    "    plt.show()"
   ]
  },
  {
   "cell_type": "code",
   "execution_count": 14,
   "metadata": {},
   "outputs": [],
   "source": [
    "# # mean correlation\n",
    "# def calculate_mean_correaltion_of_receptor(receptor_corr_data, random_corr_data):\n",
    "#     receptor_corr_data_mean = receptor_corr_data.dropna().copy()\n",
    "#     receptor_corr_data_mean.index = receptor_corr_data_mean.index.str.split('_', expand = True)\n",
    "#     receptor_corr_data_mean = receptor_corr_data_mean.reset_index().groupby('level_0').mean()\n",
    "#     receptor_corr_data_mean['type'] = 'receptor'\n",
    "#     receptor_corr_data_mean['source'] = 'original'\n",
    "\n",
    "#     random_corr_data_mean = random_corr_data.dropna().copy()\n",
    "#     random_corr_data_mean.index = random_corr_data_mean.index.str.split('_', expand = True)\n",
    "#     random_corr_data_mean = random_corr_data_mean.reset_index().groupby('level_0').mean()\n",
    "#     random_corr_data_mean['type'] = 'receptor'\n",
    "#     random_corr_data_mean['source'] = 'random'\n",
    "\n",
    "#     return receptor_corr_data_mean, random_corr_data_mean\n"
   ]
  },
  {
   "cell_type": "code",
   "execution_count": 15,
   "metadata": {},
   "outputs": [
    {
     "data": {
      "image/png": "[encoded data removed]",
      "text/plain": [
       "<Figure size 288x360 with 1 Axes>"
      ]
     },
     "metadata": {
      "needs_background": "light"
     },
     "output_type": "display_data"
    }
   ],
   "source": [
    "violinplot(ccle_lxr.dropna(), ccle_lxr_rand.dropna(), title = '', save_plot_pdf = False, filepath = f'figures/validation/biological_relevance/', filename = 'ccle_receptor_violin_ligandxreceptor')"
   ]
  },
  {
   "cell_type": "markdown",
   "metadata": {},
   "source": [
    "### TCGA receptor activities"
   ]
  },
  {
   "cell_type": "code",
   "execution_count": 54,
   "metadata": {},
   "outputs": [
    {
     "name": "stdout",
     "output_type": "stream",
     "text": [
      "Estimate receptor activities\n",
      "Number of samples: 11274\n",
      "Number of chunks: 38\n",
      "Number of permutations: 1000\n"
     ]
    },
    {
     "name": "stderr",
     "output_type": "stream",
     "text": [
      "100%|██████████| 38/38 [03:22<00:00,  5.33s/it]"
     ]
    },
    {
     "name": "stdout",
     "output_type": "stream",
     "text": [
      "(11274, 229)\n"
     ]
    },
    {
     "name": "stderr",
     "output_type": "stream",
     "text": [
      "\n"
     ]
    }
   ],
   "source": [
    "model_type = 'multipl'\n",
    "model_name= 'all'\n",
    "input_db = 'tcga'\n",
    "input_data = merged_log\n",
    "print(\"Estimate receptor activities\")\n",
    "if model_type == 'multipl':\n",
    "    lincs_model = pd.read_csv(f'data/coefficient_matrix/high_quality/{model_name}_pert_coef_liana.csv', index_col =0)\n",
    "    receptor_activities = estimate_receptor_activity(input_data, lincs_model.T, number_of_permutations = 1000, chunk_size=300)\n",
    "    print(receptor_activities.shape)\n"
   ]
  },
  {
   "cell_type": "code",
   "execution_count": 55,
   "metadata": {},
   "outputs": [],
   "source": [
    "# receptor_activities.to_csv(f'results/validation/biological_relevance/all_tcga_receptor_activities.csv')"
   ]
  },
  {
   "cell_type": "markdown",
   "metadata": {},
   "source": [
    "### TCGA correlations and random"
   ]
  },
  {
   "cell_type": "code",
   "execution_count": 66,
   "metadata": {},
   "outputs": [
    {
     "name": "stdout",
     "output_type": "stream",
     "text": [
      "ligand\n",
      "Calculate correlations\n",
      "Calculate background correlation: 0 1 2 3 4 5 6 7 8 9 10 11 12 13 14 15 16 17 18 19 20 21 22 23 24 25 26 27 28 29 30 31 32 33 34 35 36 37 38 39 40 41 42 43 44 45 46 47 48 49 50 51 52 53 54 55 56 57 58 59 60 61 62 63 64 65 66 67 68 69 70 71 72 73 74 75 76 77 78 79 80 81 82 83 84 85 86 87 88 89 90 91 92 93 94 95 96 97 98 99 ... done\n",
      "Preparing the data.\n"
     ]
    }
   ],
   "source": [
    "input_data_tpm = merged_log.copy()\n",
    "print('ligand')\n",
    "receptor_violin_lig_tcga, correlation_perm_df_lig_tcga = calculate_correlations_ligand(lig_rec, input_data_tpm, receptor_activities, zscore = False, rep = 100)\n",
    "correlation_perm_df_lig_tcga.to_csv(f'results/validation/biological_relevance/correlation_perm_df_lig_tcga_log.csv')\n",
    "receptor_violin_lig_tcga.to_csv(f'results/validation/biological_relevance/receptor_violin_lig_tcga_log.csv')\n"
   ]
  },
  {
   "cell_type": "code",
   "execution_count": 70,
   "metadata": {},
   "outputs": [
    {
     "name": "stdout",
     "output_type": "stream",
     "text": [
      "receptorxligand\n",
      "Calculate correlations\n",
      "Calculate background correlation: 0 1 2 3 4 5 6 7 8 9 10 11 12 13 14 15 16 17 18 19 20 21 22 23 24 25 26 27 28 29 30 31 32 33 34 35 36 37 38 39 40 41 42 43 44 45 46 47 48 49 50 51 52 53 54 55 56 57 58 59 60 61 62 63 64 65 66 67 68 69 70 71 72 73 74 75 76 77 78 79 80 81 82 83 84 85 86 87 88 89 90 91 92 93 94 95 96 97 98 99 ... done\n",
      "Preparing the data.\n",
      "receptor\n",
      "Calculate correlations\n",
      "Calculate background correlation: 0 1 2 3 4 5 6 7 8 9 10 11 12 13 14 15 16 17 18 19 20 21 22 23 24 25 26 27 28 29 30 31 32 33 34 35 36 37 38 39 40 41 42 43 44 45 46 47 48 49 50 51 52 53 54 55 56 57 58 59 60 61 62 63 64 65 66 67 68 69 70 71 72 73 74 75 76 77 78 79 80 81 82 83 84 85 86 87 88 89 90 91 92 93 94 95 96 97 98 99 ... done\n",
      "Preparing the data.\n"
     ]
    }
   ],
   "source": [
    "input_data_tpm = merged_log.copy()\n",
    "print('receptorxligand')\n",
    "receptor_violin_lxr_tcga, correlation_perm_df_lxr_tcga = calculate_correlations_receptorxligand(lig_rec, input_data_tpm, receptor_activities, zscore = False, rep = 100)\n",
    "correlation_perm_df_lxr_tcga.to_csv(f'results/validation/biological_relevance/correlation_perm_df_lxr_tcga_log.csv')\n",
    "receptor_violin_lxr_tcga.to_csv(f'results/validation/biological_relevance/receptor_violin_lxr_tcga_log.csv')\n",
    "\n",
    "print('receptor')\n",
    "input_data_tpm = merged_log.copy()\n",
    "receptor_violin_rec_tcga, correlation_perm_df_rec_tcga = calculate_correlations_receptor(lig_rec, input_data_tpm, receptor_activities, zscore = False, rep = 100)\n",
    "receptor_violin_rec_tcga.to_csv(f'results/validation/biological_relevance/receptor_violin_rec_tcga_log.csv')\n",
    "correlation_perm_df_rec_tcga.to_csv(f'results/validation/biological_relevance/correlation_perm_df_rec_tcga_log.csv')\n"
   ]
  },
  {
   "cell_type": "code",
   "execution_count": 38,
   "metadata": {},
   "outputs": [],
   "source": [
    "tcga_lxr_path = f'results/validation/biological_relevance/receptor_violin_lxr_tcga_log.csv'\n",
    "tcga_lxr_rand_path = f'results/validation/biological_relevance/correlation_perm_df_lxr_tcga_log.csv'\n",
    "tcga_rec_path = f'results/validation/biological_relevance/receptor_violin_rec_tcga.csv'\n",
    "tcga_rec_rand_path = f'results/validation/biological_relevance/correlation_perm_df_rec_tcga.csv'\n",
    "tcga_lig_path = f'results/validation/biological_relevance/receptor_violin_lig_tcga_log.csv'\n",
    "tcga_lig_rand_path = f'results/validation/biological_relevance/correlation_perm_df_lig_tcga_log.csv'\n",
    "# Ligand x Receptor TPM correlations with Receptor activity\n",
    "tcga_lxr = pd.read_csv(tcga_lxr_path, index_col = 0)\n",
    "tcga_lxr_rand = pd.read_csv(tcga_lxr_rand_path, index_col = 0)\n",
    "# # Receptor TPM correlations with Receptor activity\n",
    "tcga_rec = pd.read_csv(tcga_rec_path, index_col = 0)\n",
    "tcga_rec_rand = pd.read_csv(tcga_rec_rand_path, index_col = 0)\n",
    "# Ligand TPM correlations with Receptor activity\n",
    "tcga_lig = pd.read_csv(tcga_lig_path, index_col = 0)\n",
    "tcga_lig_rand = pd.read_csv(tcga_lig_rand_path, index_col = 0)"
   ]
  },
  {
   "cell_type": "code",
   "execution_count": 48,
   "metadata": {},
   "outputs": [],
   "source": [
    "tcga_lxr = tcga_lxr.dropna()\n",
    "tcga_lxr_rand = tcga_lxr_rand.dropna()\n",
    "tcga_lxr_rand = tcga_lxr_rand.loc[tcga_lxr_rand.index.isin(tcga_lxr.index)].copy()\n",
    "wilc = scipy.stats.wilcoxon(tcga_lxr.value, tcga_lxr_rand.value)\n",
    "r = round(wilc[0], 3)\n",
    "p = '{:.1e}'.format(wilc[1])"
   ]
  },
  {
   "cell_type": "code",
   "execution_count": 20,
   "metadata": {},
   "outputs": [
    {
     "data": {
      "image/png": "[encoded data removed]",
      "text/plain": [
       "<Figure size 288x360 with 1 Axes>"
      ]
     },
     "metadata": {
      "needs_background": "light"
     },
     "output_type": "display_data"
    }
   ],
   "source": [
    "violinplot(tcga_lxr.dropna(), tcga_lxr_rand.dropna(), title = '', save_plot_pdf = False)"
   ]
  },
  {
   "cell_type": "code",
   "execution_count": null,
   "metadata": {},
   "outputs": [],
   "source": []
  }
 ],
 "metadata": {
  "kernelspec": {
   "display_name": "ccc_py39",
   "language": "python",
   "name": "python3"
  },
  "language_info": {
   "codemirror_mode": {
    "name": "ipython",
    "version": 3
   },
   "file_extension": ".py",
   "mimetype": "text/x-python",
   "name": "python",
   "nbconvert_exporter": "python",
   "pygments_lexer": "ipython3",
   "version": "3.9.13"
  },
  "orig_nbformat": 4
 },
 "nbformat": 4,
 "nbformat_minor": 2
}
