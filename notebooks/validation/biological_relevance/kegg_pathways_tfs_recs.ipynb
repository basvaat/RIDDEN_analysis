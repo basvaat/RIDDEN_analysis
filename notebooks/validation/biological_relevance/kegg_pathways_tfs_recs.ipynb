{
 "cells": [
  {
   "attachments": {},
   "cell_type": "markdown",
   "metadata": {},
   "source": [
    "### Inverstigation of transcription factor - receptor connection and the relatioship in correlation with coeff matrix and TF activity"
   ]
  },
  {
   "cell_type": "code",
   "execution_count": 1,
   "metadata": {},
   "outputs": [
    {
     "name": "stderr",
     "output_type": "stream",
     "text": [
      "OMP: Info #276: omp_set_nested routine deprecated, please use omp_set_max_active_levels instead.\n"
     ]
    }
   ],
   "source": [
    "import pandas as pd\n",
    "import numpy as np\n",
    "import decoupler as dc\n",
    "import matplotlib.pyplot as plt\n",
    "import seaborn as sns\n",
    "from scipy.stats import mannwhitneyu\n",
    "from scipy.stats import ttest_ind\n",
    "from src.config import *"
   ]
  },
  {
   "attachments": {},
   "cell_type": "markdown",
   "metadata": {},
   "source": [
    "##### KEGG pathways"
   ]
  },
  {
   "cell_type": "code",
   "execution_count": 2,
   "metadata": {},
   "outputs": [],
   "source": [
    "with open(f'data/genesets/c2.cp.kegg.v2023.1.Hs.symbols.gmt') as gmt:\n",
    "    file_contents = (gmt.read())"
   ]
  },
  {
   "cell_type": "code",
   "execution_count": 3,
   "metadata": {},
   "outputs": [],
   "source": [
    "file_contents = file_contents.split('\\n')\n",
    "file_contents = file_contents[:-1]\n",
    "kegg_pws = {}\n",
    "for line in file_contents:\n",
    "    elements = line.split('\\t')  # Split each line into elements using '\\t' as the separator\n",
    "    id_ = elements[0]  # First element is the ID\n",
    "    elements_list = elements[2:]  # Elements starting from the third element\n",
    "    kegg_pws[id_] = elements_list"
   ]
  },
  {
   "attachments": {},
   "cell_type": "markdown",
   "metadata": {},
   "source": [
    "##### TF activity"
   ]
  },
  {
   "cell_type": "code",
   "execution_count": 4,
   "metadata": {},
   "outputs": [],
   "source": [
    "coefm = pd.read_csv(f'data/coefficient_matrix/high_quality/all_pert_coef_liana.csv', index_col = 0)"
   ]
  },
  {
   "cell_type": "code",
   "execution_count": 5,
   "metadata": {},
   "outputs": [
    {
     "data": {
      "text/plain": [
       "229"
      ]
     },
     "execution_count": 5,
     "metadata": {},
     "output_type": "execute_result"
    }
   ],
   "source": [
    "receptors = list(coefm.index)\n",
    "len(receptors)"
   ]
  },
  {
   "cell_type": "code",
   "execution_count": 6,
   "metadata": {},
   "outputs": [
    {
     "name": "stderr",
     "output_type": "stream",
     "text": [
      "/Users/basvaat/opt/anaconda3/envs/ccc_py39/lib/python3.9/site-packages/tqdm/auto.py:22: TqdmWarning: IProgress not found. Please update jupyter and ipywidgets. See https://ipywidgets.readthedocs.io/en/stable/user_install.html\n",
      "  from .autonotebook import tqdm as notebook_tqdm\n"
     ]
    }
   ],
   "source": [
    "# Load TF regulon and calcukate TF activity\n",
    "dorothea = dc.get_dorothea(levels = ['A', 'B', 'C'])\n",
    "tf_acts, tf_pvals = dc.run_consensus(mat=coefm, net=dorothea)"
   ]
  },
  {
   "cell_type": "code",
   "execution_count": 7,
   "metadata": {},
   "outputs": [],
   "source": [
    "tfs = list(tf_acts.columns)"
   ]
  },
  {
   "cell_type": "code",
   "execution_count": 8,
   "metadata": {},
   "outputs": [],
   "source": [
    "tf_acts_z = tf_acts.copy()"
   ]
  },
  {
   "cell_type": "code",
   "execution_count": 9,
   "metadata": {},
   "outputs": [],
   "source": [
    "def calculate_z_score(col:pd.Series):\n",
    "    if np.std(col) == 0:\n",
    "        return np.nan\n",
    "    return (col - np.mean(col)) / np.std(col)"
   ]
  },
  {
   "cell_type": "code",
   "execution_count": 10,
   "metadata": {},
   "outputs": [],
   "source": [
    "tf_acts_z = tf_acts_z.apply(calculate_z_score, axis = 0)"
   ]
  },
  {
   "cell_type": "code",
   "execution_count": 11,
   "metadata": {},
   "outputs": [],
   "source": [
    "tf_acts_abs  = tf_acts_z.abs()"
   ]
  },
  {
   "cell_type": "code",
   "execution_count": 12,
   "metadata": {},
   "outputs": [
    {
     "name": "stdout",
     "output_type": "stream",
     "text": [
      "180 229 186\n"
     ]
    }
   ],
   "source": [
    "print(len(tfs), len(receptors), len(kegg_pws.keys()))\n",
    "pairs = {}\n",
    "for receptor in receptors:\n",
    "    for tf in tfs:\n",
    "        cnt = 0\n",
    "        for pw in kegg_pws:\n",
    "            proteinlist = kegg_pws[pw]\n",
    "            if tf in proteinlist and receptor in proteinlist:\n",
    "                cnt += 1\n",
    "        pairs[receptor+'_'+tf] = cnt\n",
    "        "
   ]
  },
  {
   "cell_type": "code",
   "execution_count": 13,
   "metadata": {},
   "outputs": [],
   "source": [
    "pairs_yesno = {key: (1 if value >= 1 else 0) for key, value in pairs.items()}\n"
   ]
  },
  {
   "cell_type": "code",
   "execution_count": 14,
   "metadata": {},
   "outputs": [],
   "source": [
    "in_pathway_df = pd.DataFrame.from_dict(pairs_yesno, orient='index')\n",
    "in_pathway_df.index = in_pathway_df.index.str.split('_', expand=True)\n",
    "in_pathway_df = in_pathway_df.reset_index()\n",
    "in_pathway_df.columns = ['receptors', 'tfs', 'value']\n",
    "in_pathway_df = in_pathway_df.pivot(index='receptors', columns='tfs', values='value')\n"
   ]
  },
  {
   "cell_type": "code",
   "execution_count": 15,
   "metadata": {},
   "outputs": [],
   "source": [
    "in_pathway_df = pd.DataFrame([[key.split('_')[0], key.split('_')[1], value] for key, value in pairs_yesno.items()],\n",
    "                  columns=['receptors', 'tfs', 'isinpw'])"
   ]
  },
  {
   "cell_type": "code",
   "execution_count": 16,
   "metadata": {},
   "outputs": [],
   "source": [
    "tf_acts_abs_melted = tf_acts_abs.reset_index().melt(id_vars='index', var_name='tfs', value_name='activity')\n",
    "tf_acts_abs_melted = tf_acts_abs_melted.rename(columns = {'index':'receptors'})"
   ]
  },
  {
   "cell_type": "code",
   "execution_count": 17,
   "metadata": {},
   "outputs": [],
   "source": [
    "merged_df = pd.merge(in_pathway_df, tf_acts_abs_melted, on=['receptors', 'tfs'])"
   ]
  },
  {
   "cell_type": "code",
   "execution_count": 18,
   "metadata": {},
   "outputs": [],
   "source": [
    "# merged_df.to_csv(f'results/biological_relevance/kegg_receptor_tf.csv')\n"
   ]
  },
  {
   "cell_type": "code",
   "execution_count": 20,
   "metadata": {},
   "outputs": [
    {
     "data": {
      "text/plain": [
       "Ttest_indResult(statistic=-4.313024664929356, pvalue=1.6141012037226888e-05)"
      ]
     },
     "execution_count": 20,
     "metadata": {},
     "output_type": "execute_result"
    }
   ],
   "source": [
    "# Separate the values based on categories\n",
    "outpw = merged_df[merged_df['isinpw'] == 0]['activity']\n",
    "inpw = merged_df[merged_df['isinpw'] == 1]['activity']\n",
    "\n",
    "# Perform Mann-Whitney U test\n",
    "# mannwhitneyu(outpw, inpw)\n",
    "ttest_ind(outpw, inpw)\n"
   ]
  },
  {
   "cell_type": "code",
   "execution_count": 56,
   "metadata": {},
   "outputs": [
    {
     "data": {
      "text/plain": [
       "([<matplotlib.axis.XTick at 0x135920580>,\n",
       "  <matplotlib.axis.XTick at 0x135920bb0>],\n",
       " [Text(0, 0, 'no'), Text(1, 0, 'yes')])"
      ]
     },
     "execution_count": 56,
     "metadata": {},
     "output_type": "execute_result"
    },
    {
     "data": {
      "image/png": "[encoded data removed]",
      "text/plain": [
       "<Figure size 144x360 with 1 Axes>"
      ]
     },
     "metadata": {
      "needs_background": "light"
     },
     "output_type": "display_data"
    }
   ],
   "source": [
    "fig, ax = plt.subplots(figsize = (2, 5))\n",
    "sns.boxplot(data=merged_df, x='isinpw', y='activity', palette = 'Blues_r', showfliers = False)\n",
    "plt.title('Receptor activity if\\nTF and receptor in KEGG pathway\\ntogether/not together')\n",
    "plt.xlabel('TF in pathway\\nwith receptor', fontsize=16)\n",
    "plt.ylabel('TF activity', fontsize=16)\n",
    "ax.text(0, np.median(outpw)+0.1, 'n='+str(len(outpw)), ha='center', va='center', color='k', fontsize=9)\n",
    "ax.text(1, np.median(inpw)+0.1, 'n='+str(len(inpw)), ha='center', va='center', color='k', fontsize=9)\n",
    "ttestres = ttest_ind(outpw, inpw)\n",
    "ax.text(0.03, 1.5, str(\"t-test\\nt=\"+\"{:.2f}\".format(ttestres[0])+\"\\np=\"+\"{:.1e}\".format(ttestres[1])), ha='left')\n",
    "plt.xticks(range(2), ['no', 'yes'], fontsize=14)\n",
    "# plt.savefig('figures/validation/biological_relevance/in_pathway_boxplot_tf_kegg_blue.pdf', transparent = True, bbox_inches = 'tight')\n",
    "# plt.savefig('figures/validation/biological_relevance/in_pathway_boxplot_tf_kegg_blue.png', transparent = True, bbox_inches = 'tight', dpi = 300)"
   ]
  },
  {
   "cell_type": "code",
   "execution_count": null,
   "metadata": {},
   "outputs": [],
   "source": []
  },
  {
   "cell_type": "code",
   "execution_count": null,
   "metadata": {},
   "outputs": [],
   "source": []
  }
 ],
 "metadata": {
  "kernelspec": {
   "display_name": "ccc_py39",
   "language": "python",
   "name": "python3"
  },
  "language_info": {
   "codemirror_mode": {
    "name": "ipython",
    "version": 3
   },
   "file_extension": ".py",
   "mimetype": "text/x-python",
   "name": "python",
   "nbconvert_exporter": "python",
   "pygments_lexer": "ipython3",
   "version": "3.9.13"
  },
  "orig_nbformat": 4
 },
 "nbformat": 4,
 "nbformat_minor": 2
}
