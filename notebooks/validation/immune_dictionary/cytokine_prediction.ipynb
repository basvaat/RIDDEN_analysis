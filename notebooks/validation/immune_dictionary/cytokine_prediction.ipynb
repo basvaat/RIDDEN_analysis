{
 "cells": [
  {
   "cell_type": "code",
   "execution_count": 1,
   "metadata": {},
   "outputs": [],
   "source": [
    "%load_ext autoreload\n",
    "%autoreload 2"
   ]
  },
  {
   "cell_type": "code",
   "execution_count": 2,
   "metadata": {},
   "outputs": [],
   "source": [
    "import pandas as pd\n",
    "import numpy as np\n",
    "from glob import glob\n",
    "from tqdm import tqdm\n",
    "from src.config import *\n",
    "from src.prediction_functions import *\n",
    "from sklearn.metrics import roc_auc_score\n",
    "import seaborn as sns\n",
    "import matplotlib.pyplot as plt\n",
    "import matplotlib.patheffects as path_effects\n",
    "from src.prediction_functions.MatrixMultiplicationMemoryEffectiveChunks import estimation_with_zscore_calculation_in_chunks as estimate_receptor_activity\n"
   ]
  },
  {
   "cell_type": "code",
   "execution_count": 3,
   "metadata": {},
   "outputs": [],
   "source": [
    "normed_file_list = glob('data/immunedict/ImmuneDict/normed'  + '/*')\n",
    "meta_file_list = glob('data/immunedict/ImmuneDict/meta'  + '/*')"
   ]
  },
  {
   "cell_type": "code",
   "execution_count": 4,
   "metadata": {},
   "outputs": [],
   "source": [
    "normed_files = {}\n",
    "for i in tqdm(normed_file_list):\n",
    "    name = i.split('ref_data_')[-1].split('.')[0]\n",
    "    normed_files[name] = pd.read_csv(i, index_col = 0)"
   ]
  },
  {
   "cell_type": "code",
   "execution_count": 493,
   "metadata": {},
   "outputs": [
    {
     "name": "stderr",
     "output_type": "stream",
     "text": [
      "100%|██████████| 15/15 [00:00<00:00, 41.68it/s]\n"
     ]
    }
   ],
   "source": [
    "meta_files = {}\n",
    "for i in tqdm(meta_file_list):\n",
    "    name = i.split('ref_data_')[-1].split('.')[0]\n",
    "    meta_files[name] = pd.read_csv(i, index_col = 0)"
   ]
  },
  {
   "cell_type": "code",
   "execution_count": 494,
   "metadata": {},
   "outputs": [
    {
     "data": {
      "text/plain": [
       "dict_keys(['B_cell', 'Treg', 'MigDC', 'Macrophage', 'Neutrophil', 'eTAC', 'T_cell_CD4', 'pDC', 'cDC1', 'cDC2', 'T_cell_CD8', 'NK_cell', 'T_cell_gd', 'ILC', 'Monocyte'])"
      ]
     },
     "execution_count": 494,
     "metadata": {},
     "output_type": "execute_result"
    }
   ],
   "source": [
    "meta_files.keys()\n"
   ]
  },
  {
   "cell_type": "markdown",
   "metadata": {},
   "source": [
    "# Gene-wise z-score"
   ]
  },
  {
   "cell_type": "code",
   "execution_count": null,
   "metadata": {},
   "outputs": [],
   "source": [
    "z_score_data = {}\n",
    "for cell in tqdm(normed_files):\n",
    "    data = normed_files[cell]\n",
    "    gene_mean = data.mean(axis=1)\n",
    "    gene_std = data.std(axis=1)\n",
    "    z_score_data[cell] = (data.sub(gene_mean, axis=0)).div(gene_std, axis=0)"
   ]
  },
  {
   "cell_type": "markdown",
   "metadata": {},
   "source": [
    "# Get mean of cytokines z-scored expression\n"
   ]
  },
  {
   "cell_type": "code",
   "execution_count": null,
   "metadata": {},
   "outputs": [],
   "source": [
    "celltype_mean_z_scores = {}\n",
    "for cell in tqdm(z_score_data):\n",
    "    z_score_data_cell = z_score_data[cell]\n",
    "    z_score_data_cell = z_score_data_cell.fillna(0).copy()\n",
    "    meta_cell = meta_files[cell]\n",
    "    meta_cell = meta_cell.dropna(subset  = 'cytokine')\n",
    "    mean_z_scores = {}\n",
    "    for cytokine in meta_cell['cytokine'].unique():\n",
    "        barcodes = meta_cell[meta_cell['cytokine'] == cytokine].index.tolist()\n",
    "        cytokine_z_scores = z_score_data_cell[barcodes].mean(axis=1)  # Average z-scores across barcodes for a cytokine\n",
    "        mean_z_scores[cytokine] = cytokine_z_scores\n",
    "    mean_z_scores_df = pd.DataFrame(mean_z_scores)\n",
    "    celltype_mean_z_scores[cell] = mean_z_scores_df"
   ]
  },
  {
   "cell_type": "code",
   "execution_count": null,
   "metadata": {},
   "outputs": [],
   "source": [
    "final_immunedict = []\n",
    "for key, df in celltype_mean_z_scores.items():\n",
    "    df=df.T\n",
    "    df.index = [f'{key}_{index}' for index in df.index]\n",
    "    final_immunedict.append(df)\n",
    "final_immunedict = pd.concat(final_immunedict)"
   ]
  },
  {
   "cell_type": "code",
   "execution_count": null,
   "metadata": {},
   "outputs": [],
   "source": [
    "# final_immunedict.to_csv('data/immunedict/mean_zscore_normed_per_cytokine_per_celltype.csv')\n"
   ]
  },
  {
   "cell_type": "markdown",
   "metadata": {},
   "source": [
    "### Cytokine mapping"
   ]
  },
  {
   "cell_type": "code",
   "execution_count": 4,
   "metadata": {},
   "outputs": [],
   "source": [
    "genenames = pd.read_excel('data/immunedict/41586_2023_6816_MOESM3_ESM.xlsx')\n",
    "genenames = genenames[['Cytokine', 'Human gene symbol']].dropna()\n",
    "genenames_mapping = genenames.set_index('Human gene symbol')['Cytokine'].to_dict()\n",
    "inv_genenames_mapping = {v: k for k, v in genenames_mapping.items()}"
   ]
  },
  {
   "cell_type": "code",
   "execution_count": 5,
   "metadata": {},
   "outputs": [],
   "source": [
    "inv_genenames_mapping['41BBL'] = 'TNFSF9'\n",
    "inv_genenames_mapping['IGF-I'] = 'IGF1' # IGF-I instead of IGF-1 \n",
    "inv_genenames_mapping['ADSF (Resistin)'] = 'RETN'\n",
    "inv_genenames_mapping['PRL (Prolactin)'] = 'PRL'\n",
    "inv_genenames_mapping['LT-α1/β2'] = 'LTA'\n",
    "inv_genenames_mapping['LT-α2/β1\t'] = 'LTA'\n"
   ]
  },
  {
   "cell_type": "markdown",
   "metadata": {},
   "source": [
    "# RIDDEN"
   ]
  },
  {
   "cell_type": "code",
   "execution_count": 6,
   "metadata": {},
   "outputs": [],
   "source": [
    "final_immunedict = pd.read_csv('data/immunedict/mean_zscore_normed_per_cytokine_per_celltype.csv', index_col = 0)\n"
   ]
  },
  {
   "cell_type": "code",
   "execution_count": 7,
   "metadata": {},
   "outputs": [],
   "source": [
    "confidence_scores = pd.read_csv(f'results/confidence/receptor_rocauc_mean_confidence_scores_229_mwup_withna.csv', index_col = 0)"
   ]
  },
  {
   "cell_type": "code",
   "execution_count": 8,
   "metadata": {},
   "outputs": [],
   "source": [
    "# final_immunedict.T.to_csv('data/immunedict/mean_zscore_normed_per_cytokine_per_celltype_transposed.csv')\n"
   ]
  },
  {
   "cell_type": "code",
   "execution_count": 9,
   "metadata": {},
   "outputs": [],
   "source": [
    "final_immunedict = final_immunedict.astype(float)\n",
    "final_immunedict.columns =final_immunedict.columns.str.upper()"
   ]
  },
  {
   "cell_type": "code",
   "execution_count": 10,
   "metadata": {},
   "outputs": [],
   "source": [
    "lincs_model = pd.read_csv('data/coefficient_matrix/high_quality/all_pert_coef_liana.csv', index_col = 0)\n",
    "lincs_model = lincs_model.T\n"
   ]
  },
  {
   "cell_type": "code",
   "execution_count": 11,
   "metadata": {},
   "outputs": [],
   "source": [
    "final_immunedict = final_immunedict[list(set(final_immunedict.columns) & set(lincs_model.index))]"
   ]
  },
  {
   "cell_type": "code",
   "execution_count": 12,
   "metadata": {},
   "outputs": [],
   "source": [
    "a_scored_receptors = list(confidence_scores[confidence_scores['Confidence'] == 'A']['Receptor'])\n",
    "b_scored_receptors = list(confidence_scores[confidence_scores['Confidence'] == 'B']['Receptor'])\n",
    "c_scored_receptors = list(confidence_scores[confidence_scores['Confidence'] == 'C']['Receptor'])\n",
    "d_scored_receptors = list(confidence_scores[confidence_scores['Confidence'] == 'D']['Receptor'])\n",
    "e_scored_receptors = list(confidence_scores[confidence_scores['Confidence'] == 'E']['Receptor'])"
   ]
  },
  {
   "cell_type": "code",
   "execution_count": 13,
   "metadata": {},
   "outputs": [],
   "source": [
    "lincs_model_A = lincs_model.loc[:, a_scored_receptors]\n",
    "lincs_model_B = lincs_model.loc[:, b_scored_receptors]\n",
    "lincs_model_C = lincs_model.loc[:, c_scored_receptors]\n",
    "lincs_model_D = lincs_model.loc[:, d_scored_receptors]\n",
    "lincs_model_E = lincs_model.loc[:, e_scored_receptors]"
   ]
  },
  {
   "cell_type": "code",
   "execution_count": 14,
   "metadata": {},
   "outputs": [],
   "source": [
    "lincs = {}"
   ]
  },
  {
   "cell_type": "code",
   "execution_count": 19,
   "metadata": {},
   "outputs": [],
   "source": [
    "lr_associations = pd.read_csv(LIG_REC_DF, index_col = 0)\n",
    "lr_associations = lr_associations[['source_genesymbol', 'target_genesymbol']]\n",
    "lr_associations_receptor = lr_associations[lr_associations['target_genesymbol'].isin(lincs_model.columns)]\n",
    "# next line: only if we need cytosig cytokines for eval\n",
    "# lr_associations_receptor_cytosig_overlap = lr_associations_receptor[lr_associations_receptor['source_genesymbol'].isin(all_cytokines_cytosig_gs)]"
   ]
  },
  {
   "cell_type": "code",
   "execution_count": 20,
   "metadata": {},
   "outputs": [],
   "source": [
    "cytokines_immundict = final_immunedict.reset_index()['index'].str.split('_',expand = True).fillna(method='ffill', axis = 1)[3]\n",
    "cytokines_immundict.index = final_immunedict.index\n",
    "cytokines_immundict.name = 'cytokines'"
   ]
  },
  {
   "cell_type": "code",
   "execution_count": 21,
   "metadata": {},
   "outputs": [
    {
     "name": "stdout",
     "output_type": "stream",
     "text": [
      "Number of samples: 1305\n",
      "Number of chunks: 5\n",
      "Number of permutations: 1000\n"
     ]
    },
    {
     "name": "stderr",
     "output_type": "stream",
     "text": [
      "100%|██████████| 5/5 [00:24<00:00,  4.97s/it]\n"
     ]
    }
   ],
   "source": [
    "lincs_filtered = {}\n",
    "lincs_filtered['all'] = estimate_receptor_activity(final_immunedict, lincs_model, number_of_permutations=1000, chunk_size=300)"
   ]
  },
  {
   "cell_type": "code",
   "execution_count": 22,
   "metadata": {},
   "outputs": [],
   "source": [
    "lincs_filtered['A']  = lincs_filtered['all'].loc[:, lincs_model_A.columns]\n",
    "lincs_filtered['B']  = lincs_filtered['all'].loc[:, lincs_model_B.columns]\n",
    "lincs_filtered['C']  = lincs_filtered['all'].loc[:, lincs_model_C.columns]\n",
    "lincs_filtered['D']  = lincs_filtered['all'].loc[:, lincs_model_D.columns]\n",
    "lincs_filtered['E']  = lincs_filtered['all'].loc[:, lincs_model_E.columns]"
   ]
  },
  {
   "cell_type": "markdown",
   "metadata": {},
   "source": [
    "# Filter out cytokines have no diffexp genes\n"
   ]
  },
  {
   "cell_type": "code",
   "execution_count": 23,
   "metadata": {},
   "outputs": [],
   "source": [
    "degs = pd.read_excel('data/immunedict/41586_2023_6816_MOESM13_ESM.xlsx', sheet_name = 2)\n"
   ]
  },
  {
   "cell_type": "code",
   "execution_count": 24,
   "metadata": {},
   "outputs": [],
   "source": [
    "degs = degs[(degs['nDEGs_display'] != '≤10')]\n"
   ]
  },
  {
   "cell_type": "code",
   "execution_count": 25,
   "metadata": {},
   "outputs": [
    {
     "data": {
      "text/plain": [
       "array(['B cell', 'CD4+ T cell', 'CD8+ T cell', 'γδ T cell', 'Treg',\n",
       "       'NK cell', 'ILC', 'pDC', 'cDC1', 'cDC2', 'MigDC', 'Langerhans',\n",
       "       'eTAC', 'Macrophage', 'Monocyte', 'Neutrophil', 'Mast cell'],\n",
       "      dtype=object)"
      ]
     },
     "execution_count": 25,
     "metadata": {},
     "output_type": "execute_result"
    }
   ],
   "source": [
    "degs.Celltype.unique()\n"
   ]
  },
  {
   "cell_type": "code",
   "execution_count": 26,
   "metadata": {},
   "outputs": [],
   "source": [
    "map_to_index = {\n",
    "    'B cell':'B_cell',\n",
    "    'CD4+ T cell':'T_cell_CD4', \n",
    "    'CD8+ T cell':'T_cell_CD8', \n",
    "    'NK cell':'NK_cell', \n",
    "    'γδ T cell':'T_cell_gd'\n",
    "}"
   ]
  },
  {
   "cell_type": "code",
   "execution_count": 27,
   "metadata": {},
   "outputs": [],
   "source": [
    "degs['Celltype_mod'] = degs.Celltype.map({k: map_to_index.get(k, k) for k in degs.Celltype})\n"
   ]
  },
  {
   "cell_type": "code",
   "execution_count": 28,
   "metadata": {},
   "outputs": [],
   "source": [
    "degs['name'] = degs['Celltype_mod'] + '_' + degs['Cytokine']"
   ]
  },
  {
   "cell_type": "markdown",
   "metadata": {},
   "source": [
    "# LINCS ROCAUC"
   ]
  },
  {
   "cell_type": "code",
   "execution_count": 29,
   "metadata": {},
   "outputs": [
    {
     "data": {
      "text/plain": [
       "((1305, 42), (1305, 42), (1305, 42), (1305, 42), (1305, 61))"
      ]
     },
     "execution_count": 29,
     "metadata": {},
     "output_type": "execute_result"
    }
   ],
   "source": [
    "lincs_filtered['A'].shape, lincs_filtered['B'].shape, lincs_filtered['C'].shape, lincs_filtered['D'].shape, lincs_filtered['E'].shape"
   ]
  },
  {
   "cell_type": "code",
   "execution_count": 30,
   "metadata": {},
   "outputs": [],
   "source": [
    "def calulate_ridden_rocauc(receptor_activity, lr_associations_receptor = lr_associations_receptor):\n",
    "    true_matrix = pd.DataFrame(0, index = receptor_activity.index, columns = receptor_activity.columns)\n",
    "    pair_set = set(zip(lr_associations_receptor['source_genesymbol'], lr_associations_receptor['target_genesymbol']))\n",
    "    for sample in true_matrix.index:\n",
    "        if sample.split('_')[-1] in inv_genenames_mapping.keys():\n",
    "            ligand = inv_genenames_mapping[sample.split('_')[-1]]\n",
    "        else:\n",
    "            continue\n",
    "        for receptor in true_matrix.columns:\n",
    "            if (ligand, receptor) in pair_set:\n",
    "                true_matrix.at[sample, receptor] = 1\n",
    "    # true_matrix = true_matrix[true_matrix.sum(1) != 0]\n",
    "    true_matrix = true_matrix[true_matrix.columns[true_matrix.sum() !=0]]\n",
    "    samples = true_matrix.index\n",
    "    receptors = true_matrix.columns\n",
    "    receptor_activity_fil = receptor_activity.loc[samples, receptors]\n",
    "    roc_auc_dict = {}\n",
    "    for receptor in receptor_activity_fil.columns:\n",
    "        true_vector = true_matrix.loc[:, receptor]\n",
    "        values = receptor_activity_fil.loc[:, receptor]\n",
    "        roc_auc_binary = roc_auc_score(true_vector, values)\n",
    "        roc_auc_dict[receptor] = roc_auc_binary\n",
    "    roc_auc_results_lincs = pd.DataFrame.from_dict(roc_auc_dict, orient='index', columns=['ROC AUC'])\n",
    "    return roc_auc_results_lincs"
   ]
  },
  {
   "cell_type": "code",
   "execution_count": 31,
   "metadata": {},
   "outputs": [],
   "source": [
    "rocauc_results = {}\n",
    "true_matrices = {}\n",
    "for conflevel in ['A', 'B', 'C', 'D', 'E', 'all']:\n",
    "    rocauc_results[conflevel] = calulate_ridden_rocauc(lincs_filtered[conflevel][lincs_filtered[conflevel].index.isin(degs.name)])"
   ]
  },
  {
   "cell_type": "code",
   "execution_count": 32,
   "metadata": {},
   "outputs": [],
   "source": [
    "def add_median_labels(ax, fmt='.2f'):\n",
    "    lines = ax.get_lines()\n",
    "    boxes = [c for c in ax.get_children() if type(c).__name__ == 'PathPatch']\n",
    "    lines_per_box = int(len(lines) / len(boxes))\n",
    "    for median in lines[4:len(lines):lines_per_box]:\n",
    "        x, y = (data.mean() for data in median.get_data())\n",
    "        # choose value depending on horizontal or vertical plot orientation\n",
    "        value = x if (median.get_xdata()[1] - median.get_xdata()[0]) == 0 else y\n",
    "        text = ax.text(x-0.2, y+0.03, f'{value:{fmt}}', ha='center', va='center',\n",
    "                       fontweight='bold', color='black')"
   ]
  },
  {
   "cell_type": "code",
   "execution_count": 33,
   "metadata": {},
   "outputs": [],
   "source": [
    "rocauc_results_all = pd.concat(rocauc_results).reset_index(level=0).rename(columns={'level_0': 'ConfidenceLevel'})\n"
   ]
  },
  {
   "cell_type": "code",
   "execution_count": 36,
   "metadata": {},
   "outputs": [
    {
     "data": {
      "text/html": [
       "<div>\n",
       "<style scoped>\n",
       "    .dataframe tbody tr th:only-of-type {\n",
       "        vertical-align: middle;\n",
       "    }\n",
       "\n",
       "    .dataframe tbody tr th {\n",
       "        vertical-align: top;\n",
       "    }\n",
       "\n",
       "    .dataframe thead th {\n",
       "        text-align: right;\n",
       "    }\n",
       "</style>\n",
       "<table border=\"1\" class=\"dataframe\">\n",
       "  <thead>\n",
       "    <tr style=\"text-align: right;\">\n",
       "      <th></th>\n",
       "      <th>ROC AUC</th>\n",
       "    </tr>\n",
       "    <tr>\n",
       "      <th>ConfidenceLevel</th>\n",
       "      <th></th>\n",
       "    </tr>\n",
       "  </thead>\n",
       "  <tbody>\n",
       "    <tr>\n",
       "      <th>A</th>\n",
       "      <td>13</td>\n",
       "    </tr>\n",
       "    <tr>\n",
       "      <th>B</th>\n",
       "      <td>5</td>\n",
       "    </tr>\n",
       "    <tr>\n",
       "      <th>C</th>\n",
       "      <td>7</td>\n",
       "    </tr>\n",
       "    <tr>\n",
       "      <th>D</th>\n",
       "      <td>9</td>\n",
       "    </tr>\n",
       "    <tr>\n",
       "      <th>E</th>\n",
       "      <td>11</td>\n",
       "    </tr>\n",
       "    <tr>\n",
       "      <th>all</th>\n",
       "      <td>45</td>\n",
       "    </tr>\n",
       "  </tbody>\n",
       "</table>\n",
       "</div>"
      ],
      "text/plain": [
       "                 ROC AUC\n",
       "ConfidenceLevel         \n",
       "A                     13\n",
       "B                      5\n",
       "C                      7\n",
       "D                      9\n",
       "E                     11\n",
       "all                   45"
      ]
     },
     "execution_count": 36,
     "metadata": {},
     "output_type": "execute_result"
    }
   ],
   "source": [
    "rocauc_results_all.groupby('ConfidenceLevel').count()"
   ]
  },
  {
   "cell_type": "markdown",
   "metadata": {},
   "source": [
    "# CytoSig immmundict prediction"
   ]
  },
  {
   "cell_type": "code",
   "execution_count": 37,
   "metadata": {},
   "outputs": [],
   "source": [
    "# !python CytoSig_run.py -i ./data/immunedict/mean_zscore_normed_per_cytokine_per_celltype_transposed.csv -o ./data/immunedict/prediction_result"
   ]
  },
  {
   "cell_type": "code",
   "execution_count": 38,
   "metadata": {},
   "outputs": [],
   "source": [
    "cytokine_signalling_activity = pd.read_csv('data/immunedict/prediction_result.Coef', index_col = 0, sep = '\\t' )\n",
    "cytokine_signalling_activity = cytokine_signalling_activity.T"
   ]
  },
  {
   "cell_type": "code",
   "execution_count": 39,
   "metadata": {},
   "outputs": [],
   "source": [
    "additional_mapping = {\n",
    "       'IFNA':'IFNA1', \n",
    "       'IFNB':'IFNB1',\n",
    "       'IFNL':'IFNL1', \n",
    "       'TNFA':'TNF', \n",
    "       'IL12':'IL12B', \n",
    "       'CD40L':'CD40LG', \n",
    "       'GMCSF':'CSF2', \n",
    "       'MCSF':'CSF1',\n",
    "       'IL1':'IL1A', \n",
    "       'TWEAK':'TNFRSF12A',\n",
    "       'TRAIL':'TNFSF10',\n",
    "       'GCSF':'CSF3',\n",
    "       'IL32':'IL32',\n",
    "       'OPGL':'TNFSF11',\n",
    "       'BAFF':'TNFSF13B',\n",
    "       '41BBL':'TNFSF9',\n",
    "       'IL23':'IL23A', \n",
    "       'CXCL4':'PF4',\n",
    "       'Activin A':'INHBA',\n",
    "       'ANGPTL4':'ANGPTL4',\n",
    "       'ANGPTL2':'ANGPTL2',\n",
    "       'PGE2':'PTGES2',\n",
    "       'NO':'NO',# control\n",
    "       'PDL1':'CD274'\n",
    "}\n",
    "inverse_additional_mapping = {v: k for k, v in additional_mapping.items()}"
   ]
  },
  {
   "cell_type": "code",
   "execution_count": 40,
   "metadata": {},
   "outputs": [],
   "source": [
    "cytokines = cytokine_signalling_activity.index.str.split('_').str[-1].unique()"
   ]
  },
  {
   "cell_type": "code",
   "execution_count": 41,
   "metadata": {},
   "outputs": [],
   "source": [
    "all_cytokines_cytosig_gs = cytokine_signalling_activity.T.reset_index()['index'].apply(lambda x: additional_mapping[x] if x in additional_mapping else x).unique()\n",
    "cytokine_signalling_activity_samesytokine = cytokine_signalling_activity[cytokine_signalling_activity.index.str.split('_').str[-1].map(inv_genenames_mapping).isin(all_cytokines_cytosig_gs)]"
   ]
  },
  {
   "cell_type": "code",
   "execution_count": 42,
   "metadata": {},
   "outputs": [],
   "source": [
    "# all_cytokines_cytosigimmunedict_gs = list(set(all_cytokines_cytosig_gs) & set(cytokines_immundict.map(inv_genenames_mapping).unique()))\n",
    "# cytokine_signalling_activity_samesytokine = cytokine_signalling_activity_samesytokine[cytokine_signalling_activity_samesytokine.columns[cytokine_signalling_activity_samesytokine.T.reset_index()['index'].apply(lambda x: additional_mapping[x] if x in additional_mapping else x).isin(all_cytokines_cytosigimmunedict_gs)]]"
   ]
  },
  {
   "cell_type": "code",
   "execution_count": 43,
   "metadata": {},
   "outputs": [],
   "source": [
    "def calculate_cytosig_rocauc(cytokine_signalling_activity):\n",
    "    true_matrix = pd.DataFrame(0, index = cytokine_signalling_activity.index, columns = cytokine_signalling_activity.columns)\n",
    "    # true_matrix.columns = true_matrix.columns.map(lambda x: additional_mapping[x] if x in additional_mapping else x)\n",
    "\n",
    "    for sample in true_matrix.index:\n",
    "        if sample.split('_')[-1] in inv_genenames_mapping.keys():\n",
    "            immunedict_cytokine = inv_genenames_mapping[sample.split('_')[-1]]\n",
    "        else:\n",
    "            continue\n",
    "        for cytosig_cytokine in true_matrix.columns:\n",
    "            cytosig_cytokine_mapped = additional_mapping[cytosig_cytokine] if cytosig_cytokine in additional_mapping else cytosig_cytokine\n",
    "            if cytosig_cytokine_mapped  == immunedict_cytokine:\n",
    "                true_matrix.at[sample, cytosig_cytokine] = 1  \n",
    "\n",
    "    true_matrix = true_matrix[true_matrix.columns[true_matrix.sum() !=0]]\n",
    "    samples = true_matrix.index\n",
    "    cytokines = true_matrix.columns\n",
    "    cytokine_activity_fil = cytokine_signalling_activity.loc[samples, cytokines]\n",
    "    roc_auc_dict = {}\n",
    "    for cytokine in cytokine_activity_fil.columns:\n",
    "        true_vector = true_matrix.loc[:, cytokine]\n",
    "        values = cytokine_activity_fil.loc[:, cytokine]\n",
    "        roc_auc_binary = roc_auc_score(true_vector, values)\n",
    "        roc_auc_dict[cytokine] = roc_auc_binary\n",
    "    roc_auc_results_cytosig = pd.DataFrame.from_dict(roc_auc_dict, orient='index', columns=['ROC AUC'])\n",
    "\n",
    "    return roc_auc_results_cytosig"
   ]
  },
  {
   "cell_type": "code",
   "execution_count": 44,
   "metadata": {},
   "outputs": [],
   "source": [
    "rocauc_cytosig_immunedict = calculate_cytosig_rocauc(cytokine_signalling_activity[cytokine_signalling_activity.index.isin(degs.name.unique())])"
   ]
  },
  {
   "cell_type": "code",
   "execution_count": 45,
   "metadata": {},
   "outputs": [],
   "source": [
    "rocauc_cytosig_immunedict['ConfidenceLevel'] = 'CytoSig'"
   ]
  },
  {
   "cell_type": "code",
   "execution_count": 46,
   "metadata": {},
   "outputs": [],
   "source": [
    "# Filter for overlapping cytokines and receptors between LINCS and CytoSig"
   ]
  },
  {
   "cell_type": "code",
   "execution_count": 47,
   "metadata": {},
   "outputs": [],
   "source": [
    "# Cytokines that has receptor in RIDDEN\n",
    "ridden_cytosig_overlap = list(set(lr_associations[lr_associations.target_genesymbol.isin(list(lincs_model.columns))].source_genesymbol.unique()) & set(all_cytokines_cytosig_gs))\n",
    "# Receptors that have cytokine in CytoSig\n",
    "cytosig_ridden_overlap = list(lr_associations[lr_associations['source_genesymbol'].isin(all_cytokines_cytosig_gs)].target_genesymbol.unique())"
   ]
  },
  {
   "cell_type": "code",
   "execution_count": 48,
   "metadata": {},
   "outputs": [],
   "source": [
    "rocauc_cytosig_immunedict_filtered = rocauc_cytosig_immunedict[rocauc_cytosig_immunedict.index.isin(ridden_cytosig_overlap)]"
   ]
  },
  {
   "cell_type": "code",
   "execution_count": 49,
   "metadata": {},
   "outputs": [],
   "source": [
    "condition = rocauc_results_all['ConfidenceLevel'] == 'all'\n",
    "\n",
    "filtered_ridden_all = rocauc_results_all[condition & rocauc_results_all.index.isin(cytosig_ridden_overlap)]\n",
    "non_ridden_all = rocauc_results_all[~condition]\n",
    "rocauc_results_all_filtered = pd.concat([filtered_ridden_all, non_ridden_all])"
   ]
  },
  {
   "cell_type": "code",
   "execution_count": 50,
   "metadata": {},
   "outputs": [
    {
     "data": {
      "text/plain": [
       "0.5927323122370722"
      ]
     },
     "execution_count": 50,
     "metadata": {},
     "output_type": "execute_result"
    }
   ],
   "source": [
    "mean_roc_auc = filtered_ridden_all['ROC AUC'].mean()\n",
    "mean_roc_auc"
   ]
  },
  {
   "cell_type": "code",
   "execution_count": 51,
   "metadata": {},
   "outputs": [],
   "source": [
    "rocauc_results_all_immunedict = pd.concat([rocauc_results_all_filtered, rocauc_cytosig_immunedict_filtered])\n",
    "# rocauc_results_all, rocauc_results_all"
   ]
  },
  {
   "cell_type": "code",
   "execution_count": 52,
   "metadata": {},
   "outputs": [],
   "source": [
    "rocauc_results_all_immunedict['ConfidenceLevel'] = rocauc_results_all_immunedict['ConfidenceLevel'].map({'A':'RIDDEN A', 'B':'RIDDEN B', 'C':'RIDDEN C', 'D':'RIDDEN D', 'E':'RIDDEN E', 'all':'RIDDEN ALL overlap','CytoSig':'CytoSig overlap'})"
   ]
  },
  {
   "cell_type": "code",
   "execution_count": 57,
   "metadata": {},
   "outputs": [
    {
     "name": "stderr",
     "output_type": "stream",
     "text": [
      "/var/folders/ld/gy00m33j1pn81v2x1sj_h3pm0000gn/T/ipykernel_48506/1944624795.py:3: FutureWarning: \n",
      "\n",
      "Passing `palette` without assigning `hue` is deprecated and will be removed in v0.14.0. Assign the `x` variable to `hue` and set `legend=False` for the same effect.\n",
      "\n",
      "  sns.stripplot(x='ConfidenceLevel', y='ROC AUC', data=rocauc_results_all_immunedict, palette = 'Paired', size = 8, order = ['CytoSig overlap', 'RIDDEN ALL overlap', 'RIDDEN A', 'RIDDEN B', 'RIDDEN C', 'RIDDEN D', 'RIDDEN E'])\n"
     ]
    },
    {
     "data": {
      "image/png": "[encoded data removed]",
      "text/plain": [
       "<Figure size 720x432 with 1 Axes>"
      ]
     },
     "metadata": {
      "needs_background": "light"
     },
     "output_type": "display_data"
    }
   ],
   "source": [
    "plt.figure(figsize=(10, 6))\n",
    "boxp = sns.boxplot(x='ConfidenceLevel', y='ROC AUC', data=rocauc_results_all_immunedict, color = 'white', linewidth=2, order = ['CytoSig overlap', 'RIDDEN ALL overlap', 'RIDDEN A', 'RIDDEN B', 'RIDDEN C', 'RIDDEN D', 'RIDDEN E'])\n",
    "sns.stripplot(x='ConfidenceLevel', y='ROC AUC', data=rocauc_results_all_immunedict, palette = 'Paired', size = 8, order = ['CytoSig overlap', 'RIDDEN ALL overlap', 'RIDDEN A', 'RIDDEN B', 'RIDDEN C', 'RIDDEN D', 'RIDDEN E'])\n",
    "add_median_labels(boxp)\n",
    "plt.ylabel('ROC AUC')\n",
    "plt.xticks(rotation = 90)\n",
    "plt.axhline(0.5, color = 'k', linestyle = '--')\n",
    "plt.show()"
   ]
  },
  {
   "cell_type": "code",
   "execution_count": 54,
   "metadata": {},
   "outputs": [],
   "source": [
    "# rocauc_results_all_immunedict.to_csv(f'figures/validation/immunedict/immunedict_lincs_rocauc_filtered.csv')"
   ]
  },
  {
   "cell_type": "code",
   "execution_count": null,
   "metadata": {},
   "outputs": [],
   "source": []
  }
 ],
 "metadata": {
  "kernelspec": {
   "display_name": "ccc_py39",
   "language": "python",
   "name": "python3"
  },
  "language_info": {
   "codemirror_mode": {
    "name": "ipython",
    "version": 3
   },
   "file_extension": ".py",
   "mimetype": "text/x-python",
   "name": "python",
   "nbconvert_exporter": "python",
   "pygments_lexer": "ipython3",
   "version": "3.9.13"
  }
 },
 "nbformat": 4,
 "nbformat_minor": 2
}
