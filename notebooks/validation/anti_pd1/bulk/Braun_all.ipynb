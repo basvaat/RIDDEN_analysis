{
 "cells": [
  {
   "cell_type": "code",
   "execution_count": 1,
   "metadata": {},
   "outputs": [],
   "source": [
    "%load_ext autoreload\n",
    "%autoreload 2"
   ]
  },
  {
   "cell_type": "code",
   "execution_count": 2,
   "metadata": {},
   "outputs": [],
   "source": [
    "import pandas as pd\n",
    "import numpy as np\n",
    "import matplotlib.pyplot as plt\n",
    "import seaborn as sns\n",
    "from src.config import *\n",
    "from src.prediction_functions import estimate_receptor_activity\n",
    "from scipy.stats import ttest_ind\n",
    "import matplotlib.cm as cm\n",
    "from tqdm import tqdm\n",
    "\n"
   ]
  },
  {
   "cell_type": "code",
   "execution_count": 3,
   "metadata": {},
   "outputs": [],
   "source": [
    "from lifelines import KaplanMeierFitter\n",
    "from lifelines import CoxPHFitter\n",
    "from lifelines.statistics import logrank_test\n",
    "from sklearn.decomposition import PCA\n",
    "import statsmodels.stats.multitest as smm\n",
    "from adjustText import adjust_text\n"
   ]
  },
  {
   "cell_type": "markdown",
   "metadata": {},
   "source": [
    "# Prepare data"
   ]
  },
  {
   "cell_type": "code",
   "execution_count": 4,
   "metadata": {},
   "outputs": [],
   "source": [
    "ligrec = pd.read_csv(LIG_REC_DF, index_col = 0)"
   ]
  },
  {
   "cell_type": "code",
   "execution_count": 5,
   "metadata": {},
   "outputs": [],
   "source": [
    "lincs_model = pd.read_csv(f'data/coefficient_matrix/high_quality/all_pert_coef_liana.csv', index_col = 0)\n",
    "lincs_model = lincs_model.T"
   ]
  },
  {
   "cell_type": "code",
   "execution_count": 6,
   "metadata": {},
   "outputs": [],
   "source": [
    "accession = 'TIDE_Braun_et_al'"
   ]
  },
  {
   "cell_type": "code",
   "execution_count": 7,
   "metadata": {},
   "outputs": [],
   "source": [
    "braun_meta= pd.read_excel(f'data/immunooncology/{accession}_clinical.xlsx', sheet_name='S1_Clinical_and_Immune_Data', header = 1)\n",
    "braun_data = pd.read_excel(f'data/immunooncology/{accession}_clinical.xlsx', sheet_name='S4A_RNA_Expression', header = 1)\n",
    "braun_data = braun_data.set_index('gene_name')"
   ]
  },
  {
   "cell_type": "code",
   "execution_count": 8,
   "metadata": {},
   "outputs": [],
   "source": [
    "braun_meta_rnaseq = braun_meta[braun_meta['RNA_ID'].isin(list(braun_data.columns))]"
   ]
  },
  {
   "cell_type": "code",
   "execution_count": 9,
   "metadata": {},
   "outputs": [],
   "source": [
    "\n",
    "braun_meta_rnaseq = braun_meta_rnaseq[['SUBJID', 'Arm', 'RNA_ID', 'Sex', 'Age', 'Received_Prior_Therapy', \n",
    "             'Number_of_Prior_Therapies', 'Tumor_Sample_Primary_or_Metastasis', 'ORR', \n",
    "             'Benefit', 'PFS', 'PFS_CNSR', 'OS', 'OS_CNSR', 'Days_from_TumorSample_Collection_and_Start_of_Trial_Therapy', \n",
    "             'ImmunoPhenotype', 'SampleType']]"
   ]
  },
  {
   "cell_type": "code",
   "execution_count": 10,
   "metadata": {},
   "outputs": [],
   "source": [
    "braun_data = braun_data.T.loc[braun_meta_rnaseq.RNA_ID]"
   ]
  },
  {
   "cell_type": "code",
   "execution_count": 11,
   "metadata": {},
   "outputs": [],
   "source": [
    "braun_gex_merged = pd.merge(braun_meta_rnaseq, braun_data, left_on = 'RNA_ID', right_index = True)"
   ]
  },
  {
   "cell_type": "markdown",
   "metadata": {},
   "source": [
    "# Calculate receptor activities"
   ]
  },
  {
   "cell_type": "code",
   "execution_count": 12,
   "metadata": {},
   "outputs": [
    {
     "name": "stdout",
     "output_type": "stream",
     "text": [
      "Number of samples: 311\n",
      "Number of chunks: 1\n",
      "Number of permutations: 1000\n"
     ]
    },
    {
     "name": "stderr",
     "output_type": "stream",
     "text": [
      "100%|██████████| 1/1 [00:06<00:00,  6.33s/it]\n"
     ]
    }
   ],
   "source": [
    "activities = estimate_receptor_activity(braun_data, lincs_model, number_of_permutations=1000, chunk_size=311)"
   ]
  },
  {
   "cell_type": "code",
   "execution_count": 13,
   "metadata": {},
   "outputs": [],
   "source": [
    "braun_rec_merged = pd.merge(braun_meta_rnaseq, activities, left_on = 'RNA_ID', right_index = True)"
   ]
  },
  {
   "cell_type": "code",
   "execution_count": 14,
   "metadata": {},
   "outputs": [],
   "source": [
    "# braun_gex_merged.to_csv(f'results/braun_gene_expression.csv')\n",
    "# braun_rec_merged.to_csv(f'results/braun_receptor_activity.csv')"
   ]
  },
  {
   "cell_type": "markdown",
   "metadata": {},
   "source": [
    "# Cox regression for PD-1, PD-L1"
   ]
  },
  {
   "cell_type": "code",
   "execution_count": 15,
   "metadata": {},
   "outputs": [],
   "source": [
    "braun_gex_merged = pd.read_csv('results/braun_gene_expression.csv', index_col=0)\n",
    "braun_rec_merged = pd.read_csv('results/braun_receptor_activity.csv', index_col=0)"
   ]
  },
  {
   "cell_type": "code",
   "execution_count": 16,
   "metadata": {},
   "outputs": [],
   "source": [
    "braun_gex_data_merged = braun_gex_merged[braun_gex_merged['Days_from_TumorSample_Collection_and_Start_of_Trial_Therapy'] <= 365]\n",
    "braun_rec_merged = braun_rec_merged[braun_rec_merged['Days_from_TumorSample_Collection_and_Start_of_Trial_Therapy'] <= 365]"
   ]
  },
  {
   "cell_type": "code",
   "execution_count": 17,
   "metadata": {},
   "outputs": [],
   "source": [
    "def calculate_cox_for(gene:str, data:pd.DataFrame, duration = 'OS', event = 'OS_CNSR'):\n",
    "    cph = CoxPHFitter()\n",
    "    cph.fit(data[[duration, event, gene]], duration_col=duration, event_col=event, formula=f'{gene}')\n",
    "    coef = cph.summary['coef'][gene]\n",
    "    exp_coef = cph.summary['exp(coef)'][gene]\n",
    "    pval = cph.summary['p'][gene]\n",
    "    result = pd.Series([coef, exp_coef, pval], index = ['coef', 'exp(coef)', 'pval'], name = f'{gene}_{duration}')\n",
    "    return result"
   ]
  },
  {
   "cell_type": "code",
   "execution_count": 18,
   "metadata": {},
   "outputs": [],
   "source": [
    "res_1 = {}"
   ]
  },
  {
   "cell_type": "code",
   "execution_count": 19,
   "metadata": {},
   "outputs": [],
   "source": [
    "res_1['PD1_gex_nivo'] = calculate_cox_for('PDCD1', braun_gex_data_merged[braun_gex_data_merged['Arm'] == 'NIVOLUMAB'], duration = 'OS', event = 'OS_CNSR')"
   ]
  },
  {
   "cell_type": "code",
   "execution_count": 20,
   "metadata": {},
   "outputs": [],
   "source": [
    "res_1['CD274_gex_nivo'] = calculate_cox_for('CD274', braun_gex_data_merged[braun_gex_data_merged['Arm'] == 'NIVOLUMAB'], duration = 'OS', event = 'OS_CNSR')"
   ]
  },
  {
   "cell_type": "code",
   "execution_count": 21,
   "metadata": {},
   "outputs": [],
   "source": [
    "res_1['PD1_rec_nivo'] = calculate_cox_for('PDCD1', braun_rec_merged[braun_rec_merged['Arm'] == 'NIVOLUMAB'], duration = 'OS', event = 'OS_CNSR')"
   ]
  },
  {
   "cell_type": "code",
   "execution_count": 22,
   "metadata": {},
   "outputs": [],
   "source": [
    "res_1['PD1_gex_ever'] = calculate_cox_for('PDCD1', braun_gex_data_merged[braun_gex_data_merged['Arm'] == 'EVEROLIMUS'], duration = 'OS', event = 'OS_CNSR')"
   ]
  },
  {
   "cell_type": "code",
   "execution_count": 23,
   "metadata": {},
   "outputs": [],
   "source": [
    "res_1['CD274_gex_ever'] = calculate_cox_for('CD274', braun_gex_data_merged[braun_gex_data_merged['Arm'] == 'EVEROLIMUS'], duration = 'OS', event = 'OS_CNSR')"
   ]
  },
  {
   "cell_type": "code",
   "execution_count": 24,
   "metadata": {},
   "outputs": [],
   "source": [
    "res_1['PD1_rec_ever'] = calculate_cox_for('PDCD1', braun_rec_merged[braun_rec_merged['Arm'] == 'EVEROLIMUS'], duration = 'OS', event = 'OS_CNSR')"
   ]
  },
  {
   "cell_type": "code",
   "execution_count": 25,
   "metadata": {},
   "outputs": [
    {
     "data": {
      "text/html": [
       "<div>\n",
       "<style scoped>\n",
       "    .dataframe tbody tr th:only-of-type {\n",
       "        vertical-align: middle;\n",
       "    }\n",
       "\n",
       "    .dataframe tbody tr th {\n",
       "        vertical-align: top;\n",
       "    }\n",
       "\n",
       "    .dataframe thead th {\n",
       "        text-align: right;\n",
       "    }\n",
       "</style>\n",
       "<table border=\"1\" class=\"dataframe\">\n",
       "  <thead>\n",
       "    <tr style=\"text-align: right;\">\n",
       "      <th></th>\n",
       "      <th>coef</th>\n",
       "      <th>exp(coef)</th>\n",
       "      <th>pval</th>\n",
       "    </tr>\n",
       "  </thead>\n",
       "  <tbody>\n",
       "    <tr>\n",
       "      <th>PD1_gex_nivo</th>\n",
       "      <td>-0.051318</td>\n",
       "      <td>0.949977</td>\n",
       "      <td>0.584923</td>\n",
       "    </tr>\n",
       "    <tr>\n",
       "      <th>CD274_gex_nivo</th>\n",
       "      <td>-0.069430</td>\n",
       "      <td>0.932926</td>\n",
       "      <td>0.629880</td>\n",
       "    </tr>\n",
       "    <tr>\n",
       "      <th>PD1_rec_nivo</th>\n",
       "      <td>-0.362175</td>\n",
       "      <td>0.696161</td>\n",
       "      <td>0.012374</td>\n",
       "    </tr>\n",
       "    <tr>\n",
       "      <th>PD1_gex_ever</th>\n",
       "      <td>-0.025614</td>\n",
       "      <td>0.974711</td>\n",
       "      <td>0.860376</td>\n",
       "    </tr>\n",
       "    <tr>\n",
       "      <th>CD274_gex_ever</th>\n",
       "      <td>0.142193</td>\n",
       "      <td>1.152799</td>\n",
       "      <td>0.477917</td>\n",
       "    </tr>\n",
       "    <tr>\n",
       "      <th>PD1_rec_ever</th>\n",
       "      <td>0.332046</td>\n",
       "      <td>1.393817</td>\n",
       "      <td>0.106053</td>\n",
       "    </tr>\n",
       "  </tbody>\n",
       "</table>\n",
       "</div>"
      ],
      "text/plain": [
       "                    coef  exp(coef)      pval\n",
       "PD1_gex_nivo   -0.051318   0.949977  0.584923\n",
       "CD274_gex_nivo -0.069430   0.932926  0.629880\n",
       "PD1_rec_nivo   -0.362175   0.696161  0.012374\n",
       "PD1_gex_ever   -0.025614   0.974711  0.860376\n",
       "CD274_gex_ever  0.142193   1.152799  0.477917\n",
       "PD1_rec_ever    0.332046   1.393817  0.106053"
      ]
     },
     "execution_count": 25,
     "metadata": {},
     "output_type": "execute_result"
    }
   ],
   "source": [
    "pd.DataFrame(res_1).T"
   ]
  },
  {
   "cell_type": "code",
   "execution_count": 26,
   "metadata": {},
   "outputs": [],
   "source": [
    "# pd.DataFrame(res_1).T.to_csv('results/validation/anti_pd1/bulk/pd1_pdl1_cox_table.csv')"
   ]
  },
  {
   "cell_type": "markdown",
   "metadata": {},
   "source": [
    "# Cox regression for all receptors"
   ]
  },
  {
   "cell_type": "code",
   "execution_count": 34,
   "metadata": {},
   "outputs": [],
   "source": [
    "def calculate_cox_for_all_receptor(receptors:list, data:pd.DataFrame, duration = 'OS', event = 'OS_CNSR'):\n",
    "    cph = CoxPHFitter()\n",
    "    cox_results = pd.DataFrame(index = receptors, columns = ['coef', 'exp(coef)', 'p'])\n",
    "    for receptor in receptors:\n",
    "\n",
    "        cph.fit(data[[duration, event, receptor]], duration_col=duration, event_col=event, formula=f'{receptor}')\n",
    "        cox_results.loc[receptor, 'coef'] = cph.summary['coef'][receptor]\n",
    "        cox_results.loc[receptor, 'exp(coef)'] = cph.summary['exp(coef)'][receptor]\n",
    "        cox_results.loc[receptor, 'p'] = cph.summary['p'][receptor]\n",
    "    cox_results = cox_results.sort_values(by = 'coef')\n",
    "    cox_results['rank'] = cox_results.coef.rank().astype(int)\n",
    "    return cox_results"
   ]
  },
  {
   "cell_type": "code",
   "execution_count": 35,
   "metadata": {},
   "outputs": [],
   "source": [
    "tmp = braun_rec_merged[(braun_rec_merged['Arm'] == 'NIVOLUMAB') & (braun_rec_merged['Days_from_TumorSample_Collection_and_Start_of_Trial_Therapy'] <= 365)]\n",
    "cox_results_os_nivo = calculate_cox_for_all_receptor(receptors = list(lincs_model.columns), data =  tmp)"
   ]
  },
  {
   "cell_type": "code",
   "execution_count": 36,
   "metadata": {},
   "outputs": [],
   "source": [
    "padj = smm.multipletests(cox_results_os_nivo['p'], method = 'fdr_bh')[1]\n",
    "cox_results_os_nivo['padj'] = padj"
   ]
  },
  {
   "cell_type": "code",
   "execution_count": 37,
   "metadata": {},
   "outputs": [],
   "source": [
    "cox_results_os_nivo['log_p'] = -np.log10(cox_results_os_nivo['p'].astype(float))\n"
   ]
  },
  {
   "cell_type": "code",
   "execution_count": 38,
   "metadata": {},
   "outputs": [],
   "source": [
    "# cox_results_os_nivo.to_csv('results/validation/anti_pd1/bulk/nivo_1yr_cox_receptors.csv')"
   ]
  },
  {
   "cell_type": "code",
   "execution_count": 39,
   "metadata": {},
   "outputs": [],
   "source": [
    "confidence_scores = pd.read_csv(f'results/confidence/receptor_rocauc_mean_confidence_scores_229_mwup_withna.csv', index_col = 0)"
   ]
  },
  {
   "cell_type": "code",
   "execution_count": 40,
   "metadata": {},
   "outputs": [],
   "source": [
    "cox_results_os_nivo_merged = cox_results_os_nivo.merge(confidence_scores[['Receptor', 'Confidence']], left_index = True, right_on= 'Receptor').set_index('Receptor').sort_values(by = 'coef')\n",
    "cox_results_os_nivo_merged = cox_results_os_nivo_merged[['coef', 'exp(coef)', 'p', 'padj', 'Confidence']].rename(columns = {'coef':'Log_Hazard_Ratio', 'exp(coef)': 'Hazard_Ratio', 'p':'P-value', 'padj':'Adjusted p-value'})"
   ]
  },
  {
   "cell_type": "code",
   "execution_count": 41,
   "metadata": {},
   "outputs": [],
   "source": [
    "# cox_results_os_nivo_merged.to_csv('results/validation/anti_pd1/bulk/nivo_1yr_cox_receptors_withconfidence.csv')"
   ]
  },
  {
   "cell_type": "code",
   "execution_count": 42,
   "metadata": {},
   "outputs": [
    {
     "data": {
      "text/html": [
       "<div>\n",
       "<style scoped>\n",
       "    .dataframe tbody tr th:only-of-type {\n",
       "        vertical-align: middle;\n",
       "    }\n",
       "\n",
       "    .dataframe tbody tr th {\n",
       "        vertical-align: top;\n",
       "    }\n",
       "\n",
       "    .dataframe thead th {\n",
       "        text-align: right;\n",
       "    }\n",
       "</style>\n",
       "<table border=\"1\" class=\"dataframe\">\n",
       "  <thead>\n",
       "    <tr style=\"text-align: right;\">\n",
       "      <th></th>\n",
       "      <th>coef</th>\n",
       "      <th>exp(coef)</th>\n",
       "      <th>p</th>\n",
       "      <th>rank</th>\n",
       "      <th>padj</th>\n",
       "      <th>log_p</th>\n",
       "    </tr>\n",
       "  </thead>\n",
       "  <tbody>\n",
       "    <tr>\n",
       "      <th>CXCR4</th>\n",
       "      <td>-0.677795</td>\n",
       "      <td>0.507735</td>\n",
       "      <td>0.00202</td>\n",
       "      <td>4</td>\n",
       "      <td>0.104126</td>\n",
       "      <td>2.694735</td>\n",
       "    </tr>\n",
       "    <tr>\n",
       "      <th>TLR4</th>\n",
       "      <td>-0.642365</td>\n",
       "      <td>0.526047</td>\n",
       "      <td>0.001413</td>\n",
       "      <td>5</td>\n",
       "      <td>0.104126</td>\n",
       "      <td>2.849763</td>\n",
       "    </tr>\n",
       "    <tr>\n",
       "      <th>HRH4</th>\n",
       "      <td>-0.574289</td>\n",
       "      <td>0.563105</td>\n",
       "      <td>0.002301</td>\n",
       "      <td>9</td>\n",
       "      <td>0.104126</td>\n",
       "      <td>2.638175</td>\n",
       "    </tr>\n",
       "    <tr>\n",
       "      <th>HRH2</th>\n",
       "      <td>-0.544875</td>\n",
       "      <td>0.579914</td>\n",
       "      <td>0.003704</td>\n",
       "      <td>12</td>\n",
       "      <td>0.109282</td>\n",
       "      <td>2.431286</td>\n",
       "    </tr>\n",
       "    <tr>\n",
       "      <th>AGTR1</th>\n",
       "      <td>-0.529251</td>\n",
       "      <td>0.589046</td>\n",
       "      <td>0.002191</td>\n",
       "      <td>13</td>\n",
       "      <td>0.104126</td>\n",
       "      <td>2.659294</td>\n",
       "    </tr>\n",
       "    <tr>\n",
       "      <th>FPR1</th>\n",
       "      <td>-0.425699</td>\n",
       "      <td>0.653313</td>\n",
       "      <td>0.003818</td>\n",
       "      <td>29</td>\n",
       "      <td>0.109282</td>\n",
       "      <td>2.418196</td>\n",
       "    </tr>\n",
       "    <tr>\n",
       "      <th>RAMP3</th>\n",
       "      <td>-0.423655</td>\n",
       "      <td>0.65465</td>\n",
       "      <td>0.002728</td>\n",
       "      <td>30</td>\n",
       "      <td>0.104126</td>\n",
       "      <td>2.564123</td>\n",
       "    </tr>\n",
       "    <tr>\n",
       "      <th>CCR6</th>\n",
       "      <td>-0.413817</td>\n",
       "      <td>0.661122</td>\n",
       "      <td>0.015072</td>\n",
       "      <td>33</td>\n",
       "      <td>0.117156</td>\n",
       "      <td>1.821823</td>\n",
       "    </tr>\n",
       "    <tr>\n",
       "      <th>NRP1</th>\n",
       "      <td>-0.390722</td>\n",
       "      <td>0.676568</td>\n",
       "      <td>0.01649</td>\n",
       "      <td>39</td>\n",
       "      <td>0.117156</td>\n",
       "      <td>1.782786</td>\n",
       "    </tr>\n",
       "    <tr>\n",
       "      <th>HRH1</th>\n",
       "      <td>-0.384572</td>\n",
       "      <td>0.680742</td>\n",
       "      <td>0.001578</td>\n",
       "      <td>41</td>\n",
       "      <td>0.104126</td>\n",
       "      <td>2.801907</td>\n",
       "    </tr>\n",
       "    <tr>\n",
       "      <th>PLXNA4</th>\n",
       "      <td>-0.383684</td>\n",
       "      <td>0.681346</td>\n",
       "      <td>0.007532</td>\n",
       "      <td>42</td>\n",
       "      <td>0.111951</td>\n",
       "      <td>2.123104</td>\n",
       "    </tr>\n",
       "    <tr>\n",
       "      <th>PDCD1</th>\n",
       "      <td>-0.362175</td>\n",
       "      <td>0.696161</td>\n",
       "      <td>0.012374</td>\n",
       "      <td>49</td>\n",
       "      <td>0.117156</td>\n",
       "      <td>1.907491</td>\n",
       "    </tr>\n",
       "    <tr>\n",
       "      <th>CSF1R</th>\n",
       "      <td>-0.31142</td>\n",
       "      <td>0.732407</td>\n",
       "      <td>0.007822</td>\n",
       "      <td>64</td>\n",
       "      <td>0.111951</td>\n",
       "      <td>2.106686</td>\n",
       "    </tr>\n",
       "    <tr>\n",
       "      <th>KDR</th>\n",
       "      <td>0.304567</td>\n",
       "      <td>1.356038</td>\n",
       "      <td>0.017677</td>\n",
       "      <td>196</td>\n",
       "      <td>0.117156</td>\n",
       "      <td>1.752601</td>\n",
       "    </tr>\n",
       "    <tr>\n",
       "      <th>ERBB4</th>\n",
       "      <td>0.402102</td>\n",
       "      <td>1.494964</td>\n",
       "      <td>0.006598</td>\n",
       "      <td>209</td>\n",
       "      <td>0.111951</td>\n",
       "      <td>2.180576</td>\n",
       "    </tr>\n",
       "    <tr>\n",
       "      <th>ERBB2</th>\n",
       "      <td>0.411585</td>\n",
       "      <td>1.509208</td>\n",
       "      <td>0.005767</td>\n",
       "      <td>210</td>\n",
       "      <td>0.110049</td>\n",
       "      <td>2.239066</td>\n",
       "    </tr>\n",
       "    <tr>\n",
       "      <th>NCR3</th>\n",
       "      <td>0.508015</td>\n",
       "      <td>1.661988</td>\n",
       "      <td>0.007779</td>\n",
       "      <td>217</td>\n",
       "      <td>0.111951</td>\n",
       "      <td>2.109079</td>\n",
       "    </tr>\n",
       "    <tr>\n",
       "      <th>BMPR1B</th>\n",
       "      <td>0.598656</td>\n",
       "      <td>1.819672</td>\n",
       "      <td>0.005392</td>\n",
       "      <td>221</td>\n",
       "      <td>0.110049</td>\n",
       "      <td>2.268243</td>\n",
       "    </tr>\n",
       "    <tr>\n",
       "      <th>AXL</th>\n",
       "      <td>0.600577</td>\n",
       "      <td>1.823171</td>\n",
       "      <td>0.005764</td>\n",
       "      <td>222</td>\n",
       "      <td>0.110049</td>\n",
       "      <td>2.239300</td>\n",
       "    </tr>\n",
       "    <tr>\n",
       "      <th>F3</th>\n",
       "      <td>0.63167</td>\n",
       "      <td>1.880748</td>\n",
       "      <td>0.005711</td>\n",
       "      <td>225</td>\n",
       "      <td>0.110049</td>\n",
       "      <td>2.243324</td>\n",
       "    </tr>\n",
       "  </tbody>\n",
       "</table>\n",
       "</div>"
      ],
      "text/plain": [
       "            coef exp(coef)         p  rank      padj     log_p\n",
       "CXCR4  -0.677795  0.507735   0.00202     4  0.104126  2.694735\n",
       "TLR4   -0.642365  0.526047  0.001413     5  0.104126  2.849763\n",
       "HRH4   -0.574289  0.563105  0.002301     9  0.104126  2.638175\n",
       "HRH2   -0.544875  0.579914  0.003704    12  0.109282  2.431286\n",
       "AGTR1  -0.529251  0.589046  0.002191    13  0.104126  2.659294\n",
       "FPR1   -0.425699  0.653313  0.003818    29  0.109282  2.418196\n",
       "RAMP3  -0.423655   0.65465  0.002728    30  0.104126  2.564123\n",
       "CCR6   -0.413817  0.661122  0.015072    33  0.117156  1.821823\n",
       "NRP1   -0.390722  0.676568   0.01649    39  0.117156  1.782786\n",
       "HRH1   -0.384572  0.680742  0.001578    41  0.104126  2.801907\n",
       "PLXNA4 -0.383684  0.681346  0.007532    42  0.111951  2.123104\n",
       "PDCD1  -0.362175  0.696161  0.012374    49  0.117156  1.907491\n",
       "CSF1R   -0.31142  0.732407  0.007822    64  0.111951  2.106686\n",
       "KDR     0.304567  1.356038  0.017677   196  0.117156  1.752601\n",
       "ERBB4   0.402102  1.494964  0.006598   209  0.111951  2.180576\n",
       "ERBB2   0.411585  1.509208  0.005767   210  0.110049  2.239066\n",
       "NCR3    0.508015  1.661988  0.007779   217  0.111951  2.109079\n",
       "BMPR1B  0.598656  1.819672  0.005392   221  0.110049  2.268243\n",
       "AXL     0.600577  1.823171  0.005764   222  0.110049  2.239300\n",
       "F3       0.63167  1.880748  0.005711   225  0.110049  2.243324"
      ]
     },
     "execution_count": 42,
     "metadata": {},
     "output_type": "execute_result"
    }
   ],
   "source": [
    "cox_results_os_nivo.sort_values(by = 'padj').head(20).sort_values(by = 'coef')"
   ]
  },
  {
   "cell_type": "code",
   "execution_count": 43,
   "metadata": {},
   "outputs": [],
   "source": [
    "cmap = cm.get_cmap('RdBu_r')\n",
    "pal_blue = cmap(0.1)\n",
    "pal_red = cmap(0.9) "
   ]
  },
  {
   "cell_type": "code",
   "execution_count": 44,
   "metadata": {},
   "outputs": [
    {
     "data": {
      "image/png": "[encoded data removed]",
      "text/plain": [
       "<Figure size 180x216 with 1 Axes>"
      ]
     },
     "metadata": {
      "needs_background": "light"
     },
     "output_type": "display_data"
    }
   ],
   "source": [
    "significance_threshold = -np.log10(0.05) \n",
    "\n",
    "plt.figure(figsize=(2.5, 3))\n",
    "sns.scatterplot(data=cox_results_os_nivo, x='coef', y='log_p', color='k', alpha=0.5)\n",
    "\n",
    "significant_indices = np.where(cox_results_os_nivo['log_p'] > significance_threshold)[0]\n",
    "sns.scatterplot(data=cox_results_os_nivo.iloc[significant_indices], x='coef', y='log_p', color=pal_red, alpha=0.5)\n",
    "plt.axhline(y=significance_threshold, color='black', linestyle='--')\n",
    "\n",
    "texts = []\n",
    "for x, y, name, p in zip(cox_results_os_nivo['coef'], cox_results_os_nivo['log_p'], cox_results_os_nivo.index, cox_results_os_nivo['p']):\n",
    "#     if name == 'PDCD1':\n",
    "#             texts.append(plt.text(x, y, f'{name}', ha='center', fontsize=8, color='red', fontweight='bold'))\n",
    "    if p < 0.01:# or (abs(x) > 1.8 and y > significance_threshold): #2 or (abs(x) > 1.5 and y>\n",
    "        texts.append(plt.text(x, y, f'{name}', ha='center', fontsize=8))\n",
    "adjust_text(texts, arrowprops=dict(arrowstyle='->', color='black', lw=0.5))\n",
    "\n",
    "plt.xticks(fontsize = 14)\n",
    "plt.yticks(fontsize = 14) \n",
    "plt.xlabel('Effect size', fontsize = 18)\n",
    "plt.ylabel('-log10(p-value)', fontsize = 18)\n",
    "plt.ylim(-0.05, 3.2)\n",
    "plt.show()"
   ]
  },
  {
   "cell_type": "markdown",
   "metadata": {},
   "source": [
    "# Cox regression for all genes"
   ]
  },
  {
   "cell_type": "code",
   "execution_count": 45,
   "metadata": {},
   "outputs": [],
   "source": [
    "def calculate_cox_for_all_gene(genes:list, data:pd.DataFrame, duration = 'OS', event = 'OS_CNSR'):\n",
    "    cph = CoxPHFitter()\n",
    "    cox_results = pd.DataFrame(index = genes, columns = ['coef', 'exp(coef)', 'p'])\n",
    "    for gene in tqdm(genes):\n",
    "        cph.fit(data[[duration, event, gene]], duration_col=duration, event_col=event, formula=f'{gene}')\n",
    "        cox_results.loc[gene, 'coef'] = cph.summary['coef'][gene]\n",
    "        cox_results.loc[gene, 'exp(coef)'] = cph.summary['exp(coef)'][gene]\n",
    "        cox_results.loc[gene, 'p'] = cph.summary['p'][gene]\n",
    "    cox_results = cox_results.sort_values(by = 'coef')\n",
    "    cox_results['rank'] = cox_results.coef.rank().astype(int)\n",
    "    return cox_results"
   ]
  },
  {
   "cell_type": "code",
   "execution_count": 46,
   "metadata": {},
   "outputs": [
    {
     "name": "stderr",
     "output_type": "stream",
     "text": [
      "100%|██████████| 229/229 [00:11<00:00, 19.28it/s]\n"
     ]
    }
   ],
   "source": [
    "tmp = braun_gex_data_merged[(braun_gex_data_merged['Arm'] == 'NIVOLUMAB') & (braun_gex_data_merged['Days_from_TumorSample_Collection_and_Start_of_Trial_Therapy'] <= 365)]\n",
    "tmp.columns = tmp.columns.str.replace('-', '_')\n",
    "cox_results_gex_os_nivo = calculate_cox_for_all_gene(genes = list(lincs_model.columns), data =  tmp)"
   ]
  },
  {
   "cell_type": "code",
   "execution_count": 47,
   "metadata": {},
   "outputs": [],
   "source": [
    "padj = smm.multipletests(cox_results_gex_os_nivo['p'], method = 'fdr_bh')[1]\n",
    "cox_results_gex_os_nivo['padj'] = padj\n",
    "cox_results_gex_os_nivo['log_p'] = -np.log10(cox_results_gex_os_nivo['p'].astype(float))\n"
   ]
  },
  {
   "cell_type": "code",
   "execution_count": 48,
   "metadata": {},
   "outputs": [],
   "source": [
    "# cox_results_gex_os_nivo.to_csv('results/validation/anti_pd1/bulk/nivo_1yr_cox_gex.csv')"
   ]
  },
  {
   "cell_type": "code",
   "execution_count": 49,
   "metadata": {},
   "outputs": [],
   "source": [
    "tmp = braun_rec_merged[(braun_rec_merged['Arm'] == 'EVEROLIMUS') & (braun_rec_merged['Days_from_TumorSample_Collection_and_Start_of_Trial_Therapy'] <= 365)]\n",
    "cox_results_os_ever = calculate_cox_for_all_receptor(receptors = list(lincs_model.columns), data = tmp)"
   ]
  },
  {
   "cell_type": "code",
   "execution_count": 50,
   "metadata": {},
   "outputs": [],
   "source": [
    "padj = smm.multipletests(cox_results_os_ever['p'], method = 'fdr_bh')[1]\n",
    "cox_results_os_ever['padj'] = padj\n",
    "cox_results_os_ever['-log10_p_value'] = -np.log10(cox_results_os_ever['p'].astype(float))"
   ]
  },
  {
   "cell_type": "code",
   "execution_count": 51,
   "metadata": {},
   "outputs": [],
   "source": [
    "cox_results_os_ever_merged = cox_results_os_ever.merge(confidence_scores[['Receptor', 'Confidence']], left_index = True, right_on= 'Receptor').set_index('Receptor').sort_values(by = 'coef')\n",
    "cox_results_os_ever_merged = cox_results_os_ever_merged[['coef', 'exp(coef)', 'p', 'padj', 'Confidence']].rename(columns = {'coef':'Log_Hazard_Ratio', 'exp(coef)': 'Hazard_Ratio', 'p':'P-value', 'padj':'Adjusted p-value'})"
   ]
  },
  {
   "cell_type": "code",
   "execution_count": 52,
   "metadata": {},
   "outputs": [],
   "source": [
    "# cox_results_os_ever_merged.to_csv('results/validation/anti_pd1/bulk/ever_1yr_cox_receptor_withconfidence.csv')"
   ]
  },
  {
   "cell_type": "code",
   "execution_count": 53,
   "metadata": {},
   "outputs": [],
   "source": [
    "# cox_results_os_ever.to_csv('results/validation/anti_pd1/bulk/ever_1yr_cox_receptor.csv')"
   ]
  },
  {
   "cell_type": "code",
   "execution_count": 54,
   "metadata": {},
   "outputs": [],
   "source": [
    "receptors = activities.head()\n",
    "ilrs = [s for s in receptors if \"IL\" in s]\n",
    "ifnrs = [s for s in receptors if \"IFN\" in s]\n",
    "tlrs = [s for s in receptors if \"TLR\" in s]\n",
    "pd1r = [s for s in receptors if \"PDCD1\" in s]\n",
    "tnfrs = [s for s in receptors if \"TNF\" in s]\n",
    "agrs = [s for s in receptors if \"AGTR\" in s]"
   ]
  },
  {
   "cell_type": "code",
   "execution_count": 55,
   "metadata": {},
   "outputs": [
    {
     "data": {
      "text/html": [
       "<div>\n",
       "<style scoped>\n",
       "    .dataframe tbody tr th:only-of-type {\n",
       "        vertical-align: middle;\n",
       "    }\n",
       "\n",
       "    .dataframe tbody tr th {\n",
       "        vertical-align: top;\n",
       "    }\n",
       "\n",
       "    .dataframe thead th {\n",
       "        text-align: right;\n",
       "    }\n",
       "</style>\n",
       "<table border=\"1\" class=\"dataframe\">\n",
       "  <thead>\n",
       "    <tr style=\"text-align: right;\">\n",
       "      <th></th>\n",
       "      <th>coef</th>\n",
       "      <th>exp(coef)</th>\n",
       "      <th>p</th>\n",
       "      <th>rank</th>\n",
       "      <th>padj</th>\n",
       "      <th>log_p</th>\n",
       "    </tr>\n",
       "  </thead>\n",
       "  <tbody>\n",
       "    <tr>\n",
       "      <th>PDCD1</th>\n",
       "      <td>-0.362175</td>\n",
       "      <td>0.696161</td>\n",
       "      <td>0.012374</td>\n",
       "      <td>49</td>\n",
       "      <td>0.117156</td>\n",
       "      <td>1.907491</td>\n",
       "    </tr>\n",
       "    <tr>\n",
       "      <th>IFNAR2</th>\n",
       "      <td>-0.379765</td>\n",
       "      <td>0.684022</td>\n",
       "      <td>0.047214</td>\n",
       "      <td>43</td>\n",
       "      <td>0.161255</td>\n",
       "      <td>1.325930</td>\n",
       "    </tr>\n",
       "    <tr>\n",
       "      <th>IFNAR1</th>\n",
       "      <td>-0.343833</td>\n",
       "      <td>0.709047</td>\n",
       "      <td>0.057177</td>\n",
       "      <td>54</td>\n",
       "      <td>0.167208</td>\n",
       "      <td>1.242781</td>\n",
       "    </tr>\n",
       "    <tr>\n",
       "      <th>IFNGR1</th>\n",
       "      <td>-0.27531</td>\n",
       "      <td>0.759337</td>\n",
       "      <td>0.249676</td>\n",
       "      <td>77</td>\n",
       "      <td>0.386323</td>\n",
       "      <td>0.602623</td>\n",
       "    </tr>\n",
       "    <tr>\n",
       "      <th>IFNGR2</th>\n",
       "      <td>-0.202463</td>\n",
       "      <td>0.816717</td>\n",
       "      <td>0.395987</td>\n",
       "      <td>97</td>\n",
       "      <td>0.521156</td>\n",
       "      <td>0.402319</td>\n",
       "    </tr>\n",
       "  </tbody>\n",
       "</table>\n",
       "</div>"
      ],
      "text/plain": [
       "            coef exp(coef)         p  rank      padj     log_p\n",
       "PDCD1  -0.362175  0.696161  0.012374    49  0.117156  1.907491\n",
       "IFNAR2 -0.379765  0.684022  0.047214    43  0.161255  1.325930\n",
       "IFNAR1 -0.343833  0.709047  0.057177    54  0.167208  1.242781\n",
       "IFNGR1  -0.27531  0.759337  0.249676    77  0.386323  0.602623\n",
       "IFNGR2 -0.202463  0.816717  0.395987    97  0.521156  0.402319"
      ]
     },
     "execution_count": 55,
     "metadata": {},
     "output_type": "execute_result"
    }
   ],
   "source": [
    "cox_results_os_nivo.loc[ifnrs + ['PDCD1']].sort_values(by = 'p')"
   ]
  },
  {
   "cell_type": "markdown",
   "metadata": {},
   "source": [
    "# KM plots"
   ]
  },
  {
   "cell_type": "code",
   "execution_count": 56,
   "metadata": {},
   "outputs": [],
   "source": [
    "def km_plot(gene:str, data:pd.DataFrame ,title:str, duration = 'OS', event = 'OS_CNSR', save = False, filepath = '', filename = ''):\n",
    "    kmf = KaplanMeierFitter()\n",
    "    kmdata = data.copy()\n",
    "    palette = 'Blues'\n",
    "    threshold = kmdata[gene].mean()\n",
    "    \n",
    "    # log-rank\n",
    "    low_exp = kmdata[kmdata[gene] <= threshold]\n",
    "    high_exp = kmdata[kmdata[gene] > threshold]\n",
    "    results = logrank_test(low_exp[duration], high_exp[duration], event_observed_A=low_exp[event], event_observed_B=high_exp[event])\n",
    "\n",
    "    cutoffs = [-np.inf, threshold, np.inf]\n",
    "    labels = ['Low','High']\n",
    "    kmdata['Activity Levels'] = pd.cut(kmdata[gene], bins=cutoffs, labels=labels)\n",
    "    fig, ax = plt.subplots(figsize = (4.5,4))\n",
    "    for category in labels:\n",
    "        subset = kmdata[kmdata['Activity Levels'] == category]\n",
    "        kmf.fit(subset[duration], subset[event], label=category)\n",
    "        if category == 'High': \n",
    "            # color = palette[1]\n",
    "            color = 'darkblue'\n",
    "            label = f'> mean {gene} (high)'\n",
    "        else: \n",
    "            # color = palette[0]\n",
    "            color = 'darkred'\n",
    "            label = f'< mean {gene} (low)'\n",
    "        kmf.plot(ci_show = False,color = color, label = label, linewidth=2)\n",
    "\n",
    "    # Add plot labels and legend\n",
    "    plt.xlabel('Time (weeks)', fontsize = 12)\n",
    "    plt.ylabel('Survival Probability', fontsize = 12)\n",
    "    plt.title(f'Kaplan-Meier Plot by {title}', fontsize = 12)\n",
    "    plt.legend(fontsize = 11)\n",
    "    plt.ylim(-0.05, 1.05)\n",
    "\n",
    "    plt.text(45, 0.6, s = f'log-rank:\\nstat = {results.test_statistic:.2f}\\np = {results.p_value:.4f}', fontsize = 12)\n",
    "\n",
    "    if save:\n",
    "        plt.savefig(f'{filepath}/{filename}.pdf', bbox_inches = 'tight', transparent = True)"
   ]
  },
  {
   "cell_type": "code",
   "execution_count": 57,
   "metadata": {},
   "outputs": [
    {
     "data": {
      "image/png": "[encoded data removed]",
      "text/plain": [
       "<Figure size 324x288 with 1 Axes>"
      ]
     },
     "metadata": {
      "needs_background": "light"
     },
     "output_type": "display_data"
    }
   ],
   "source": [
    "\n",
    "km_plot('PDCD1', braun_rec_merged[braun_rec_merged['Arm'] == 'NIVOLUMAB'], title = 'Nivolumab PD1 Receptor Activity', \n",
    "        save = False, filepath = 'figures/validation/anti_PD1/bulk/', filename = '')"
   ]
  },
  {
   "cell_type": "code",
   "execution_count": 58,
   "metadata": {},
   "outputs": [
    {
     "data": {
      "image/png": "[encoded data removed]",
      "text/plain": [
       "<Figure size 324x288 with 1 Axes>"
      ]
     },
     "metadata": {
      "needs_background": "light"
     },
     "output_type": "display_data"
    }
   ],
   "source": [
    "km_plot('PDCD1', braun_gex_data_merged[braun_gex_data_merged['Arm'] == 'NIVOLUMAB'], title = 'Nivolumab PD1 Gene Expression', \n",
    "        save = False, filepath = 'figures/validation/anti_PD1/bulk/', filename = '')"
   ]
  },
  {
   "cell_type": "code",
   "execution_count": 60,
   "metadata": {},
   "outputs": [
    {
     "data": {
      "image/png": "[encoded data removed]",
      "text/plain": [
       "<Figure size 324x288 with 1 Axes>"
      ]
     },
     "metadata": {
      "needs_background": "light"
     },
     "output_type": "display_data"
    }
   ],
   "source": [
    "km_plot('PDCD1', braun_rec_merged[braun_rec_merged['Arm'] == 'EVEROLIMUS'], title = 'EVEROLIMUS PD1 Receptor Activity', \n",
    "        save = False, filepath = 'figures/validation/anti_PD1/bulk/', filename = '')"
   ]
  },
  {
   "cell_type": "code",
   "execution_count": null,
   "metadata": {},
   "outputs": [],
   "source": []
  },
  {
   "cell_type": "code",
   "execution_count": null,
   "metadata": {},
   "outputs": [],
   "source": []
  }
 ],
 "metadata": {
  "kernelspec": {
   "display_name": "ccc_py39",
   "language": "python",
   "name": "python3"
  },
  "language_info": {
   "codemirror_mode": {
    "name": "ipython",
    "version": 3
   },
   "file_extension": ".py",
   "mimetype": "text/x-python",
   "name": "python",
   "nbconvert_exporter": "python",
   "pygments_lexer": "ipython3",
   "version": "3.9.13"
  },
  "orig_nbformat": 4
 },
 "nbformat": 4,
 "nbformat_minor": 2
}
